{
 "cells": [
  {
   "cell_type": "code",
   "execution_count": 1,
   "metadata": {},
   "outputs": [],
   "source": [
    "%display typeset"
   ]
  },
  {
   "cell_type": "code",
   "execution_count": 2,
   "metadata": {},
   "outputs": [],
   "source": [
    "import numpy as np\n",
    "from scipy.integrate import odeint\n",
    "import matplotlib.pyplot as plt\n",
    "import math"
   ]
  },
  {
   "cell_type": "code",
   "execution_count": 3,
   "metadata": {},
   "outputs": [],
   "source": [
    "from sage.calculus.desolvers import desolve_system_rk4"
   ]
  },
  {
   "cell_type": "markdown",
   "metadata": {},
   "source": [
    "Utilizando dados de Manaus e Vivax:\n",
    "\n",
    "T1: 27.3\n",
    "Tmin: 14.5\n",
    "N: 8557"
   ]
  },
  {
   "cell_type": "code",
   "execution_count": 12,
   "metadata": {},
   "outputs": [],
   "source": [
    "# Definindo as constantes\n",
    "num_steps = 50 # Tempo total\n",
    "dt = 1 # Tamanho do passo\n",
    "\n",
    "T1 = 23.2  # Temperatura média na ausência de sazonalidade (˚C)\n",
    "T2 = 0.07  # Amplitude da variabilidade sazonal na temperatura\n",
    "omega1 = 0.67  # Frequência angular das oscilações sazonais na temperatura (meses^–1)\n",
    "phi1 = 1.53  # \"Phase lag\" da variabilidade da temperatura (defasagem de fase)\n",
    "R1 = 85.9  # Precipitação mensal média na ausência de sazonalidade (mm)\n",
    "R2 = 0.98  # Amplitude da variabilidade sazonal na precipitação\n",
    "omega2 = 0.65  # Frequência angular das oscilações sazonais na precipitação (meses^–1)\n",
    "phi2 = 1.99  # \"Phase lag\" da variabilidade da precipitação (defasagem de fase)\n",
    "\n",
    "B_E = 200 # Número de ovos colocados por adulto por oviposição\n",
    "p_ME = 0.9 # Probabilidade de sobrevivência dos ovos\n",
    "p_ML = 0.25 # Probabilidade de sobrevivência das larvas\n",
    "p_MP = 0.75 # Probabilidade de sobrevivência dos pupas\n",
    "tau_E = 1 # Duração da fase de desenvolvimento dos ovos\n",
    "tau_P = 1  # Duração da fase de desenvolvimento das pupas\n",
    "c1 = 0.00554\n",
    "c2 = -0.06737\n",
    "\n",
    "D1 = 36.5\n",
    "b1 = 0.04 # Proporção de picadas de mosquitos suscetíveis em humanos infectados que resultam em infecção\n",
    "A = -0.03\n",
    "B = 1.31\n",
    "C = -4.4\n",
    "b2 = 0.09 # Proporção de picadas de mosquitos infectados em humanos suscetíveis que resultam em infecção\n",
    "tau_H = 10 # Período latente de infecção em humanos\n",
    "DD = 111 # \"Degree days\" para desenvolvimento do parasita\n",
    "Tmin = 16 # Temperatura mínima (abaixo dessa temperatura não há desenvolvimento do parasita)\n",
    "gamma = 1/120 # 1/Duração média da infectividade humana em dias\n",
    "R_L = 50 # Chuva limite até que os sítios de reprodução sejam eliminados, removendo indivíduos de estágio imaturo\n",
    "\n",
    "mu = 0.02  # Taxa de mortalidade de mosquitos\n",
    "N = 1000  # Número total de humanos\n",
    "M = 10000  # Número total de mosquitos\n",
    "I_M0 = M  # Número inicial de mosquitos infectados\n",
    "I_H0 = 10  # Número inicial de humanos infectados\n",
    "S_H0 = N - I_H0 # Número inicial de pessoas suscetíveis"
   ]
  },
  {
   "cell_type": "code",
   "execution_count": 11,
   "metadata": {},
   "outputs": [
    {
     "name": "stdout",
     "output_type": "stream",
     "text": [
      "R_0: 0.004072991671452201\n",
      "Prevalência de equilíbrio para mosquitos: 17005.742642660996\n",
      "Prevalência de equilíbrio para humanos: 659175.7810068812\n"
     ]
    },
    {
     "data": {
      "image/png": "[encoded data removed]",
      "text/plain": [
       "Graphics object consisting of 3 graphics primitives"
      ]
     },
     "metadata": {},
     "output_type": "display_data"
    }
   ],
   "source": [
    "def run_simulation(num_steps=365, dt=1, T1=27.3, T2=0.07, omega1=0.67, phi1=1.53, R1=85.9, R2=0.98, omega2=0.65, phi2=1.99,\n",
    "                   B_E=200, p_ME=0.9, p_ML=0.25, p_MP=0.75, tau_E=1, tau_P=1, c1=0.00554, c2=-0.06737,\n",
    "                   D1=36.5, b1=0.04, A=-0.03, B=1.31, C=-4.4, b2=0.09, tau_H=10, DD=105, Tmin=14.5, gamma=1/120, R_L = 50,\n",
    "                   N=8557, M=10000, I_M0=None, I_H0=1000):\n",
    "    # Definindo as constantes\n",
    "    if I_M0 is None:\n",
    "        I_M0 = M / 100\n",
    "\n",
    "    S_H0 = N - I_H0\n",
    "\n",
    "    # Funções de temperatura e chuva\n",
    "    def T(t):\n",
    "        return T1 * (1 + T2 * cos(omega1 * t - phi1))\n",
    "\n",
    "    def R(t):\n",
    "        return R1 * (1 + R2 * cos(omega2 * t - phi2))\n",
    "\n",
    "    def tau_L(T):\n",
    "        return 1 / (c1 * T + c2)\n",
    "\n",
    "    def p(T):\n",
    "        return np.exp(-1 / (A*T**2 + B*T + C))\n",
    "    \n",
    "    # Probabilidade de sobrevivência das larvas\n",
    "    def p_L(T):\n",
    "        return np.exp(-(c1 * T + c2))\n",
    "    \n",
    "    def p_L(R):\n",
    "        return (4*p_ML/R_L**2) * R * (R_L - R)\n",
    "    \n",
    "    def p_L(R,T):\n",
    "        return p_L(T)*p_L(R)\n",
    "\n",
    "    # Duração do ciclo esporogônico\n",
    "    def tau_M(T):\n",
    "        return DD / (T - Tmin)\n",
    "\n",
    "    # Definindo a função de sobrevivência do mosquito\n",
    "    def l(tau_M, T):  \n",
    "        p_T = p(T)\n",
    "        return p_T**tau_M\n",
    "\n",
    "    # Definindo a função de mortalidade do mosquito\n",
    "    def mu(T):\n",
    "        return -log(p(T))\n",
    "\n",
    "    # Simulando as equações diferenciais\n",
    "    S_H = [S_H0]\n",
    "    I_H = [I_H0]\n",
    "    R_H = [0]\n",
    "    times = [0]\n",
    "\n",
    "    for t in range(1, num_steps):\n",
    "        # Atualiza a temperatura e a chuva\n",
    "        T_curr = T(t * dt)\n",
    "        R_curr = R(t * dt)\n",
    "\n",
    "        # Calcular a taxa de mordida e probabilidade de transmissão\n",
    "        a = (T_curr - T1) / D1\n",
    "        b = B_E * p_ME * p_ML * p_MP / (tau_E + tau_L(T_curr) + tau_P)\n",
    "\n",
    "        if t < tau_H:\n",
    "            dS_H = -a * b2 * (I_M0 / N) * S_H[-1]\n",
    "            dI_H = a * b2 * (I_M0 / N) * S_H[-1] - gamma * I_H[-1]\n",
    "        else:\n",
    "            dS_H = -a * b2 * (I_H[t - tau_H] / N) * S_H[t - tau_H]\n",
    "            dI_H = a * b2 * (I_H[t - tau_H] / N) * S_H[t - tau_H] - gamma * I_H[-1]\n",
    "        dR_H = gamma * I_H[-1]\n",
    "\n",
    "        # Atualize as populações\n",
    "        S_H.append(S_H[-1] + dt * dS_H)\n",
    "        I_H.append(I_H[-1] + dt * dI_H)\n",
    "        R_H.append(R_H[-1] + dt * dR_H)\n",
    "        times.append(t * dt)\n",
    "\n",
    "    # Calculando R_0\n",
    "    def calculate_R0(M, a, b1, b2, T, gamma, mu, N):\n",
    "        tau_M_T = tau_M(T)\n",
    "        l_tau_M = l(tau_M_T, T)  \n",
    "        R_0 = (M * a**2 * b1 * b2 * l_tau_M) / (gamma * mu(T) * N)\n",
    "        return R_0\n",
    "\n",
    "    R_0 = calculate_R0(M, a, b1, b2, T1, gamma, mu, N)\n",
    "    print(f\"R_0: {R_0}\")\n",
    "\n",
    "    # Calcular prevalências de equilíbrio\n",
    "    I_M_star = M * (R_0 - 1) / ((R_0 / l(DD / (T1 - Tmin), T1)) + (a * b2 * M / (gamma * N)))\n",
    "    I_H_star = N * (R_0 - 1) / (R_0 + (a * b1 / mu(T1)))\n",
    "\n",
    "    print(f\"Prevalência de equilíbrio para mosquitos: {I_M_star}\")\n",
    "    print(f\"Prevalência de equilíbrio para humanos: {I_H_star}\")\n",
    "\n",
    "    times = [i*dt for i in range(num_steps)]\n",
    "\n",
    "    # Criar os gráficos\n",
    "    p1 = line(zip(times, S_H), color='blue', legend_label='Suscetíveis')\n",
    "    p2 = line(zip(times, I_H), color='red', legend_label='Infectados')\n",
    "    p3 = line(zip(times, R_H), color='green', legend_label='Recuperados')\n",
    "\n",
    "    # Combinar os gráficos e mostrar o resultado\n",
    "    (p1 + p2 + p3).show(xmin=0, xmax=num_steps*dt, ymin=0, ymax=N)\n",
    "\n",
    "# Executar a simulação com os parâmetros padrão\n",
    "run_simulation()"
   ]
  },
  {
   "cell_type": "code",
   "execution_count": null,
   "metadata": {},
   "outputs": [],
   "source": []
  }
 ],
 "metadata": {
  "kernelspec": {
   "display_name": "SageMath 9.2",
   "language": "sage",
   "name": "sagemath"
  },
  "language_info": {
   "codemirror_mode": {
    "name": "ipython",
    "version": 3
   },
   "file_extension": ".py",
   "mimetype": "text/x-python",
   "name": "python",
   "nbconvert_exporter": "python",
   "pygments_lexer": "ipython3",
   "version": "3.7.7"
  }
 },
 "nbformat": 4,
 "nbformat_minor": 4
}
