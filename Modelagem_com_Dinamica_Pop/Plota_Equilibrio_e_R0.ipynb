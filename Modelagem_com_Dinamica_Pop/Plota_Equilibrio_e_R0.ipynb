{
 "cells": [
  {
   "cell_type": "code",
   "execution_count": 1,
   "metadata": {},
   "outputs": [],
   "source": [
    "import numpy as np\n",
    "from scipy.integrate import solve_ivp\n",
    "import matplotlib.pyplot as plt\n",
    "from numpy import cos\n",
    "from math import log\n",
    "from scipy.interpolate import interp1d\n",
    "from ipywidgets import interact, interactive, fixed, interact_manual\n",
    "import ipywidgets as widgets\n",
    "from mpl_toolkits.mplot3d import Axes3D\n",
    "from scipy.optimize import minimize_scalar\n",
    "from scipy.optimize import minimize\n",
    "from scipy.optimize import fsolve\n",
    "from sympy import symbols, Eq, solve"
   ]
  },
  {
   "cell_type": "code",
   "execution_count": 2,
   "metadata": {},
   "outputs": [],
   "source": [
    "T_linha = 25.6\n",
    "T1= 26.4 \n",
    "T2= 0.025\n",
    "omega1= 0.017\n",
    "phi1= -1.45\n",
    "\n",
    "R1= 250.083 \n",
    "R2= 0.565\n",
    "omega2= 0.02\n",
    "phi2=1.6\n",
    "\n",
    "B_E=200\n",
    "p_ME=0.9\n",
    "p_ML=0.75\n",
    "p_MP=0.85\n",
    "tau_E=1\n",
    "tau_P=1\n",
    "# c1=0.019\n",
    "# c2=-0.021\n",
    "c1=0.00554\n",
    "c2=-0.06737\n",
    "mu_H = 0.00007\n",
    "\n",
    "D1=36.5\n",
    "b1=0.04\n",
    "\n",
    "A=12.5\n",
    "B=15\n",
    "C=-48.78\n",
    "\n",
    "b2=0.09\n",
    "tau_H=10\n",
    "DD=105\n",
    "Tmin=14.5\n",
    "gamma= 1/120 #365 \n",
    "R_L = 450\n",
    "N = 7717 #População estimada para 2004\n",
    "M = 300000 \n",
    "k=1 #Análise sem efeito do desmatamento\n",
    "\n",
    "E_M0 = 1 #Analisando a infecção iniciando com apenas um mosquito exposto e um humano infectado\n",
    "I_H0 = 1\n",
    "I_M0 = 0\n",
    "R_H0 = 0\n",
    "if E_M0 is None:\n",
    "        E_M0 = M / 100\n",
    "\n",
    "S_H0 = N - I_H0 - R_H0\n",
    "S_M0 = M - E_M0 - I_M0"
   ]
  },
  {
   "cell_type": "code",
   "execution_count": 3,
   "metadata": {},
   "outputs": [],
   "source": [
    "def Temp(t):\n",
    "    return T1 * (1 + T2 * cos(omega1 * t - phi1))\n",
    "\n",
    "def Rain(t):\n",
    "    return R1 * (1 + R2 * cos(omega2 * t - phi2))\n",
    "\n",
    "R_final = Rain(1825)\n",
    "T_final = Temp(1825)\n",
    "    \n",
    "# Duração da fase de desenvolvimento das larvas\n",
    "def tau_L(Temp):\n",
    "    return 1 / (c1 * Temp + c2)\n",
    "    \n",
    "# Taxa diária de sobrevivência dos mosquitos\n",
    "def p(Temp):\n",
    "    return np.exp(-1 / (A*Temp**2 + B*Temp + C))\n",
    "    \n",
    "# Probabilidade de sobrevivência das larvas dependente de temperatura e chuva\n",
    "def p_LT(Temp):\n",
    "    return np.exp(-(c1 * Temp + c2))\n",
    "    \n",
    "def p_LR(Rain):\n",
    "    return (4*p_ML/R_L**2) * Rain * (max(10^-5,R_L - Rain))\n",
    "    \n",
    "def p_LRT(Rain,Temp):\n",
    "    return p_LR(Rain)*p_LT(Temp)\n",
    "    \n",
    "# Probabilidade de sobrevivência dos ovos e pupas dependente de chuva (Não definido previamente)\n",
    "def p_ER(Rain):\n",
    "    return (4*p_ME/R_L**2) * Rain * (max(10^-5,R_L - Rain))\n",
    "    \n",
    "# Probabilidade de sobrevivência dos ovos e pupas dependente de chuva (Não definido previamente)\n",
    "def p_PR(Rain):\n",
    "    return (4*p_MP/R_L**2) * Rain * (max(10^-5,R_L - Rain))\n",
    "\n",
    "# Duração do ciclo esporogônico\n",
    "def tau_M(Temp):\n",
    "    return DD / (max(10^-5,Temp - Tmin))\n",
    "    \n",
    "tau_M_final = tau_M(T_final)\n",
    "\n",
    "# Taxa de infecção de expostos (1/Duração do ciclo esporogônico)\n",
    "def b3(tau_M, Temp):\n",
    "    return 1/tau_M\n",
    "    \n",
    "b3_final = b3(tau_M_final, T_final)\n",
    "    \n",
    "# Definindo a função de sobrevivência do mosquito\n",
    "def l_tau_M(tau_M, Temp):  \n",
    "    p_T = p(Temp)\n",
    "    return p_T**tau_M\n",
    "    \n",
    "l_final = l_tau_M(tau_M_final, T_final)\n",
    "\n",
    "# Definindo a taxa de mortalidade do mosquito\n",
    "def mu(Temp):\n",
    "    return -log(p(Temp))\n",
    "    \n",
    "mu_final = mu(T_final)\n",
    "    \n",
    "# Calcula a taxa de picada e probabilidade de transmissão\n",
    "def a(Temp):\n",
    "    return (max(10^-5, Temp - T_linha)) / D1\n",
    "    \n",
    "a_final = a(T_final)\n",
    "    \n",
    "def b(Rain,Temp):\n",
    "    return B_E * p_ER(Rain) * p_LRT(Rain,Temp) * p_PR(Rain) / (tau_E + tau_L(Temp) + tau_P)\n",
    "    \n",
    "b_final = b(R_final, T_final)"
   ]
  },
  {
   "cell_type": "code",
   "execution_count": 4,
   "metadata": {},
   "outputs": [],
   "source": [
    "def R0_sir(a, k, b2, gamma, mu_H):\n",
    "    return abs((a * k * b2) / (gamma + mu_H))\n",
    "    \n",
    "#R0_sir_curr = R0_sir(a_curr, b2, gamma)\n",
    "    \n",
    "def R0_sei(a, k, b1, b3, l, mu):\n",
    "    return abs((a * k * b1 * b3) / ((b3 + l) * mu + mu** 2))\n",
    "    \n",
    "#R0_sei_curr = R0_sei(a_curr, b1, b3_curr, l_curr, mu_curr)\n",
    "    \n",
    "def R0_full(a, k, b1, b2, b3, gamma, l, mu, mu_H):\n",
    "    return abs(((a**2 * b1 * b2 * b3 * k**2) / (mu*(gamma + mu_H)*(b3 + l + mu)))**(1/2))\n",
    "    \n",
    "#R0_curr = R0(a_curr, b1, b2, b3_curr, gamma, l_curr, mu_curr)\n",
    "\n",
    "def calculate_initial_values(R_L, T_linha, Tmin, DD, D1, T1, T2, omega1, phi1, R1, R2, omega2, phi2,\n",
    "                            p_ML, p_ME, p_MP, c1, c2, A, B, C, b1, b2, gamma, mu_H, k):\n",
    "    \n",
    "    T0 = T1 * (1 + T2 * cos(omega1 * 0 - phi1))\n",
    "    R0 = R1 * (1 + R2 * cos(omega2 * 0 - phi2))\n",
    "\n",
    "    tau_L0 = 1 / (c1 * T0 + c2)\n",
    "\n",
    "    p_LT0 = np.exp(-(c1 * T0 + c2))\n",
    "    \n",
    "    p_LR0 = (4 * p_ML / R_L**2) * R0 * (max(1e-5, R_L - R0))\n",
    "    \n",
    "    p_LRT0 = p_LR0 * p_LT0\n",
    "    \n",
    "    p_ER0 = (4 * p_ME / R_L**2) * R0 * (max(1e-5, R_L - R0))\n",
    "    \n",
    "    p_PR0 = (4 * p_MP / R_L**2) * R0 * (max(1e-5, R_L - R0))\n",
    "\n",
    "    a0 = (max(1e-5, T0 - T_linha)) / D1\n",
    "    b0 = B_E * p_ER0 * p_LRT0 * p_PR0 / (tau_E + tau_L0 + tau_P)\n",
    "\n",
    "    tau_M0 = DD / (max(1e-5, T0 - Tmin))\n",
    "    \n",
    "    b30 =  1 / tau_M0\n",
    "    \n",
    "    p0 = np.exp(-1 / (A * T0**2 + B * T0 + C))\n",
    "    l0 = p0 ** tau_M0\n",
    "\n",
    "    mu0 = -log(p0)\n",
    "\n",
    "    initial_R0_sir = R0_sir(a0, k, b2, gamma, mu_H)\n",
    "    initial_R0_sei = R0_sei(a0, k, b1, b30, l0, mu0)\n",
    "    initial_R0_full = R0_full(a0, k, b1, b2, b30, gamma, l0, mu0, mu_H)\n",
    "    \n",
    "    return initial_R0_sir, initial_R0_sei, initial_R0_full, a0"
   ]
  },
  {
   "cell_type": "code",
   "execution_count": 5,
   "metadata": {},
   "outputs": [],
   "source": [
    "initial_R0_sir, initial_R0_sei, initial_R0_full, a0 = calculate_initial_values(R_L, T_linha, Tmin, DD, D1, \n",
    "                                                                               T1, T2, omega1, phi1, R1, R2, omega2, phi2,\n",
    "                                                                               p_ML, p_ME, p_MP, c1, c2, A, B, C, b1, b2, \n",
    "                                                                               gamma, mu_H, k)"
   ]
  },
  {
   "cell_type": "code",
   "execution_count": 6,
   "metadata": {},
   "outputs": [
    {
     "name": "stdout",
     "output_type": "stream",
     "text": [
      "R0_sir = 0.258077185614824 \n",
      "R0_sei = 0.9002047882569278\n",
      "R0_acoplado = 0.4819982554225031\n",
      "Taxa de picadas = 0.02409676240499894\n"
     ]
    }
   ],
   "source": [
    "print(f'R0_sir = {initial_R0_sir} \\nR0_sei = {initial_R0_sei}\\nR0_acoplado = {initial_R0_full}\\nTaxa de picadas = {a0}')"
   ]
  },
  {
   "cell_type": "code",
   "execution_count": 7,
   "metadata": {},
   "outputs": [],
   "source": [
    "initial_R0_sir, initial_R0_sei, initial_R0_full, a0 = calculate_initial_values(R_L, T_linha, Tmin, DD, D1, \n",
    "                                                                               T1, T2, omega1, phi1, R1, R2, omega2, phi2,\n",
    "                                                                               p_ML, p_ME, p_MP, c1, c2, A, B, C, b1, b2, \n",
    "                                                                               gamma, mu_H, 10)"
   ]
  },
  {
   "cell_type": "code",
   "execution_count": 8,
   "metadata": {},
   "outputs": [
    {
     "name": "stdout",
     "output_type": "stream",
     "text": [
      "R0_sir = 2.5807718561482402 \n",
      "R0_sei = 9.00204788256928\n",
      "R0_acoplado = 4.819982554225031\n",
      "Taxa de picadas = 0.02409676240499894\n"
     ]
    }
   ],
   "source": [
    "print(f'R0_sir = {initial_R0_sir} \\nR0_sei = {initial_R0_sei}\\nR0_acoplado = {initial_R0_full}\\nTaxa de picadas = {a0}')"
   ]
  },
  {
   "cell_type": "code",
   "execution_count": 9,
   "metadata": {},
   "outputs": [],
   "source": [
    "k_values = np.linspace(0, 10, 100) \n",
    "\n",
    "R0_full_values = []\n",
    "\n",
    "for k_val in k_values:\n",
    "    initial_R0_sir, initial_R0_sei, R0_full_val, a0_val = calculate_initial_values(R_L, T_linha, Tmin, DD, D1, \n",
    "                                                                               T1, T2, omega1, phi1, R1, R2, omega2, phi2,\n",
    "                                                                               p_ML, p_ME, p_MP, c1, c2, A, B, C, b1, b2, \n",
    "                                                                               gamma, mu_H, k=k_val)\n",
    "    R0_full_values.append(R0_full_val)"
   ]
  },
  {
   "cell_type": "code",
   "execution_count": 10,
   "metadata": {},
   "outputs": [
    {
     "data": {
      "image/png": "[encoded data removed]",
      "text/plain": [
       "<Figure size 576x432 with 1 Axes>"
      ]
     },
     "metadata": {
      "needs_background": "light"
     },
     "output_type": "display_data"
    }
   ],
   "source": [
    "plt.figure(figsize=(8, 6))\n",
    "\n",
    "plt.plot(k_values, R0_full_values, label='R0')\n",
    "plt.xlabel('k')\n",
    "plt.ylabel('R0')\n",
    "plt.title('R0 vs k')\n",
    "\n",
    "plt.legend()\n",
    "plt.grid(True)\n",
    "\n",
    "plt.show()  "
   ]
  },
  {
   "cell_type": "code",
   "execution_count": 11,
   "metadata": {},
   "outputs": [],
   "source": [
    "initial_R0_sir, initial_R0_sei, initial_R0_full, a0 = calculate_initial_values(R_L, T_linha, Tmin, DD, D1, \n",
    "                                                                               T1, T2, omega1, phi1, R1, R2, omega2, phi2,\n",
    "                                                                               p_ML, p_ME, p_MP, c1, c2, A, B, C, b1, b2, \n",
    "                                                                               gamma, mu_H, 2)"
   ]
  },
  {
   "cell_type": "code",
   "execution_count": 12,
   "metadata": {},
   "outputs": [
    {
     "name": "stdout",
     "output_type": "stream",
     "text": [
      "R0_sir = 0.516154371229648 \n",
      "R0_sei = 1.8004095765138557\n",
      "R0_acoplado = 0.9639965108450061\n",
      "Taxa de picadas = 0.02409676240499894\n"
     ]
    }
   ],
   "source": [
    "print(f'R0_sir = {initial_R0_sir} \\nR0_sei = {initial_R0_sei}\\nR0_acoplado = {initial_R0_full}\\nTaxa de picadas = {a0}')"
   ]
  },
  {
   "cell_type": "code",
   "execution_count": 13,
   "metadata": {},
   "outputs": [],
   "source": [
    "initial_R0_sir, initial_R0_sei, initial_R0_full, a0 = calculate_initial_values(R_L, T_linha, Tmin, DD, D1, \n",
    "                                                                               T1, T2, omega1, phi1, R1, R2, omega2, phi2,\n",
    "                                                                               p_ML, p_ME, p_MP, c1, c2, A, B, C, b1, b2, \n",
    "                                                                               gamma, mu_H, 2.1)"
   ]
  },
  {
   "cell_type": "code",
   "execution_count": 14,
   "metadata": {},
   "outputs": [
    {
     "name": "stdout",
     "output_type": "stream",
     "text": [
      "R0_sir = 0.5419620897911305 \n",
      "R0_sei = 1.8904300553395483\n",
      "R0_acoplado = 1.0121963363872564\n",
      "Taxa de picadas = 0.02409676240499894\n"
     ]
    }
   ],
   "source": [
    "print(f'R0_sir = {initial_R0_sir} \\nR0_sei = {initial_R0_sei}\\nR0_acoplado = {initial_R0_full}\\nTaxa de picadas = {a0}')"
   ]
  },
  {
   "cell_type": "code",
   "execution_count": 15,
   "metadata": {},
   "outputs": [
    {
     "name": "stdout",
     "output_type": "stream",
     "text": [
      "O valor de k que aproxima R0 de 1 é 2.0746963059512207\n"
     ]
    }
   ],
   "source": [
    "def equation_to_solve(k):\n",
    "    initial_R0_full = calculate_initial_values(\n",
    "        R_L, T_linha, Tmin, DD, D1, T1, T2,\n",
    "        omega1, phi1, R1, R2, omega2, phi2,\n",
    "        p_ML, p_ME, p_MP, c1, c2, A, B, C,\n",
    "        b1, b2, gamma, mu_H, k)[2] ##índice de R0 completo em calculate_initial_values\n",
    "    return initial_R0_full -1\n",
    "\n",
    "# Use fsolve to find the root (solution)\n",
    "initial_guess = 0.5  # Choose an initial guess for k\n",
    "k_solution = fsolve(equation_to_solve, initial_guess)\n",
    "\n",
    "print(f\"O valor de k que aproxima R0 de 1 é {k_solution[0]}\")"
   ]
  },
  {
   "cell_type": "code",
   "execution_count": 16,
   "metadata": {},
   "outputs": [],
   "source": [
    "initial_R0_sir, initial_R0_sei, initial_R0_full, a0 = calculate_initial_values(R_L, T_linha, Tmin, DD, D1, \n",
    "                                                                               T1, T2, omega1, phi1, R1, R2, omega2, phi2,\n",
    "                                                                               p_ML, p_ME, p_MP, c1, c2, A, B, C, b1, b2, \n",
    "                                                                               gamma, mu_H, 2.0746963059512207)"
   ]
  },
  {
   "cell_type": "code",
   "execution_count": 17,
   "metadata": {},
   "outputs": [
    {
     "name": "stdout",
     "output_type": "stream",
     "text": [
      "R0_sir = 0.535431783645363 \n",
      "R0_sei = 1.8676515487962488\n",
      "R0_acoplado = 1.0\n",
      "Taxa de picadas = 0.02409676240499894\n"
     ]
    }
   ],
   "source": [
    "print(f'R0_sir = {initial_R0_sir} \\nR0_sei = {initial_R0_sei}\\nR0_acoplado = {initial_R0_full}\\nTaxa de picadas = {a0}')"
   ]
  },
  {
   "cell_type": "code",
   "execution_count": 18,
   "metadata": {},
   "outputs": [
    {
     "data": {
      "image/png": "[encoded data removed]",
      "text/plain": [
       "<Figure size 576x432 with 1 Axes>"
      ]
     },
     "metadata": {
      "needs_background": "light"
     },
     "output_type": "display_data"
    }
   ],
   "source": [
    "k_value_at_1 = 2.0746963059512207\n",
    "R0_value_at_1 = 1\n",
    "\n",
    "plt.figure(figsize=(8, 6))\n",
    "\n",
    "plt.plot(k_values, R0_full_values, label='R0')\n",
    "plt.scatter([k_value_at_1], [R0_value_at_1], color='red', label=f'(k={k_value_at_1}, R0 = {R0_value_at_1})')\n",
    "plt.axhline(y=1, color='gray', linestyle='--', label='R0 = 1')\n",
    "plt.xlabel('k')\n",
    "plt.ylabel('R0')\n",
    "plt.title('R0 vs k')\n",
    "plt.legend()\n",
    "plt.grid(True)\n",
    "plt.show()"
   ]
  },
  {
   "cell_type": "code",
   "execution_count": 19,
   "metadata": {},
   "outputs": [],
   "source": [
    "def equilibrium_numerator(N, mu, b3, l, mu_H, a, b, b1, b2, k, gamma):\n",
    "    return (N**2 * mu**3 + (N**2 * b3 + N**2 * l)*mu**2)*mu_H**2 - (N * a**2 * b * b1 * b2 * b3 * k**2 - N**2 * gamma * mu**3 - (N**2 * b3 * gamma + N**2 * gamma * l) * mu**2) * mu_H\n",
    "     \n",
    "    \n",
    "def equilibrium_denominator(N, mu, b3, l, mu_H, a, b, b1, b2, k, gamma):\n",
    "    return a**2 * b * b1 * b2 * b3 * gamma * k**2 + (N * a * b1 * k * mu**2 + (N * a * b1 * b3 * k + N * a * b1 * k * l)*mu)*mu_H**2 + (a**2 * b * b1 * b2 * b3 * k**2 + N * a * b1 * gamma * k * mu**2 + (N * a * b1 * b3 * gamma * k + N * a * b1 * gamma * k * l)*mu)*mu_H\n",
    "    \n",
    "    \n",
    "def equilibrium(N, mu, b3, l, mu_H, a, b, b1, b2, k, gamma):\n",
    "    return -1*equilibrium_numerator(N, mu, b3, l, mu_H, a, b, b1, b2, k, gamma) / equilibrium_denominator(N, mu, b3, l, mu_H, a, b, b1, b2, k, gamma)\n",
    "    \n",
    "def calculate_equilibrium_initial_values(N, R_L, T_linha, Tmin, DD, D1, T1, T2, omega1, phi1, R1, R2, omega2, phi2,\n",
    "                            p_ML, p_ME, p_MP, c1, c2, A, B, C, b1, b2, gamma, mu_H, k):\n",
    "    \n",
    "    T0 = T1 * (1 + T2 * cos(omega1 * 0 - phi1))\n",
    "    R0 = R1 * (1 + R2 * cos(omega2 * 0 - phi2))\n",
    "\n",
    "    tau_L0 = 1 / (c1 * T0 + c2)\n",
    "\n",
    "    p_LT0 = np.exp(-(c1 * T0 + c2))\n",
    "    \n",
    "    p_LR0 = (4 * p_ML / R_L**2) * R0 * (max(1e-5, R_L - R0))\n",
    "    \n",
    "    p_LRT0 = p_LR0 * p_LT0\n",
    "    \n",
    "    p_ER0 = (4 * p_ME / R_L**2) * R0 * (max(1e-5, R_L - R0))\n",
    "    \n",
    "    p_PR0 = (4 * p_MP / R_L**2) * R0 * (max(1e-5, R_L - R0))\n",
    "\n",
    "    a0 = (max(1e-5, T0 - T_linha)) / D1\n",
    "    b0 = B_E * p_ER0 * p_LRT0 * p_PR0 / (tau_E + tau_L0 + tau_P)\n",
    "\n",
    "    tau_M0 = DD / (max(1e-5, T0 - Tmin))\n",
    "    \n",
    "    b30 =  1 / tau_M0\n",
    "    \n",
    "    p0 = np.exp(-1 / (A * T0**2 + B * T0 + C))\n",
    "    l0 = p0 ** tau_M0\n",
    "\n",
    "    mu0 = -log(p0)\n",
    "\n",
    "    equilibrium_numerator_initial = equilibrium_numerator(N, mu0, b30, l0, mu_H, a0, b0, b1, b2, k, gamma)\n",
    "    equilibrium_denominator_initial = equilibrium_denominator(N, mu0, b30, l0, mu_H, a0, b0, b1, b2, k, gamma)\n",
    "    equilibrium_initial = equilibrium(N, mu0, b30, l0, mu_H, a0, b0, b1, b2, k, gamma)\n",
    "    \n",
    "    return equilibrium_numerator_initial, equilibrium_denominator_initial, equilibrium_initial"
   ]
  },
  {
   "cell_type": "code",
   "execution_count": 20,
   "metadata": {},
   "outputs": [],
   "source": [
    "equilibrium_numerator_initial, equilibrium_denominator_initial, equilibrium_initial = calculate_equilibrium_initial_values(N, R_L, T_linha, Tmin, DD, D1, \n",
    "                                                                               T1, T2, omega1, phi1, R1, R2, omega2, phi2,\n",
    "                                                                               p_ML, p_ME, p_MP, c1, c2, A, B, C, b1, b2, \n",
    "                                                                               gamma, mu_H, k)"
   ]
  },
  {
   "cell_type": "code",
   "execution_count": 21,
   "metadata": {},
   "outputs": [
    {
     "name": "stdout",
     "output_type": "stream",
     "text": [
      "I_H no equilíbrio em t=0: 30.008876867379975\n"
     ]
    }
   ],
   "source": [
    "print(f'I_H no equilíbrio em t=0: {equilibrium_initial}')"
   ]
  },
  {
   "cell_type": "code",
   "execution_count": 22,
   "metadata": {},
   "outputs": [],
   "source": [
    "def calculate_equilibrium_final_values(N, R_L, T_linha, Tmin, DD, D1, T1, T2, omega1, phi1, R1, R2, omega2, phi2,\n",
    "                            p_ML, p_ME, p_MP, c1, c2, A, B, C, b1, b2, gamma, mu_H, k):\n",
    "    \n",
    "    Tf = T1 * (1 + T2 * cos(omega1 * 1825 - phi1))\n",
    "    Rf = R1 * (1 + R2 * cos(omega2 * 1825 - phi2))\n",
    "\n",
    "    tau_Lf = 1 / (c1 * Tf + c2)\n",
    "\n",
    "    p_LTf = np.exp(-(c1 * Tf + c2))\n",
    "    \n",
    "    p_LRf = (4 * p_ML / R_L**2) * Rf * (max(1e-5, R_L - Rf))\n",
    "    \n",
    "    p_LRTf = p_LRf * p_LTf\n",
    "    \n",
    "    p_ERf = (4 * p_ME / R_L**2) * Rf * (max(1e-5, R_L - Rf))\n",
    "    \n",
    "    p_PRf = (4 * p_MP / R_L**2) * Rf * (max(1e-5, R_L - Rf))\n",
    "\n",
    "    af = (max(1e-5, Tf - T_linha)) / D1\n",
    "    bf = B_E * p_ERf * p_LRTf * p_PRf / (tau_E + tau_Lf + tau_P)\n",
    "\n",
    "    tau_Mf = DD / (max(1e-5, Tf - Tmin))\n",
    "    \n",
    "    b3f =  1 / tau_Mf\n",
    "    \n",
    "    pf = np.exp(-1 / (A * Tf**2 + B * Tf + C))\n",
    "    lf = pf ** tau_Mf\n",
    "\n",
    "    muf = -log(pf)\n",
    "\n",
    "    equilibrium_numerator_final = equilibrium_numerator(N, muf, b3f, lf, mu_H, af, bf, b1, b2, k, gamma)\n",
    "    equilibrium_denominator_final = equilibrium_denominator(N, muf, b3f, lf, mu_H, af, bf, b1, b2, k, gamma)\n",
    "    equilibrium_final = equilibrium(N, muf, b3f, lf, mu_H, af, bf, b1, b2, k, gamma)\n",
    "    \n",
    "    return equilibrium_numerator_final, equilibrium_denominator_final, equilibrium_final"
   ]
  },
  {
   "cell_type": "code",
   "execution_count": 23,
   "metadata": {},
   "outputs": [],
   "source": [
    "equilibrium_numerator_final, equilibrium_denominator_final, equilibrium_final = calculate_equilibrium_final_values(N, R_L, T_linha, Tmin, DD, D1, \n",
    "                                                                               T1, T2, omega1, phi1, R1, R2, omega2, phi2,\n",
    "                                                                               p_ML, p_ME, p_MP, c1, c2, A, B, C, b1, b2, \n",
    "                                                                               gamma, mu_H, k)"
   ]
  },
  {
   "cell_type": "code",
   "execution_count": 24,
   "metadata": {},
   "outputs": [
    {
     "name": "stdout",
     "output_type": "stream",
     "text": [
      "I_H no equilíbrio em t=1825: 22.326789550435866\n"
     ]
    }
   ],
   "source": [
    "print(f'I_H no equilíbrio em t=1825: {equilibrium_final}')"
   ]
  },
  {
   "cell_type": "code",
   "execution_count": 25,
   "metadata": {},
   "outputs": [
    {
     "name": "stderr",
     "output_type": "stream",
     "text": [
      "/opt/sagemath-9.2/local/lib/python3.7/site-packages/sage/repl/ipython_kernel/__main__.py:10: RuntimeWarning: divide by zero encountered in double_scalars\n"
     ]
    }
   ],
   "source": [
    "k_values = np.linspace(0, 10, 100) \n",
    "\n",
    "equilibrium_full_values = []\n",
    "\n",
    "for k_val in k_values:\n",
    "    equilibrium_numerator_final, equilibrium_denominator_final, equilibrium_final = calculate_equilibrium_final_values(N, R_L, T_linha, Tmin, DD, D1, \n",
    "                                                                               T1, T2, omega1, phi1, R1, R2, omega2, phi2,\n",
    "                                                                               p_ML, p_ME, p_MP, c1, c2, A, B, C, b1, b2, \n",
    "                                                                               gamma, mu_H, k=k_val)\n",
    "    equilibrium_full_values.append(equilibrium_final)"
   ]
  },
  {
   "cell_type": "code",
   "execution_count": 26,
   "metadata": {},
   "outputs": [
    {
     "data": {
      "image/png": "[encoded data removed]",
      "text/plain": [
       "<Figure size 576x432 with 1 Axes>"
      ]
     },
     "metadata": {
      "needs_background": "light"
     },
     "output_type": "display_data"
    }
   ],
   "source": [
    "plt.figure(figsize=(8, 6))\n",
    "\n",
    "plt.plot(k_values, equilibrium_full_values, label='I_H*')\n",
    "plt.xlabel('k')\n",
    "plt.ylabel('I_H*')\n",
    "plt.title('I_H* vs k')\n",
    "\n",
    "plt.legend()\n",
    "plt.grid(True)\n",
    "\n",
    "plt.show()  "
   ]
  },
  {
   "cell_type": "code",
   "execution_count": 27,
   "metadata": {},
   "outputs": [
    {
     "name": "stdout",
     "output_type": "stream",
     "text": [
      "O valor de k que zera o equilíbrio é 0.7948596924159165\n"
     ]
    }
   ],
   "source": [
    "def equation_to_solve_equilibrium(k):\n",
    "    equilibrium_final = calculate_equilibrium_final_values(\n",
    "        N, R_L, T_linha, Tmin, DD, D1, T1, T2,\n",
    "        omega1, phi1, R1, R2, omega2, phi2,\n",
    "        p_ML, p_ME, p_MP, c1, c2, A, B, C,\n",
    "        b1, b2, gamma, mu_H, k)[2] ##índice do nequilíbrio completo em calculate_equilibrium_final_values\n",
    "    return equilibrium_final\n",
    "\n",
    "# Use fsolve to find the root (solution)\n",
    "initial_guess = 0.5  # Choose an initial guess for k\n",
    "k_solution = fsolve(equation_to_solve_equilibrium, initial_guess)\n",
    "\n",
    "print(f\"O valor de k que zera o equilíbrio é {k_solution[0]}\")"
   ]
  },
  {
   "cell_type": "code",
   "execution_count": 28,
   "metadata": {},
   "outputs": [
    {
     "data": {
      "image/png": "[encoded data removed]",
      "text/plain": [
       "<Figure size 576x432 with 1 Axes>"
      ]
     },
     "metadata": {
      "needs_background": "light"
     },
     "output_type": "display_data"
    }
   ],
   "source": [
    "k_value_at_0 = 0.7948596924159165\n",
    "equilibrium_value_at_0 = 0\n",
    "\n",
    "plt.figure(figsize=(8, 6))\n",
    "\n",
    "plt.plot(k_values, equilibrium_full_values, label='I_H*')\n",
    "plt.scatter([k_value_at_0], [equilibrium_value_at_0], color='red', label=f'(k={k_value_at_0}, I_H* = {equilibrium_value_at_0})')\n",
    "plt.axhline(y=0, color='gray', linestyle='--', label='I_H* = 0')\n",
    "plt.xlabel('k')\n",
    "plt.ylabel('I_H*')\n",
    "plt.title('I_H* vs k')\n",
    "plt.legend()\n",
    "plt.grid(True)\n",
    "plt.show()"
   ]
  },
  {
   "cell_type": "markdown",
   "metadata": {},
   "source": [
    "Equilíbrio da população de infectados no com $k$ máximo:"
   ]
  },
  {
   "cell_type": "code",
   "execution_count": 29,
   "metadata": {},
   "outputs": [],
   "source": [
    "equilibrium_numerator_final, equilibrium_denominator_final, equilibrium_final = calculate_equilibrium_final_values(N, R_L, T_linha, Tmin, DD, D1, \n",
    "                                                                               T1, T2, omega1, phi1, R1, R2, omega2, phi2,\n",
    "                                                                               p_ML, p_ME, p_MP, c1, c2, A, B, C, b1, b2, \n",
    "                                                                               gamma, mu_H, 10)"
   ]
  },
  {
   "cell_type": "code",
   "execution_count": 30,
   "metadata": {},
   "outputs": [
    {
     "name": "stdout",
     "output_type": "stream",
     "text": [
      "I_H no equilíbrio em t=1825: 63.495027224757386\n"
     ]
    }
   ],
   "source": [
    "print(f'I_H no equilíbrio em t=1825: {equilibrium_final}')"
   ]
  },
  {
   "cell_type": "markdown",
   "metadata": {},
   "source": [
    "Equilíbrio endêmico de humanos infectados quando $\\mathcal{R}_0 \\geq 1:$"
   ]
  },
  {
   "cell_type": "code",
   "execution_count": 31,
   "metadata": {},
   "outputs": [],
   "source": [
    "k_values = np.linspace(2.0746963059512207, 10, 100) \n",
    "\n",
    "equilibrium_full_values = []\n",
    "\n",
    "for k_val in k_values:\n",
    "    equilibrium_numerator_final, equilibrium_denominator_final, equilibrium_final = calculate_equilibrium_final_values(N, R_L, T_linha, Tmin, DD, D1, \n",
    "                                                                               T1, T2, omega1, phi1, R1, R2, omega2, phi2,\n",
    "                                                                               p_ML, p_ME, p_MP, c1, c2, A, B, C, b1, b2, \n",
    "                                                                               gamma, mu_H, k=k_val)\n",
    "    equilibrium_full_values.append(equilibrium_final)"
   ]
  },
  {
   "cell_type": "code",
   "execution_count": 32,
   "metadata": {},
   "outputs": [
    {
     "data": {
      "image/png": "[encoded data removed]",
      "text/plain": [
       "<Figure size 576x432 with 1 Axes>"
      ]
     },
     "metadata": {
      "needs_background": "light"
     },
     "output_type": "display_data"
    }
   ],
   "source": [
    "plt.figure(figsize=(8, 6))\n",
    "\n",
    "plt.plot(k_values, equilibrium_full_values, label='I_H*')\n",
    "plt.xlabel('k')\n",
    "plt.ylabel('I_H*')\n",
    "plt.title('I_H* vs k')\n",
    "\n",
    "plt.legend()\n",
    "plt.grid(True)\n",
    "\n",
    "plt.show() "
   ]
  },
  {
   "cell_type": "markdown",
   "metadata": {},
   "source": [
    "Equilíbrio endêmico de humanos infectados quando $I_H^* \\geq 0:$"
   ]
  },
  {
   "cell_type": "code",
   "execution_count": 33,
   "metadata": {},
   "outputs": [],
   "source": [
    "k_values = np.linspace(0.7948596924159165, 10, 100) \n",
    "\n",
    "equilibrium_full_values = []\n",
    "\n",
    "for k_val in k_values:\n",
    "    equilibrium_numerator_final, equilibrium_denominator_final, equilibrium_final = calculate_equilibrium_final_values(N, R_L, T_linha, Tmin, DD, D1, \n",
    "                                                                               T1, T2, omega1, phi1, R1, R2, omega2, phi2,\n",
    "                                                                               p_ML, p_ME, p_MP, c1, c2, A, B, C, b1, b2, \n",
    "                                                                               gamma, mu_H, k=k_val)\n",
    "    equilibrium_full_values.append(equilibrium_final)"
   ]
  },
  {
   "cell_type": "code",
   "execution_count": 34,
   "metadata": {},
   "outputs": [
    {
     "data": {
      "image/png": "[encoded data removed]",
      "text/plain": [
       "<Figure size 576x432 with 1 Axes>"
      ]
     },
     "metadata": {
      "needs_background": "light"
     },
     "output_type": "display_data"
    }
   ],
   "source": [
    "plt.figure(figsize=(8, 6))\n",
    "\n",
    "plt.plot(k_values, equilibrium_full_values, label='I_H*')\n",
    "plt.xlabel('k')\n",
    "plt.ylabel('I_H*')\n",
    "plt.title('I_H* vs k')\n",
    "\n",
    "plt.legend()\n",
    "plt.grid(True)\n",
    "\n",
    "plt.show() "
   ]
  },
  {
   "cell_type": "code",
   "execution_count": null,
   "metadata": {},
   "outputs": [],
   "source": []
  }
 ],
 "metadata": {
  "kernelspec": {
   "display_name": "SageMath 9.2",
   "language": "sage",
   "name": "sagemath"
  },
  "language_info": {
   "codemirror_mode": {
    "name": "ipython",
    "version": 3
   },
   "file_extension": ".py",
   "mimetype": "text/x-python",
   "name": "python",
   "nbconvert_exporter": "python",
   "pygments_lexer": "ipython3",
   "version": "3.7.7"
  }
 },
 "nbformat": 4,
 "nbformat_minor": 4
}
