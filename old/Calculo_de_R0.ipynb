{
 "cells": [
  {
   "cell_type": "code",
   "execution_count": 1,
   "metadata": {},
   "outputs": [],
   "source": [
    "import numpy as np\n",
    "from scipy.integrate import solve_ivp\n",
    "import matplotlib.pyplot as plt\n",
    "from numpy import cos\n",
    "from math import log\n",
    "from scipy.interpolate import interp1d\n",
    "from ipywidgets import interact, interactive, fixed, interact_manual\n",
    "import ipywidgets as widgets\n",
    "from mpl_toolkits.mplot3d import Axes3D\n",
    "from scipy.optimize import minimize_scalar\n",
    "from scipy.optimize import minimize"
   ]
  },
  {
   "cell_type": "markdown",
   "metadata": {},
   "source": [
    "#### As equações do modelo:"
   ]
  },
  {
   "cell_type": "markdown",
   "metadata": {},
   "source": [
    "$dShdt = -a  b_2  (I_M / N)  S_H \\\\\n",
    "dIhdt = a  b_2  (I_M / N)  S_H - \\gamma  I_H \\\\\n",
    "dRhdt = \\gamma  I_H$"
   ]
  },
  {
   "cell_type": "markdown",
   "metadata": {},
   "source": [
    "$dSmdt = b - a  b_1  (I_H / N)  S_M - \\mu S_M \\\\\n",
    "dEmdt = a b_1  (I_H / N)  S_M - \\mu E_M - b_3 E_M l \\\\\n",
    "dImdt = b_3  E_M  l - \\mu I_M$"
   ]
  },
  {
   "cell_type": "code",
   "execution_count": 2,
   "metadata": {},
   "outputs": [],
   "source": [
    "%display typeset"
   ]
  },
  {
   "cell_type": "markdown",
   "metadata": {},
   "source": [
    "### Analisando o SIR:"
   ]
  },
  {
   "cell_type": "code",
   "execution_count": 3,
   "metadata": {},
   "outputs": [
    {
     "data": {
      "text/html": [
       "<html><script type=\"math/tex; mode=display\">\\newcommand{\\Bold}[1]{\\mathbf{#1}}\\left(S_{H}, I_{H}, R_{H}, a, b_{2}, I_{M}, N, \\gamma\\right)</script></html>"
      ],
      "text/latex": [
       "\\begin{math}\n",
       "\\newcommand{\\Bold}[1]{\\mathbf{#1}}\\left(S_{H}, I_{H}, R_{H}, a, b_{2}, I_{M}, N, \\gamma\\right)\n",
       "\\end{math}"
      ],
      "text/plain": [
       "(S_H, I_H, R_H, a, b2, I_M, N, gamma)"
      ]
     },
     "execution_count": 3,
     "metadata": {},
     "output_type": "execute_result"
    }
   ],
   "source": [
    "var('S_H I_H R_H a b2 I_M N gamma')"
   ]
  },
  {
   "cell_type": "code",
   "execution_count": 4,
   "metadata": {},
   "outputs": [],
   "source": [
    "dShdt = -a * b2 * (I_M / N) * S_H\n",
    "dIhdt = a * b2 * (I_M / N) * S_H - gamma * I_H\n",
    "dRhdt = gamma * I_H"
   ]
  },
  {
   "cell_type": "markdown",
   "metadata": {},
   "source": [
    "Dado que o compartimento dos Recuperados é desacoplado da dinâmica, podemos ignorá-lo na análise."
   ]
  },
  {
   "cell_type": "markdown",
   "metadata": {},
   "source": [
    "#### Calculando o equilíbrio do SIR"
   ]
  },
  {
   "cell_type": "code",
   "execution_count": 5,
   "metadata": {},
   "outputs": [
    {
     "data": {
      "text/html": [
       "<html><script type=\"math/tex; mode=display\">\\newcommand{\\Bold}[1]{\\mathbf{#1}}\\left[\\left[S_{H} = 0, I_{H} = 0, R_{H} = r_{1}\\right]\\right]</script></html>"
      ],
      "text/latex": [
       "\\begin{math}\n",
       "\\newcommand{\\Bold}[1]{\\mathbf{#1}}\\left[\\left[S_{H} = 0, I_{H} = 0, R_{H} = r_{1}\\right]\\right]\n",
       "\\end{math}"
      ],
      "text/plain": [
       "[[S_H == 0, I_H == 0, R_H == r1]]"
      ]
     },
     "execution_count": 5,
     "metadata": {},
     "output_type": "execute_result"
    }
   ],
   "source": [
    "solve([dShdt,dIhdt, dRhdt],[S_H,I_H, R_H])"
   ]
  },
  {
   "cell_type": "markdown",
   "metadata": {},
   "source": [
    "#### Calculando a Jacobiana do SIR"
   ]
  },
  {
   "cell_type": "code",
   "execution_count": 6,
   "metadata": {},
   "outputs": [
    {
     "data": {
      "text/html": [
       "<html><script type=\"math/tex; mode=display\">\\newcommand{\\Bold}[1]{\\mathbf{#1}}\\left(\\begin{array}{rrr}\n",
       "-\\frac{I_{M} a b_{2}}{N} & 0 & 0 \\\\\n",
       "\\frac{I_{M} a b_{2}}{N} & -\\gamma & 0 \\\\\n",
       "0 & \\gamma & 0\n",
       "\\end{array}\\right)</script></html>"
      ],
      "text/latex": [
       "\\begin{math}\n",
       "\\newcommand{\\Bold}[1]{\\mathbf{#1}}\\left(\\begin{array}{rrr}\n",
       "-\\frac{I_{M} a b_{2}}{N} & 0 & 0 \\\\\n",
       "\\frac{I_{M} a b_{2}}{N} & -\\gamma & 0 \\\\\n",
       "0 & \\gamma & 0\n",
       "\\end{array}\\right)\n",
       "\\end{math}"
      ],
      "text/plain": [
       "[-I_M*a*b2/N           0           0]\n",
       "[ I_M*a*b2/N      -gamma           0]\n",
       "[          0       gamma           0]"
      ]
     },
     "execution_count": 6,
     "metadata": {},
     "output_type": "execute_result"
    }
   ],
   "source": [
    "jack_sir=jacobian([dShdt,dIhdt, dRhdt],[S_H,I_H, R_H])\n",
    "jack_sir"
   ]
  },
  {
   "cell_type": "code",
   "execution_count": 7,
   "metadata": {},
   "outputs": [
    {
     "data": {
      "text/html": [
       "<html><script type=\"math/tex; mode=display\">\\newcommand{\\Bold}[1]{\\mathbf{#1}}x^{3} + \\left(\\frac{I_{M} a b_{2}}{N} + \\gamma\\right) x^{2} + \\frac{I_{M} a b_{2} \\gamma}{N} x</script></html>"
      ],
      "text/latex": [
       "\\begin{math}\n",
       "\\newcommand{\\Bold}[1]{\\mathbf{#1}}x^{3} + \\left(\\frac{I_{M} a b_{2}}{N} + \\gamma\\right) x^{2} + \\frac{I_{M} a b_{2} \\gamma}{N} x\n",
       "\\end{math}"
      ],
      "text/plain": [
       "x^3 + (I_M*a*b2/N + gamma)*x^2 + I_M*a*b2*gamma/N*x"
      ]
     },
     "execution_count": 7,
     "metadata": {},
     "output_type": "execute_result"
    }
   ],
   "source": [
    "cp_sir = jack_sir.characteristic_polynomial()\n",
    "cp_sir"
   ]
  },
  {
   "cell_type": "code",
   "execution_count": 8,
   "metadata": {},
   "outputs": [
    {
     "data": {
      "text/html": [
       "<html><script type=\"math/tex; mode=display\">\\newcommand{\\Bold}[1]{\\mathbf{#1}}\\left[-\\frac{I_{M} a b_{2}}{N}, -\\gamma, 0\\right]</script></html>"
      ],
      "text/latex": [
       "\\begin{math}\n",
       "\\newcommand{\\Bold}[1]{\\mathbf{#1}}\\left[-\\frac{I_{M} a b_{2}}{N}, -\\gamma, 0\\right]\n",
       "\\end{math}"
      ],
      "text/plain": [
       "[-I_M*a*b2/N, -gamma, 0]"
      ]
     },
     "execution_count": 8,
     "metadata": {},
     "output_type": "execute_result"
    }
   ],
   "source": [
    "jack_sir.eigenvalues()"
   ]
  },
  {
   "cell_type": "markdown",
   "metadata": {},
   "source": [
    "### Analisando o SEI:"
   ]
  },
  {
   "cell_type": "code",
   "execution_count": 9,
   "metadata": {},
   "outputs": [
    {
     "data": {
      "text/html": [
       "<html><script type=\"math/tex; mode=display\">\\newcommand{\\Bold}[1]{\\mathbf{#1}}\\left(S_{M}, E_{M}, I_{M}, b, a, b_{1}, I_{H}, N, \\mu, b_{3}, l\\right)</script></html>"
      ],
      "text/latex": [
       "\\begin{math}\n",
       "\\newcommand{\\Bold}[1]{\\mathbf{#1}}\\left(S_{M}, E_{M}, I_{M}, b, a, b_{1}, I_{H}, N, \\mu, b_{3}, l\\right)\n",
       "\\end{math}"
      ],
      "text/plain": [
       "(S_M, E_M, I_M, b, a, b1, I_H, N, mu, b3, l)"
      ]
     },
     "execution_count": 9,
     "metadata": {},
     "output_type": "execute_result"
    }
   ],
   "source": [
    "var('S_M E_M I_M b a b1 I_H N mu b3 l')"
   ]
  },
  {
   "cell_type": "code",
   "execution_count": 10,
   "metadata": {},
   "outputs": [],
   "source": [
    "dSmdt = b - a * b1 * (I_H / N) * S_M - mu * S_M\n",
    "dEmdt = a * b1 * (I_H / N) * S_M - mu * E_M - b3 * E_M * l\n",
    "dImdt = b3 * E_M * l - mu * I_M"
   ]
  },
  {
   "cell_type": "markdown",
   "metadata": {},
   "source": [
    "#### Calculando o equilíbrio do SEI"
   ]
  },
  {
   "cell_type": "code",
   "execution_count": 11,
   "metadata": {},
   "outputs": [
    {
     "data": {
      "text/html": [
       "<html><script type=\"math/tex; mode=display\">\\newcommand{\\Bold}[1]{\\mathbf{#1}}\\left[\\left[S_{M} = \\frac{N b}{I_{H} a b_{1} + N \\mu}, E_{M} = \\frac{I_{H} a b b_{1}}{I_{H} a b_{1} b_{3} l + N \\mu^{2} + {\\left(I_{H} a b_{1} + N b_{3} l\\right)} \\mu}, I_{M} = \\frac{I_{H} N \\gamma}{S_{H} a b_{2}}\\right]\\right]</script></html>"
      ],
      "text/latex": [
       "\\begin{math}\n",
       "\\newcommand{\\Bold}[1]{\\mathbf{#1}}\\left[\\left[S_{M} = \\frac{N b}{I_{H} a b_{1} + N \\mu}, E_{M} = \\frac{I_{H} a b b_{1}}{I_{H} a b_{1} b_{3} l + N \\mu^{2} + {\\left(I_{H} a b_{1} + N b_{3} l\\right)} \\mu}, I_{M} = \\frac{I_{H} N \\gamma}{S_{H} a b_{2}}\\right]\\right]\n",
       "\\end{math}"
      ],
      "text/plain": [
       "[[S_M == N*b/(I_H*a*b1 + N*mu), E_M == I_H*a*b*b1/(I_H*a*b1*b3*l + N*mu^2 + (I_H*a*b1 + N*b3*l)*mu), I_M == I_H*N*gamma/(S_H*a*b2)]]"
      ]
     },
     "execution_count": 11,
     "metadata": {},
     "output_type": "execute_result"
    }
   ],
   "source": [
    "solve([dSmdt,dEmdt,dIhdt],[S_M,E_M,I_M])"
   ]
  },
  {
   "cell_type": "markdown",
   "metadata": {},
   "source": [
    "#### Calculando a Jacobiana do SEI"
   ]
  },
  {
   "cell_type": "code",
   "execution_count": 12,
   "metadata": {},
   "outputs": [
    {
     "data": {
      "text/html": [
       "<html><script type=\"math/tex; mode=display\">\\newcommand{\\Bold}[1]{\\mathbf{#1}}\\left(\\begin{array}{rrr}\n",
       "-\\frac{I_{H} a b_{1}}{N} - \\mu & 0 & 0 \\\\\n",
       "\\frac{I_{H} a b_{1}}{N} & -b_{3} l - \\mu & 0 \\\\\n",
       "0 & 0 & \\frac{S_{H} a b_{2}}{N}\n",
       "\\end{array}\\right)</script></html>"
      ],
      "text/latex": [
       "\\begin{math}\n",
       "\\newcommand{\\Bold}[1]{\\mathbf{#1}}\\left(\\begin{array}{rrr}\n",
       "-\\frac{I_{H} a b_{1}}{N} - \\mu & 0 & 0 \\\\\n",
       "\\frac{I_{H} a b_{1}}{N} & -b_{3} l - \\mu & 0 \\\\\n",
       "0 & 0 & \\frac{S_{H} a b_{2}}{N}\n",
       "\\end{array}\\right)\n",
       "\\end{math}"
      ],
      "text/plain": [
       "[-I_H*a*b1/N - mu                0                0]\n",
       "[      I_H*a*b1/N       -b3*l - mu                0]\n",
       "[               0                0       S_H*a*b2/N]"
      ]
     },
     "execution_count": 12,
     "metadata": {},
     "output_type": "execute_result"
    }
   ],
   "source": [
    "jack_sei=jacobian([dSmdt,dEmdt,dIhdt],[S_M,E_M,I_M])\n",
    "jack_sei"
   ]
  },
  {
   "cell_type": "code",
   "execution_count": 13,
   "metadata": {},
   "outputs": [
    {
     "data": {
      "text/html": [
       "<html><script type=\"math/tex; mode=display\">\\newcommand{\\Bold}[1]{\\mathbf{#1}}x^{3} + \\left(\\frac{I_{H} a b_{1}}{N} - \\frac{S_{H} a b_{2}}{N} + b_{3} l + 2 \\, \\mu\\right) x^{2} + \\left(-\\frac{I_{H} S_{H} a^{2} b_{1} b_{2}}{N^{2}} + \\frac{I_{H} a b_{1} b_{3} l}{N} - \\frac{S_{H} a b_{2} b_{3} l}{N} + \\frac{I_{H} a b_{1} \\mu}{N} - \\frac{2 \\, S_{H} a b_{2} \\mu}{N} + b_{3} l \\mu + \\mu^{2}\\right) x - \\frac{I_{H} S_{H} a^{2} b_{1} b_{2} b_{3} l}{N^{2}} - \\frac{I_{H} S_{H} a^{2} b_{1} b_{2} \\mu}{N^{2}} - \\frac{S_{H} a b_{2} b_{3} l \\mu}{N} - \\frac{S_{H} a b_{2} \\mu^{2}}{N}</script></html>"
      ],
      "text/latex": [
       "\\begin{math}\n",
       "\\newcommand{\\Bold}[1]{\\mathbf{#1}}x^{3} + \\left(\\frac{I_{H} a b_{1}}{N} - \\frac{S_{H} a b_{2}}{N} + b_{3} l + 2 \\, \\mu\\right) x^{2} + \\left(-\\frac{I_{H} S_{H} a^{2} b_{1} b_{2}}{N^{2}} + \\frac{I_{H} a b_{1} b_{3} l}{N} - \\frac{S_{H} a b_{2} b_{3} l}{N} + \\frac{I_{H} a b_{1} \\mu}{N} - \\frac{2 \\, S_{H} a b_{2} \\mu}{N} + b_{3} l \\mu + \\mu^{2}\\right) x - \\frac{I_{H} S_{H} a^{2} b_{1} b_{2} b_{3} l}{N^{2}} - \\frac{I_{H} S_{H} a^{2} b_{1} b_{2} \\mu}{N^{2}} - \\frac{S_{H} a b_{2} b_{3} l \\mu}{N} - \\frac{S_{H} a b_{2} \\mu^{2}}{N}\n",
       "\\end{math}"
      ],
      "text/plain": [
       "x^3 + (I_H*a*b1/N - S_H*a*b2/N + b3*l + 2*mu)*x^2 + (-I_H*S_H*a^2*b1*b2/N^2 + I_H*a*b1*b3*l/N - S_H*a*b2*b3*l/N + I_H*a*b1*mu/N - 2*S_H*a*b2*mu/N + b3*l*mu + mu^2)*x - I_H*S_H*a^2*b1*b2*b3*l/N^2 - I_H*S_H*a^2*b1*b2*mu/N^2 - S_H*a*b2*b3*l*mu/N - S_H*a*b2*mu^2/N"
      ]
     },
     "execution_count": 13,
     "metadata": {},
     "output_type": "execute_result"
    }
   ],
   "source": [
    "cp_sei = jack_sei.characteristic_polynomial()\n",
    "cp_sei"
   ]
  },
  {
   "cell_type": "code",
   "execution_count": 14,
   "metadata": {},
   "outputs": [
    {
     "data": {
      "text/html": [
       "<html><script type=\"math/tex; mode=display\">\\newcommand{\\Bold}[1]{\\mathbf{#1}}\\left[-\\frac{I_{H} a b_{1} + N \\mu}{N}, \\frac{S_{H} a b_{2}}{N}, -b_{3} l - \\mu\\right]</script></html>"
      ],
      "text/latex": [
       "\\begin{math}\n",
       "\\newcommand{\\Bold}[1]{\\mathbf{#1}}\\left[-\\frac{I_{H} a b_{1} + N \\mu}{N}, \\frac{S_{H} a b_{2}}{N}, -b_{3} l - \\mu\\right]\n",
       "\\end{math}"
      ],
      "text/plain": [
       "[-(I_H*a*b1 + N*mu)/N, S_H*a*b2/N, -b3*l - mu]"
      ]
     },
     "execution_count": 14,
     "metadata": {},
     "output_type": "execute_result"
    }
   ],
   "source": [
    "jack_sei.eigenvalues()"
   ]
  },
  {
   "cell_type": "markdown",
   "metadata": {},
   "source": [
    "### ----------------------------------------\n",
    "### ----------------------------------------"
   ]
  },
  {
   "cell_type": "markdown",
   "metadata": {},
   "source": [
    "### Calculando $\\mathcal{R}_0$:"
   ]
  },
  {
   "cell_type": "markdown",
   "metadata": {},
   "source": [
    "Usando o método proposto por P. van den Driessche no seguinte artigo, e indicado pelo professor Flavio na aula 9 de Modelagem de Fenômenos Biológicos: \n",
    "\n",
    "[Reproduction numbers and sub-threshold endemic equilibria for compartmental models of disease transmission](https://pdfs.semanticscholar.org/3cf7/1968a86800215b4e129ec3eda67520832cf0.pdf)\n",
    "\n",
    "[Aula 9](https://github.com/fccoelho/Modelagem-Matematica-IV/blob/master/Planilhas%20Sage/Aula%209%20-%20Calculo%20do%20R0.ipynb)\n",
    "\n",
    "\n",
    "Seja $X=(x_1,\\ldots, x_n)^T$, tal que $x_i\\geq 0$ seja o número de indivíduos em cada compartimento.\n",
    "\n",
    "Definindo $X_s$ como o conjunto de todos os estados livres de doença.\n",
    "\n",
    "$$X_s=\\{x \\geq 0|x_i=0, i=1,\\ldots,m\\}$$\n",
    "\n",
    "Supõe-se que cada função é continuamente diferenciável pelo menos duas vezes ($C^2$) em cada variável. As equações são reordenadas para que as $m$ primeiras equações sejam as que contém infectados. Seja ${\\cal F}_i(x)$ a taxa de aparecimento de novas infecções no compartimento $i$, ${\\cal V}_i^+(x)$ a taxa de entrada de indivíduos no compartimento $i$ por outros meios e ${\\cal V}_i^-(x)$ a taxa de saída de indivíduos do compartimento $i$. O modelo de transmissão da doença consiste em condições iniciais não negativas juntamente com o seguinte sistema de equações:\n",
    "\n",
    "$\\dot{x}=f_i(x)={\\cal F}_i(x)-{\\cal V}_i(x), i=1,\\ldots, n$\n",
    "\n",
    "Onde ${\\cal V}_i (x) = {\\cal V}_i^{-}(x) - {\\cal V}_i^+(x)$ e as funções satisfazem os pressupostos  (A1) - (A5) descritos abaixo. Desde que cada função representa uma transferência dirigida de indivíduos, todos elas são não-negativas.\n",
    "\n",
    "(A1) Se $x \\geq 0 $, então ${\\cal F}_i, {\\cal V}_i^+, {\\cal V}_i ^- \\geq 0$ para $i=1, \\ldots, n$,\n",
    "\n",
    "ou seja, se um compartimento estiver vazio, não pode haver saída de indivíduos deste, por morte, infecção ou qualquer outro meio.\n",
    "\n",
    "(A2) Se $x_i=0$ então ${\\cal V}_i^-(x)=0$. Em particular, se $x \\in X_s$, então ${\\cal V}_i^-(x)=0$ para $i=1,\\ldots, m$\n",
    "\n",
    "(A3) ${\\cal F}_i=0$ se $i>m$\n",
    "\n",
    "(A4) Se $x \\in X_S$, então ${\\cal F}_i(x) = 0$ e ${\\cal V}_i^+(x)=0$ para $i=1,\\ldots, m$\n",
    "\n",
    "(A5) Se ${\\cal F}(x)$ é um vetor nulo, então todos os autovalores de $Df(x_0)$ tem parte real negativa.\n",
    "\n",
    "### ----------------------------------------\n",
    "\n",
    "Para calcular o $R_0$ é importante distinguir as novas infecções de todas as outras mudanças na população. Nos modelos propostos, os compartimentos que correspondem aos indivíduos infectados são $I$, no caso do SIR, e $E$ e $I$ no caso do SEI. Vamos analisá-los separadamente: "
   ]
  },
  {
   "cell_type": "markdown",
   "metadata": {},
   "source": [
    "#### SIR"
   ]
  },
  {
   "cell_type": "markdown",
   "metadata": {},
   "source": [
    "${\\bf m=1}$. A fim de clareza, vamos ordenar os $n=2$ compartimentos da seguinte forma: $[I, S]$, separando os $m$ primeiros compartimentos do restante. Podemos também normalizar, de forma a tirar o denominador $N$.\n",
    "\n",
    "$$ {\\cal F}_i(x): \\text{ taxa de surgimento de novos infectados no compartimento } i $$\n",
    "\n",
    "\n",
    "$$ {\\cal F} =\\begin{bmatrix}\n",
    "a  b_2  I_M  S_H \\\\\n",
    "\\end{bmatrix} $$"
   ]
  },
  {
   "cell_type": "code",
   "execution_count": 15,
   "metadata": {},
   "outputs": [
    {
     "data": {
      "text/html": [
       "<html><script type=\"math/tex; mode=display\">\\newcommand{\\Bold}[1]{\\mathbf{#1}}\\left(\\begin{array}{r}\n",
       "I_{M} S_{H} a b_{2}\n",
       "\\end{array}\\right)</script></html>"
      ],
      "text/latex": [
       "\\begin{math}\n",
       "\\newcommand{\\Bold}[1]{\\mathbf{#1}}\\left(\\begin{array}{r}\n",
       "I_{M} S_{H} a b_{2}\n",
       "\\end{array}\\right)\n",
       "\\end{math}"
      ],
      "text/plain": [
       "[I_M*S_H*a*b2]"
      ]
     },
     "execution_count": 15,
     "metadata": {},
     "output_type": "execute_result"
    }
   ],
   "source": [
    "F_cal_sir = matrix([[a*b2*I_M*S_H]])\n",
    "F_cal_sir"
   ]
  },
  {
   "cell_type": "markdown",
   "metadata": {},
   "source": [
    "Além disso, temos\n",
    "\n",
    "$$ {\\cal V}_i(x)^-: \\text{ taxa de saída do compartimento } i $$\n",
    "\n",
    "$$ {\\cal V}_i(x)^+: \\text{ taxa de entrada do compartimento } i $$\n",
    "\n",
    "Logo:"
   ]
  },
  {
   "cell_type": "markdown",
   "metadata": {},
   "source": [
    "$$\n",
    "\\begin{equation}\n",
    "{\\cal V^-} = \\begin{bmatrix}\n",
    "\\gamma I_H\\\\\n",
    "\\end{bmatrix}\n",
    "\\end{equation}\n",
    "$$"
   ]
  },
  {
   "cell_type": "markdown",
   "metadata": {},
   "source": [
    "$$\n",
    "\\begin{equation}\n",
    "{\\cal V^+} = \\begin{bmatrix}\n",
    "0\\\\\n",
    "\\end{bmatrix}\n",
    "\\end{equation}\n",
    "$$"
   ]
  },
  {
   "cell_type": "code",
   "execution_count": 16,
   "metadata": {},
   "outputs": [
    {
     "data": {
      "text/html": [
       "<html><script type=\"math/tex; mode=display\">\\newcommand{\\Bold}[1]{\\mathbf{#1}}\\left(\\begin{array}{r}\n",
       "I_{H} \\gamma\n",
       "\\end{array}\\right)</script></html>"
      ],
      "text/latex": [
       "\\begin{math}\n",
       "\\newcommand{\\Bold}[1]{\\mathbf{#1}}\\left(\\begin{array}{r}\n",
       "I_{H} \\gamma\n",
       "\\end{array}\\right)\n",
       "\\end{math}"
      ],
      "text/plain": [
       "[I_H*gamma]"
      ]
     },
     "execution_count": 16,
     "metadata": {},
     "output_type": "execute_result"
    }
   ],
   "source": [
    "V_cal_neg_sir = matrix([[gamma*I_H]])\n",
    "V_cal_neg_sir"
   ]
  },
  {
   "cell_type": "code",
   "execution_count": 17,
   "metadata": {},
   "outputs": [
    {
     "data": {
      "text/html": [
       "<html><script type=\"math/tex; mode=display\">\\newcommand{\\Bold}[1]{\\mathbf{#1}}\\left(\\begin{array}{r}\n",
       "0\n",
       "\\end{array}\\right)</script></html>"
      ],
      "text/latex": [
       "\\begin{math}\n",
       "\\newcommand{\\Bold}[1]{\\mathbf{#1}}\\left(\\begin{array}{r}\n",
       "0\n",
       "\\end{array}\\right)\n",
       "\\end{math}"
      ],
      "text/plain": [
       "[0]"
      ]
     },
     "execution_count": 17,
     "metadata": {},
     "output_type": "execute_result"
    }
   ],
   "source": [
    "V_cal_pos_sir = matrix([[0]])\n",
    "V_cal_pos_sir"
   ]
  },
  {
   "cell_type": "markdown",
   "metadata": {},
   "source": [
    "$${\\cal V}_i (x) = {\\cal V}_i(x)^{-} - {\\cal V}_i(x)^+$$\n",
    "\n",
    "Então,\n",
    "\\begin{equation}\n",
    "{\\cal V} =\n",
    "\\begin{bmatrix}\n",
    "\\gamma I_H\\\\\n",
    "\\end{bmatrix}\n",
    "\\end{equation}"
   ]
  },
  {
   "cell_type": "code",
   "execution_count": 18,
   "metadata": {},
   "outputs": [
    {
     "data": {
      "text/html": [
       "<html><script type=\"math/tex; mode=display\">\\newcommand{\\Bold}[1]{\\mathbf{#1}}\\left(\\begin{array}{r}\n",
       "I_{H} \\gamma\n",
       "\\end{array}\\right)</script></html>"
      ],
      "text/latex": [
       "\\begin{math}\n",
       "\\newcommand{\\Bold}[1]{\\mathbf{#1}}\\left(\\begin{array}{r}\n",
       "I_{H} \\gamma\n",
       "\\end{array}\\right)\n",
       "\\end{math}"
      ],
      "text/plain": [
       "[I_H*gamma]"
      ]
     },
     "execution_count": 18,
     "metadata": {},
     "output_type": "execute_result"
    }
   ],
   "source": [
    "V_cal_sir = V_cal_neg_sir-V_cal_pos_sir\n",
    "V_cal_sir"
   ]
  },
  {
   "cell_type": "markdown",
   "metadata": {},
   "source": [
    "$$ F = \\dfrac{\\partial{\\cal F}}{\\partial I_M} =\\begin{bmatrix}\n",
    "a  b_2  S_H \\\\\n",
    "\\end{bmatrix} $$"
   ]
  },
  {
   "cell_type": "code",
   "execution_count": 19,
   "metadata": {},
   "outputs": [
    {
     "data": {
      "text/html": [
       "<html><script type=\"math/tex; mode=display\">\\newcommand{\\Bold}[1]{\\mathbf{#1}}\\left(\\begin{array}{r}\n",
       "a b_{2}\n",
       "\\end{array}\\right)</script></html>"
      ],
      "text/latex": [
       "\\begin{math}\n",
       "\\newcommand{\\Bold}[1]{\\mathbf{#1}}\\left(\\begin{array}{r}\n",
       "a b_{2}\n",
       "\\end{array}\\right)\n",
       "\\end{math}"
      ],
      "text/plain": [
       "[a*b2]"
      ]
     },
     "execution_count": 19,
     "metadata": {},
     "output_type": "execute_result"
    }
   ],
   "source": [
    "F_sir = jacobian(F_cal_sir(S_H=1),[I_M])\n",
    "F_sir"
   ]
  },
  {
   "cell_type": "markdown",
   "metadata": {},
   "source": [
    "$$ V = \\dfrac{\\partial{\\cal V}}{\\partial I_H} =\\begin{bmatrix}\n",
    "\\gamma \\\\\n",
    "\\end{bmatrix} $$"
   ]
  },
  {
   "cell_type": "code",
   "execution_count": 20,
   "metadata": {},
   "outputs": [
    {
     "data": {
      "text/html": [
       "<html><script type=\"math/tex; mode=display\">\\newcommand{\\Bold}[1]{\\mathbf{#1}}\\left(\\begin{array}{r}\n",
       "\\gamma\n",
       "\\end{array}\\right)</script></html>"
      ],
      "text/latex": [
       "\\begin{math}\n",
       "\\newcommand{\\Bold}[1]{\\mathbf{#1}}\\left(\\begin{array}{r}\n",
       "\\gamma\n",
       "\\end{array}\\right)\n",
       "\\end{math}"
      ],
      "text/plain": [
       "[gamma]"
      ]
     },
     "execution_count": 20,
     "metadata": {},
     "output_type": "execute_result"
    }
   ],
   "source": [
    "V_sir = jacobian(V_cal_sir(S_H=1),[I_H])\n",
    "V_sir"
   ]
  },
  {
   "cell_type": "markdown",
   "metadata": {},
   "source": [
    "${\\cal R}_0 = \\rho (FV^{-1})$"
   ]
  },
  {
   "cell_type": "code",
   "execution_count": 21,
   "metadata": {},
   "outputs": [
    {
     "data": {
      "text/html": [
       "<html><script type=\"math/tex; mode=display\">\\newcommand{\\Bold}[1]{\\mathbf{#1}}\\left(\\begin{array}{r}\n",
       "\\frac{a b_{2}}{\\gamma}\n",
       "\\end{array}\\right)</script></html>"
      ],
      "text/latex": [
       "\\begin{math}\n",
       "\\newcommand{\\Bold}[1]{\\mathbf{#1}}\\left(\\begin{array}{r}\n",
       "\\frac{a b_{2}}{\\gamma}\n",
       "\\end{array}\\right)\n",
       "\\end{math}"
      ],
      "text/plain": [
       "[a*b2/gamma]"
      ]
     },
     "execution_count": 21,
     "metadata": {},
     "output_type": "execute_result"
    }
   ],
   "source": [
    "M_sir = F_sir*V_sir.inverse()\n",
    "M_sir "
   ]
  },
  {
   "cell_type": "code",
   "execution_count": 22,
   "metadata": {},
   "outputs": [
    {
     "data": {
      "text/html": [
       "<html><script type=\"math/tex; mode=display\">\\newcommand{\\Bold}[1]{\\mathbf{#1}}\\left(\\begin{array}{r}\n",
       "\\frac{a b_{2}}{\\gamma}\n",
       "\\end{array}\\right)</script></html>"
      ],
      "text/latex": [
       "\\begin{math}\n",
       "\\newcommand{\\Bold}[1]{\\mathbf{#1}}\\left(\\begin{array}{r}\n",
       "\\frac{a b_{2}}{\\gamma}\n",
       "\\end{array}\\right)\n",
       "\\end{math}"
      ],
      "text/plain": [
       "[a*b2/gamma]"
      ]
     },
     "execution_count": 22,
     "metadata": {},
     "output_type": "execute_result"
    }
   ],
   "source": [
    "M_sir=M_sir.simplify_full()\n",
    "M_sir"
   ]
  },
  {
   "cell_type": "code",
   "execution_count": 23,
   "metadata": {},
   "outputs": [
    {
     "data": {
      "text/html": [
       "<html><script type=\"math/tex; mode=display\">\\newcommand{\\Bold}[1]{\\mathbf{#1}}\\left[\\frac{a b_{2}}{\\gamma}\\right]</script></html>"
      ],
      "text/latex": [
       "\\begin{math}\n",
       "\\newcommand{\\Bold}[1]{\\mathbf{#1}}\\left[\\frac{a b_{2}}{\\gamma}\\right]\n",
       "\\end{math}"
      ],
      "text/plain": [
       "[a*b2/gamma]"
      ]
     },
     "execution_count": 23,
     "metadata": {},
     "output_type": "execute_result"
    }
   ],
   "source": [
    "M_sir.eigenvalues()"
   ]
  },
  {
   "cell_type": "code",
   "execution_count": 24,
   "metadata": {},
   "outputs": [
    {
     "data": {
      "text/html": [
       "<html><script type=\"math/tex; mode=display\">\\newcommand{\\Bold}[1]{\\mathbf{#1}}\\frac{a b_{2}}{\\gamma}</script></html>"
      ],
      "text/latex": [
       "\\begin{math}\n",
       "\\newcommand{\\Bold}[1]{\\mathbf{#1}}\\frac{a b_{2}}{\\gamma}\n",
       "\\end{math}"
      ],
      "text/plain": [
       "a*b2/gamma"
      ]
     },
     "execution_count": 24,
     "metadata": {},
     "output_type": "execute_result"
    }
   ],
   "source": [
    "R0_sir=M_sir[0,0].simplify_full()\n",
    "R0_sir"
   ]
  },
  {
   "cell_type": "code",
   "execution_count": 25,
   "metadata": {},
   "outputs": [
    {
     "data": {
      "text/html": [
       "<html><script type=\"math/tex; mode=display\">\\newcommand{\\Bold}[1]{\\mathbf{#1}}\\frac{a b_{2}}{\\gamma}</script></html>"
      ],
      "text/latex": [
       "\\begin{math}\n",
       "\\newcommand{\\Bold}[1]{\\mathbf{#1}}\\frac{a b_{2}}{\\gamma}\n",
       "\\end{math}"
      ],
      "text/plain": [
       "a*b2/gamma"
      ]
     },
     "execution_count": 25,
     "metadata": {},
     "output_type": "execute_result"
    }
   ],
   "source": [
    "R0_sir=max(M_sir.eigenvalues())\n",
    "R0_sir"
   ]
  },
  {
   "cell_type": "code",
   "execution_count": 26,
   "metadata": {},
   "outputs": [
    {
     "data": {
      "text/html": [
       "<html><script type=\"math/tex; mode=display\">\\newcommand{\\Bold}[1]{\\mathbf{#1}}\\left(a, b_{2}, \\gamma\\right)</script></html>"
      ],
      "text/latex": [
       "\\begin{math}\n",
       "\\newcommand{\\Bold}[1]{\\mathbf{#1}}\\left(a, b_{2}, \\gamma\\right)\n",
       "\\end{math}"
      ],
      "text/plain": [
       "(a, b2, gamma)"
      ]
     },
     "execution_count": 26,
     "metadata": {},
     "output_type": "execute_result"
    }
   ],
   "source": [
    "R0_sir.variables()"
   ]
  },
  {
   "cell_type": "code",
   "execution_count": 27,
   "metadata": {},
   "outputs": [
    {
     "data": {
      "text/html": [
       "<script type=\"math/tex\">R_t=</script>"
      ],
      "text/plain": [
       "<script type=\"math/tex\">R_t=</script>"
      ]
     },
     "metadata": {},
     "output_type": "display_data"
    },
    {
     "data": {
      "text/html": [
       "<html><script type=\"math/tex; mode=display\">\\newcommand{\\Bold}[1]{\\mathbf{#1}}\\mathrm{None}</script></html>"
      ],
      "text/latex": [
       "\\begin{math}\n",
       "\\newcommand{\\Bold}[1]{\\mathbf{#1}}\\mathrm{None}\n",
       "\\end{math}"
      ],
      "text/plain": [
       "None"
      ]
     },
     "metadata": {},
     "output_type": "display_data"
    },
    {
     "data": {
      "text/html": [
       "<html><script type=\"math/tex; mode=display\">\\newcommand{\\Bold}[1]{\\mathbf{#1}}0</script></html>"
      ],
      "text/latex": [
       "\\begin{math}\n",
       "\\newcommand{\\Bold}[1]{\\mathbf{#1}}0\n",
       "\\end{math}"
      ],
      "text/plain": [
       "0"
      ]
     },
     "execution_count": 27,
     "metadata": {},
     "output_type": "execute_result"
    }
   ],
   "source": [
    "Ft_sir = jacobian(F_cal_sir,[I_H])\n",
    "Vt_sir = jacobian(V_cal_sir,[I_H])\n",
    "Mt_sir = Ft_sir*Vt_sir.inverse()\n",
    "show(pretty_print(html('$R_t=$')))\n",
    "Rt_sir = Mt_sir[0,0]\n",
    "Rt_sir"
   ]
  },
  {
   "cell_type": "code",
   "execution_count": 28,
   "metadata": {},
   "outputs": [
    {
     "name": "stdout",
     "output_type": "stream",
     "text": [
      "0\n"
     ]
    }
   ],
   "source": [
    "print(Rt_sir)"
   ]
  },
  {
   "cell_type": "markdown",
   "metadata": {},
   "source": [
    "#### SEI"
   ]
  },
  {
   "cell_type": "markdown",
   "metadata": {},
   "source": [
    "${\\bf m=2}$. A fim de clareza, vamos ordenar os $n=3$ compartimentos da seguinte forma: $[E, I, S]$, separando os $m$ primeiros compartimentos do restante. Vale ressaltar que as transferências dos compartimentos expostos para os infectados não são consideradas novas infecções, mas sim a progressão de um indivíduo infectado através dos vários compartimentos. Novamente removendo $N$, portanto,\n",
    "\n",
    "$$ {\\cal F}_i(x): \\text{ taxa de surgimento de novos infectados no compartimento } i $$\n",
    "\n",
    "\n",
    "$$ {\\cal F} =\\begin{bmatrix}\n",
    "a b_1 I_H S_M\\\\\n",
    "0\\\\\n",
    "\\end{bmatrix} $$"
   ]
  },
  {
   "cell_type": "code",
   "execution_count": 29,
   "metadata": {},
   "outputs": [
    {
     "data": {
      "text/html": [
       "<html><script type=\"math/tex; mode=display\">\\newcommand{\\Bold}[1]{\\mathbf{#1}}\\left(\\begin{array}{r}\n",
       "I_{H} S_{M} a b_{1} \\\\\n",
       "0\n",
       "\\end{array}\\right)</script></html>"
      ],
      "text/latex": [
       "\\begin{math}\n",
       "\\newcommand{\\Bold}[1]{\\mathbf{#1}}\\left(\\begin{array}{r}\n",
       "I_{H} S_{M} a b_{1} \\\\\n",
       "0\n",
       "\\end{array}\\right)\n",
       "\\end{math}"
      ],
      "text/plain": [
       "[I_H*S_M*a*b1]\n",
       "[           0]"
      ]
     },
     "execution_count": 29,
     "metadata": {},
     "output_type": "execute_result"
    }
   ],
   "source": [
    "F_cal_sei = matrix([[a*b1*I_H*S_M],[0]])\n",
    "F_cal_sei"
   ]
  },
  {
   "cell_type": "markdown",
   "metadata": {},
   "source": [
    "Além disso, temos\n",
    "\n",
    "$$ {\\cal V}_i(x)^-: \\text{ taxa de saída do compartimento } i $$\n",
    "\n",
    "$$ {\\cal V}_i(x)^+: \\text{ taxa de entrada do compartimento } i $$\n",
    "\n",
    "Logo:"
   ]
  },
  {
   "cell_type": "markdown",
   "metadata": {},
   "source": [
    "$$\n",
    "\\begin{equation}\n",
    "{\\cal V^-} = \\begin{bmatrix}\n",
    "E_M (\\mu + b_3 l)\\\\\n",
    "\\mu I_M\n",
    "\\end{bmatrix}\n",
    "\\end{equation}\n",
    "$$"
   ]
  },
  {
   "cell_type": "markdown",
   "metadata": {},
   "source": [
    "$$\n",
    "\\begin{equation}\n",
    "{\\cal V^+} = \\begin{bmatrix}\n",
    "0\\\\\n",
    "b_3 E_M l\\\\\n",
    "\\end{bmatrix}\n",
    "\\end{equation}\n",
    "$$"
   ]
  },
  {
   "cell_type": "code",
   "execution_count": 30,
   "metadata": {},
   "outputs": [
    {
     "data": {
      "text/html": [
       "<html><script type=\"math/tex; mode=display\">\\newcommand{\\Bold}[1]{\\mathbf{#1}}\\left(\\begin{array}{r}\n",
       "E_{M} b_{3} l + E_{M} \\mu \\\\\n",
       "I_{M} \\mu\n",
       "\\end{array}\\right)</script></html>"
      ],
      "text/latex": [
       "\\begin{math}\n",
       "\\newcommand{\\Bold}[1]{\\mathbf{#1}}\\left(\\begin{array}{r}\n",
       "E_{M} b_{3} l + E_{M} \\mu \\\\\n",
       "I_{M} \\mu\n",
       "\\end{array}\\right)\n",
       "\\end{math}"
      ],
      "text/plain": [
       "[E_M*b3*l + E_M*mu]\n",
       "[           I_M*mu]"
      ]
     },
     "execution_count": 30,
     "metadata": {},
     "output_type": "execute_result"
    }
   ],
   "source": [
    "V_cal_neg_sei = matrix([[mu * E_M + b3 * E_M * l], [mu * I_M]])\n",
    "V_cal_neg_sei"
   ]
  },
  {
   "cell_type": "code",
   "execution_count": 31,
   "metadata": {},
   "outputs": [
    {
     "data": {
      "text/html": [
       "<html><script type=\"math/tex; mode=display\">\\newcommand{\\Bold}[1]{\\mathbf{#1}}\\left(\\begin{array}{r}\n",
       "0 \\\\\n",
       "E_{M} b_{3} l\n",
       "\\end{array}\\right)</script></html>"
      ],
      "text/latex": [
       "\\begin{math}\n",
       "\\newcommand{\\Bold}[1]{\\mathbf{#1}}\\left(\\begin{array}{r}\n",
       "0 \\\\\n",
       "E_{M} b_{3} l\n",
       "\\end{array}\\right)\n",
       "\\end{math}"
      ],
      "text/plain": [
       "[       0]\n",
       "[E_M*b3*l]"
      ]
     },
     "execution_count": 31,
     "metadata": {},
     "output_type": "execute_result"
    }
   ],
   "source": [
    "V_cal_pos_sei = matrix([[0],[b3 * E_M * l]])\n",
    "V_cal_pos_sei"
   ]
  },
  {
   "cell_type": "markdown",
   "metadata": {},
   "source": [
    "$${\\cal V}_i (x) = {\\cal V}_i(x)^{-} - {\\cal V}_i(x)^+$$\n",
    "\n",
    "Então,\n",
    "\\begin{equation}\n",
    "{\\cal V} =\n",
    "\\begin{bmatrix}\n",
    "E_M (\\mu + b_3 l)\\\\\n",
    "\\mu I_M - b_3 E_M l\\\\\n",
    "\\end{bmatrix}\n",
    "\\end{equation}"
   ]
  },
  {
   "cell_type": "code",
   "execution_count": 32,
   "metadata": {},
   "outputs": [
    {
     "data": {
      "text/html": [
       "<html><script type=\"math/tex; mode=display\">\\newcommand{\\Bold}[1]{\\mathbf{#1}}\\left(\\begin{array}{r}\n",
       "E_{M} b_{3} l + E_{M} \\mu \\\\\n",
       "-E_{M} b_{3} l + I_{M} \\mu\n",
       "\\end{array}\\right)</script></html>"
      ],
      "text/latex": [
       "\\begin{math}\n",
       "\\newcommand{\\Bold}[1]{\\mathbf{#1}}\\left(\\begin{array}{r}\n",
       "E_{M} b_{3} l + E_{M} \\mu \\\\\n",
       "-E_{M} b_{3} l + I_{M} \\mu\n",
       "\\end{array}\\right)\n",
       "\\end{math}"
      ],
      "text/plain": [
       "[ E_M*b3*l + E_M*mu]\n",
       "[-E_M*b3*l + I_M*mu]"
      ]
     },
     "execution_count": 32,
     "metadata": {},
     "output_type": "execute_result"
    }
   ],
   "source": [
    "V_cal_sei = V_cal_neg_sei-V_cal_pos_sei\n",
    "V_cal_sei"
   ]
  },
  {
   "cell_type": "markdown",
   "metadata": {},
   "source": [
    "Definimos também $F=\\left[\\frac{\\partial {\\cal F}_i (x_0)}{\\partial x_j}\\right]$ e $V=\\left[\\frac{\\partial {\\cal V}_i (x_0) }{\\partial x_j}\\right]$, onde $x_0$ é um DFE (Equilíbrio livre de doença) e $1\\leq i,j \\leq m$. \n",
    "\n",
    "Isto equivale à jacobiana  destas duas matrizes, após substituir $x_0$ ou seja, $S=1$."
   ]
  },
  {
   "cell_type": "markdown",
   "metadata": {},
   "source": [
    "$$ F = \\dfrac{\\partial{\\cal F}}{\\partial E_M, I_H} =\\begin{bmatrix}\n",
    "\\dfrac{\\partial ab_1 I_H S_M}{\\partial E_M} & \\dfrac{\\partial ab_1 I_H S_M}{\\partial I_H}\\\\\n",
    "\\dfrac{\\partial 0}{\\partial E_M} & \\dfrac{\\partial 0}{\\partial I_H}\\\\\n",
    "\\end{bmatrix} = \n",
    "\\begin{bmatrix}\n",
    "0 & ab_1 S_M\\\\\n",
    "0 & 0\\\\\n",
    "\\end{bmatrix}$$"
   ]
  },
  {
   "cell_type": "code",
   "execution_count": 33,
   "metadata": {},
   "outputs": [
    {
     "data": {
      "text/html": [
       "<html><script type=\"math/tex; mode=display\">\\newcommand{\\Bold}[1]{\\mathbf{#1}}\\left(\\begin{array}{rr}\n",
       "0 & a b_{1} \\\\\n",
       "0 & 0\n",
       "\\end{array}\\right)</script></html>"
      ],
      "text/latex": [
       "\\begin{math}\n",
       "\\newcommand{\\Bold}[1]{\\mathbf{#1}}\\left(\\begin{array}{rr}\n",
       "0 & a b_{1} \\\\\n",
       "0 & 0\n",
       "\\end{array}\\right)\n",
       "\\end{math}"
      ],
      "text/plain": [
       "[   0 a*b1]\n",
       "[   0    0]"
      ]
     },
     "execution_count": 33,
     "metadata": {},
     "output_type": "execute_result"
    }
   ],
   "source": [
    "F_sei = jacobian(F_cal_sei(S_M=1),[E_M, I_H])\n",
    "F_sei"
   ]
  },
  {
   "cell_type": "markdown",
   "metadata": {},
   "source": [
    "$$ V = \\dfrac{\\partial{\\cal V}}{\\partial E_M, I_M} =\\begin{bmatrix}\n",
    "\\dfrac{\\partial E_M (\\mu + b_3 l)}{\\partial E_M} & \\dfrac{\\partial E_M (\\mu + b_3 l)}{\\partial I_M}\\\\\n",
    "\\dfrac{\\partial \\mu I_M - b_3 E_M l}{\\partial E_M} & \\dfrac{\\partial \\mu I_M - b_3 E_M l}{\\partial I_M}\\\\\n",
    "\\end{bmatrix} = \n",
    "\\begin{bmatrix}\n",
    "\\mu+b_3 l & 0\\\\\n",
    "- b_3 l & \\mu\\\\\n",
    "\\end{bmatrix}$$"
   ]
  },
  {
   "cell_type": "code",
   "execution_count": 34,
   "metadata": {},
   "outputs": [
    {
     "data": {
      "text/html": [
       "<html><script type=\"math/tex; mode=display\">\\newcommand{\\Bold}[1]{\\mathbf{#1}}\\left(\\begin{array}{rr}\n",
       "b_{3} l + \\mu & 0 \\\\\n",
       "-b_{3} l & \\mu\n",
       "\\end{array}\\right)</script></html>"
      ],
      "text/latex": [
       "\\begin{math}\n",
       "\\newcommand{\\Bold}[1]{\\mathbf{#1}}\\left(\\begin{array}{rr}\n",
       "b_{3} l + \\mu & 0 \\\\\n",
       "-b_{3} l & \\mu\n",
       "\\end{array}\\right)\n",
       "\\end{math}"
      ],
      "text/plain": [
       "[b3*l + mu         0]\n",
       "[    -b3*l        mu]"
      ]
     },
     "execution_count": 34,
     "metadata": {},
     "output_type": "execute_result"
    }
   ],
   "source": [
    "V_sei = jacobian(V_cal_sei(S_M=1),[E_M, I_M])\n",
    "V_sei"
   ]
  },
  {
   "cell_type": "markdown",
   "metadata": {},
   "source": [
    "${\\cal R}_0 = \\rho (FV^{-1})$"
   ]
  },
  {
   "cell_type": "code",
   "execution_count": 35,
   "metadata": {},
   "outputs": [
    {
     "data": {
      "text/html": [
       "<html><script type=\"math/tex; mode=display\">\\newcommand{\\Bold}[1]{\\mathbf{#1}}\\left(\\begin{array}{rr}\n",
       "\\frac{a b_{1} b_{3} l}{{\\left(b_{3} l + \\mu\\right)} \\mu} & \\frac{a b_{1}}{\\mu} \\\\\n",
       "0 & 0\n",
       "\\end{array}\\right)</script></html>"
      ],
      "text/latex": [
       "\\begin{math}\n",
       "\\newcommand{\\Bold}[1]{\\mathbf{#1}}\\left(\\begin{array}{rr}\n",
       "\\frac{a b_{1} b_{3} l}{{\\left(b_{3} l + \\mu\\right)} \\mu} & \\frac{a b_{1}}{\\mu} \\\\\n",
       "0 & 0\n",
       "\\end{array}\\right)\n",
       "\\end{math}"
      ],
      "text/plain": [
       "[a*b1*b3*l/((b3*l + mu)*mu)                    a*b1/mu]\n",
       "[                         0                          0]"
      ]
     },
     "execution_count": 35,
     "metadata": {},
     "output_type": "execute_result"
    }
   ],
   "source": [
    "M_sei = F_sei*V_sei.inverse()\n",
    "M_sei "
   ]
  },
  {
   "cell_type": "code",
   "execution_count": 36,
   "metadata": {},
   "outputs": [
    {
     "data": {
      "text/html": [
       "<html><script type=\"math/tex; mode=display\">\\newcommand{\\Bold}[1]{\\mathbf{#1}}\\left(\\begin{array}{rr}\n",
       "\\frac{a b_{1} b_{3} l}{b_{3} l \\mu + \\mu^{2}} & \\frac{a b_{1}}{\\mu} \\\\\n",
       "0 & 0\n",
       "\\end{array}\\right)</script></html>"
      ],
      "text/latex": [
       "\\begin{math}\n",
       "\\newcommand{\\Bold}[1]{\\mathbf{#1}}\\left(\\begin{array}{rr}\n",
       "\\frac{a b_{1} b_{3} l}{b_{3} l \\mu + \\mu^{2}} & \\frac{a b_{1}}{\\mu} \\\\\n",
       "0 & 0\n",
       "\\end{array}\\right)\n",
       "\\end{math}"
      ],
      "text/plain": [
       "[a*b1*b3*l/(b3*l*mu + mu^2)                    a*b1/mu]\n",
       "[                         0                          0]"
      ]
     },
     "execution_count": 36,
     "metadata": {},
     "output_type": "execute_result"
    }
   ],
   "source": [
    "M_sei =M_sei.simplify_full()\n",
    "M_sei "
   ]
  },
  {
   "cell_type": "code",
   "execution_count": 37,
   "metadata": {},
   "outputs": [
    {
     "data": {
      "text/html": [
       "<html><script type=\"math/tex; mode=display\">\\newcommand{\\Bold}[1]{\\mathbf{#1}}\\left[\\frac{a b_{1} b_{3} l}{b_{3} l \\mu + \\mu^{2}}, 0\\right]</script></html>"
      ],
      "text/latex": [
       "\\begin{math}\n",
       "\\newcommand{\\Bold}[1]{\\mathbf{#1}}\\left[\\frac{a b_{1} b_{3} l}{b_{3} l \\mu + \\mu^{2}}, 0\\right]\n",
       "\\end{math}"
      ],
      "text/plain": [
       "[a*b1*b3*l/(b3*l*mu + mu^2), 0]"
      ]
     },
     "execution_count": 37,
     "metadata": {},
     "output_type": "execute_result"
    }
   ],
   "source": [
    "M_sei.eigenvalues()"
   ]
  },
  {
   "cell_type": "code",
   "execution_count": 38,
   "metadata": {},
   "outputs": [
    {
     "data": {
      "text/html": [
       "<html><script type=\"math/tex; mode=display\">\\newcommand{\\Bold}[1]{\\mathbf{#1}}\\frac{a b_{1} b_{3} l}{b_{3} l \\mu + \\mu^{2}}</script></html>"
      ],
      "text/latex": [
       "\\begin{math}\n",
       "\\newcommand{\\Bold}[1]{\\mathbf{#1}}\\frac{a b_{1} b_{3} l}{b_{3} l \\mu + \\mu^{2}}\n",
       "\\end{math}"
      ],
      "text/plain": [
       "a*b1*b3*l/(b3*l*mu + mu^2)"
      ]
     },
     "execution_count": 38,
     "metadata": {},
     "output_type": "execute_result"
    }
   ],
   "source": [
    "R0_sei=M_sei[0,0].simplify_full()\n",
    "R0_sei"
   ]
  },
  {
   "cell_type": "code",
   "execution_count": 39,
   "metadata": {},
   "outputs": [
    {
     "data": {
      "text/html": [
       "<html><script type=\"math/tex; mode=display\">\\newcommand{\\Bold}[1]{\\mathbf{#1}}\\frac{a b_{1} b_{3} l}{b_{3} l \\mu + \\mu^{2}}</script></html>"
      ],
      "text/latex": [
       "\\begin{math}\n",
       "\\newcommand{\\Bold}[1]{\\mathbf{#1}}\\frac{a b_{1} b_{3} l}{b_{3} l \\mu + \\mu^{2}}\n",
       "\\end{math}"
      ],
      "text/plain": [
       "a*b1*b3*l/(b3*l*mu + mu^2)"
      ]
     },
     "execution_count": 39,
     "metadata": {},
     "output_type": "execute_result"
    }
   ],
   "source": [
    "R0_sei=max(M_sei.eigenvalues())\n",
    "R0_sei"
   ]
  },
  {
   "cell_type": "code",
   "execution_count": 40,
   "metadata": {},
   "outputs": [
    {
     "data": {
      "text/html": [
       "<html><script type=\"math/tex; mode=display\">\\newcommand{\\Bold}[1]{\\mathbf{#1}}\\left(a, b_{1}, b_{3}, l, \\mu\\right)</script></html>"
      ],
      "text/latex": [
       "\\begin{math}\n",
       "\\newcommand{\\Bold}[1]{\\mathbf{#1}}\\left(a, b_{1}, b_{3}, l, \\mu\\right)\n",
       "\\end{math}"
      ],
      "text/plain": [
       "(a, b1, b3, l, mu)"
      ]
     },
     "execution_count": 40,
     "metadata": {},
     "output_type": "execute_result"
    }
   ],
   "source": [
    "R0_sei.variables()"
   ]
  },
  {
   "cell_type": "code",
   "execution_count": 41,
   "metadata": {},
   "outputs": [
    {
     "data": {
      "text/html": [
       "<script type=\"math/tex\">R_t=</script>"
      ],
      "text/plain": [
       "<script type=\"math/tex\">R_t=</script>"
      ]
     },
     "metadata": {},
     "output_type": "display_data"
    },
    {
     "data": {
      "text/html": [
       "<html><script type=\"math/tex; mode=display\">\\newcommand{\\Bold}[1]{\\mathbf{#1}}\\mathrm{None}</script></html>"
      ],
      "text/latex": [
       "\\begin{math}\n",
       "\\newcommand{\\Bold}[1]{\\mathbf{#1}}\\mathrm{None}\n",
       "\\end{math}"
      ],
      "text/plain": [
       "None"
      ]
     },
     "metadata": {},
     "output_type": "display_data"
    },
    {
     "data": {
      "text/html": [
       "<html><script type=\"math/tex; mode=display\">\\newcommand{\\Bold}[1]{\\mathbf{#1}}0</script></html>"
      ],
      "text/latex": [
       "\\begin{math}\n",
       "\\newcommand{\\Bold}[1]{\\mathbf{#1}}0\n",
       "\\end{math}"
      ],
      "text/plain": [
       "0"
      ]
     },
     "execution_count": 41,
     "metadata": {},
     "output_type": "execute_result"
    }
   ],
   "source": [
    "Ft_sei = jacobian(F_cal_sei,[E_M, I_M])\n",
    "Vt_sei = jacobian(V_cal_sei,[E_M, I_M])\n",
    "Mt_sei = Ft_sei*Vt_sei.inverse()\n",
    "show(pretty_print(html('$R_t=$')))\n",
    "Rt_sei = Mt_sei[0,0]\n",
    "Rt_sei"
   ]
  },
  {
   "cell_type": "code",
   "execution_count": 42,
   "metadata": {},
   "outputs": [
    {
     "name": "stdout",
     "output_type": "stream",
     "text": [
      "0\n"
     ]
    }
   ],
   "source": [
    "print(Rt_sei)"
   ]
  },
  {
   "cell_type": "markdown",
   "metadata": {},
   "source": [
    "### Modelo acoplado:"
   ]
  },
  {
   "cell_type": "markdown",
   "metadata": {},
   "source": [
    "${\\bf m=3}$. A fim de clareza, vamos ordenar os $n=6$ compartimentos da seguinte forma: $[I_H, E_M, I_M, S_H, S_M, R_M]$, separando os $m$ primeiros compartimentos do restante. Vale ressaltar que as transferências dos compartimentos expostos para os infectados não são consideradas novas infecções, mas sim a progressão de um indivíduo infectado através dos vários compartimentos. Novamente removendo $N$, portanto,\n",
    "\n",
    "$$ {\\cal F}_i(x): \\text{ taxa de surgimento de novos infectados no compartimento } i $$\n",
    "\n",
    "\n",
    "$$ {\\cal F} =\\begin{bmatrix}\n",
    "a  b_2  I_M  S_H \\\\\n",
    "a b_1 I_H S_M\\\\\n",
    "0\\\\\n",
    "\\end{bmatrix} $$"
   ]
  },
  {
   "cell_type": "code",
   "execution_count": 43,
   "metadata": {},
   "outputs": [
    {
     "data": {
      "text/html": [
       "<html><script type=\"math/tex; mode=display\">\\newcommand{\\Bold}[1]{\\mathbf{#1}}\\left(\\begin{array}{r}\n",
       "I_{M} S_{H} a b_{2} \\\\\n",
       "I_{H} S_{M} a b_{1} \\\\\n",
       "0\n",
       "\\end{array}\\right)</script></html>"
      ],
      "text/latex": [
       "\\begin{math}\n",
       "\\newcommand{\\Bold}[1]{\\mathbf{#1}}\\left(\\begin{array}{r}\n",
       "I_{M} S_{H} a b_{2} \\\\\n",
       "I_{H} S_{M} a b_{1} \\\\\n",
       "0\n",
       "\\end{array}\\right)\n",
       "\\end{math}"
      ],
      "text/plain": [
       "[I_M*S_H*a*b2]\n",
       "[I_H*S_M*a*b1]\n",
       "[           0]"
      ]
     },
     "execution_count": 43,
     "metadata": {},
     "output_type": "execute_result"
    }
   ],
   "source": [
    "F_cal = matrix([[a*b2*I_M*S_H],[a*b1*I_H*S_M],[0]])\n",
    "F_cal"
   ]
  },
  {
   "cell_type": "markdown",
   "metadata": {},
   "source": [
    "Além disso, temos\n",
    "\n",
    "$$ {\\cal V}_i(x)^-: \\text{ taxa de saída do compartimento } i $$\n",
    "\n",
    "$$ {\\cal V}_i(x)^+: \\text{ taxa de entrada do compartimento } i $$\n",
    "\n",
    "Logo:"
   ]
  },
  {
   "cell_type": "markdown",
   "metadata": {},
   "source": [
    "$$\n",
    "\\begin{equation}\n",
    "{\\cal V^-} = \\begin{bmatrix}\n",
    "\\gamma I_H\\\\\n",
    "E_M (\\mu + b_3 l)\\\\\n",
    "\\mu I_M\n",
    "\\end{bmatrix}\n",
    "\\end{equation}\n",
    "$$"
   ]
  },
  {
   "cell_type": "markdown",
   "metadata": {},
   "source": [
    "$$\n",
    "\\begin{equation}\n",
    "{\\cal V^+} = \\begin{bmatrix}\n",
    "0\\\\\n",
    "0\\\\\n",
    "b_3 E_M l\\\\\n",
    "\\end{bmatrix}\n",
    "\\end{equation}\n",
    "$$"
   ]
  },
  {
   "cell_type": "code",
   "execution_count": 44,
   "metadata": {},
   "outputs": [
    {
     "data": {
      "text/html": [
       "<html><script type=\"math/tex; mode=display\">\\newcommand{\\Bold}[1]{\\mathbf{#1}}\\left(\\begin{array}{r}\n",
       "I_{H} \\gamma \\\\\n",
       "E_{M} b_{3} l + E_{M} \\mu \\\\\n",
       "I_{M} \\mu\n",
       "\\end{array}\\right)</script></html>"
      ],
      "text/latex": [
       "\\begin{math}\n",
       "\\newcommand{\\Bold}[1]{\\mathbf{#1}}\\left(\\begin{array}{r}\n",
       "I_{H} \\gamma \\\\\n",
       "E_{M} b_{3} l + E_{M} \\mu \\\\\n",
       "I_{M} \\mu\n",
       "\\end{array}\\right)\n",
       "\\end{math}"
      ],
      "text/plain": [
       "[        I_H*gamma]\n",
       "[E_M*b3*l + E_M*mu]\n",
       "[           I_M*mu]"
      ]
     },
     "execution_count": 44,
     "metadata": {},
     "output_type": "execute_result"
    }
   ],
   "source": [
    "V_cal_neg = matrix([[gamma*I_H],[mu * E_M + b3 * E_M * l], [mu * I_M]])\n",
    "V_cal_neg"
   ]
  },
  {
   "cell_type": "code",
   "execution_count": 45,
   "metadata": {},
   "outputs": [
    {
     "data": {
      "text/html": [
       "<html><script type=\"math/tex; mode=display\">\\newcommand{\\Bold}[1]{\\mathbf{#1}}\\left(\\begin{array}{r}\n",
       "0 \\\\\n",
       "0 \\\\\n",
       "E_{M} b_{3} l\n",
       "\\end{array}\\right)</script></html>"
      ],
      "text/latex": [
       "\\begin{math}\n",
       "\\newcommand{\\Bold}[1]{\\mathbf{#1}}\\left(\\begin{array}{r}\n",
       "0 \\\\\n",
       "0 \\\\\n",
       "E_{M} b_{3} l\n",
       "\\end{array}\\right)\n",
       "\\end{math}"
      ],
      "text/plain": [
       "[       0]\n",
       "[       0]\n",
       "[E_M*b3*l]"
      ]
     },
     "execution_count": 45,
     "metadata": {},
     "output_type": "execute_result"
    }
   ],
   "source": [
    "V_cal_pos = matrix([[0],[0],[b3 * E_M * l]])\n",
    "V_cal_pos"
   ]
  },
  {
   "cell_type": "markdown",
   "metadata": {},
   "source": [
    "$${\\cal V}_i (x) = {\\cal V}_i(x)^{-} - {\\cal V}_i(x)^+$$\n",
    "\n",
    "Então,\n",
    "\\begin{equation}\n",
    "{\\cal V} =\n",
    "\\begin{bmatrix}\n",
    "I_H \\gamma \\\\\n",
    "E_M (\\mu + b_3 l)\\\\\n",
    "\\mu I_M - b_3 E_M l\\\\\n",
    "\\end{bmatrix}\n",
    "\\end{equation}"
   ]
  },
  {
   "cell_type": "code",
   "execution_count": 46,
   "metadata": {},
   "outputs": [
    {
     "data": {
      "text/html": [
       "<html><script type=\"math/tex; mode=display\">\\newcommand{\\Bold}[1]{\\mathbf{#1}}\\left(\\begin{array}{r}\n",
       "I_{H} \\gamma \\\\\n",
       "E_{M} b_{3} l + E_{M} \\mu \\\\\n",
       "-E_{M} b_{3} l + I_{M} \\mu\n",
       "\\end{array}\\right)</script></html>"
      ],
      "text/latex": [
       "\\begin{math}\n",
       "\\newcommand{\\Bold}[1]{\\mathbf{#1}}\\left(\\begin{array}{r}\n",
       "I_{H} \\gamma \\\\\n",
       "E_{M} b_{3} l + E_{M} \\mu \\\\\n",
       "-E_{M} b_{3} l + I_{M} \\mu\n",
       "\\end{array}\\right)\n",
       "\\end{math}"
      ],
      "text/plain": [
       "[         I_H*gamma]\n",
       "[ E_M*b3*l + E_M*mu]\n",
       "[-E_M*b3*l + I_M*mu]"
      ]
     },
     "execution_count": 46,
     "metadata": {},
     "output_type": "execute_result"
    }
   ],
   "source": [
    "V_cal = V_cal_neg-V_cal_pos\n",
    "V_cal"
   ]
  },
  {
   "cell_type": "markdown",
   "metadata": {},
   "source": [
    "Definimos também $F=\\left[\\frac{\\partial {\\cal F}_i (x_0)}{\\partial x_j}\\right]$ e $V=\\left[\\frac{\\partial {\\cal V}_i (x_0) }{\\partial x_j}\\right]$, onde $x_0$ é um DFE (Equilíbrio livre de doença) e $1\\leq i,j \\leq m$. \n",
    "\n",
    "Isto equivale à jacobiana  destas duas matrizes, após substituir $x_0$ ou seja, $S=1$."
   ]
  },
  {
   "cell_type": "markdown",
   "metadata": {},
   "source": [
    "$$ F = \\dfrac{\\partial{\\cal F}}{\\partial I_H, E_M, I_M} =\\begin{bmatrix}\n",
    "\\dfrac{\\partial ab_2 I_M S_H}{\\partial I_H} & \\dfrac{\\partial ab_2 I_M S_H}{\\partial E_M} & \\dfrac{\\partial ab_2 I_M S_H}{\\partial I_M}\\\\\n",
    "\\dfrac{\\partial ab_1 I_H S_M}{\\partial I_H} & \\dfrac{\\partial ab_1 I_H S_M}{\\partial E_M} & \\dfrac{\\partial ab_1 I_H S_M}{\\partial I_M}\\\\\n",
    "\\dfrac{\\partial 0}{\\partial I_H} & \\dfrac{\\partial 0}{\\partial E_M} & \\dfrac{\\partial 0}{\\partial I_M}\\\\\n",
    "\\end{bmatrix} = \n",
    "\\begin{bmatrix}\n",
    "0 & 0 & ab_2 S_H\\\\\n",
    "ab_1 S_M & 0 & 0\\\\\n",
    "0 & 0 & 0\n",
    "\\end{bmatrix}$$"
   ]
  },
  {
   "cell_type": "code",
   "execution_count": 47,
   "metadata": {},
   "outputs": [
    {
     "data": {
      "text/html": [
       "<html><script type=\"math/tex; mode=display\">\\newcommand{\\Bold}[1]{\\mathbf{#1}}\\left(\\begin{array}{rrr}\n",
       "0 & 0 & a b_{2} \\\\\n",
       "a b_{1} & 0 & 0 \\\\\n",
       "0 & 0 & 0\n",
       "\\end{array}\\right)</script></html>"
      ],
      "text/latex": [
       "\\begin{math}\n",
       "\\newcommand{\\Bold}[1]{\\mathbf{#1}}\\left(\\begin{array}{rrr}\n",
       "0 & 0 & a b_{2} \\\\\n",
       "a b_{1} & 0 & 0 \\\\\n",
       "0 & 0 & 0\n",
       "\\end{array}\\right)\n",
       "\\end{math}"
      ],
      "text/plain": [
       "[   0    0 a*b2]\n",
       "[a*b1    0    0]\n",
       "[   0    0    0]"
      ]
     },
     "execution_count": 47,
     "metadata": {},
     "output_type": "execute_result"
    }
   ],
   "source": [
    "F = jacobian(F_cal(S_H=1, S_M=1),[I_H, E_M, I_M])\n",
    "F"
   ]
  },
  {
   "cell_type": "markdown",
   "metadata": {},
   "source": [
    "$$ V = \\dfrac{\\partial{\\cal V}}{\\partial I_H, E_M, I_M} =\\begin{bmatrix}\n",
    "\\dfrac{\\partial \\gamma I_H}{\\partial I_H} & \\dfrac{\\partial \\gamma I_H}{\\partial E_M} & \\dfrac{\\partial \\gamma I_H}{\\partial I_M}\\\\\n",
    "\\dfrac{\\partial E_M (\\mu + b_3 l)}{\\partial I_H} & \\dfrac{\\partial E_M (\\mu + b_3 l)}{\\partial E_M} & \\dfrac{\\partial E_M (\\mu + b_3 l)}{\\partial I_M}\\\\\n",
    "\\dfrac{\\partial \\mu I_M - b_3 E_M l}{\\partial I_H} & \\dfrac{\\partial \\mu I_M - b_3 E_M l}{\\partial E_M} & \\dfrac{\\partial \\mu I_M - b_3 E_M l}{\\partial I_M}\\\\\n",
    "\\end{bmatrix} = \n",
    "\\begin{bmatrix}\n",
    "\\gamma & 0 & 0\\\\\n",
    "0 & b_3l+\\mu & 0\\\\\n",
    "0 & -b_3l & \\mu\n",
    "\\end{bmatrix}$$"
   ]
  },
  {
   "cell_type": "code",
   "execution_count": 48,
   "metadata": {},
   "outputs": [
    {
     "data": {
      "text/html": [
       "<html><script type=\"math/tex; mode=display\">\\newcommand{\\Bold}[1]{\\mathbf{#1}}\\left(\\begin{array}{rrr}\n",
       "\\gamma & 0 & 0 \\\\\n",
       "0 & b_{3} l + \\mu & 0 \\\\\n",
       "0 & -b_{3} l & \\mu\n",
       "\\end{array}\\right)</script></html>"
      ],
      "text/latex": [
       "\\begin{math}\n",
       "\\newcommand{\\Bold}[1]{\\mathbf{#1}}\\left(\\begin{array}{rrr}\n",
       "\\gamma & 0 & 0 \\\\\n",
       "0 & b_{3} l + \\mu & 0 \\\\\n",
       "0 & -b_{3} l & \\mu\n",
       "\\end{array}\\right)\n",
       "\\end{math}"
      ],
      "text/plain": [
       "[    gamma         0         0]\n",
       "[        0 b3*l + mu         0]\n",
       "[        0     -b3*l        mu]"
      ]
     },
     "execution_count": 48,
     "metadata": {},
     "output_type": "execute_result"
    }
   ],
   "source": [
    "V = jacobian(V_cal(S_H=1, S_M=1),[I_H, E_M, I_M])\n",
    "V"
   ]
  },
  {
   "cell_type": "code",
   "execution_count": 49,
   "metadata": {},
   "outputs": [
    {
     "data": {
      "text/html": [
       "<html><script type=\"math/tex; mode=display\">\\newcommand{\\Bold}[1]{\\mathbf{#1}}\\left(\\begin{array}{rrr}\n",
       "0 & \\frac{a b_{2} b_{3} l}{{\\left(b_{3} l + \\mu\\right)} \\mu} & \\frac{a b_{2}}{\\mu} \\\\\n",
       "\\frac{a b_{1}}{\\gamma} & 0 & 0 \\\\\n",
       "0 & 0 & 0\n",
       "\\end{array}\\right)</script></html>"
      ],
      "text/latex": [
       "\\begin{math}\n",
       "\\newcommand{\\Bold}[1]{\\mathbf{#1}}\\left(\\begin{array}{rrr}\n",
       "0 & \\frac{a b_{2} b_{3} l}{{\\left(b_{3} l + \\mu\\right)} \\mu} & \\frac{a b_{2}}{\\mu} \\\\\n",
       "\\frac{a b_{1}}{\\gamma} & 0 & 0 \\\\\n",
       "0 & 0 & 0\n",
       "\\end{array}\\right)\n",
       "\\end{math}"
      ],
      "text/plain": [
       "[                         0 a*b2*b3*l/((b3*l + mu)*mu)                    a*b2/mu]\n",
       "[                a*b1/gamma                          0                          0]\n",
       "[                         0                          0                          0]"
      ]
     },
     "execution_count": 49,
     "metadata": {},
     "output_type": "execute_result"
    }
   ],
   "source": [
    "M = F*V.inverse()\n",
    "M"
   ]
  },
  {
   "cell_type": "code",
   "execution_count": 50,
   "metadata": {},
   "outputs": [
    {
     "data": {
      "text/html": [
       "<html><script type=\"math/tex; mode=display\">\\newcommand{\\Bold}[1]{\\mathbf{#1}}\\left(\\begin{array}{rrr}\n",
       "0 & \\frac{a b_{2} b_{3} l}{b_{3} l \\mu + \\mu^{2}} & \\frac{a b_{2}}{\\mu} \\\\\n",
       "\\frac{a b_{1}}{\\gamma} & 0 & 0 \\\\\n",
       "0 & 0 & 0\n",
       "\\end{array}\\right)</script></html>"
      ],
      "text/latex": [
       "\\begin{math}\n",
       "\\newcommand{\\Bold}[1]{\\mathbf{#1}}\\left(\\begin{array}{rrr}\n",
       "0 & \\frac{a b_{2} b_{3} l}{b_{3} l \\mu + \\mu^{2}} & \\frac{a b_{2}}{\\mu} \\\\\n",
       "\\frac{a b_{1}}{\\gamma} & 0 & 0 \\\\\n",
       "0 & 0 & 0\n",
       "\\end{array}\\right)\n",
       "\\end{math}"
      ],
      "text/plain": [
       "[                         0 a*b2*b3*l/(b3*l*mu + mu^2)                    a*b2/mu]\n",
       "[                a*b1/gamma                          0                          0]\n",
       "[                         0                          0                          0]"
      ]
     },
     "execution_count": 50,
     "metadata": {},
     "output_type": "execute_result"
    }
   ],
   "source": [
    "M = M.simplify_full()\n",
    "M"
   ]
  },
  {
   "cell_type": "code",
   "execution_count": 51,
   "metadata": {},
   "outputs": [
    {
     "data": {
      "text/html": [
       "<html><script type=\"math/tex; mode=display\">\\newcommand{\\Bold}[1]{\\mathbf{#1}}\\left[-\\sqrt{\\frac{b_{1} b_{2} b_{3} l}{b_{3} \\gamma l \\mu + \\gamma \\mu^{2}}} a, \\sqrt{\\frac{b_{1} b_{2} b_{3} l}{b_{3} \\gamma l \\mu + \\gamma \\mu^{2}}} a, 0\\right]</script></html>"
      ],
      "text/latex": [
       "\\begin{math}\n",
       "\\newcommand{\\Bold}[1]{\\mathbf{#1}}\\left[-\\sqrt{\\frac{b_{1} b_{2} b_{3} l}{b_{3} \\gamma l \\mu + \\gamma \\mu^{2}}} a, \\sqrt{\\frac{b_{1} b_{2} b_{3} l}{b_{3} \\gamma l \\mu + \\gamma \\mu^{2}}} a, 0\\right]\n",
       "\\end{math}"
      ],
      "text/plain": [
       "[-sqrt(b1*b2*b3*l/(b3*gamma*l*mu + gamma*mu^2))*a,\n",
       " sqrt(b1*b2*b3*l/(b3*gamma*l*mu + gamma*mu^2))*a,\n",
       " 0]"
      ]
     },
     "execution_count": 51,
     "metadata": {},
     "output_type": "execute_result"
    }
   ],
   "source": [
    "M.eigenvalues()"
   ]
  },
  {
   "cell_type": "code",
   "execution_count": 52,
   "metadata": {},
   "outputs": [
    {
     "data": {
      "text/html": [
       "<html><script type=\"math/tex; mode=display\">\\newcommand{\\Bold}[1]{\\mathbf{#1}}0</script></html>"
      ],
      "text/latex": [
       "\\begin{math}\n",
       "\\newcommand{\\Bold}[1]{\\mathbf{#1}}0\n",
       "\\end{math}"
      ],
      "text/plain": [
       "0"
      ]
     },
     "execution_count": 52,
     "metadata": {},
     "output_type": "execute_result"
    }
   ],
   "source": [
    "R0=M[0,0].simplify_full()\n",
    "R0"
   ]
  },
  {
   "cell_type": "code",
   "execution_count": 53,
   "metadata": {},
   "outputs": [
    {
     "data": {
      "text/html": [
       "<html><script type=\"math/tex; mode=display\">\\newcommand{\\Bold}[1]{\\mathbf{#1}}-\\sqrt{\\frac{b_{1} b_{2} b_{3} l}{b_{3} \\gamma l \\mu + \\gamma \\mu^{2}}} a</script></html>"
      ],
      "text/latex": [
       "\\begin{math}\n",
       "\\newcommand{\\Bold}[1]{\\mathbf{#1}}-\\sqrt{\\frac{b_{1} b_{2} b_{3} l}{b_{3} \\gamma l \\mu + \\gamma \\mu^{2}}} a\n",
       "\\end{math}"
      ],
      "text/plain": [
       "-sqrt(b1*b2*b3*l/(b3*gamma*l*mu + gamma*mu^2))*a"
      ]
     },
     "execution_count": 53,
     "metadata": {},
     "output_type": "execute_result"
    }
   ],
   "source": [
    "R0=max(M.eigenvalues())\n",
    "R0"
   ]
  },
  {
   "cell_type": "code",
   "execution_count": 54,
   "metadata": {},
   "outputs": [],
   "source": [
    "eigenvalues_list = M.eigenvalues()\n",
    "eigenvalues_list.sort()"
   ]
  },
  {
   "cell_type": "code",
   "execution_count": 55,
   "metadata": {},
   "outputs": [
    {
     "data": {
      "text/html": [
       "<html><script type=\"math/tex; mode=display\">\\newcommand{\\Bold}[1]{\\mathbf{#1}}{\\left| \\sqrt{\\frac{b_{1} b_{2} b_{3} l}{b_{3} \\gamma l \\mu + \\gamma \\mu^{2}}} a \\right|}</script></html>"
      ],
      "text/latex": [
       "\\begin{math}\n",
       "\\newcommand{\\Bold}[1]{\\mathbf{#1}}{\\left| \\sqrt{\\frac{b_{1} b_{2} b_{3} l}{b_{3} \\gamma l \\mu + \\gamma \\mu^{2}}} a \\right|}\n",
       "\\end{math}"
      ],
      "text/plain": [
       "abs(sqrt(b1*b2*b3*l/(b3*gamma*l*mu + gamma*mu^2))*a)"
      ]
     },
     "execution_count": 55,
     "metadata": {},
     "output_type": "execute_result"
    }
   ],
   "source": [
    "absolute_eigenvalues = np.abs(eigenvalues_list)\n",
    "\n",
    "# Find the maximum absolute eigenvalue, which is the spectral radius\n",
    "R0 = np.max(absolute_eigenvalues)\n",
    "R0"
   ]
  },
  {
   "cell_type": "code",
   "execution_count": null,
   "metadata": {},
   "outputs": [],
   "source": []
  }
 ],
 "metadata": {
  "kernelspec": {
   "display_name": "SageMath 9.2",
   "language": "sage",
   "name": "sagemath"
  },
  "language_info": {
   "codemirror_mode": {
    "name": "ipython",
    "version": 3
   },
   "file_extension": ".py",
   "mimetype": "text/x-python",
   "name": "python",
   "nbconvert_exporter": "python",
   "pygments_lexer": "ipython3",
   "version": "3.7.7"
  }
 },
 "nbformat": 4,
 "nbformat_minor": 4
}
