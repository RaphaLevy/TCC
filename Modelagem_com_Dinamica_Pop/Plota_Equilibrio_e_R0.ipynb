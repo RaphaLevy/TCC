{
 "cells": [
  {
   "cell_type": "code",
   "execution_count": 1,
   "metadata": {},
   "outputs": [],
   "source": [
    "import numpy as np\n",
    "from scipy.integrate import solve_ivp\n",
    "import matplotlib.pyplot as plt\n",
    "from numpy import cos\n",
    "from math import log\n",
    "from scipy.interpolate import interp1d\n",
    "from ipywidgets import interact, interactive, fixed, interact_manual\n",
    "import ipywidgets as widgets\n",
    "from mpl_toolkits.mplot3d import Axes3D\n",
    "from scipy.optimize import minimize_scalar\n",
    "from scipy.optimize import minimize\n",
    "from scipy.optimize import fsolve\n",
    "from sympy import symbols, Eq, solve"
   ]
  },
  {
   "cell_type": "code",
   "execution_count": 2,
   "metadata": {},
   "outputs": [],
   "source": [
    "T_linha = 25.6\n",
    "T1= 26.4 \n",
    "T2= 0.025\n",
    "omega1= 0.017\n",
    "phi1= -1.45\n",
    "\n",
    "R1= 250.083 \n",
    "R2= 0.565\n",
    "omega2= 0.02\n",
    "phi2=1.6\n",
    "\n",
    "B_E=200\n",
    "p_ME=0.9\n",
    "p_ML=0.75\n",
    "p_MP=0.85\n",
    "tau_E=1\n",
    "tau_P=1\n",
    "# c1=0.019\n",
    "# c2=-0.021\n",
    "c1=0.00554\n",
    "c2=-0.06737\n",
    "mu_H = 0.00007\n",
    "\n",
    "D1=36.5\n",
    "b1=0.04\n",
    "\n",
    "A=12.5\n",
    "B=15\n",
    "C=-48.78\n",
    "\n",
    "b2=0.09\n",
    "tau_H=10\n",
    "DD=105\n",
    "Tmin=14.5\n",
    "gamma= 1/120 #365 \n",
    "R_L = 450\n",
    "N = 7717 #População estimada para 2004\n",
    "M = 300000 \n",
    "k=1 #Análise sem efeito do desmatamento\n",
    "\n",
    "E_M0 = 1 #Analisando a infecção iniciando com apenas um mosquito exposto e um humano infectado\n",
    "I_H0 = 1\n",
    "I_M0 = 0\n",
    "R_H0 = 0\n",
    "if E_M0 is None:\n",
    "        E_M0 = M / 100\n",
    "\n",
    "S_H0 = N - I_H0 - R_H0\n",
    "S_M0 = M - E_M0 - I_M0"
   ]
  },
  {
   "cell_type": "code",
   "execution_count": 3,
   "metadata": {},
   "outputs": [],
   "source": [
    "def Temp(t):\n",
    "    return T1 * (1 + T2 * cos(omega1 * t - phi1))\n",
    "\n",
    "def Rain(t):\n",
    "    return R1 * (1 + R2 * cos(omega2 * t - phi2))\n",
    "\n",
    "R_final = Rain(1825)\n",
    "T_final = Temp(1825)\n",
    "    \n",
    "# Duração da fase de desenvolvimento das larvas\n",
    "def tau_L(Temp):\n",
    "    return 1 / (c1 * Temp + c2)\n",
    "    \n",
    "# Taxa diária de sobrevivência dos mosquitos\n",
    "def p(Temp):\n",
    "    return np.exp(-1 / (A*Temp**2 + B*Temp + C))\n",
    "    \n",
    "# Probabilidade de sobrevivência das larvas dependente de temperatura e chuva\n",
    "def p_LT(Temp):\n",
    "    return np.exp(-(c1 * Temp + c2))\n",
    "    \n",
    "def p_LR(Rain):\n",
    "    return (4*p_ML/R_L**2) * Rain * (max(10^-5,R_L - Rain))\n",
    "    \n",
    "def p_LRT(Rain,Temp):\n",
    "    return p_LR(Rain)*p_LT(Temp)\n",
    "    \n",
    "# Probabilidade de sobrevivência dos ovos e pupas dependente de chuva (Não definido previamente)\n",
    "def p_ER(Rain):\n",
    "    return (4*p_ME/R_L**2) * Rain * (max(10^-5,R_L - Rain))\n",
    "    \n",
    "# Probabilidade de sobrevivência dos ovos e pupas dependente de chuva (Não definido previamente)\n",
    "def p_PR(Rain):\n",
    "    return (4*p_MP/R_L**2) * Rain * (max(10^-5,R_L - Rain))\n",
    "\n",
    "# Duração do ciclo esporogônico\n",
    "def tau_M(Temp):\n",
    "    return DD / (max(10^-5,Temp - Tmin))\n",
    "    \n",
    "tau_M_final = tau_M(T_final)\n",
    "\n",
    "# Taxa de infecção de expostos (1/Duração do ciclo esporogônico)\n",
    "def b3(tau_M, Temp):\n",
    "    return 1/tau_M\n",
    "    \n",
    "b3_final = b3(tau_M_final, T_final)\n",
    "    \n",
    "# Definindo a função de sobrevivência do mosquito\n",
    "def l_tau_M(tau_M, Temp):  \n",
    "    p_T = p(Temp)\n",
    "    return p_T**tau_M\n",
    "    \n",
    "l_final = l_tau_M(tau_M_final, T_final)\n",
    "\n",
    "# Definindo a taxa de mortalidade do mosquito\n",
    "def mu(Temp):\n",
    "    return -log(p(Temp))\n",
    "    \n",
    "mu_final = mu(T_final)\n",
    "    \n",
    "# Calcula a taxa de picada e probabilidade de transmissão\n",
    "def a(Temp):\n",
    "    return (max(10^-5, Temp - T_linha)) / D1\n",
    "    \n",
    "a_final = a(T_final)\n",
    "    \n",
    "def b(Rain,Temp):\n",
    "    return B_E * p_ER(Rain) * p_LRT(Rain,Temp) * p_PR(Rain) / (tau_E + tau_L(Temp) + tau_P)\n",
    "    \n",
    "b_final = b(R_final, T_final)"
   ]
  },
  {
   "cell_type": "code",
   "execution_count": 4,
   "metadata": {},
   "outputs": [],
   "source": [
    "def R0_sir(a, k, b2, gamma, mu_H):\n",
    "    return abs((a * k * b2) / (gamma + mu_H))\n",
    "    \n",
    "#R0_sir_curr = R0_sir(a_curr, b2, gamma)\n",
    "    \n",
    "def R0_sei(a, k, b1, b3, l, mu):\n",
    "    return abs((a * k * b1 * b3) / ((b3 + l) * mu + mu** 2))\n",
    "    \n",
    "#R0_sei_curr = R0_sei(a_curr, b1, b3_curr, l_curr, mu_curr)\n",
    "    \n",
    "def R0_full(a, k, b1, b2, b3, gamma, l, mu, mu_H):\n",
    "    return abs(((a**2 * b1 * b2 * b3 * k**2) / (mu*(gamma + mu_H)*(b3 + l + mu)))**(1/2))\n",
    "    \n",
    "#R0_curr = R0(a_curr, b1, b2, b3_curr, gamma, l_curr, mu_curr)\n",
    "\n",
    "def calculate_initial_values(R_L, T_linha, Tmin, DD, D1, T1, T2, omega1, phi1, R1, R2, omega2, phi2,\n",
    "                            p_ML, p_ME, p_MP, c1, c2, A, B, C, b1, b2, gamma, mu_H, k):\n",
    "    \n",
    "    T0 = T1 * (1 + T2 * cos(omega1 * 0 - phi1))\n",
    "    R0 = R1 * (1 + R2 * cos(omega2 * 0 - phi2))\n",
    "\n",
    "    tau_L0 = 1 / (c1 * T0 + c2)\n",
    "\n",
    "    p_LT0 = np.exp(-(c1 * T0 + c2))\n",
    "    \n",
    "    p_LR0 = (4 * p_ML / R_L**2) * R0 * (max(1e-5, R_L - R0))\n",
    "    \n",
    "    p_LRT0 = p_LR0 * p_LT0\n",
    "    \n",
    "    p_ER0 = (4 * p_ME / R_L**2) * R0 * (max(1e-5, R_L - R0))\n",
    "    \n",
    "    p_PR0 = (4 * p_MP / R_L**2) * R0 * (max(1e-5, R_L - R0))\n",
    "\n",
    "    a0 = (max(1e-5, T0 - T_linha)) / D1\n",
    "    b0 = B_E * p_ER0 * p_LRT0 * p_PR0 / (tau_E + tau_L0 + tau_P)\n",
    "\n",
    "    tau_M0 = DD / (max(1e-5, T0 - Tmin))\n",
    "    \n",
    "    b30 =  1 / tau_M0\n",
    "    \n",
    "    p0 = np.exp(-1 / (A * T0**2 + B * T0 + C))\n",
    "    l0 = p0 ** tau_M0\n",
    "\n",
    "    mu0 = -log(p0)\n",
    "\n",
    "    initial_R0_sir = R0_sir(a0, k, b2, gamma, mu_H)\n",
    "    initial_R0_sei = R0_sei(a0, k, b1, b30, l0, mu0)\n",
    "    initial_R0_full = R0_full(a0, k, b1, b2, b30, gamma, l0, mu0, mu_H)\n",
    "    \n",
    "    return initial_R0_sir, initial_R0_sei, initial_R0_full, a0"
   ]
  },
  {
   "cell_type": "code",
   "execution_count": 5,
   "metadata": {},
   "outputs": [],
   "source": [
    "initial_R0_sir, initial_R0_sei, initial_R0_full, a0 = calculate_initial_values(R_L, T_linha, Tmin, DD, D1, \n",
    "                                                                               T1, T2, omega1, phi1, R1, R2, omega2, phi2,\n",
    "                                                                               p_ML, p_ME, p_MP, c1, c2, A, B, C, b1, b2, \n",
    "                                                                               gamma, mu_H, k)"
   ]
  },
  {
   "cell_type": "code",
   "execution_count": 6,
   "metadata": {},
   "outputs": [
    {
     "name": "stdout",
     "output_type": "stream",
     "text": [
      "R0_sir = 0.258077185614824 \n",
      "R0_sei = 0.9002047882569278\n",
      "R0_acoplado = 0.4819982554225031\n",
      "Taxa de picadas = 0.02409676240499894\n"
     ]
    }
   ],
   "source": [
    "print(f'R0_sir = {initial_R0_sir} \\nR0_sei = {initial_R0_sei}\\nR0_acoplado = {initial_R0_full}\\nTaxa de picadas = {a0}')"
   ]
  },
  {
   "cell_type": "code",
   "execution_count": 7,
   "metadata": {},
   "outputs": [],
   "source": [
    "initial_R0_sir, initial_R0_sei, initial_R0_full, a0 = calculate_initial_values(R_L, T_linha, Tmin, DD, D1, \n",
    "                                                                               T1, T2, omega1, phi1, R1, R2, omega2, phi2,\n",
    "                                                                               p_ML, p_ME, p_MP, c1, c2, A, B, C, b1, b2, \n",
    "                                                                               gamma, mu_H, 10)"
   ]
  },
  {
   "cell_type": "code",
   "execution_count": 8,
   "metadata": {},
   "outputs": [
    {
     "name": "stdout",
     "output_type": "stream",
     "text": [
      "R0_sir = 2.5807718561482402 \n",
      "R0_sei = 9.00204788256928\n",
      "R0_acoplado = 4.819982554225031\n",
      "Taxa de picadas = 0.02409676240499894\n"
     ]
    }
   ],
   "source": [
    "print(f'R0_sir = {initial_R0_sir} \\nR0_sei = {initial_R0_sei}\\nR0_acoplado = {initial_R0_full}\\nTaxa de picadas = {a0}')"
   ]
  },
  {
   "cell_type": "code",
   "execution_count": 9,
   "metadata": {},
   "outputs": [],
   "source": [
    "k_values = np.linspace(0, 10, 100) \n",
    "\n",
    "R0_full_values = []\n",
    "\n",
    "for k_val in k_values:\n",
    "    initial_R0_sir, initial_R0_sei, R0_full_val, a0_val = calculate_initial_values(R_L, T_linha, Tmin, DD, D1, \n",
    "                                                                               T1, T2, omega1, phi1, R1, R2, omega2, phi2,\n",
    "                                                                               p_ML, p_ME, p_MP, c1, c2, A, B, C, b1, b2, \n",
    "                                                                               gamma, mu_H, k=k_val)\n",
    "    R0_full_values.append(R0_full_val)"
   ]
  },
  {
   "cell_type": "code",
   "execution_count": 10,
   "metadata": {},
   "outputs": [
    {
     "data": {
      "text/plain": [
       "[0.0,\n",
       " 0.0486866924669195,\n",
       " 0.097373384933839,\n",
       " 0.1460600774007585,\n",
       " 0.194746769867678,\n",
       " 0.24343346233459753,\n",
       " 0.292120154801517,\n",
       " 0.3408068472684365,\n",
       " 0.389493539735356,\n",
       " 0.4381802322022755,\n",
       " 0.48686692466919507,\n",
       " 0.5355536171361146,\n",
       " 0.584240309603034,\n",
       " 0.6329270020699536,\n",
       " 0.681613694536873,\n",
       " 0.7303003870037924,\n",
       " 0.778987079470712,\n",
       " 0.8276737719376315,\n",
       " 0.876360464404551,\n",
       " 0.9250471568714705,\n",
       " 0.9737338493383901,\n",
       " 1.0224205418053094,\n",
       " 1.0711072342722292,\n",
       " 1.1197939267391486,\n",
       " 1.168480619206068,\n",
       " 1.2171673116729873,\n",
       " 1.2658540041399071,\n",
       " 1.3145406966068265,\n",
       " 1.363227389073746,\n",
       " 1.4119140815406654,\n",
       " 1.4606007740075848,\n",
       " 1.5092874664745046,\n",
       " 1.557974158941424,\n",
       " 1.6066608514083438,\n",
       " 1.655347543875263,\n",
       " 1.7040342363421825,\n",
       " 1.752720928809102,\n",
       " 1.8014076212760215,\n",
       " 1.850094313742941,\n",
       " 1.8987810062098607,\n",
       " 1.9474676986767803,\n",
       " 1.9961543911436992,\n",
       " 2.044841083610619,\n",
       " 2.0935277760775386,\n",
       " 2.1422144685444584,\n",
       " 2.1909011610113773,\n",
       " 2.239587853478297,\n",
       " 2.2882745459452165,\n",
       " 2.336961238412136,\n",
       " 2.3856479308790557,\n",
       " 2.4343346233459746,\n",
       " 2.4830213158128944,\n",
       " 2.5317080082798142,\n",
       " 2.5803947007467336,\n",
       " 2.629081393213653,\n",
       " 2.6777680856805723,\n",
       " 2.726454778147492,\n",
       " 2.775141470614412,\n",
       " 2.823828163081331,\n",
       " 2.8725148555482503,\n",
       " 2.9212015480151696,\n",
       " 2.9698882404820894,\n",
       " 3.0185749329490092,\n",
       " 3.0672616254159286,\n",
       " 3.115948317882848,\n",
       " 3.164635010349768,\n",
       " 3.2133217028166876,\n",
       " 3.2620083952836065,\n",
       " 3.310695087750526,\n",
       " 3.3593817802174457,\n",
       " 3.408068472684365,\n",
       " 3.4567551651512844,\n",
       " 3.505441857618204,\n",
       " 3.5541285500851236,\n",
       " 3.602815242552043,\n",
       " 3.6515019350189624,\n",
       " 3.700188627485882,\n",
       " 3.7488753199528015,\n",
       " 3.7975620124197214,\n",
       " 3.8462487048866403,\n",
       " 3.8949353973535605,\n",
       " 3.94362208982048,\n",
       " 3.9923087822873984,\n",
       " 4.040995474754319,\n",
       " 4.089682167221238,\n",
       " 4.138368859688158,\n",
       " 4.187055552155077,\n",
       " 4.2357422446219966,\n",
       " 4.284428937088917,\n",
       " 4.333115629555835,\n",
       " 4.381802322022755,\n",
       " 4.430489014489675,\n",
       " 4.479175706956594,\n",
       " 4.527862399423514,\n",
       " 4.576549091890433,\n",
       " 4.625235784357352,\n",
       " 4.673922476824272,\n",
       " 4.722609169291192,\n",
       " 4.771295861758111,\n",
       " 4.819982554225031]"
      ]
     },
     "execution_count": 10,
     "metadata": {},
     "output_type": "execute_result"
    }
   ],
   "source": [
    "R0_full_values"
   ]
  },
  {
   "cell_type": "code",
   "execution_count": 11,
   "metadata": {},
   "outputs": [
    {
     "data": {
      "image/png": "[encoded data removed]",
      "text/plain": [
       "<Figure size 576x432 with 1 Axes>"
      ]
     },
     "metadata": {
      "needs_background": "light"
     },
     "output_type": "display_data"
    }
   ],
   "source": [
    "plt.figure(figsize=(8, 6))\n",
    "\n",
    "plt.plot(k_values, R0_full_values, label='R0_full')\n",
    "plt.xlabel('k')\n",
    "plt.ylabel('R0')\n",
    "plt.title('R0 vs k')\n",
    "\n",
    "plt.legend()\n",
    "plt.grid(True)\n",
    "\n",
    "plt.show()  "
   ]
  },
  {
   "cell_type": "code",
   "execution_count": 12,
   "metadata": {},
   "outputs": [],
   "source": [
    "initial_R0_sir, initial_R0_sei, initial_R0_full, a0 = calculate_initial_values(R_L, T_linha, Tmin, DD, D1, \n",
    "                                                                               T1, T2, omega1, phi1, R1, R2, omega2, phi2,\n",
    "                                                                               p_ML, p_ME, p_MP, c1, c2, A, B, C, b1, b2, \n",
    "                                                                               gamma, mu_H, 2)"
   ]
  },
  {
   "cell_type": "code",
   "execution_count": 13,
   "metadata": {},
   "outputs": [
    {
     "name": "stdout",
     "output_type": "stream",
     "text": [
      "R0_sir = 0.516154371229648 \n",
      "R0_sei = 1.8004095765138557\n",
      "R0_acoplado = 0.9639965108450061\n",
      "Taxa de picadas = 0.02409676240499894\n"
     ]
    }
   ],
   "source": [
    "print(f'R0_sir = {initial_R0_sir} \\nR0_sei = {initial_R0_sei}\\nR0_acoplado = {initial_R0_full}\\nTaxa de picadas = {a0}')"
   ]
  },
  {
   "cell_type": "code",
   "execution_count": 14,
   "metadata": {},
   "outputs": [],
   "source": [
    "initial_R0_sir, initial_R0_sei, initial_R0_full, a0 = calculate_initial_values(R_L, T_linha, Tmin, DD, D1, \n",
    "                                                                               T1, T2, omega1, phi1, R1, R2, omega2, phi2,\n",
    "                                                                               p_ML, p_ME, p_MP, c1, c2, A, B, C, b1, b2, \n",
    "                                                                               gamma, mu_H, 2.1)"
   ]
  },
  {
   "cell_type": "code",
   "execution_count": 15,
   "metadata": {},
   "outputs": [
    {
     "name": "stdout",
     "output_type": "stream",
     "text": [
      "R0_sir = 0.5419620897911305 \n",
      "R0_sei = 1.8904300553395483\n",
      "R0_acoplado = 1.0121963363872564\n",
      "Taxa de picadas = 0.02409676240499894\n"
     ]
    }
   ],
   "source": [
    "print(f'R0_sir = {initial_R0_sir} \\nR0_sei = {initial_R0_sei}\\nR0_acoplado = {initial_R0_full}\\nTaxa de picadas = {a0}')"
   ]
  },
  {
   "cell_type": "code",
   "execution_count": 16,
   "metadata": {},
   "outputs": [
    {
     "name": "stdout",
     "output_type": "stream",
     "text": [
      "O valor de k que aproxima R0 de 1 é 2.0746963059512207\n"
     ]
    }
   ],
   "source": [
    "def equation_to_solve(k):\n",
    "    initial_R0_full = calculate_initial_values(\n",
    "        R_L, T_linha, Tmin, DD, D1, T1, T2,\n",
    "        omega1, phi1, R1, R2, omega2, phi2,\n",
    "        p_ML, p_ME, p_MP, c1, c2, A, B, C,\n",
    "        b1, b2, gamma, mu_H, k)[2] ##índice de R0 completo em calculate_initial_values\n",
    "    return initial_R0_full -1\n",
    "\n",
    "# Use fsolve to find the root (solution)\n",
    "initial_guess = 0.5  # Choose an initial guess for k\n",
    "k_solution = fsolve(equation_to_solve, initial_guess)\n",
    "\n",
    "print(f\"O valor de k que aproxima R0 de 1 é {k_solution[0]}\")"
   ]
  },
  {
   "cell_type": "code",
   "execution_count": 17,
   "metadata": {},
   "outputs": [],
   "source": [
    "initial_R0_sir, initial_R0_sei, initial_R0_full, a0 = calculate_initial_values(R_L, T_linha, Tmin, DD, D1, \n",
    "                                                                               T1, T2, omega1, phi1, R1, R2, omega2, phi2,\n",
    "                                                                               p_ML, p_ME, p_MP, c1, c2, A, B, C, b1, b2, \n",
    "                                                                               gamma, mu_H, 2.0746963059512207)"
   ]
  },
  {
   "cell_type": "code",
   "execution_count": 18,
   "metadata": {},
   "outputs": [
    {
     "name": "stdout",
     "output_type": "stream",
     "text": [
      "R0_sir = 0.535431783645363 \n",
      "R0_sei = 1.8676515487962488\n",
      "R0_acoplado = 1.0\n",
      "Taxa de picadas = 0.02409676240499894\n"
     ]
    }
   ],
   "source": [
    "print(f'R0_sir = {initial_R0_sir} \\nR0_sei = {initial_R0_sei}\\nR0_acoplado = {initial_R0_full}\\nTaxa de picadas = {a0}')"
   ]
  },
  {
   "cell_type": "code",
   "execution_count": 19,
   "metadata": {},
   "outputs": [
    {
     "data": {
      "image/png": "[encoded data removed]",
      "text/plain": [
       "<Figure size 576x432 with 1 Axes>"
      ]
     },
     "metadata": {
      "needs_background": "light"
     },
     "output_type": "display_data"
    }
   ],
   "source": [
    "k_value_at_1 = 2.0746963059512207\n",
    "R0_value_at_1 = 1\n",
    "\n",
    "plt.figure(figsize=(8, 6))\n",
    "\n",
    "plt.plot(k_values, R0_full_values, label='R0')\n",
    "plt.scatter([k_value_at_1], [R0_value_at_1], color='red', label=f'(k={k_value_at_1}, R0 = {R0_value_at_1})')\n",
    "plt.axhline(y=1, color='gray', linestyle='--', label='R0 = 1')\n",
    "plt.xlabel('k')\n",
    "plt.ylabel('R0')\n",
    "plt.title('R0 vs k')\n",
    "plt.legend()\n",
    "plt.grid(True)\n",
    "plt.show()"
   ]
  },
  {
   "cell_type": "code",
   "execution_count": null,
   "metadata": {},
   "outputs": [],
   "source": []
  }
 ],
 "metadata": {
  "kernelspec": {
   "display_name": "SageMath 9.2",
   "language": "sage",
   "name": "sagemath"
  },
  "language_info": {
   "codemirror_mode": {
    "name": "ipython",
    "version": 3
   },
   "file_extension": ".py",
   "mimetype": "text/x-python",
   "name": "python",
   "nbconvert_exporter": "python",
   "pygments_lexer": "ipython3",
   "version": "3.7.7"
  }
 },
 "nbformat": 4,
 "nbformat_minor": 4
}
