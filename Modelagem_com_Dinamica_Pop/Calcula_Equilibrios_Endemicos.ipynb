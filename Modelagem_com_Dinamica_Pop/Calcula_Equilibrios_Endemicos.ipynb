{
 "cells": [
  {
   "cell_type": "code",
   "execution_count": 1,
   "metadata": {},
   "outputs": [],
   "source": [
    "import numpy as np\n",
    "from scipy.integrate import solve_ivp\n",
    "import matplotlib.pyplot as plt\n",
    "from numpy import cos\n",
    "from math import log\n",
    "from scipy.interpolate import interp1d\n",
    "from ipywidgets import interact, interactive, fixed, interact_manual\n",
    "import ipywidgets as widgets\n",
    "from mpl_toolkits.mplot3d import Axes3D\n",
    "from scipy.optimize import minimize_scalar\n",
    "from scipy.optimize import minimize"
   ]
  },
  {
   "cell_type": "markdown",
   "metadata": {},
   "source": [
    "#### As equações do modelo:"
   ]
  },
  {
   "cell_type": "markdown",
   "metadata": {},
   "source": [
    "$dShdt = \\mu_H N -a  k b_2  (I_M / N)  S_H - \\mu_H S_H\\\\\n",
    "dIhdt = a  k b_2  (I_M / N)  S_H - \\gamma  I_H - \\mu_H I_H\\\\\n",
    "dRhdt = \\gamma  I_H - \\mu_H R_H$"
   ]
  },
  {
   "cell_type": "markdown",
   "metadata": {},
   "source": [
    "$dSmdt = b - a  k b_1  (I_H / N)  S_M - \\mu S_M \\\\\n",
    "dEmdt = a k b_1  (I_H / N)  S_M - \\mu E_M - b_3 E_M - l E_M\\\\\n",
    "dImdt = b_3  E_M  - \\mu I_M$"
   ]
  },
  {
   "cell_type": "code",
   "execution_count": 2,
   "metadata": {},
   "outputs": [],
   "source": [
    "%display typeset"
   ]
  },
  {
   "cell_type": "code",
   "execution_count": 3,
   "metadata": {},
   "outputs": [
    {
     "data": {
      "text/html": [
       "<html><script type=\"math/tex; mode=display\">\\newcommand{\\Bold}[1]{\\mathbf{#1}}\\left(S_{H}, I_{H}, R_{H}, S_{M}, E_{M}, I_{M}, b, a, b_{1}, b_{2}, k, \\gamma, N, \\mu, b_{3}, l, \\mu_{H}\\right)</script></html>"
      ],
      "text/latex": [
       "\\begin{math}\n",
       "\\newcommand{\\Bold}[1]{\\mathbf{#1}}\\left(S_{H}, I_{H}, R_{H}, S_{M}, E_{M}, I_{M}, b, a, b_{1}, b_{2}, k, \\gamma, N, \\mu, b_{3}, l, \\mu_{H}\\right)\n",
       "\\end{math}"
      ],
      "text/plain": [
       "(S_H, I_H, R_H, S_M, E_M, I_M, b, a, b1, b2, k, gamma, N, mu, b3, l, mu_H)"
      ]
     },
     "execution_count": 3,
     "metadata": {},
     "output_type": "execute_result"
    }
   ],
   "source": [
    "var('S_H I_H R_H S_M E_M I_M b a b1 b2 k gamma N mu b3 l mu_H')"
   ]
  },
  {
   "cell_type": "code",
   "execution_count": 4,
   "metadata": {},
   "outputs": [],
   "source": [
    "dShdt = mu_H * N -a * k * b2 * (I_M / N) * S_H - mu_H * S_H\n",
    "dIhdt = a * k * b2 * (I_M / N) * S_H - gamma * I_H - mu_H * I_H\n",
    "dRhdt = gamma * I_H - mu_H * R_H\n",
    "dSmdt = b - a * k * b1 * (I_H / N) * S_M - mu * S_M\n",
    "dEmdt = a * k * b1 * (I_H / N) * S_M - mu * E_M - b3 * E_M - l * E_M\n",
    "dImdt = b3 * E_M - mu * I_M"
   ]
  },
  {
   "cell_type": "markdown",
   "metadata": {},
   "source": [
    "#### Calculando o equilíbrio do SIR/SEI"
   ]
  },
  {
   "cell_type": "code",
   "execution_count": 5,
   "metadata": {},
   "outputs": [
    {
     "data": {
      "text/html": [
       "<html><script type=\"math/tex; mode=display\">\\newcommand{\\Bold}[1]{\\mathbf{#1}}\\left[\\left[S_{H} = N, I_{H} = 0, R_{H} = 0, S_{M} = \\frac{b}{\\mu}, E_{M} = 0, I_{M} = 0\\right], \\left[S_{H} = \\frac{N^{2} \\gamma \\mu^{3} + {\\left(N^{2} b_{3} \\gamma + N^{2} \\gamma l\\right)} \\mu^{2} + {\\left(N^{2} \\mu^{3} + {\\left(N^{2} a b_{1} k + N^{2} b_{3} + N^{2} l\\right)} \\mu^{2} + {\\left(N^{2} a b_{1} b_{3} k + N^{2} a b_{1} k l\\right)} \\mu\\right)} \\mu_{H}}{a^{2} b b_{1} b_{2} b_{3} k^{2} + {\\left(N a b_{1} k \\mu^{2} + {\\left(N a b_{1} b_{3} k + N a b_{1} k l\\right)} \\mu\\right)} \\mu_{H}}, I_{H} = -\\frac{{\\left(N^{2} \\mu^{3} + {\\left(N^{2} b_{3} + N^{2} l\\right)} \\mu^{2}\\right)} \\mu_{H}^{2} - {\\left(N a^{2} b b_{1} b_{2} b_{3} k^{2} - N^{2} \\gamma \\mu^{3} - {\\left(N^{2} b_{3} \\gamma + N^{2} \\gamma l\\right)} \\mu^{2}\\right)} \\mu_{H}}{a^{2} b b_{1} b_{2} b_{3} \\gamma k^{2} + {\\left(N a b_{1} k \\mu^{2} + {\\left(N a b_{1} b_{3} k + N a b_{1} k l\\right)} \\mu\\right)} \\mu_{H}^{2} + {\\left(a^{2} b b_{1} b_{2} b_{3} k^{2} + N a b_{1} \\gamma k \\mu^{2} + {\\left(N a b_{1} b_{3} \\gamma k + N a b_{1} \\gamma k l\\right)} \\mu\\right)} \\mu_{H}}, R_{H} = \\frac{N a^{2} b b_{1} b_{2} b_{3} \\gamma k^{2} - N^{2} \\gamma^{2} \\mu^{3} - {\\left(N^{2} b_{3} \\gamma^{2} + N^{2} \\gamma^{2} l\\right)} \\mu^{2} - {\\left(N^{2} \\gamma \\mu^{3} + {\\left(N^{2} b_{3} \\gamma + N^{2} \\gamma l\\right)} \\mu^{2}\\right)} \\mu_{H}}{a^{2} b b_{1} b_{2} b_{3} \\gamma k^{2} + {\\left(N a b_{1} k \\mu^{2} + {\\left(N a b_{1} b_{3} k + N a b_{1} k l\\right)} \\mu\\right)} \\mu_{H}^{2} + {\\left(a^{2} b b_{1} b_{2} b_{3} k^{2} + N a b_{1} \\gamma k \\mu^{2} + {\\left(N a b_{1} b_{3} \\gamma k + N a b_{1} \\gamma k l\\right)} \\mu\\right)} \\mu_{H}}, S_{M} = \\frac{a b b_{2} b_{3} \\gamma k + {\\left(N \\mu^{2} + {\\left(N b_{3} + N l\\right)} \\mu\\right)} \\mu_{H}^{2} + {\\left(a b b_{2} b_{3} k + N \\gamma \\mu^{2} + {\\left(N b_{3} \\gamma + N \\gamma l\\right)} \\mu\\right)} \\mu_{H}}{a b_{2} b_{3} \\gamma k \\mu + {\\left(a^{2} b_{1} b_{2} b_{3} k^{2} + a b_{2} b_{3} k \\mu\\right)} \\mu_{H}}, E_{M} = -\\frac{{\\left(N \\mu^{3} + {\\left(N b_{3} + N l\\right)} \\mu^{2}\\right)} \\mu_{H}^{2} - {\\left(a^{2} b b_{1} b_{2} b_{3} k^{2} - N \\gamma \\mu^{3} - {\\left(N b_{3} \\gamma + N \\gamma l\\right)} \\mu^{2}\\right)} \\mu_{H}}{a b_{2} b_{3} \\gamma k \\mu^{2} + {\\left(a b_{2} b_{3}^{2} \\gamma k + a b_{2} b_{3} \\gamma k l\\right)} \\mu + {\\left(a^{2} b_{1} b_{2} b_{3}^{2} k^{2} + a^{2} b_{1} b_{2} b_{3} k^{2} l + a b_{2} b_{3} k \\mu^{2} + {\\left(a^{2} b_{1} b_{2} b_{3} k^{2} + a b_{2} b_{3}^{2} k + a b_{2} b_{3} k l\\right)} \\mu\\right)} \\mu_{H}}, I_{M} = -\\frac{{\\left(N \\mu^{3} + {\\left(N b_{3} + N l\\right)} \\mu^{2}\\right)} \\mu_{H}^{2} - {\\left(a^{2} b b_{1} b_{2} b_{3} k^{2} - N \\gamma \\mu^{3} - {\\left(N b_{3} \\gamma + N \\gamma l\\right)} \\mu^{2}\\right)} \\mu_{H}}{a b_{2} \\gamma k \\mu^{3} + {\\left(a b_{2} b_{3} \\gamma k + a b_{2} \\gamma k l\\right)} \\mu^{2} + {\\left(a b_{2} k \\mu^{3} + {\\left(a^{2} b_{1} b_{2} k^{2} + a b_{2} b_{3} k + a b_{2} k l\\right)} \\mu^{2} + {\\left(a^{2} b_{1} b_{2} b_{3} k^{2} + a^{2} b_{1} b_{2} k^{2} l\\right)} \\mu\\right)} \\mu_{H}}\\right]\\right]</script></html>"
      ],
      "text/latex": [
       "\\begin{math}\n",
       "\\newcommand{\\Bold}[1]{\\mathbf{#1}}\\left[\\left[S_{H} = N, I_{H} = 0, R_{H} = 0, S_{M} = \\frac{b}{\\mu}, E_{M} = 0, I_{M} = 0\\right], \\left[S_{H} = \\frac{N^{2} \\gamma \\mu^{3} + {\\left(N^{2} b_{3} \\gamma + N^{2} \\gamma l\\right)} \\mu^{2} + {\\left(N^{2} \\mu^{3} + {\\left(N^{2} a b_{1} k + N^{2} b_{3} + N^{2} l\\right)} \\mu^{2} + {\\left(N^{2} a b_{1} b_{3} k + N^{2} a b_{1} k l\\right)} \\mu\\right)} \\mu_{H}}{a^{2} b b_{1} b_{2} b_{3} k^{2} + {\\left(N a b_{1} k \\mu^{2} + {\\left(N a b_{1} b_{3} k + N a b_{1} k l\\right)} \\mu\\right)} \\mu_{H}}, I_{H} = -\\frac{{\\left(N^{2} \\mu^{3} + {\\left(N^{2} b_{3} + N^{2} l\\right)} \\mu^{2}\\right)} \\mu_{H}^{2} - {\\left(N a^{2} b b_{1} b_{2} b_{3} k^{2} - N^{2} \\gamma \\mu^{3} - {\\left(N^{2} b_{3} \\gamma + N^{2} \\gamma l\\right)} \\mu^{2}\\right)} \\mu_{H}}{a^{2} b b_{1} b_{2} b_{3} \\gamma k^{2} + {\\left(N a b_{1} k \\mu^{2} + {\\left(N a b_{1} b_{3} k + N a b_{1} k l\\right)} \\mu\\right)} \\mu_{H}^{2} + {\\left(a^{2} b b_{1} b_{2} b_{3} k^{2} + N a b_{1} \\gamma k \\mu^{2} + {\\left(N a b_{1} b_{3} \\gamma k + N a b_{1} \\gamma k l\\right)} \\mu\\right)} \\mu_{H}}, R_{H} = \\frac{N a^{2} b b_{1} b_{2} b_{3} \\gamma k^{2} - N^{2} \\gamma^{2} \\mu^{3} - {\\left(N^{2} b_{3} \\gamma^{2} + N^{2} \\gamma^{2} l\\right)} \\mu^{2} - {\\left(N^{2} \\gamma \\mu^{3} + {\\left(N^{2} b_{3} \\gamma + N^{2} \\gamma l\\right)} \\mu^{2}\\right)} \\mu_{H}}{a^{2} b b_{1} b_{2} b_{3} \\gamma k^{2} + {\\left(N a b_{1} k \\mu^{2} + {\\left(N a b_{1} b_{3} k + N a b_{1} k l\\right)} \\mu\\right)} \\mu_{H}^{2} + {\\left(a^{2} b b_{1} b_{2} b_{3} k^{2} + N a b_{1} \\gamma k \\mu^{2} + {\\left(N a b_{1} b_{3} \\gamma k + N a b_{1} \\gamma k l\\right)} \\mu\\right)} \\mu_{H}}, S_{M} = \\frac{a b b_{2} b_{3} \\gamma k + {\\left(N \\mu^{2} + {\\left(N b_{3} + N l\\right)} \\mu\\right)} \\mu_{H}^{2} + {\\left(a b b_{2} b_{3} k + N \\gamma \\mu^{2} + {\\left(N b_{3} \\gamma + N \\gamma l\\right)} \\mu\\right)} \\mu_{H}}{a b_{2} b_{3} \\gamma k \\mu + {\\left(a^{2} b_{1} b_{2} b_{3} k^{2} + a b_{2} b_{3} k \\mu\\right)} \\mu_{H}}, E_{M} = -\\frac{{\\left(N \\mu^{3} + {\\left(N b_{3} + N l\\right)} \\mu^{2}\\right)} \\mu_{H}^{2} - {\\left(a^{2} b b_{1} b_{2} b_{3} k^{2} - N \\gamma \\mu^{3} - {\\left(N b_{3} \\gamma + N \\gamma l\\right)} \\mu^{2}\\right)} \\mu_{H}}{a b_{2} b_{3} \\gamma k \\mu^{2} + {\\left(a b_{2} b_{3}^{2} \\gamma k + a b_{2} b_{3} \\gamma k l\\right)} \\mu + {\\left(a^{2} b_{1} b_{2} b_{3}^{2} k^{2} + a^{2} b_{1} b_{2} b_{3} k^{2} l + a b_{2} b_{3} k \\mu^{2} + {\\left(a^{2} b_{1} b_{2} b_{3} k^{2} + a b_{2} b_{3}^{2} k + a b_{2} b_{3} k l\\right)} \\mu\\right)} \\mu_{H}}, I_{M} = -\\frac{{\\left(N \\mu^{3} + {\\left(N b_{3} + N l\\right)} \\mu^{2}\\right)} \\mu_{H}^{2} - {\\left(a^{2} b b_{1} b_{2} b_{3} k^{2} - N \\gamma \\mu^{3} - {\\left(N b_{3} \\gamma + N \\gamma l\\right)} \\mu^{2}\\right)} \\mu_{H}}{a b_{2} \\gamma k \\mu^{3} + {\\left(a b_{2} b_{3} \\gamma k + a b_{2} \\gamma k l\\right)} \\mu^{2} + {\\left(a b_{2} k \\mu^{3} + {\\left(a^{2} b_{1} b_{2} k^{2} + a b_{2} b_{3} k + a b_{2} k l\\right)} \\mu^{2} + {\\left(a^{2} b_{1} b_{2} b_{3} k^{2} + a^{2} b_{1} b_{2} k^{2} l\\right)} \\mu\\right)} \\mu_{H}}\\right]\\right]\n",
       "\\end{math}"
      ],
      "text/plain": [
       "[[S_H == N, I_H == 0, R_H == 0, S_M == b/mu, E_M == 0, I_M == 0], [S_H == (N^2*gamma*mu^3 + (N^2*b3*gamma + N^2*gamma*l)*mu^2 + (N^2*mu^3 + (N^2*a*b1*k + N^2*b3 + N^2*l)*mu^2 + (N^2*a*b1*b3*k + N^2*a*b1*k*l)*mu)*mu_H)/(a^2*b*b1*b2*b3*k^2 + (N*a*b1*k*mu^2 + (N*a*b1*b3*k + N*a*b1*k*l)*mu)*mu_H), I_H == -((N^2*mu^3 + (N^2*b3 + N^2*l)*mu^2)*mu_H^2 - (N*a^2*b*b1*b2*b3*k^2 - N^2*gamma*mu^3 - (N^2*b3*gamma + N^2*gamma*l)*mu^2)*mu_H)/(a^2*b*b1*b2*b3*gamma*k^2 + (N*a*b1*k*mu^2 + (N*a*b1*b3*k + N*a*b1*k*l)*mu)*mu_H^2 + (a^2*b*b1*b2*b3*k^2 + N*a*b1*gamma*k*mu^2 + (N*a*b1*b3*gamma*k + N*a*b1*gamma*k*l)*mu)*mu_H), R_H == (N*a^2*b*b1*b2*b3*gamma*k^2 - N^2*gamma^2*mu^3 - (N^2*b3*gamma^2 + N^2*gamma^2*l)*mu^2 - (N^2*gamma*mu^3 + (N^2*b3*gamma + N^2*gamma*l)*mu^2)*mu_H)/(a^2*b*b1*b2*b3*gamma*k^2 + (N*a*b1*k*mu^2 + (N*a*b1*b3*k + N*a*b1*k*l)*mu)*mu_H^2 + (a^2*b*b1*b2*b3*k^2 + N*a*b1*gamma*k*mu^2 + (N*a*b1*b3*gamma*k + N*a*b1*gamma*k*l)*mu)*mu_H), S_M == (a*b*b2*b3*gamma*k + (N*mu^2 + (N*b3 + N*l)*mu)*mu_H^2 + (a*b*b2*b3*k + N*gamma*mu^2 + (N*b3*gamma + N*gamma*l)*mu)*mu_H)/(a*b2*b3*gamma*k*mu + (a^2*b1*b2*b3*k^2 + a*b2*b3*k*mu)*mu_H), E_M == -((N*mu^3 + (N*b3 + N*l)*mu^2)*mu_H^2 - (a^2*b*b1*b2*b3*k^2 - N*gamma*mu^3 - (N*b3*gamma + N*gamma*l)*mu^2)*mu_H)/(a*b2*b3*gamma*k*mu^2 + (a*b2*b3^2*gamma*k + a*b2*b3*gamma*k*l)*mu + (a^2*b1*b2*b3^2*k^2 + a^2*b1*b2*b3*k^2*l + a*b2*b3*k*mu^2 + (a^2*b1*b2*b3*k^2 + a*b2*b3^2*k + a*b2*b3*k*l)*mu)*mu_H), I_M == -((N*mu^3 + (N*b3 + N*l)*mu^2)*mu_H^2 - (a^2*b*b1*b2*b3*k^2 - N*gamma*mu^3 - (N*b3*gamma + N*gamma*l)*mu^2)*mu_H)/(a*b2*gamma*k*mu^3 + (a*b2*b3*gamma*k + a*b2*gamma*k*l)*mu^2 + (a*b2*k*mu^3 + (a^2*b1*b2*k^2 + a*b2*b3*k + a*b2*k*l)*mu^2 + (a^2*b1*b2*b3*k^2 + a^2*b1*b2*k^2*l)*mu)*mu_H)]]"
      ]
     },
     "execution_count": 5,
     "metadata": {},
     "output_type": "execute_result"
    }
   ],
   "source": [
    "solve([dShdt, dIhdt, dRhdt, dSmdt, dEmdt, dImdt],[S_H, I_H, R_H, S_M, E_M, I_M])"
   ]
  },
  {
   "cell_type": "markdown",
   "metadata": {},
   "source": [
    "Calculando com parâmetros fixos, vamos calcular o equilíbrio no tempo final:"
   ]
  },
  {
   "cell_type": "code",
   "execution_count": 6,
   "metadata": {},
   "outputs": [],
   "source": [
    "T_linha = 25.6\n",
    "T1= 26.4 \n",
    "T2= 0.025\n",
    "omega1= 0.017\n",
    "phi1= -1.45\n",
    "\n",
    "R1= 250.083 \n",
    "R2= 0.565\n",
    "omega2= 0.02\n",
    "phi2=1.6\n",
    "\n",
    "B_E=200\n",
    "p_ME=0.9\n",
    "p_ML=0.75\n",
    "p_MP=0.85\n",
    "tau_E=1\n",
    "tau_P=1\n",
    "# c1=0.019\n",
    "# c2=-0.021\n",
    "c1=0.00554\n",
    "c2=-0.06737\n",
    "mu_H = 0.00007\n",
    "\n",
    "D1=36.5\n",
    "b1=0.04\n",
    "\n",
    "A=12.5\n",
    "B=15\n",
    "C=-48.78\n",
    "\n",
    "b2=0.09\n",
    "tau_H=10\n",
    "DD=105\n",
    "Tmin=14.5\n",
    "gamma= 1/120 #365 \n",
    "R_L = 450\n",
    "N = 7717 #População estimada para 2004\n",
    "M = 300000 \n",
    "k=1 #Análise sem efeito do desmatamento\n",
    "\n",
    "E_M0 = 1 #Analisando a infecção iniciando com apenas um mosquito exposto e um humano infectado\n",
    "I_H0 = 1\n",
    "I_M0 = 0\n",
    "R_H0 = 0\n",
    "if E_M0 is None:\n",
    "        E_M0 = M / 100\n",
    "\n",
    "S_H0 = N - I_H0 - R_H0\n",
    "S_M0 = M - E_M0 - I_M0"
   ]
  },
  {
   "cell_type": "code",
   "execution_count": 7,
   "metadata": {},
   "outputs": [],
   "source": [
    "def Temp(t):\n",
    "    return T1 * (1 + T2 * cos(omega1 * t - phi1))\n",
    "\n",
    "def Rain(t):\n",
    "    return R1 * (1 + R2 * cos(omega2 * t - phi2))\n",
    "\n",
    "R_final = Rain(1825)\n",
    "T_final = Temp(1825)\n",
    "    \n",
    "# Duração da fase de desenvolvimento das larvas\n",
    "def tau_L(Temp):\n",
    "    return 1 / (c1 * Temp + c2)\n",
    "    \n",
    "# Taxa diária de sobrevivência dos mosquitos\n",
    "def p(Temp):\n",
    "    return np.exp(-1 / (A*Temp**2 + B*Temp + C))\n",
    "    \n",
    "# Probabilidade de sobrevivência das larvas dependente de temperatura e chuva\n",
    "def p_LT(Temp):\n",
    "    return np.exp(-(c1 * Temp + c2))\n",
    "    \n",
    "def p_LR(Rain):\n",
    "    return (4*p_ML/R_L**2) * Rain * (max(10^-5,R_L - Rain))\n",
    "    \n",
    "def p_LRT(Rain,Temp):\n",
    "    return p_LR(Rain)*p_LT(Temp)\n",
    "    \n",
    "# Probabilidade de sobrevivência dos ovos e pupas dependente de chuva (Não definido previamente)\n",
    "def p_ER(Rain):\n",
    "    return (4*p_ME/R_L**2) * Rain * (max(10^-5,R_L - Rain))\n",
    "    \n",
    "# Probabilidade de sobrevivência dos ovos e pupas dependente de chuva (Não definido previamente)\n",
    "def p_PR(Rain):\n",
    "    return (4*p_MP/R_L**2) * Rain * (max(10^-5,R_L - Rain))\n",
    "\n",
    "# Duração do ciclo esporogônico\n",
    "def tau_M(Temp):\n",
    "    return DD / (max(10^-5,Temp - Tmin))\n",
    "    \n",
    "tau_M_final = tau_M(T_final)\n",
    "\n",
    "# Taxa de infecção de expostos (1/Duração do ciclo esporogônico)\n",
    "def b3(tau_M, Temp):\n",
    "    return 1/tau_M\n",
    "    \n",
    "b3_final = b3(tau_M_final, T_final)\n",
    "    \n",
    "# Definindo a função de sobrevivência do mosquito\n",
    "def l_tau_M(tau_M, Temp):  \n",
    "    p_T = p(Temp)\n",
    "    return p_T**tau_M\n",
    "    \n",
    "l_final = l_tau_M(tau_M_final, T_final)\n",
    "\n",
    "# Definindo a taxa de mortalidade do mosquito\n",
    "def mu(Temp):\n",
    "    return -log(p(Temp))\n",
    "    \n",
    "mu_final = mu(T_final)\n",
    "    \n",
    "# Calcula a taxa de picada e probabilidade de transmissão\n",
    "def a(Temp):\n",
    "    return (max(10^-5, Temp - T_linha)) / D1\n",
    "    \n",
    "a_final = a(T_final)\n",
    "    \n",
    "def b(Rain,Temp):\n",
    "    return B_E * p_ER(Rain) * p_LRT(Rain,Temp) * p_PR(Rain) / (tau_E + tau_L(Temp) + tau_P)\n",
    "    \n",
    "b_final = b(R_final, T_final)"
   ]
  },
  {
   "cell_type": "code",
   "execution_count": 8,
   "metadata": {},
   "outputs": [],
   "source": [
    "def R0_sir(a, k, b2, gamma, mu_H):\n",
    "    return abs((a * k * b2) / (gamma + mu_H))\n",
    "    \n",
    "#R0_sir_curr = R0_sir(a_curr, b2, gamma)\n",
    "    \n",
    "def R0_sei(a, k, b1, b3, l, mu):\n",
    "    return abs((a * k * b1 * b3) / ((b3 + l) * mu + mu** 2))\n",
    "    \n",
    "#R0_sei_curr = R0_sei(a_curr, b1, b3_curr, l_curr, mu_curr)\n",
    "    \n",
    "def R0_full(a, k, b1, b2, b3, gamma, l, mu, mu_H):\n",
    "    return abs(((a**2 * b1 * b2 * b3 * k**2) / (mu*(gamma + mu_H)*(b3 + l + mu)))**(1/2))\n",
    "    \n",
    "#R0_curr = R0(a_curr, b1, b2, b3_curr, gamma, l_curr, mu_curr)\n",
    "\n",
    "def calculate_initial_values(R_L, T_linha, Tmin, DD, D1, T1, T2, omega1, phi1, R1, R2, omega2, phi2,\n",
    "                            p_ML, p_ME, p_MP, c1, c2, A, B, C, b1, b2, gamma, mu_H, k):\n",
    "    \n",
    "    T0 = T1 * (1 + T2 * cos(omega1 * 0 - phi1))\n",
    "    R0 = R1 * (1 + R2 * cos(omega2 * 0 - phi2))\n",
    "\n",
    "    tau_L0 = 1 / (c1 * T0 + c2)\n",
    "\n",
    "    p_LT0 = np.exp(-(c1 * T0 + c2))\n",
    "    \n",
    "    p_LR0 = (4 * p_ML / R_L**2) * R0 * (max(1e-5, R_L - R0))\n",
    "    \n",
    "    p_LRT0 = p_LR0 * p_LT0\n",
    "    \n",
    "    p_ER0 = (4 * p_ME / R_L**2) * R0 * (max(1e-5, R_L - R0))\n",
    "    \n",
    "    p_PR0 = (4 * p_MP / R_L**2) * R0 * (max(1e-5, R_L - R0))\n",
    "\n",
    "    a0 = (max(1e-5, T0 - T_linha)) / D1\n",
    "    b0 = B_E * p_ER0 * p_LRT0 * p_PR0 / (tau_E + tau_L0 + tau_P)\n",
    "\n",
    "    tau_M0 = DD / (max(1e-5, T0 - Tmin))\n",
    "    \n",
    "    b30 =  1 / tau_M0\n",
    "    \n",
    "    p0 = np.exp(-1 / (A * T0**2 + B * T0 + C))\n",
    "    l0 = p0 ** tau_M0\n",
    "\n",
    "    mu0 = -log(p0)\n",
    "\n",
    "    initial_R0_sir = R0_sir(a0, k, b2, gamma, mu_H)\n",
    "    initial_R0_sei = R0_sei(a0, k, b1, b30, l0, mu0)\n",
    "    initial_R0_full = R0_full(a0, k, b1, b2, b30, gamma, l0, mu0, mu_H)\n",
    "    \n",
    "    return initial_R0_sir, initial_R0_sei, initial_R0_full, a0"
   ]
  },
  {
   "cell_type": "code",
   "execution_count": 9,
   "metadata": {},
   "outputs": [],
   "source": [
    "initial_R0_sir, initial_R0_sei, initial_R0_full, a0 = calculate_initial_values(R_L, T_linha, Tmin, DD, D1, \n",
    "                                                                               T1, T2, omega1, phi1, R1, R2, omega2, phi2,\n",
    "                                                                               p_ML, p_ME, p_MP, c1, c2, A, B, C, b1, b2, \n",
    "                                                                               gamma, mu_H, k)"
   ]
  },
  {
   "cell_type": "code",
   "execution_count": 10,
   "metadata": {},
   "outputs": [
    {
     "name": "stdout",
     "output_type": "stream",
     "text": [
      "R0_sir = 0.258077185614824 \n",
      "R0_sei = 0.9002047882569278\n",
      "R0_acoplado = 0.4819982554225031\n",
      "Taxa de picadas = 0.02409676240499894\n"
     ]
    }
   ],
   "source": [
    "print(f'R0_sir = {initial_R0_sir} \\nR0_sei = {initial_R0_sei}\\nR0_acoplado = {initial_R0_full}\\nTaxa de picadas = {a0}')"
   ]
  },
  {
   "cell_type": "code",
   "execution_count": 11,
   "metadata": {},
   "outputs": [],
   "source": [
    "initial_R0_sir, initial_R0_sei, initial_R0_full, a0 = calculate_initial_values(R_L, T_linha, Tmin, DD, D1, \n",
    "                                                                               T1, T2, omega1, phi1, R1, R2, omega2, phi2,\n",
    "                                                                               p_ML, p_ME, p_MP, c1, c2, A, B, C, b1, b2, \n",
    "                                                                               gamma, mu_H, 10)"
   ]
  },
  {
   "cell_type": "code",
   "execution_count": 12,
   "metadata": {},
   "outputs": [
    {
     "name": "stdout",
     "output_type": "stream",
     "text": [
      "R0_sir = 2.5807718561482402 \n",
      "R0_sei = 9.00204788256928\n",
      "R0_acoplado = 4.819982554225031\n",
      "Taxa de picadas = 0.02409676240499894\n"
     ]
    }
   ],
   "source": [
    "print(f'R0_sir = {initial_R0_sir} \\nR0_sei = {initial_R0_sei}\\nR0_acoplado = {initial_R0_full}\\nTaxa de picadas = {a0}')"
   ]
  },
  {
   "cell_type": "code",
   "execution_count": null,
   "metadata": {},
   "outputs": [],
   "source": []
  }
 ],
 "metadata": {
  "kernelspec": {
   "display_name": "SageMath 9.2",
   "language": "sage",
   "name": "sagemath"
  },
  "language_info": {
   "codemirror_mode": {
    "name": "ipython",
    "version": 3
   },
   "file_extension": ".py",
   "mimetype": "text/x-python",
   "name": "python",
   "nbconvert_exporter": "python",
   "pygments_lexer": "ipython3",
   "version": "3.7.7"
  }
 },
 "nbformat": 4,
 "nbformat_minor": 4
}
