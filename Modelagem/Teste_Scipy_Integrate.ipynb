{
 "cells": [
  {
   "cell_type": "code",
   "execution_count": 1,
   "metadata": {},
   "outputs": [],
   "source": [
    "import numpy as np\n",
    "from scipy.integrate import solve_ivp\n",
    "import matplotlib.pyplot as plt\n",
    "from numpy import cos\n",
    "from math import log"
   ]
  },
  {
   "cell_type": "markdown",
   "metadata": {},
   "source": [
    "Incidência = Número de casos/(População no meio do período)*5 * 10^5"
   ]
  },
  {
   "cell_type": "code",
   "execution_count": 2,
   "metadata": {},
   "outputs": [
    {
     "data": {
      "text/plain": [
       "8557.80662802096"
      ]
     },
     "execution_count": 2,
     "metadata": {},
     "output_type": "execute_result"
    }
   ],
   "source": [
    "pop = (78745*10^5)/(5*184030.8)\n",
    "n(pop)"
   ]
  },
  {
   "cell_type": "code",
   "execution_count": 3,
   "metadata": {},
   "outputs": [],
   "source": [
    "T1=27.4\n",
    "T2=0.025\n",
    "omega1=0.67\n",
    "phi1=1.53\n",
    "R1=196.9\n",
    "R2=-0.033\n",
    "omega2=0.65\n",
    "phi2=1.99\n",
    "B_E=200\n",
    "p_ME=0.9\n",
    "p_ML=0.25\n",
    "p_MP=0.75\n",
    "tau_E=1\n",
    "tau_P=1\n",
    "c1=0.00554\n",
    "c2=-0.06737\n",
    "D1=36.5\n",
    "b1=0.1\n",
    "A=-0.03\n",
    "B=1.31\n",
    "C=-4.4\n",
    "b2=0.3\n",
    "tau_H=10\n",
    "DD=105\n",
    "Tmin=14.5\n",
    "gamma=1/365\n",
    "R_L = 50\n",
    "N=8558\n",
    "M=100000\n",
    "I_M0=50000 # None\n",
    "I_H0=1000 \n",
    "if I_M0 is None:\n",
    "        I_M0 = M / 100\n",
    "\n",
    "S_H0 = N - I_H0"
   ]
  },
  {
   "cell_type": "code",
   "execution_count": 4,
   "metadata": {},
   "outputs": [
    {
     "name": "stdout",
     "output_type": "stream",
     "text": [
      "População suscetível inicial: 7558 \n",
      "População infectada inicial: 1000\n"
     ]
    }
   ],
   "source": [
    "print(f'População suscetível inicial: {S_H0} \\nPopulação infectada inicial: {I_H0}')"
   ]
  },
  {
   "cell_type": "code",
   "execution_count": 5,
   "metadata": {},
   "outputs": [
    {
     "data": {
      "text/plain": [
       "11.6849731245618"
      ]
     },
     "execution_count": 5,
     "metadata": {},
     "output_type": "execute_result"
    }
   ],
   "source": [
    "ratio = M/N\n",
    "n(ratio)"
   ]
  },
  {
   "cell_type": "code",
   "execution_count": 6,
   "metadata": {},
   "outputs": [],
   "source": [
    "def lotkavolterra(t, z, T1, T2, omega1, phi1, R1, R2, omega2, phi2,\n",
    "                   B_E, p_ME, p_ML, p_MP, tau_E, tau_P, c1, c2,\n",
    "                   D1, b1, A, B, C, b2, tau_H, DD, Tmin, gamma, R_L,\n",
    "                   N, M, I_M0, I_H0):\n",
    "    S, I, R = z\n",
    "    \n",
    "    # Funções de temperatura e chuva\n",
    "    def T(t):\n",
    "        return T1 * (1 + T2 * cos(omega1 * t - phi1))\n",
    "\n",
    "    def R(t):\n",
    "        return R1 * (1 + R2 * cos(omega2 * t - phi2))\n",
    "\n",
    "    # Duração da fase de desenvolvimento das larvas\n",
    "    def tau_L(T):\n",
    "        return 1 / (c1 * T + c2)\n",
    "    \n",
    "    # Taxa diária de sobrevivência dos mosquitos\n",
    "    def p(T):\n",
    "        return np.exp(-1 / (A*T**2 + B*T + C))\n",
    "    \n",
    "    # Probabilidade de sobrevivência das larvas dependente de temperatura e chuva\n",
    "    def p_LT(T):\n",
    "        return np.exp(-(c1 * T + c2))\n",
    "    \n",
    "    def p_LR(R):\n",
    "        return (4*p_ML/R_L**2) * R * (R_L - R)\n",
    "    \n",
    "    def p_LRT(R,T):\n",
    "        return p_LR(R)*p_LT(T)\n",
    "    \n",
    "    # Probabilidade de sobrevivência dos ovos e pupas dependente de chuva (Não definido previamente)\n",
    "    def p_ER(R):\n",
    "        return (4*p_ME/R_L**2) * R * (R_L - R)\n",
    "    \n",
    "    # Probabilidade de sobrevivência dos ovos e pupas dependente de chuva (Não definido previamente)\n",
    "    def p_PR(R):\n",
    "        return (4*p_MP/R_L**2) * R * (R_L - R)\n",
    "\n",
    "    # Duração do ciclo esporogônico\n",
    "    def tau_M(T):\n",
    "        return DD / (T - Tmin)\n",
    "\n",
    "    # Definindo a função de sobrevivência do mosquito\n",
    "    def l(tau_M, T):  \n",
    "        p_T = p(T)\n",
    "        return p_T**tau_M\n",
    "\n",
    "    # Definindo a taxa de mortalidade do mosquito\n",
    "    def mu(T):\n",
    "        return -log(p(T))\n",
    "\n",
    "    R_curr = R(t)\n",
    "    T_curr = T(t)\n",
    "    \n",
    "    # Calcular a taxa de mordida e probabilidade de transmissão\n",
    "    def a(T):\n",
    "        return (T_curr - T1) / D1\n",
    "    \n",
    "    a_curr = a(T_curr)\n",
    "    \n",
    "    def b(R,T):\n",
    "        return B_E * p_ME * p_LRT(R_curr,T_curr) * p_MP / (tau_E + tau_L(T_curr) + tau_P)\n",
    "    \n",
    "    dSdt = -a_curr * b2 * (I_M0 / N) * S\n",
    "    dIdt = a_curr * b2 * (I_M0 / N) * S - gamma * I\n",
    "    dRdt = gamma * I\n",
    "    \n",
    "    return [dSdt, dIdt, dRdt] "
   ]
  },
  {
   "cell_type": "code",
   "execution_count": 7,
   "metadata": {},
   "outputs": [],
   "source": [
    "args = (T1, T2, omega1, phi1, R1, R2, omega2, phi2,\n",
    "                   B_E, p_ME, p_ML, p_MP, tau_E, tau_P, c1, c2,\n",
    "                   D1, b1, A, B, C, b2, tau_H, DD, Tmin, gamma, R_L,\n",
    "                   N, M, I_M0, I_H0)"
   ]
  },
  {
   "cell_type": "code",
   "execution_count": 8,
   "metadata": {},
   "outputs": [
    {
     "data": {
      "text/plain": [
       "  message: 'The solver successfully reached the end of the integration interval.'\n",
       "     nfev: 608\n",
       "     njev: 0\n",
       "      nlu: 0\n",
       "      sol: <scipy.integrate._ivp.common.OdeSolution object at 0x6fff0fa437d0>\n",
       "   status: 0\n",
       "  success: True\n",
       "        t: array([0.00000000e+00, 5.16187658e-04, 5.67806424e-03, 5.72968300e-02,\n",
       "       5.73484488e-01, 2.91709414e+00, 7.41864454e+00, 1.20693994e+01,\n",
       "       1.66358045e+01, 2.18114500e+01, 2.66255108e+01, 3.09078017e+01,\n",
       "       3.51900926e+01, 4.05205058e+01, 4.56060023e+01, 4.99567555e+01,\n",
       "       5.43075087e+01, 5.87399224e+01, 6.31723362e+01, 6.84397420e+01,\n",
       "       7.41498195e+01, 7.85104116e+01, 8.28710037e+01, 8.70588203e+01,\n",
       "       9.12466368e+01, 9.64437401e+01, 1.02854957e+02, 1.07941031e+02,\n",
       "       1.12622682e+02, 1.18506049e+02, 1.23383751e+02, 1.28214261e+02,\n",
       "       1.33501721e+02, 1.38815514e+02, 1.42990633e+02, 1.47165753e+02,\n",
       "       1.52203334e+02, 1.57420794e+02, 1.61778302e+02, 1.66135810e+02,\n",
       "       1.71134607e+02, 1.76857107e+02, 1.81063186e+02, 1.85269266e+02,\n",
       "       1.90398728e+02, 1.95640097e+02, 1.99836113e+02, 2.04032128e+02,\n",
       "       2.09127898e+02, 2.14400004e+02, 2.18579988e+02, 2.22759973e+02,\n",
       "       2.27803193e+02, 2.33347967e+02, 2.37413540e+02, 2.41479113e+02,\n",
       "       2.46471727e+02, 2.52518150e+02, 2.56922989e+02, 2.61105621e+02,\n",
       "       2.65100299e+02, 2.69094976e+02, 2.73870554e+02, 2.78538611e+02,\n",
       "       2.83377252e+02, 2.88166139e+02, 2.92976223e+02, 2.98256686e+02,\n",
       "       3.02356113e+02, 3.06455540e+02, 3.11213853e+02, 3.15717759e+02,\n",
       "       3.20576512e+02, 3.25084714e+02, 3.29933669e+02, 3.34418476e+02,\n",
       "       3.39270376e+02, 3.43733039e+02, 3.48603670e+02, 3.53052584e+02,\n",
       "       3.57946225e+02, 3.62387207e+02, 3.65000000e+02])\n",
       " t_events: None\n",
       "        y: array([[7.55800000e+03, 7.55799474e+03, 7.55793974e+03, 7.55714606e+03,\n",
       "        7.52536436e+03, 7.05216251e+03, 7.29985580e+03, 7.09981402e+03,\n",
       "        7.26067427e+03, 7.01962004e+03, 7.39301476e+03, 7.07733956e+03,\n",
       "        7.20941167e+03, 7.02498919e+03, 7.43079343e+03, 7.01108112e+03,\n",
       "        7.28939423e+03, 7.14008386e+03, 7.16747722e+03, 7.06432610e+03,\n",
       "        7.48553986e+03, 6.92802615e+03, 7.37485432e+03, 7.09010664e+03,\n",
       "        7.14642223e+03, 7.08623017e+03, 7.52413262e+03, 6.82861100e+03,\n",
       "        7.52862713e+03, 6.95517493e+03, 7.35463862e+03, 7.01711930e+03,\n",
       "        7.18375877e+03, 7.29149892e+03, 7.15376537e+03, 7.05296829e+03,\n",
       "        7.19078405e+03, 7.25186362e+03, 7.14076489e+03, 7.09557541e+03,\n",
       "        7.14367923e+03, 7.38678852e+03, 7.01403673e+03, 7.17678958e+03,\n",
       "        7.02110893e+03, 7.38678494e+03, 7.00575860e+03, 7.17371217e+03,\n",
       "        7.02225942e+03, 7.38258007e+03, 7.00358690e+03, 7.16236387e+03,\n",
       "        7.03523105e+03, 7.40896747e+03, 6.98192264e+03, 7.14833398e+03,\n",
       "        7.04941092e+03, 7.45487390e+03, 6.84681503e+03, 7.33487360e+03,\n",
       "        7.07273204e+03, 7.02205546e+03, 7.21309496e+03, 7.03442387e+03,\n",
       "        7.18086547e+03, 7.08872778e+03, 7.12636497e+03, 7.24919753e+03,\n",
       "        7.12230519e+03, 6.97964420e+03, 7.24112728e+03, 6.95405950e+03,\n",
       "        7.24266507e+03, 6.95007886e+03, 7.24542535e+03, 6.93957390e+03,\n",
       "        7.25271440e+03, 6.92560406e+03, 7.26070900e+03, 6.91297558e+03,\n",
       "        7.26665233e+03, 6.90344598e+03, 7.42760965e+03],\n",
       "       [1.00000000e+03, 1.00000384e+03, 1.00004470e+03, 1.00069691e+03,\n",
       "        1.03104698e+03, 1.49627429e+03, 1.22937496e+03, 1.41536015e+03,\n",
       "        1.23533546e+03, 1.46081499e+03, 1.06816257e+03, 1.37162368e+03,\n",
       "        1.22212928e+03, 1.39137247e+03, 9.66310875e+02, 1.37402005e+03,\n",
       "        1.07893518e+03, 1.21682782e+03, 1.17247288e+03, 1.26195539e+03,\n",
       "        8.20941317e+02, 1.36683421e+03, 9.04610581e+02, 1.17942719e+03,\n",
       "        1.10788072e+03, 1.15575769e+03, 6.97726674e+02, 1.37878612e+03,\n",
       "        6.65915075e+02, 1.22168003e+03, 8.11293643e+02, 1.13322754e+03,\n",
       "        9.55298757e+02, 8.30773669e+02, 9.60427475e+02, 1.04766149e+03,\n",
       "        8.99864327e+02, 8.22818062e+02, 9.25910769e+02, 9.57518591e+02,\n",
       "        9.00150530e+02, 6.40756198e+02, 1.00589521e+03, 8.30488423e+02,\n",
       "        9.77054140e+02, 5.96931348e+02, 9.70789264e+02, 7.90656118e+02,\n",
       "        9.33605572e+02, 5.59301756e+02, 9.31584791e+02, 7.61076266e+02,\n",
       "        8.80339808e+02, 4.92668589e+02, 9.13464577e+02, 7.35979013e+02,\n",
       "        8.27617008e+02, 4.08032328e+02, 1.00871077e+03, 5.10448595e+02,\n",
       "        7.67398899e+02, 8.07604856e+02, 6.10253492e+02, 7.77347495e+02,\n",
       "        6.24724987e+02, 7.05192543e+02, 6.61684831e+02, 5.26567303e+02,\n",
       "        6.48916205e+02, 7.81596253e+02, 5.14486703e+02, 7.91162490e+02,\n",
       "        4.96894698e+02, 7.79266702e+02, 4.78446877e+02, 7.74321651e+02,\n",
       "        4.55847543e+02, 7.73229572e+02, 4.32889282e+02, 7.71126166e+02,\n",
       "        4.12307022e+02, 7.66225746e+02, 2.38589606e+02],\n",
       "       [0.00000000e+00, 1.41421547e-03, 1.55566811e-02, 1.57025179e-01,\n",
       "        1.58866477e+00, 9.56319711e+00, 2.87692437e+01, 4.28258285e+01,\n",
       "        6.19902686e+01, 7.75649673e+01, 9.68226763e+01, 1.09036765e+02,\n",
       "        1.26459057e+02, 1.41638339e+02, 1.60895698e+02, 1.72898831e+02,\n",
       "        1.89670587e+02, 2.01088320e+02, 2.18049908e+02, 2.31718509e+02,\n",
       "        2.51518821e+02, 2.63139644e+02, 2.78535097e+02, 2.88466163e+02,\n",
       "        3.03697051e+02, 3.16012148e+02, 3.36140707e+02, 3.50602881e+02,\n",
       "        3.63457794e+02, 3.81145045e+02, 3.92067742e+02, 4.07653163e+02,\n",
       "        4.18942478e+02, 4.35727410e+02, 4.43807160e+02, 4.57370216e+02,\n",
       "        4.67351627e+02, 4.83318316e+02, 4.91324336e+02, 5.04905996e+02,\n",
       "        5.14170238e+02, 5.30455285e+02, 5.38068061e+02, 5.50721997e+02,\n",
       "        5.59836934e+02, 5.74283716e+02, 5.81452132e+02, 5.93631712e+02,\n",
       "        6.02135006e+02, 6.16118171e+02, 6.22828304e+02, 6.34559860e+02,\n",
       "        6.42429144e+02, 6.56363946e+02, 6.62612786e+02, 6.73687002e+02,\n",
       "        6.80972068e+02, 6.95093774e+02, 7.02474200e+02, 7.12677809e+02,\n",
       "        7.17869057e+02, 7.28339685e+02, 7.34651544e+02, 7.46228639e+02,\n",
       "        7.52409545e+02, 7.64079677e+02, 7.69950197e+02, 7.82235170e+02,\n",
       "        7.86778603e+02, 7.96759547e+02, 8.02386021e+02, 8.12778009e+02,\n",
       "        8.18440228e+02, 8.28654441e+02, 8.34127773e+02, 8.44104450e+02,\n",
       "        8.49438060e+02, 8.59166364e+02, 8.64401716e+02, 8.73898255e+02,\n",
       "        8.79040643e+02, 8.88328277e+02, 8.91800747e+02]])\n",
       " y_events: None"
      ]
     },
     "execution_count": 8,
     "metadata": {},
     "output_type": "execute_result"
    }
   ],
   "source": [
    "sol = solve_ivp(lotkavolterra, [0, 365], [S_H0, I_H0, 0], args=args, dense_output=True)\n",
    "sol"
   ]
  },
  {
   "cell_type": "code",
   "execution_count": 9,
   "metadata": {},
   "outputs": [],
   "source": [
    "# Extraindo as soluções\n",
    "times = sol.t\n",
    "S, I, R = sol.y"
   ]
  },
  {
   "cell_type": "code",
   "execution_count": 10,
   "metadata": {},
   "outputs": [
    {
     "data": {
      "image/png": "[encoded data removed]",
      "text/plain": [
       "<Figure size 720x432 with 1 Axes>"
      ]
     },
     "metadata": {
      "needs_background": "light"
     },
     "output_type": "display_data"
    }
   ],
   "source": [
    "# Cria um gráfico com base no tempo e nos valores de S_H, I_H e R_H\n",
    "plt.figure(figsize=(10, 6))\n",
    "plt.plot(times, S, label='Suscetíveis')\n",
    "plt.plot(times, I, label='Infectados')\n",
    "plt.plot(times, R, label='Recuperados')\n",
    "\n",
    "# Define os títulos dos eixos e o título do gráfico\n",
    "plt.xlabel('Tempo (dias)')\n",
    "plt.ylabel('População')\n",
    "plt.title('Modelo SIR de Malária')\n",
    "\n",
    "# Adiciona a legenda ao gráfico\n",
    "plt.legend()\n",
    "\n",
    "# Mostra o gráfico\n",
    "plt.show()"
   ]
  },
  {
   "cell_type": "code",
   "execution_count": 11,
   "metadata": {},
   "outputs": [],
   "source": [
    "# Funções de temperatura e chuva fora do contexto da função lotkavolterra\n",
    "def T(t):\n",
    "        return T1 * (1 + T2 * cos(omega1 * t - phi1))\n",
    "\n",
    "def R(t):\n",
    "        return R1 * (1 + R2 * cos(omega2 * t - phi2))\n",
    "\n",
    "# Duração do ciclo esporogônico fora do contexto da função lotkavolterra\n",
    "def tau_M(T):\n",
    "    return DD / (T - Tmin)\n",
    "\n",
    "# Taxa diária de sobrevivência dos mosquitos\n",
    "def p(T):\n",
    "    return np.exp(-1 / (A*T**2 + B*T + C))\n",
    "\n",
    "# Função de sobrevivência do mosquito\n",
    "def l(tau_M, T):  \n",
    "    p_T = p(T)\n",
    "    return p_T**tau_M\n",
    "\n",
    "# Taxa de mortalidade do mosquito\n",
    "def mu(T):\n",
    "    return -np.log(p(T))\n",
    "\n",
    "# Calcular a taxa de mordida e probabilidade de transmissão\n",
    "def a(T):\n",
    "    return (T - T1) / D1\n",
    "\n",
    "# Calcular l e mu ao longo do tempo\n",
    "l_values = [l(tau_M(T(t)), T(t)) for t in times]\n",
    "mu_values = [mu(T(t)) for t in times]\n",
    "a2_values = [(a(T(t)))^2 for t in times]"
   ]
  },
  {
   "cell_type": "code",
   "execution_count": 12,
   "metadata": {
    "scrolled": true
   },
   "outputs": [
    {
     "name": "stdout",
     "output_type": "stream",
     "text": [
      "Tempo: 0.0, l: 0.4040242302137476, mu: 0.1115841612302408, \n",
      "a^2: 5.858636955855422e-07 \n",
      "Tempo: 0.0005161876580221223, l: 0.4040276879050145, mu: 0.11158515057392686, \n",
      "a^2: 5.958333419095871e-07 \n",
      "Tempo: 0.005678064238243346, l: 0.4040622459874476, mu: 0.11159504648368565, \n",
      "a^2: 7.001472862827181e-07 \n",
      "Tempo: 0.05729683004045558, l: 0.4044058632175137, mu: 0.11169422866126212, \n",
      "a^2: 2.2038172285905884e-06 \n",
      "Tempo: 0.573484488062578, l: 0.40757369226387297, mu: 0.1126828466713931, \n",
      "a^2: 5.988598930415622e-05 \n",
      "Tempo: 2.9170941384772693, l: 0.41180983424827217, mu: 0.11427236048315846, \n",
      "a^2: 0.00029247176256517207 \n",
      "Tempo: 7.418644544115587, l: 0.39283480372479307, mu: 0.10896819585910072, \n",
      "a^2: 0.00032166465421896995 \n",
      "Tempo: 12.069399396793191, l: 0.41221344102466867, mu: 0.11444461502199653, \n",
      "a^2: 0.0003265439623095254 \n",
      "Tempo: 16.63580451549091, l: 0.39250863758361937, mu: 0.10890574635813503, \n",
      "a^2: 0.00033948389039712063 \n",
      "Tempo: 21.811450034808136, l: 0.41147577911286726, mu: 0.11413295248030836, \n",
      "a^2: 0.00026606761713210983 \n",
      "Tempo: 26.62551075955868, l: 0.394445085622843, mu: 0.10928593154264878, \n",
      "a^2: 0.00023954379119812413 \n",
      "Tempo: 30.907801693808587, l: 0.41208583445100183, mu: 0.11438969039968308, \n",
      "a^2: 0.0003155084824706524 \n",
      "Tempo: 35.190092628058494, l: 0.39229984565298853, mu: 0.10886609509679394, \n",
      "a^2: 0.0003510931362650047 \n",
      "Tempo: 40.52050579989716, l: 0.41159569290969394, mu: 0.11418267374837013, \n",
      "a^2: 0.00027536304919704735 \n",
      "Tempo: 45.606002251050384, l: 0.3955766201420528, mu: 0.10951910347095525, \n",
      "a^2: 0.000187966482336917 \n",
      "Tempo: 49.95675545862906, l: 0.41144475438254147, mu: 0.11412014603783618, \n",
      "a^2: 0.00026369550579365147 \n",
      "Tempo: 54.30750866620774, l: 0.392833382803181, mu: 0.10896792244634697, \n",
      "a^2: 0.0003217414390576251 \n",
      "Tempo: 58.7399224408711, l: 0.4124381884823999, mu: 0.11454242202764188, \n",
      "a^2: 0.00034658683149758494 \n",
      "Tempo: 63.17233621553446, l: 0.392292854129349, mu: 0.10886477170182238, \n",
      "a^2: 0.00035148458969662123 \n",
      "Tempo: 68.4397419926483, l: 0.41205075037707056, mu: 0.11437466536787343, \n",
      "a^2: 0.00031251743284489735 \n",
      "Tempo: 74.1498194846271, l: 0.3980522591402863, mu: 0.11006065921988395, \n",
      "a^2: 9.444134410113035e-05 \n",
      "Tempo: 78.51041159357445, l: 0.4100232019169421, mu: 0.11355728620992124, \n",
      "a^2: 0.00016867484781677236 \n",
      "Tempo: 82.87100370252179, l: 0.39434566963146095, mu: 0.1092658463584307, \n",
      "a^2: 0.0002443232352412191 \n",
      "Tempo: 87.05882026152308, l: 0.4122587454236684, mu: 0.11446422012414993, \n",
      "a^2: 0.0003305214754758701 \n",
      "Tempo: 91.24663682052437, l: 0.39232536969635246, mu: 0.10887092881780712, \n",
      "a^2: 0.0003496655392184212 \n",
      "Tempo: 96.44374012008157, l: 0.41224961107062563, mu: 0.11446026284443024, \n",
      "a^2: 0.0003297169932430801 \n",
      "Tempo: 102.85495729959767, l: 0.40195817626564545, mu: 0.11101726896293286, \n",
      "a^2: 9.097839983216571e-06 \n",
      "Tempo: 107.94103103946438, l: 0.40254496726741196, mu: 0.11117352934144988, \n",
      "a^2: 3.843600636055814e-06 \n",
      "Tempo: 112.62268200093384, l: 0.4046085812642602, mu: 0.11175342119935927, \n",
      "a^2: 3.4942200385221933e-06 \n",
      "Tempo: 118.50604913570874, l: 0.39494469586029557, mu: 0.10938783839246581, \n",
      "a^2: 0.00021612459279048748 \n",
      "Tempo: 123.38375115311943, l: 0.4113664384227713, mu: 0.1140879231864476, \n",
      "a^2: 0.000257767115742603 \n",
      "Tempo: 128.21426119670215, l: 0.3935159130938952, mu: 0.10910064407615888, \n",
      "a^2: 0.0002857221006148634 \n",
      "Tempo: 133.50172079921603, l: 0.41249065554068576, mu: 0.1145654551194105, \n",
      "a^2: 0.0003513790907212873 \n",
      "Tempo: 138.8155144069052, l: 0.39312575145236844, mu: 0.10902443237523902, \n",
      "a^2: 0.00030609924975282947 \n",
      "Tempo: 142.9906334912017, l: 0.4124970692926623, mu: 0.11456827602434115, \n",
      "a^2: 0.00035196788848389454 \n",
      "Tempo: 147.16575257549817, l: 0.3929082380176856, mu: 0.1089823422942175, \n",
      "a^2: 0.0003177064693425222 \n",
      "Tempo: 152.2033340625893, l: 0.4124721333825332, mu: 0.1145573151233822, \n",
      "a^2: 0.00034968235673539906 \n",
      "Tempo: 157.42079433323372, l: 0.39273161353981784, mu: 0.10894837104335413, \n",
      "a^2: 0.00032726018921976915 \n",
      "Tempo: 161.7783020676336, l: 0.4124910699485546, mu: 0.11456563735011378, \n",
      "a^2: 0.00035141711472138476 \n",
      "Tempo: 166.1358098020335, l: 0.39247111867454537, mu: 0.10889860262596215, \n",
      "a^2: 0.0003415584369039981 \n",
      "Tempo: 171.1346071657265, l: 0.41249551293620346, mu: 0.11456759139998471, \n",
      "a^2: 0.0003518249515310466 \n",
      "Tempo: 176.85710690500696, l: 0.3953651020619875, mu: 0.1094748666118199, \n",
      "a^2: 0.00019720670278647838 \n",
      "Tempo: 181.06318642279086, l: 0.4118813734328869, mu: 0.1143025824882517, \n",
      "a^2: 0.00029833508043302157 \n",
      "Tempo: 185.26926594057477, l: 0.39231848665482716, mu: 0.10886962494433565, \n",
      "a^2: 0.00035005028781831744 \n",
      "Tempo: 190.39872810347129, l: 0.41196552453080515, mu: 0.11433830166241407, \n",
      "a^2: 0.00030532815499827355 \n",
      "Tempo: 195.64009692332462, l: 0.39551086886606546, mu: 0.10950531961220138, \n",
      "a^2: 0.0001908187198472052 \n",
      "Tempo: 199.83611252469632, l: 0.4118455523879015, mu: 0.11428743330667819, \n",
      "a^2: 0.0002953898649837832 \n",
      "Tempo: 204.03212812606802, l: 0.39232329104975183, mu: 0.10887053502533033, \n",
      "a^2: 0.00034978171360392185 \n",
      "Tempo: 209.1278977815974, l: 0.412015261569542, mu: 0.11435950003487366, \n",
      "a^2: 0.00030951061290318 \n",
      "Tempo: 214.400004291921, l: 0.395533216751751, mu: 0.10951000122743348, \n",
      "a^2: 0.00018984724396173402 \n",
      "Tempo: 218.57998841886436, l: 0.4118705181562795, mu: 0.11429798816023998, \n",
      "a^2: 0.00029744057383193997 \n",
      "Tempo: 222.75997254580773, l: 0.392305985366482, mu: 0.10886725748808364, \n",
      "a^2: 0.0003507495198429357 \n",
      "Tempo: 227.80319262628228, l: 0.41215094920197504, mu: 0.11441766284522582, \n",
      "a^2: 0.00032110883205591876 \n",
      "Tempo: 233.34796702459514, l: 0.39663320706299354, mu: 0.10974474001319633, \n",
      "a^2: 0.0001446789683239368 \n",
      "Tempo: 237.4135397952779, l: 0.4116986313494971, mu: 0.1142256419568073, \n",
      "a^2: 0.0002835051092569276 \n",
      "Tempo: 241.47911256596066, l: 0.3922899389423387, mu: 0.10886421998179623, \n",
      "a^2: 0.00035164786190603316 \n",
      "Tempo: 246.47172674400264, l: 0.41227294254361274, mu: 0.11447037523587246, \n",
      "a^2: 0.00033177438819548 \n",
      "Tempo: 252.51814966143715, l: 0.39930931777581885, mu: 0.11035379961075928, \n",
      "a^2: 5.8049224398749805e-05 \n",
      "Tempo: 256.9229886675554, l: 0.40899141076430984, mu: 0.11317548353408113, \n",
      "a^2: 0.00011505577904332448 \n",
      "Tempo: 261.10562145507265, l: 0.39459856318856046, mu: 0.10931706385418757, \n",
      "a^2: 0.00023224263921856387 \n",
      "Tempo: 265.1002989559721, l: 0.4124039640581596, mu: 0.11452743863792564, \n",
      "a^2: 0.00034348411411839797 \n",
      "Tempo: 269.09497645687156, l: 0.392865457670417, mu: 0.10897409717622049, \n",
      "a^2: 0.0003200099607294931 \n",
      "Tempo: 273.8705535483423, l: 0.41226188312112866, mu: 0.11446557999157046, \n",
      "a^2: 0.0003307981146080162 \n",
      "Tempo: 278.53861078128773, l: 0.3927110012035159, mu: 0.10894441852722192, \n",
      "a^2: 0.00032838257487828907 \n",
      "Tempo: 283.3772515390557, l: 0.4123980768149955, mu: 0.11452486447709936, \n",
      "a^2: 0.000342952234968503 \n",
      "Tempo: 288.1661389231893, l: 0.3923376452606335, mu: 0.10887325488864107, \n",
      "a^2: 0.0003489797808957292 \n",
      "Tempo: 292.97622334458583, l: 0.4124988238456341, mu: 0.11456904791436298, \n",
      "a^2: 0.0003521290738522045 \n",
      "Tempo: 298.25668648349983, l: 0.39317778636552236, mu: 0.10903454337022181, \n",
      "a^2: 0.00030334856965987016 \n",
      "Tempo: 302.3561132038937, l: 0.41249896779172734, mu: 0.11456911124516876, \n",
      "a^2: 0.0003521422998951849 \n",
      "Tempo: 306.45553992428756, l: 0.3933047862717411, mu: 0.10905928940974177, \n",
      "a^2: 0.00029667761162217664 \n",
      "Tempo: 311.21385333670213, l: 0.41199818669754273, mu: 0.11435221526987142, \n",
      "a^2: 0.00030807061975614015 \n",
      "Tempo: 315.71775892125305, l: 0.39371753583325986, mu: 0.10914039181433373, \n",
      "a^2: 0.00027541783620635093 \n",
      "Tempo: 320.5765120460408, l: 0.41196953043487206, mu: 0.11434000661926529, \n",
      "a^2: 0.0003056636577864775 \n",
      "Tempo: 325.0847142578419, l: 0.39375981733751236, mu: 0.10914875896975924, \n",
      "a^2: 0.00027327670556905406 \n",
      "Tempo: 329.9336688600232, l: 0.4119292469594131, mu: 0.11432288056867931, \n",
      "a^2: 0.0003023006397738035 \n",
      "Tempo: 334.4184758545838, l: 0.39393602391270577, mu: 0.10918374843094082, \n",
      "a^2: 0.00026442781534017707 \n",
      "Tempo: 339.2703759196116, l: 0.4118448717366553, mu: 0.11428714577024814, \n",
      "a^2: 0.00029533408327196795 \n",
      "Tempo: 343.73303936779604, l: 0.3942040794040378, mu: 0.10923734973656926, \n",
      "a^2: 0.00025119773553220143 \n",
      "Tempo: 348.6036699515647, l: 0.4117469775111005, mu: 0.11424591453088769, \n",
      "a^2: 0.0002873814796710263 \n",
      "Tempo: 353.05258420587944, l: 0.39446632516450164, mu: 0.10929023083560914, \n",
      "a^2: 0.0002385277891095148 \n",
      "Tempo: 357.94622499207776, l: 0.41166460351676226, mu: 0.11421140875344493, \n",
      "a^2: 0.0002807968963605441 \n",
      "Tempo: 362.387206776799, l: 0.39466989351581466, mu: 0.10933158486278964, \n",
      "a^2: 0.0002288814689222111 \n",
      "Tempo: 365.0, l: 0.3989519662440471, mu: 0.11026913574496128, \n",
      "a^2: 6.758447241054007e-05 \n"
     ]
    }
   ],
   "source": [
    "# Imprimir os valores de l e mu\n",
    "for ti, l_value, mu_value, a2_value in zip(times, l_values, mu_values, a2_values):\n",
    "    print(f\"Tempo: {ti}, l: {l_value}, mu: {mu_value}, \\na^2: {a2_value} \")"
   ]
  },
  {
   "cell_type": "code",
   "execution_count": 13,
   "metadata": {},
   "outputs": [
    {
     "name": "stdout",
     "output_type": "stream",
     "text": [
      "Média de l: 0.40296474226991214\n",
      "Média de mu: 0.111723028830021\n",
      "Média de a^2: 0.00026009975593372915\n"
     ]
    }
   ],
   "source": [
    "# Calcular as médias\n",
    "l_mean = np.mean(l_values)\n",
    "mu_mean = np.mean(mu_values)\n",
    "a2_mean = np.mean(a2_values)\n",
    "\n",
    "print(f\"Média de l: {l_mean}\")\n",
    "print(f\"Média de mu: {mu_mean}\")\n",
    "print(f\"Média de a^2: {a2_mean}\")"
   ]
  },
  {
   "cell_type": "markdown",
   "metadata": {},
   "source": [
    "Cálculo do R_0:"
   ]
  },
  {
   "cell_type": "code",
   "execution_count": 14,
   "metadata": {},
   "outputs": [
    {
     "data": {
      "text/plain": [
       "100000"
      ]
     },
     "execution_count": 14,
     "metadata": {},
     "output_type": "execute_result"
    }
   ],
   "source": [
    "M"
   ]
  },
  {
   "cell_type": "code",
   "execution_count": 15,
   "metadata": {},
   "outputs": [
    {
     "data": {
      "text/plain": [
       "8558"
      ]
     },
     "execution_count": 15,
     "metadata": {},
     "output_type": "execute_result"
    }
   ],
   "source": [
    "N"
   ]
  },
  {
   "cell_type": "code",
   "execution_count": 16,
   "metadata": {},
   "outputs": [
    {
     "data": {
      "text/plain": [
       "0.00026009975593372915"
      ]
     },
     "execution_count": 16,
     "metadata": {},
     "output_type": "execute_result"
    }
   ],
   "source": [
    "a2_mean"
   ]
  },
  {
   "cell_type": "code",
   "execution_count": 17,
   "metadata": {},
   "outputs": [
    {
     "data": {
      "text/plain": [
       "0.100000000000000"
      ]
     },
     "execution_count": 17,
     "metadata": {},
     "output_type": "execute_result"
    }
   ],
   "source": [
    "b1"
   ]
  },
  {
   "cell_type": "code",
   "execution_count": 18,
   "metadata": {},
   "outputs": [
    {
     "data": {
      "text/plain": [
       "0.300000000000000"
      ]
     },
     "execution_count": 18,
     "metadata": {},
     "output_type": "execute_result"
    }
   ],
   "source": [
    "b2"
   ]
  },
  {
   "cell_type": "code",
   "execution_count": 19,
   "metadata": {},
   "outputs": [
    {
     "data": {
      "text/plain": [
       "0.40296474226991214"
      ]
     },
     "execution_count": 19,
     "metadata": {},
     "output_type": "execute_result"
    }
   ],
   "source": [
    "l_mean"
   ]
  },
  {
   "cell_type": "code",
   "execution_count": 20,
   "metadata": {},
   "outputs": [
    {
     "data": {
      "text/plain": [
       "0.111723028830021"
      ]
     },
     "execution_count": 20,
     "metadata": {},
     "output_type": "execute_result"
    }
   ],
   "source": [
    "mu_mean"
   ]
  },
  {
   "cell_type": "code",
   "execution_count": 21,
   "metadata": {},
   "outputs": [
    {
     "data": {
      "text/plain": [
       "1/365"
      ]
     },
     "execution_count": 21,
     "metadata": {},
     "output_type": "execute_result"
    }
   ],
   "source": [
    "gamma"
   ]
  },
  {
   "cell_type": "code",
   "execution_count": 22,
   "metadata": {},
   "outputs": [
    {
     "data": {
      "text/plain": [
       "0.12003451155381316"
      ]
     },
     "execution_count": 22,
     "metadata": {},
     "output_type": "execute_result"
    }
   ],
   "source": [
    "(M * a2_mean * b1 * b2 * l_mean) / (gamma * mu_mean * N)"
   ]
  },
  {
   "cell_type": "code",
   "execution_count": 23,
   "metadata": {},
   "outputs": [
    {
     "data": {
      "text/plain": [
       "1.2003451155381315e-06"
      ]
     },
     "execution_count": 23,
     "metadata": {},
     "output_type": "execute_result"
    }
   ],
   "source": [
    "(a2_mean * b1 * b2 * l_mean) / (gamma * mu_mean * N)"
   ]
  },
  {
   "cell_type": "code",
   "execution_count": 24,
   "metadata": {},
   "outputs": [
    {
     "data": {
      "text/plain": [
       "3.19627837106258e6"
      ]
     },
     "execution_count": 24,
     "metadata": {},
     "output_type": "execute_result"
    }
   ],
   "source": [
    "n(1/3.128638635024638e-07)"
   ]
  },
  {
   "cell_type": "code",
   "execution_count": 25,
   "metadata": {},
   "outputs": [
    {
     "data": {
      "text/plain": [
       "[0.00027142089739101667,\n",
       " 0.00027603958349065765,\n",
       " 0.0003243654605776116,\n",
       " 0.001020949171672846,\n",
       " 0.027715032952056785,\n",
       " 0.1348594221481445,\n",
       " 0.14837317008463247,\n",
       " 0.1504909145148179,\n",
       " 0.15655229192948228,\n",
       " 0.12273461971761811,\n",
       " 0.11062392077511174,\n",
       " 0.14542989081153224,\n",
       " 0.16187868507364306,\n",
       " 0.12700420848553484,\n",
       " 0.08686863283274877,\n",
       " 0.12164486370739827,\n",
       " 0.14840842393236406,\n",
       " 0.15967848494864376,\n",
       " 0.1620582545076464,\n",
       " 0.1440578597137537,\n",
       " 0.04370307341544396,\n",
       " 0.07792657551425629,\n",
       " 0.1128234172231642,\n",
       " 0.15231463829268285,\n",
       " 0.1612237931868309,\n",
       " 0.1519457942091981,\n",
       " 0.004214736795368725,\n",
       " 0.0017807096074418148,\n",
       " 0.0016186999338466312,\n",
       " 0.0998419995912243,\n",
       " 0.11892099418324863,\n",
       " 0.1318623028778633,\n",
       " 0.1618744036877037,\n",
       " 0.14122505770714094,\n",
       " 0.16214418161563476,\n",
       " 0.14655576011312962,\n",
       " 0.16109695956531328,\n",
       " 0.15094201206191726,\n",
       " 0.16189182583654585,\n",
       " 0.1575042404413148,\n",
       " 0.1620786905849322,\n",
       " 0.09112707212240534,\n",
       " 0.13755053074163665,\n",
       " 0.1614002944028259,\n",
       " 0.14075953609353237,\n",
       " 0.08818323371711953,\n",
       " 0.13619881477785226,\n",
       " 0.16127708773186375,\n",
       " 0.1426784679839004,\n",
       " 0.08773549107811407,\n",
       " 0.13714000699569967,\n",
       " 0.16172105795658054,\n",
       " 0.1479985021187167,\n",
       " 0.06690407918940248,\n",
       " 0.13074302915094754,\n",
       " 0.16213315092137515,\n",
       " 0.15288906354285206,\n",
       " 0.026875738819172306,\n",
       " 0.05320005768715282,\n",
       " 0.10726334501131138,\n",
       " 0.1582565800063625,\n",
       " 0.14761343939314348,\n",
       " 0.1524414714487534,\n",
       " 0.15145723469132574,\n",
       " 0.15801281832910719,\n",
       " 0.16090920051495047,\n",
       " 0.16221803338494806,\n",
       " 0.13996152074525148,\n",
       " 0.1622240932654646,\n",
       " 0.13689676296403316,\n",
       " 0.14201781990451728,\n",
       " 0.12712563894803483,\n",
       " 0.14091347545761554,\n",
       " 0.1261412247228818,\n",
       " 0.13937034417181984,\n",
       " 0.12207217172900871,\n",
       " 0.13617321240775648,\n",
       " 0.11598651949103626,\n",
       " 0.13252272421431494,\n",
       " 0.1101563179188975,\n",
       " 0.12949952581177016,\n",
       " 0.10571602474166389,\n",
       " 0.03128638635024637]"
      ]
     },
     "execution_count": 25,
     "metadata": {},
     "output_type": "execute_result"
    }
   ],
   "source": [
    "# Calcular R0 ao longo do tempo\n",
    "R0_values = [(M * a2 * b1 * b2 * l) / (gamma * mu * N) for a2, l, mu in zip(a2_values, l_values, mu_values)]\n",
    "R0_values"
   ]
  },
  {
   "cell_type": "markdown",
   "metadata": {},
   "source": [
    "Para aumentar o R0, será necessário aumentar o M e/ou as taxas de transmissão b1 e b2 e/ou o período de transmissiabilidade"
   ]
  },
  {
   "cell_type": "markdown",
   "metadata": {},
   "source": [
    "#####################"
   ]
  },
  {
   "cell_type": "code",
   "execution_count": 26,
   "metadata": {},
   "outputs": [],
   "source": [
    "# Inicializando os parâmetros\n",
    "num_steps = 365\n",
    "dt = 1\n",
    "t_initial = 0\n",
    "t_final = num_steps * dt\n",
    "T1 = 27.4\n",
    "T2 = 0.025\n",
    "omega1 = 0.67\n",
    "phi1 = 1.53\n",
    "R1 = 196.9\n",
    "R2 = -0.033\n",
    "omega2 = 0.65\n",
    "phi2 = 1.99\n",
    "B_E = 200\n",
    "p_ME = 0.9\n",
    "p_ML = 0.25\n",
    "p_MP = 0.75\n",
    "tau_E = 1\n",
    "tau_P = 1\n",
    "c1 = 0.00554\n",
    "c2 = -0.06737\n",
    "D1 = 36.5\n",
    "b1 = 0.04\n",
    "A = -0.03\n",
    "B = 1.31\n",
    "C = -4.4\n",
    "b2 = 0.09\n",
    "tau_H = 10\n",
    "DD = 105\n",
    "Tmin = 14.5\n",
    "gamma = 1/120\n",
    "R_L = 50\n",
    "N = 8558\n",
    "M = 10000\n",
    "I_M0 = 5000 # None\n",
    "I_H0 = 1000\n",
    "if I_M0 is None:\n",
    "        I_M0 = M / 100\n",
    "S_H0 = N - I_H0"
   ]
  },
  {
   "cell_type": "code",
   "execution_count": 27,
   "metadata": {},
   "outputs": [],
   "source": [
    "# Definindo funções auxiliares\n",
    "def T(t):\n",
    "    return T1 * (1 + T2 * cos(omega1 * t - phi1))\n",
    "\n",
    "def R(t):\n",
    "    return R1 * (1 + R2 * cos(omega2 * t - phi2))\n",
    "\n",
    "def tau_L(T):\n",
    "    return 1 / (c1 * T + c2)\n",
    "\n",
    "def p(T):\n",
    "    return np.exp(-1 / (A*T**2 + B*T + C))\n",
    "\n",
    "def p_LT(T):\n",
    "    return np.exp(-(c1 * T + c2))\n",
    "\n",
    "def p_LR(R):\n",
    "    return (4*p_ML/R_L**2) * R * (R_L - R)\n",
    "\n",
    "def p_LRT(R,T):\n",
    "    return p_LR(R)*p_LT(T)\n",
    "\n",
    "def tau_M(T):\n",
    "    return DD / (T - Tmin)\n",
    "\n",
    "def l(tau_M, T):  \n",
    "    p_T = p(T)\n",
    "    return p_T**tau_M\n",
    "\n",
    "def mu(T):\n",
    "    return -np.log(p(T))"
   ]
  },
  {
   "cell_type": "code",
   "execution_count": 28,
   "metadata": {},
   "outputs": [],
   "source": [
    "# Definindo a função do sistema de equações diferenciais\n",
    "def diff(t, Y):\n",
    "    S_H, I_H, R_H = Y\n",
    "    T_curr = T(t)\n",
    "    R_curr = R(t)\n",
    "    tau_M_T = tau_M(T_curr)\n",
    "    l_tau_M = l(tau_M_T, T_curr)\n",
    "    a = (T_curr - T1) / D1\n",
    "    b = B_E * p_ME * p_LRT(R_curr, T_curr) * p_MP / (tau_E + tau_L(T_curr) + tau_P)\n",
    "\n",
    "    if t < tau_H:\n",
    "        dS_H = -a * b2 * (I_M0 / N) * S_H\n",
    "        dI_H = a * b2 * (I_M0 / N) * S_H - gamma * I_H\n",
    "    else:\n",
    "        dS_H = -a * b2 * (I_H / N) * S_H\n",
    "        dI_H = a * b2 * (I_H / N) * S_H - gamma * I_H\n",
    "    dR_H = gamma * I_H\n",
    "\n",
    "    return [dS_H, dI_H, dR_H]"
   ]
  },
  {
   "cell_type": "code",
   "execution_count": 29,
   "metadata": {},
   "outputs": [],
   "source": [
    "# Solucionando o sistema de equações diferenciais\n",
    "sol = solve_ivp(diff, [t_initial, t_final], [S_H0, I_H0, 0], t_eval=np.linspace(t_initial, t_final, num_steps))"
   ]
  },
  {
   "cell_type": "code",
   "execution_count": 30,
   "metadata": {},
   "outputs": [],
   "source": [
    "# Extraindo as soluções\n",
    "times = sol.t\n",
    "S_H, I_H, R_H = sol.y"
   ]
  },
  {
   "cell_type": "code",
   "execution_count": 31,
   "metadata": {},
   "outputs": [
    {
     "data": {
      "text/plain": [
       "  message: 'The solver successfully reached the end of the integration interval.'\n",
       "     nfev: 134\n",
       "     njev: 0\n",
       "      nlu: 0\n",
       "      sol: None\n",
       "   status: 0\n",
       "  success: True\n",
       "        t: array([  0.        ,   1.00274725,   2.00549451,   3.00824176,\n",
       "         4.01098901,   5.01373626,   6.01648352,   7.01923077,\n",
       "         8.02197802,   9.02472527,  10.02747253,  11.03021978,\n",
       "        12.03296703,  13.03571429,  14.03846154,  15.04120879,\n",
       "        16.04395604,  17.0467033 ,  18.04945055,  19.0521978 ,\n",
       "        20.05494505,  21.05769231,  22.06043956,  23.06318681,\n",
       "        24.06593407,  25.06868132,  26.07142857,  27.07417582,\n",
       "        28.07692308,  29.07967033,  30.08241758,  31.08516484,\n",
       "        32.08791209,  33.09065934,  34.09340659,  35.09615385,\n",
       "        36.0989011 ,  37.10164835,  38.1043956 ,  39.10714286,\n",
       "        40.10989011,  41.11263736,  42.11538462,  43.11813187,\n",
       "        44.12087912,  45.12362637,  46.12637363,  47.12912088,\n",
       "        48.13186813,  49.13461538,  50.13736264,  51.14010989,\n",
       "        52.14285714,  53.1456044 ,  54.14835165,  55.1510989 ,\n",
       "        56.15384615,  57.15659341,  58.15934066,  59.16208791,\n",
       "        60.16483516,  61.16758242,  62.17032967,  63.17307692,\n",
       "        64.17582418,  65.17857143,  66.18131868,  67.18406593,\n",
       "        68.18681319,  69.18956044,  70.19230769,  71.19505495,\n",
       "        72.1978022 ,  73.20054945,  74.2032967 ,  75.20604396,\n",
       "        76.20879121,  77.21153846,  78.21428571,  79.21703297,\n",
       "        80.21978022,  81.22252747,  82.22527473,  83.22802198,\n",
       "        84.23076923,  85.23351648,  86.23626374,  87.23901099,\n",
       "        88.24175824,  89.24450549,  90.24725275,  91.25      ,\n",
       "        92.25274725,  93.25549451,  94.25824176,  95.26098901,\n",
       "        96.26373626,  97.26648352,  98.26923077,  99.27197802,\n",
       "       100.27472527, 101.27747253, 102.28021978, 103.28296703,\n",
       "       104.28571429, 105.28846154, 106.29120879, 107.29395604,\n",
       "       108.2967033 , 109.29945055, 110.3021978 , 111.30494505,\n",
       "       112.30769231, 113.31043956, 114.31318681, 115.31593407,\n",
       "       116.31868132, 117.32142857, 118.32417582, 119.32692308,\n",
       "       120.32967033, 121.33241758, 122.33516484, 123.33791209,\n",
       "       124.34065934, 125.34340659, 126.34615385, 127.3489011 ,\n",
       "       128.35164835, 129.3543956 , 130.35714286, 131.35989011,\n",
       "       132.36263736, 133.36538462, 134.36813187, 135.37087912,\n",
       "       136.37362637, 137.37637363, 138.37912088, 139.38186813,\n",
       "       140.38461538, 141.38736264, 142.39010989, 143.39285714,\n",
       "       144.3956044 , 145.39835165, 146.4010989 , 147.40384615,\n",
       "       148.40659341, 149.40934066, 150.41208791, 151.41483516,\n",
       "       152.41758242, 153.42032967, 154.42307692, 155.42582418,\n",
       "       156.42857143, 157.43131868, 158.43406593, 159.43681319,\n",
       "       160.43956044, 161.44230769, 162.44505495, 163.4478022 ,\n",
       "       164.45054945, 165.4532967 , 166.45604396, 167.45879121,\n",
       "       168.46153846, 169.46428571, 170.46703297, 171.46978022,\n",
       "       172.47252747, 173.47527473, 174.47802198, 175.48076923,\n",
       "       176.48351648, 177.48626374, 178.48901099, 179.49175824,\n",
       "       180.49450549, 181.49725275, 182.5       , 183.50274725,\n",
       "       184.50549451, 185.50824176, 186.51098901, 187.51373626,\n",
       "       188.51648352, 189.51923077, 190.52197802, 191.52472527,\n",
       "       192.52747253, 193.53021978, 194.53296703, 195.53571429,\n",
       "       196.53846154, 197.54120879, 198.54395604, 199.5467033 ,\n",
       "       200.54945055, 201.5521978 , 202.55494505, 203.55769231,\n",
       "       204.56043956, 205.56318681, 206.56593407, 207.56868132,\n",
       "       208.57142857, 209.57417582, 210.57692308, 211.57967033,\n",
       "       212.58241758, 213.58516484, 214.58791209, 215.59065934,\n",
       "       216.59340659, 217.59615385, 218.5989011 , 219.60164835,\n",
       "       220.6043956 , 221.60714286, 222.60989011, 223.61263736,\n",
       "       224.61538462, 225.61813187, 226.62087912, 227.62362637,\n",
       "       228.62637363, 229.62912088, 230.63186813, 231.63461538,\n",
       "       232.63736264, 233.64010989, 234.64285714, 235.6456044 ,\n",
       "       236.64835165, 237.6510989 , 238.65384615, 239.65659341,\n",
       "       240.65934066, 241.66208791, 242.66483516, 243.66758242,\n",
       "       244.67032967, 245.67307692, 246.67582418, 247.67857143,\n",
       "       248.68131868, 249.68406593, 250.68681319, 251.68956044,\n",
       "       252.69230769, 253.69505495, 254.6978022 , 255.70054945,\n",
       "       256.7032967 , 257.70604396, 258.70879121, 259.71153846,\n",
       "       260.71428571, 261.71703297, 262.71978022, 263.72252747,\n",
       "       264.72527473, 265.72802198, 266.73076923, 267.73351648,\n",
       "       268.73626374, 269.73901099, 270.74175824, 271.74450549,\n",
       "       272.74725275, 273.75      , 274.75274725, 275.75549451,\n",
       "       276.75824176, 277.76098901, 278.76373626, 279.76648352,\n",
       "       280.76923077, 281.77197802, 282.77472527, 283.77747253,\n",
       "       284.78021978, 285.78296703, 286.78571429, 287.78846154,\n",
       "       288.79120879, 289.79395604, 290.7967033 , 291.79945055,\n",
       "       292.8021978 , 293.80494505, 294.80769231, 295.81043956,\n",
       "       296.81318681, 297.81593407, 298.81868132, 299.82142857,\n",
       "       300.82417582, 301.82692308, 302.82967033, 303.83241758,\n",
       "       304.83516484, 305.83791209, 306.84065934, 307.84340659,\n",
       "       308.84615385, 309.8489011 , 310.85164835, 311.8543956 ,\n",
       "       312.85714286, 313.85989011, 314.86263736, 315.86538462,\n",
       "       316.86813187, 317.87087912, 318.87362637, 319.87637363,\n",
       "       320.87912088, 321.88186813, 322.88461538, 323.88736264,\n",
       "       324.89010989, 325.89285714, 326.8956044 , 327.89835165,\n",
       "       328.9010989 , 329.90384615, 330.90659341, 331.90934066,\n",
       "       332.91208791, 333.91483516, 334.91758242, 335.92032967,\n",
       "       336.92307692, 337.92582418, 338.92857143, 339.93131868,\n",
       "       340.93406593, 341.93681319, 342.93956044, 343.94230769,\n",
       "       344.94505495, 345.9478022 , 346.95054945, 347.9532967 ,\n",
       "       348.95604396, 349.95879121, 350.96153846, 351.96428571,\n",
       "       352.96703297, 353.96978022, 354.97252747, 355.97527473,\n",
       "       356.97802198, 357.98076923, 358.98351648, 359.98626374,\n",
       "       360.98901099, 361.99175824, 362.99450549, 363.99725275,\n",
       "       365.        ])\n",
       " t_events: None\n",
       "        y: array([[7558.        , 7555.30041575, 7548.94299274, ..., 7566.34711625,\n",
       "        7566.41971639, 7566.47251024],\n",
       "       [1000.        ,  994.37011993,  992.42805762, ...,   46.68616595,\n",
       "          46.22504242,   45.78760063],\n",
       "       [   0.        ,    8.32946432,   16.62894964, ...,  944.96671781,\n",
       "         945.3552412 ,  945.73988913]])\n",
       " y_events: None"
      ]
     },
     "execution_count": 31,
     "metadata": {},
     "output_type": "execute_result"
    }
   ],
   "source": [
    "sol"
   ]
  },
  {
   "cell_type": "code",
   "execution_count": 32,
   "metadata": {
    "scrolled": true
   },
   "outputs": [
    {
     "data": {
      "text/plain": [
       "array([  0.        ,   1.00274725,   2.00549451,   3.00824176,\n",
       "         4.01098901,   5.01373626,   6.01648352,   7.01923077,\n",
       "         8.02197802,   9.02472527,  10.02747253,  11.03021978,\n",
       "        12.03296703,  13.03571429,  14.03846154,  15.04120879,\n",
       "        16.04395604,  17.0467033 ,  18.04945055,  19.0521978 ,\n",
       "        20.05494505,  21.05769231,  22.06043956,  23.06318681,\n",
       "        24.06593407,  25.06868132,  26.07142857,  27.07417582,\n",
       "        28.07692308,  29.07967033,  30.08241758,  31.08516484,\n",
       "        32.08791209,  33.09065934,  34.09340659,  35.09615385,\n",
       "        36.0989011 ,  37.10164835,  38.1043956 ,  39.10714286,\n",
       "        40.10989011,  41.11263736,  42.11538462,  43.11813187,\n",
       "        44.12087912,  45.12362637,  46.12637363,  47.12912088,\n",
       "        48.13186813,  49.13461538,  50.13736264,  51.14010989,\n",
       "        52.14285714,  53.1456044 ,  54.14835165,  55.1510989 ,\n",
       "        56.15384615,  57.15659341,  58.15934066,  59.16208791,\n",
       "        60.16483516,  61.16758242,  62.17032967,  63.17307692,\n",
       "        64.17582418,  65.17857143,  66.18131868,  67.18406593,\n",
       "        68.18681319,  69.18956044,  70.19230769,  71.19505495,\n",
       "        72.1978022 ,  73.20054945,  74.2032967 ,  75.20604396,\n",
       "        76.20879121,  77.21153846,  78.21428571,  79.21703297,\n",
       "        80.21978022,  81.22252747,  82.22527473,  83.22802198,\n",
       "        84.23076923,  85.23351648,  86.23626374,  87.23901099,\n",
       "        88.24175824,  89.24450549,  90.24725275,  91.25      ,\n",
       "        92.25274725,  93.25549451,  94.25824176,  95.26098901,\n",
       "        96.26373626,  97.26648352,  98.26923077,  99.27197802,\n",
       "       100.27472527, 101.27747253, 102.28021978, 103.28296703,\n",
       "       104.28571429, 105.28846154, 106.29120879, 107.29395604,\n",
       "       108.2967033 , 109.29945055, 110.3021978 , 111.30494505,\n",
       "       112.30769231, 113.31043956, 114.31318681, 115.31593407,\n",
       "       116.31868132, 117.32142857, 118.32417582, 119.32692308,\n",
       "       120.32967033, 121.33241758, 122.33516484, 123.33791209,\n",
       "       124.34065934, 125.34340659, 126.34615385, 127.3489011 ,\n",
       "       128.35164835, 129.3543956 , 130.35714286, 131.35989011,\n",
       "       132.36263736, 133.36538462, 134.36813187, 135.37087912,\n",
       "       136.37362637, 137.37637363, 138.37912088, 139.38186813,\n",
       "       140.38461538, 141.38736264, 142.39010989, 143.39285714,\n",
       "       144.3956044 , 145.39835165, 146.4010989 , 147.40384615,\n",
       "       148.40659341, 149.40934066, 150.41208791, 151.41483516,\n",
       "       152.41758242, 153.42032967, 154.42307692, 155.42582418,\n",
       "       156.42857143, 157.43131868, 158.43406593, 159.43681319,\n",
       "       160.43956044, 161.44230769, 162.44505495, 163.4478022 ,\n",
       "       164.45054945, 165.4532967 , 166.45604396, 167.45879121,\n",
       "       168.46153846, 169.46428571, 170.46703297, 171.46978022,\n",
       "       172.47252747, 173.47527473, 174.47802198, 175.48076923,\n",
       "       176.48351648, 177.48626374, 178.48901099, 179.49175824,\n",
       "       180.49450549, 181.49725275, 182.5       , 183.50274725,\n",
       "       184.50549451, 185.50824176, 186.51098901, 187.51373626,\n",
       "       188.51648352, 189.51923077, 190.52197802, 191.52472527,\n",
       "       192.52747253, 193.53021978, 194.53296703, 195.53571429,\n",
       "       196.53846154, 197.54120879, 198.54395604, 199.5467033 ,\n",
       "       200.54945055, 201.5521978 , 202.55494505, 203.55769231,\n",
       "       204.56043956, 205.56318681, 206.56593407, 207.56868132,\n",
       "       208.57142857, 209.57417582, 210.57692308, 211.57967033,\n",
       "       212.58241758, 213.58516484, 214.58791209, 215.59065934,\n",
       "       216.59340659, 217.59615385, 218.5989011 , 219.60164835,\n",
       "       220.6043956 , 221.60714286, 222.60989011, 223.61263736,\n",
       "       224.61538462, 225.61813187, 226.62087912, 227.62362637,\n",
       "       228.62637363, 229.62912088, 230.63186813, 231.63461538,\n",
       "       232.63736264, 233.64010989, 234.64285714, 235.6456044 ,\n",
       "       236.64835165, 237.6510989 , 238.65384615, 239.65659341,\n",
       "       240.65934066, 241.66208791, 242.66483516, 243.66758242,\n",
       "       244.67032967, 245.67307692, 246.67582418, 247.67857143,\n",
       "       248.68131868, 249.68406593, 250.68681319, 251.68956044,\n",
       "       252.69230769, 253.69505495, 254.6978022 , 255.70054945,\n",
       "       256.7032967 , 257.70604396, 258.70879121, 259.71153846,\n",
       "       260.71428571, 261.71703297, 262.71978022, 263.72252747,\n",
       "       264.72527473, 265.72802198, 266.73076923, 267.73351648,\n",
       "       268.73626374, 269.73901099, 270.74175824, 271.74450549,\n",
       "       272.74725275, 273.75      , 274.75274725, 275.75549451,\n",
       "       276.75824176, 277.76098901, 278.76373626, 279.76648352,\n",
       "       280.76923077, 281.77197802, 282.77472527, 283.77747253,\n",
       "       284.78021978, 285.78296703, 286.78571429, 287.78846154,\n",
       "       288.79120879, 289.79395604, 290.7967033 , 291.79945055,\n",
       "       292.8021978 , 293.80494505, 294.80769231, 295.81043956,\n",
       "       296.81318681, 297.81593407, 298.81868132, 299.82142857,\n",
       "       300.82417582, 301.82692308, 302.82967033, 303.83241758,\n",
       "       304.83516484, 305.83791209, 306.84065934, 307.84340659,\n",
       "       308.84615385, 309.8489011 , 310.85164835, 311.8543956 ,\n",
       "       312.85714286, 313.85989011, 314.86263736, 315.86538462,\n",
       "       316.86813187, 317.87087912, 318.87362637, 319.87637363,\n",
       "       320.87912088, 321.88186813, 322.88461538, 323.88736264,\n",
       "       324.89010989, 325.89285714, 326.8956044 , 327.89835165,\n",
       "       328.9010989 , 329.90384615, 330.90659341, 331.90934066,\n",
       "       332.91208791, 333.91483516, 334.91758242, 335.92032967,\n",
       "       336.92307692, 337.92582418, 338.92857143, 339.93131868,\n",
       "       340.93406593, 341.93681319, 342.93956044, 343.94230769,\n",
       "       344.94505495, 345.9478022 , 346.95054945, 347.9532967 ,\n",
       "       348.95604396, 349.95879121, 350.96153846, 351.96428571,\n",
       "       352.96703297, 353.96978022, 354.97252747, 355.97527473,\n",
       "       356.97802198, 357.98076923, 358.98351648, 359.98626374,\n",
       "       360.98901099, 361.99175824, 362.99450549, 363.99725275,\n",
       "       365.        ])"
      ]
     },
     "execution_count": 32,
     "metadata": {},
     "output_type": "execute_result"
    }
   ],
   "source": [
    "times"
   ]
  },
  {
   "cell_type": "code",
   "execution_count": 33,
   "metadata": {
    "scrolled": true
   },
   "outputs": [
    {
     "data": {
      "text/plain": [
       "(array([7558.        , 7555.30041575, 7548.94299274, 7541.67081969,\n",
       "        7536.66829233, 7535.8513207 , 7539.54329438, 7546.47508244,\n",
       "        7553.78503346, 7557.72876088, 7558.52908797, 7557.68699458,\n",
       "        7556.32084095, 7555.22150943, 7554.85240445, 7555.34945249,\n",
       "        7556.52110215, 7557.84784019, 7558.25313645, 7557.60231086,\n",
       "        7556.38437436, 7554.99661471, 7553.74459649, 7552.84216112,\n",
       "        7552.41142681, 7552.48278862, 7552.99491841, 7553.7947649 ,\n",
       "        7554.63755358, 7555.18678682, 7555.01424376, 7554.14370499,\n",
       "        7554.00082693, 7554.49204348, 7555.40529965, 7556.55819694,\n",
       "        7557.7979934 , 7559.00160355, 7560.07559846, 7560.95620568,\n",
       "        7561.60930931, 7562.03044993, 7562.24482466, 7562.30728711,\n",
       "        7562.30234741, 7562.34417222, 7562.57658469, 7563.03099589,\n",
       "        7563.53451717, 7564.00715402, 7564.38457161, 7564.6174112 ,\n",
       "        7564.67129008, 7564.52680163, 7564.17951528, 7563.63997654,\n",
       "        7562.93370699, 7562.10120426, 7561.19794207, 7560.29437019,\n",
       "        7559.47591445, 7558.84297677, 7558.51093511, 7558.61014353,\n",
       "        7559.24502904, 7559.89754107, 7560.35907539, 7560.62461764,\n",
       "        7560.69411326, 7560.57246755, 7560.26954563, 7559.80017246,\n",
       "        7559.18413282, 7558.44617134, 7557.61599245, 7556.72826045,\n",
       "        7555.82259944, 7554.94359336, 7554.140786  , 7553.46868095,\n",
       "        7552.98674167, 7552.75939141, 7552.85601327, 7553.32950008,\n",
       "        7553.79872555, 7554.12420681, 7554.33839712, 7554.47033683,\n",
       "        7554.54565346, 7554.58656166, 7554.61186321, 7554.63694705,\n",
       "        7554.67378922, 7554.73095294, 7554.81358855, 7554.92343352,\n",
       "        7555.05881248, 7555.21463718, 7555.38240651, 7555.55020651,\n",
       "        7555.70271035, 7555.82117834, 7555.88345794, 7555.86417937,\n",
       "        7555.94717011, 7556.26310774, 7556.74612177, 7557.3364931 ,\n",
       "        7557.98065394, 7558.63118788, 7559.24682987, 7559.79246621,\n",
       "        7560.23913455, 7560.5640239 , 7560.75047463, 7560.78797845,\n",
       "        7560.67217845, 7560.40486904, 7559.99399604, 7559.45365656,\n",
       "        7558.80409912, 7558.07172357, 7557.28908112, 7556.49487433,\n",
       "        7555.73395712, 7555.05733478, 7554.52216393, 7554.19175256,\n",
       "        7554.13556001, 7554.42917119, 7554.98401759, 7555.63983238,\n",
       "        7556.3602623 , 7557.11223717, 7557.86597   , 7558.59495689,\n",
       "        7559.2759771 , 7559.88909303, 7560.4176502 , 7560.84827727,\n",
       "        7561.17088605, 7561.37867145, 7561.46811155, 7561.43896755,\n",
       "        7561.29428379, 7561.04038774, 7560.68689001, 7560.24668435,\n",
       "        7559.73594763, 7559.17413986, 7558.58400421, 7557.99156694,\n",
       "        7557.42613749, 7556.9203084 , 7556.50995537, 7556.23423722,\n",
       "        7556.13559592, 7556.25975656, 7556.59935473, 7556.97960599,\n",
       "        7557.37363043, 7557.77134727, 7558.16375147, 7558.54291377,\n",
       "        7558.90198065, 7559.23517434, 7559.53779282, 7559.80620985,\n",
       "        7560.03787491, 7560.23131325, 7560.38612587, 7560.50298954,\n",
       "        7560.58365675, 7560.63095577, 7560.64879062, 7560.64214105,\n",
       "        7560.61706261, 7560.58068655, 7560.54121991, 7560.50794548,\n",
       "        7560.49122179, 7560.50248312, 7560.55423953, 7560.66003317,\n",
       "        7560.81108485, 7560.9882993 , 7561.18576064, 7561.39792281,\n",
       "        7561.61960964, 7561.8460148 , 7562.07270184, 7562.29560412,\n",
       "        7562.51102492, 7562.71563733, 7562.90648433, 7563.08097872,\n",
       "        7563.2369032 , 7563.37241031, 7563.48602243, 7563.57663182,\n",
       "        7563.6435006 , 7563.68626074, 7563.70491405, 7563.69983224,\n",
       "        7563.67175683, 7563.62179924, 7563.55144072, 7563.46253239,\n",
       "        7563.35729522, 7563.23832004, 7563.10856755, 7562.9713683 ,\n",
       "        7562.83042268, 7562.68980096, 7562.55394327, 7562.42765959,\n",
       "        7562.31715812, 7562.24447126, 7562.21369377, 7562.2209966 ,\n",
       "        7562.26268885, 7562.33521772, 7562.43516852, 7562.55926468,\n",
       "        7562.70436777, 7562.86747744, 7563.0457315 , 7563.23640584,\n",
       "        7563.43691448, 7563.64480957, 7563.85778136, 7564.07365822,\n",
       "        7564.29040666, 7564.50613127, 7564.71907479, 7564.92761806,\n",
       "        7565.13028004, 7565.32571781, 7565.51272656, 7565.69023962,\n",
       "        7565.8573284 , 7566.01320247, 7566.15720949, 7566.28883523,\n",
       "        7566.40770361, 7566.51357664, 7566.60635445, 7566.6860753 ,\n",
       "        7566.75291557, 7566.80718973, 7566.84935039, 7566.87998828,\n",
       "        7566.89983224, 7566.90974922, 7566.9107443 , 7566.90396068,\n",
       "        7566.89067965, 7566.87232066, 7566.85044125, 7566.82673707,\n",
       "        7566.80304191, 7566.78132766, 7566.76370434, 7566.75242008,\n",
       "        7566.74986114, 7566.75855187, 7566.78115476, 7566.82047027,\n",
       "        7566.87768413, 7566.94815355, 7567.02639292, 7567.10742632,\n",
       "        7567.18678744, 7567.26051967, 7567.325176  , 7567.37781912,\n",
       "        7567.41602132, 7567.43786459, 7567.44194055, 7567.42735045,\n",
       "        7567.39370523, 7567.34112545, 7567.27024133, 7567.18219276,\n",
       "        7567.07862926, 7566.96171   , 7566.83410381, 7566.69898918,\n",
       "        7566.56005421, 7566.42149671, 7566.2880241 , 7566.16485346,\n",
       "        7566.05771152, 7565.97283468, 7565.91696896, 7565.89737006,\n",
       "        7565.9218033 , 7565.99854368, 7566.12283111, 7566.26827335,\n",
       "        7566.4274926 , 7566.59428077, 7566.76299387, 7566.92855203,\n",
       "        7567.08643952, 7567.23270473, 7567.36396017, 7567.47738247,\n",
       "        7567.57071242, 7567.64225488, 7567.69087887, 7567.71601755,\n",
       "        7567.71766815, 7567.69639209, 7567.65331486, 7567.59012611,\n",
       "        7567.5090796 , 7567.41299322, 7567.30524899, 7567.18979303,\n",
       "        7567.07113562, 7566.95435115, 7566.84507812, 7566.74951917,\n",
       "        7566.67444107, 7566.6271747 , 7566.61561509, 7566.64713021,\n",
       "        7566.7133733 , 7566.80388202, 7566.91085746, 7567.0272027 ,\n",
       "        7567.14652277, 7567.26312469, 7567.37201744, 7567.46891197,\n",
       "        7567.55022122, 7567.61306006, 7567.65524538, 7567.675296  ,\n",
       "        7567.67243273, 7567.64657835, 7567.59835761, 7567.52909722,\n",
       "        7567.44082587, 7567.33627423, 7567.21887492, 7567.09276254,\n",
       "        7566.96277367, 7566.83444685, 7566.71402258, 7566.60844336,\n",
       "        7566.52535364, 7566.47309984, 7566.46073035, 7566.48070651,\n",
       "        7566.44451665, 7566.37470146, 7566.30566833, 7566.26101356,\n",
       "        7566.25352237, 7566.28516891, 7566.34711625, 7566.41971639,\n",
       "        7566.47251024]),\n",
       " array([1000.        ,  994.37011993,  992.42805762,  991.40482352,\n",
       "         988.13488738,  980.73293521,  968.90187756,  953.93284951,\n",
       "         938.70521072,  926.96568437,  918.45186211,  911.64802265,\n",
       "         905.42762579,  898.99527728,  891.88672881,  883.96887801,\n",
       "         875.43976849,  866.82906082,  859.20961889,  852.70379343,\n",
       "         846.82043144,  841.16059787,  835.41757557,  829.37686538,\n",
       "         822.91618603,  816.0054742 ,  808.70688453,  801.17478955,\n",
       "         793.65577977,  786.48866361,  780.10446744,  774.47902685,\n",
       "         768.17766297,  761.29607857,  754.04893763,  746.62066978,\n",
       "         739.16547036,  731.80730037,  724.6398865 ,  717.72672114,\n",
       "         711.10106233,  704.76593382,  698.69412502,  692.82819103,\n",
       "         687.08045266,  681.33299635,  675.43767426,  669.36466859,\n",
       "         663.29265479,  657.30026097,  651.45049236,  645.79145549,\n",
       "         640.35635818,  635.16350958,  630.21632012,  625.50330153,\n",
       "         620.99806686,  616.65933044,  612.43090791,  608.24171621,\n",
       "         604.00577357,  599.62219955,  594.97521499,  589.93414202,\n",
       "         584.39473179,  578.88083297,  573.60144834,  568.55977671,\n",
       "         563.75420863,  559.17832644,  554.82090421,  550.66590777,\n",
       "         546.69249473,  542.87501442,  539.18300796,  535.58120821,\n",
       "         532.02953979,  528.48311907,  524.8922542 ,  521.20244506,\n",
       "         517.3543833 ,  513.28395232,  508.92222729,  504.21702791,\n",
       "         499.55207775,  495.06749185,  490.73048609,  486.51168498,\n",
       "         482.38512164,  478.3282378 ,  474.32188383,  470.3503187 ,\n",
       "         466.40120999,  462.46563392,  458.5380753 ,  454.61642757,\n",
       "         450.70199279,  446.79948163,  442.91701338,  439.06611594,\n",
       "         435.26172583,  431.52218819,  427.86925677,  424.3279005 ,\n",
       "         420.71632088,  416.90542524,  412.960434  ,  408.94041839,\n",
       "         404.89830046,  400.88085302,  396.92869972,  393.076315  ,\n",
       "         389.35202409,  385.77800303,  382.37027868,  379.13872866,\n",
       "         376.08708144,  373.21291625,  370.50766314,  367.95660296,\n",
       "         365.53886737,  363.22743882,  360.98915057,  358.78468666,\n",
       "         356.56858196,  354.28922213,  351.88884363,  349.30353372,\n",
       "         346.46323047,  343.29174953,  339.88279715,  336.40162223,\n",
       "         332.88417426,  329.36310388,  325.8677629 ,  322.4242043 ,\n",
       "         319.0551822 ,  315.78015188,  312.6152698 ,  309.57339357,\n",
       "         306.66408195,  303.89359487,  301.26489343,  298.77763987,\n",
       "         296.42819759,  294.20963118,  292.11170635,  290.12089   ,\n",
       "         288.22035018,  286.38995609,  284.60627811,  282.84258777,\n",
       "         281.06885775,  279.25176191,  277.35467526,  275.33767396,\n",
       "         273.15753535,  270.76773792,  268.17690712,  265.56653703,\n",
       "         262.96388801,  260.37879833,  257.82002293,  255.29523342,\n",
       "         252.81101805,  250.37288177,  247.98524616,  245.65144947,\n",
       "         243.37374664,  241.15330924,  238.99022553,  236.88350041,\n",
       "         234.83105546,  232.82972892,  230.8752757 ,  228.96236735,\n",
       "         227.08459211,  225.23445488,  223.40337722,  221.58169733,\n",
       "         219.75867011,  217.92246712,  216.06017655,  214.15785037,\n",
       "         212.22544615,  210.28317995,  208.33686212,  206.39192474,\n",
       "         204.45342171,  202.52602866,  200.614043  ,  198.72138392,\n",
       "         196.85159235,  195.00783102,  193.19288441,  191.40915876,\n",
       "         189.65868209,  187.94310419,  186.26369662,  184.62135269,\n",
       "         183.0165875 ,  181.44953789,  179.91996251,  178.42724173,\n",
       "         176.97037772,  175.54799441,  174.1583375 ,  172.79927445,\n",
       "         171.46829449,  170.16250863,  168.87864963,  167.61307202,\n",
       "         166.36175211,  165.12028798,  163.88389946,  162.64742816,\n",
       "         161.40436907,  160.13357867,  158.8314729 ,  157.50200557,\n",
       "         156.14898248,  154.77606141,  153.38675209,  151.98441627,\n",
       "         150.57226767,  149.15337196,  147.73064684,  146.30686194,\n",
       "         144.8846389 ,  143.46645134,  142.05462484,  140.65133698,\n",
       "         139.25861731,  137.87834736,  136.51226064,  135.16194265,\n",
       "         133.82883085,  132.5142147 ,  131.21923563,  129.94488704,\n",
       "         128.69201433,  127.46131487,  126.25333802,  125.06848509,\n",
       "         123.9070094 ,  122.76901624,  121.65446288,  120.56315857,\n",
       "         119.49476454,  118.44879399,  117.42461212,  116.4214361 ,\n",
       "         115.43833507,  114.47423017,  113.5278945 ,  112.59795314,\n",
       "         111.68288318,  110.78101365,  109.89052559,  109.00945199,\n",
       "         108.13567786,  107.26694016,  106.40082782,  105.53478179,\n",
       "         104.66609497,  103.79191225,  102.90923048,  102.01490257,\n",
       "         101.10904684,  100.19747836,   99.28556565,   98.37816894,\n",
       "          97.4796402 ,   96.59382314,   95.72405319,   94.87315753,\n",
       "          94.04345507,   93.23675644,   92.45436403,   91.69707192,\n",
       "          90.96516598,   90.25842378,   89.57611462,   88.91699955,\n",
       "          88.27933134,   87.66085452,   87.05880532,   86.46991172,\n",
       "          85.89039343,   85.31596191,   84.74182034,   84.16266362,\n",
       "          83.57267841,   82.96554309,   82.33442777,   81.67199432,\n",
       "          80.9703963 ,   80.22127905,   79.43001903,   78.62428984,\n",
       "          77.81141832,   76.99752208,   76.18815102,   75.38828732,\n",
       "          74.60234542,   73.83417207,   73.08704628,   72.36367934,\n",
       "          71.66621483,   70.99622861,   70.35472882,   69.74215588,\n",
       "          69.15838247,   68.60271359,   68.07388649,   67.57007071,\n",
       "          67.08886807,   66.62731268,   66.18187091,   65.74844142,\n",
       "          65.32235516,   64.89837535,   64.4706975 ,   64.03294938,\n",
       "          63.57819106,   63.0989149 ,   62.5870455 ,   62.03518941,\n",
       "          61.45324356,   60.85205634,   60.23935762,   59.62217184,\n",
       "          59.0068181 ,   58.39891008,   57.80335609,   57.22435906,\n",
       "          56.66541652,   56.12932063,   55.61815817,   55.13331052,\n",
       "          54.67545367,   54.24455826,   53.83988951,   53.46000727,\n",
       "          53.102766  ,   52.76531479,   52.44409732,   52.13485192,\n",
       "          51.8326115 ,   51.53170362,   51.22575041,   50.90766867,\n",
       "          50.56966977,   50.20325973,   49.79923915,   49.36512814,\n",
       "          48.99019099,   48.65196519,   48.31600971,   47.95874336,\n",
       "          47.56744489,   47.14025291,   46.68616595,   46.22504242,\n",
       "          45.78760063]),\n",
       " array([  0.        ,   8.32946432,  16.62894964,  24.92435679,\n",
       "         33.19682029,  41.41574409,  49.55482807,  57.59206805,\n",
       "         65.50975582,  73.30555475,  81.01904992,  88.66498277,\n",
       "         96.25153326, 103.78321329, 111.26086675, 118.68166949,\n",
       "        126.03912935, 133.32309899, 140.53724466, 147.69389571,\n",
       "        154.7951942 , 161.84278742, 168.83782793, 175.7809735 ,\n",
       "        182.67238717, 189.51173718, 196.29819706, 203.03044555,\n",
       "        209.70666665, 216.32454957, 222.8812888 , 229.37726816,\n",
       "        235.8215101 , 242.21187795, 248.54576272, 254.82113327,\n",
       "        261.03653624, 267.19109608, 273.28451504, 279.31707318,\n",
       "        285.28962836, 291.20361625, 297.06105033, 302.86452186,\n",
       "        308.61719993, 314.32283143, 319.98574105, 325.60433552,\n",
       "        331.17282804, 336.69258501, 342.16493602, 347.59113331,\n",
       "        352.97235174, 358.30968879, 363.6041646 , 368.85672192,\n",
       "        374.06822615, 379.23946529, 384.37115002, 389.46391361,\n",
       "        394.51831198, 399.53482368, 404.5138499 , 409.45571444,\n",
       "        414.36023918, 419.22162596, 424.03947626, 428.81560566,\n",
       "        433.55167811, 438.24920602, 442.90955016, 447.53391977,\n",
       "        452.12337245, 456.67881424, 461.20099959, 465.69053134,\n",
       "        470.14786077, 474.57328756, 478.9669598 , 483.32887399,\n",
       "        487.65887504, 491.95665628, 496.22175944, 500.45347201,\n",
       "        504.6491967 , 508.80830133, 512.93111679, 517.01797819,\n",
       "        521.0692249 , 525.08520054, 529.06625296, 533.01273426,\n",
       "        536.92500079, 540.80341314, 544.64833615, 548.4601389 ,\n",
       "        552.23919473, 555.98588119, 559.70058011, 563.38367755,\n",
       "        567.03556382, 570.65663347, 574.24728529, 577.80792013,\n",
       "        581.33650901, 584.83146702, 588.29344423, 591.72308851,\n",
       "        595.12104561, 598.4879591 , 601.82447041, 605.13121879,\n",
       "        608.40884136, 611.65797306, 614.87924669, 618.07329289,\n",
       "        621.24074012, 624.38221471, 627.49834083, 630.58974047,\n",
       "        633.6570335 , 636.7008376 , 639.72176831, 642.72043901,\n",
       "        645.69746091, 648.65344309, 651.58899244, 654.50471372,\n",
       "        657.40120952, 660.27907928, 663.13318526, 665.95854539,\n",
       "        668.75556345, 671.52465895, 674.2662671 , 676.98083881,\n",
       "        679.6688407 , 682.33075509, 684.96708   , 687.57832916,\n",
       "        690.165032  , 692.72773368, 695.26699502, 697.78339258,\n",
       "        700.27751862, 702.74998108, 705.20140364, 707.63242565,\n",
       "        710.0437022 , 712.43590405, 714.80971768, 717.16584529,\n",
       "        719.50500476, 721.82792969, 724.13536938, 726.42808882,\n",
       "        728.70686873, 730.97250552, 733.22373815, 735.45385697,\n",
       "        737.66248156, 739.8498544 , 742.01622559, 744.16185281,\n",
       "        746.2870013 , 748.3919439 , 750.47696102, 752.54234068,\n",
       "        754.58837845, 756.61537751, 758.6236486 , 760.61351005,\n",
       "        762.58528779, 764.53931531, 766.47593369, 768.3954916 ,\n",
       "        770.29834528, 772.18485857, 774.05540287, 775.91035719,\n",
       "        777.7501081 , 779.57504976, 781.38558392, 783.18211646,\n",
       "        784.963469  , 786.72852074, 788.47737725, 790.21015245,\n",
       "        791.92696865, 793.62795654, 795.31325516, 796.98301196,\n",
       "        798.63738272, 800.27653164, 801.90063126, 803.50986252,\n",
       "        805.1044147 , 806.6844855 , 808.25028095, 809.80201549,\n",
       "        811.3399119 , 812.86420137, 814.37512344, 815.87292603,\n",
       "        817.35786544, 818.83020634, 820.29022177, 821.73819316,\n",
       "        823.17441029, 824.59917133, 826.01278282, 827.41555968,\n",
       "        828.80782521, 830.18991106, 831.56215727, 832.92491226,\n",
       "        834.27847281, 835.62195007, 836.95483334, 838.27699783,\n",
       "        839.58832866, 840.88872088, 842.17807939, 843.45631904,\n",
       "        844.72336456, 845.97915059, 847.22362166, 848.45673222,\n",
       "        849.67844662, 850.88873909, 852.0875938 , 853.2750048 ,\n",
       "        854.45097603, 855.61552137, 856.76866457, 857.91043929,\n",
       "        859.04088911, 860.16006749, 861.26803781, 862.36487334,\n",
       "        863.45065726, 864.52548265, 865.5894525 , 866.64267968,\n",
       "        867.68528699, 868.71740712, 869.73918267, 870.75076613,\n",
       "        871.7523199 , 872.74401628, 873.72603749, 874.69857562,\n",
       "        875.66183269, 876.61602061, 877.5613612 , 878.49808618,\n",
       "        879.42643717, 880.34666569, 881.25903317, 882.16381094,\n",
       "        883.06128023, 883.95173219, 884.83546784, 885.71279812,\n",
       "        886.58404389, 887.44953589, 888.30961476, 889.16462716,\n",
       "        890.01326903, 890.85436809, 891.68804143, 892.51440475,\n",
       "        893.33357236, 894.1456572 , 894.95077081, 895.74902335,\n",
       "        896.54052361, 897.32537896, 898.10369543, 898.87557763,\n",
       "        899.64112879, 900.40045078, 901.15364405, 901.90080769,\n",
       "        902.64203939, 903.37743548, 904.10709087, 904.83109911,\n",
       "        905.54955235, 906.26254138, 906.97015557, 907.67248292,\n",
       "        908.36961007, 909.06162223, 909.74860327, 910.43063563,\n",
       "        911.1078004 , 911.78017727, 912.44714986, 913.10743682,\n",
       "        913.76108908, 914.40819715, 915.04885511, 915.68316065,\n",
       "        916.31121506, 916.9331232 , 917.54899356, 918.15893819,\n",
       "        918.76307275, 919.36151651, 919.9543923 , 920.54182658,\n",
       "        921.12394937, 921.70089432, 922.27279865, 922.83980318,\n",
       "        923.40205232, 923.9596941 , 924.51288011, 925.06176555,\n",
       "        925.60650922, 926.1472735 , 926.68422439, 927.21753145,\n",
       "        927.74736787, 928.2739104 , 928.79733941, 929.31768038,\n",
       "        929.83338314, 930.34406164, 930.84978492, 931.35062546,\n",
       "        931.84665913, 932.33796523, 932.82462647, 933.30672897,\n",
       "        933.78436226, 934.2576193 , 934.72659645, 935.19139348,\n",
       "        935.6521136 , 936.10886339, 936.56175289, 937.01089552,\n",
       "        937.45640813, 937.89841099, 938.33702776, 938.77238554,\n",
       "        939.20461483, 939.63384954, 940.060227  , 940.48388797,\n",
       "        940.90497659, 941.32364044, 941.7400305 , 942.15416534,\n",
       "        942.56529237, 942.97333335, 943.37832196, 943.78024308,\n",
       "        944.17903275, 944.57457819, 944.96671781, 945.3552412 ,\n",
       "        945.73988913]))"
      ]
     },
     "execution_count": 33,
     "metadata": {},
     "output_type": "execute_result"
    }
   ],
   "source": [
    "S_H, I_H, R_H"
   ]
  },
  {
   "cell_type": "code",
   "execution_count": 34,
   "metadata": {},
   "outputs": [
    {
     "data": {
      "image/png": "[encoded data removed]",
      "text/plain": [
       "<Figure size 720x432 with 1 Axes>"
      ]
     },
     "metadata": {
      "needs_background": "light"
     },
     "output_type": "display_data"
    }
   ],
   "source": [
    "# Cria um gráfico com base no tempo e nos valores de S_H, I_H e R_H\n",
    "plt.figure(figsize=(10, 6))\n",
    "plt.plot(times, S_H, label='Suscetíveis')\n",
    "plt.plot(times, I_H, label='Infectados')\n",
    "plt.plot(times, R_H, label='Recuperados')\n",
    "\n",
    "# Define os títulos dos eixos e o título do gráfico\n",
    "plt.xlabel('Tempo (dias)')\n",
    "plt.ylabel('População')\n",
    "plt.title('Modelo SIR de Malária')\n",
    "\n",
    "# Adiciona a legenda ao gráfico\n",
    "plt.legend()\n",
    "\n",
    "# Mostra o gráfico\n",
    "plt.show()"
   ]
  },
  {
   "cell_type": "code",
   "execution_count": null,
   "metadata": {},
   "outputs": [],
   "source": []
  }
 ],
 "metadata": {
  "kernelspec": {
   "display_name": "SageMath 9.2",
   "language": "sage",
   "name": "sagemath"
  },
  "language_info": {
   "codemirror_mode": {
    "name": "ipython",
    "version": 3
   },
   "file_extension": ".py",
   "mimetype": "text/x-python",
   "name": "python",
   "nbconvert_exporter": "python",
   "pygments_lexer": "ipython3",
   "version": "3.7.7"
  }
 },
 "nbformat": 4,
 "nbformat_minor": 4
}
