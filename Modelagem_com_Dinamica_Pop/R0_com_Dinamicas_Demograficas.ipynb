{
 "cells": [
  {
   "cell_type": "code",
   "execution_count": 1,
   "metadata": {},
   "outputs": [],
   "source": [
    "import numpy as np\n",
    "from scipy.integrate import solve_ivp\n",
    "import matplotlib.pyplot as plt\n",
    "from numpy import cos\n",
    "from math import log\n",
    "from scipy.interpolate import interp1d\n",
    "from ipywidgets import interact, interactive, fixed, interact_manual\n",
    "import ipywidgets as widgets\n",
    "from mpl_toolkits.mplot3d import Axes3D\n",
    "from scipy.optimize import minimize_scalar\n",
    "from scipy.optimize import minimize"
   ]
  },
  {
   "cell_type": "markdown",
   "metadata": {},
   "source": [
    "#### As equações do modelo:"
   ]
  },
  {
   "cell_type": "markdown",
   "metadata": {},
   "source": [
    "$dShdt = \\mu_H N -a  k b_2  (I_M / N)  S_H - \\mu_H S_H\\\\\n",
    "dIhdt = a  k b_2  (I_M / N)  S_H - \\gamma  I_H - \\mu_H I_H\\\\\n",
    "dRhdt = \\gamma  I_H - \\mu_H R_H$"
   ]
  },
  {
   "cell_type": "markdown",
   "metadata": {},
   "source": [
    "$dSmdt = b - a  k b_1  (I_H / N)  S_M - \\mu S_M \\\\\n",
    "dEmdt = a k b_1  (I_H / N)  S_M - \\mu E_M - b_3 E_M - l E_M\\\\\n",
    "dImdt = b_3  E_M  - \\mu I_M$"
   ]
  },
  {
   "cell_type": "code",
   "execution_count": 2,
   "metadata": {},
   "outputs": [],
   "source": [
    "%display typeset"
   ]
  },
  {
   "cell_type": "markdown",
   "metadata": {},
   "source": [
    "### Analisando o SIR:"
   ]
  },
  {
   "cell_type": "code",
   "execution_count": 3,
   "metadata": {},
   "outputs": [
    {
     "data": {
      "text/html": [
       "<html><script type=\"math/tex; mode=display\">\\newcommand{\\Bold}[1]{\\mathbf{#1}}\\left(S_{H}, I_{H}, R_{H}, a, b_{2}, k, I_{M}, N, \\gamma, \\mu_{H}\\right)</script></html>"
      ],
      "text/latex": [
       "\\begin{math}\n",
       "\\newcommand{\\Bold}[1]{\\mathbf{#1}}\\left(S_{H}, I_{H}, R_{H}, a, b_{2}, k, I_{M}, N, \\gamma, \\mu_{H}\\right)\n",
       "\\end{math}"
      ],
      "text/plain": [
       "(S_H, I_H, R_H, a, b2, k, I_M, N, gamma, mu_H)"
      ]
     },
     "execution_count": 3,
     "metadata": {},
     "output_type": "execute_result"
    }
   ],
   "source": [
    "var('S_H I_H R_H a b2 k I_M N gamma mu_H')"
   ]
  },
  {
   "cell_type": "code",
   "execution_count": 4,
   "metadata": {},
   "outputs": [],
   "source": [
    "dShdt = mu_H * N -a * k * b2 * (I_M / N) * S_H - mu_H * S_H\n",
    "dIhdt = a * k * b2 * (I_M / N) * S_H - gamma * I_H - mu_H * I_H\n",
    "dRhdt = gamma * I_H - mu_H * R_H"
   ]
  },
  {
   "cell_type": "markdown",
   "metadata": {},
   "source": [
    "#### Calculando o equilíbrio do SIR"
   ]
  },
  {
   "cell_type": "code",
   "execution_count": 5,
   "metadata": {},
   "outputs": [
    {
     "data": {
      "text/html": [
       "<html><script type=\"math/tex; mode=display\">\\newcommand{\\Bold}[1]{\\mathbf{#1}}\\left[\\left[S_{H} = \\frac{N^{2} \\mu_{H}}{I_{M} a b_{2} k + N \\mu_{H}}, I_{H} = \\frac{I_{M} N a b_{2} k \\mu_{H}}{I_{M} a b_{2} \\gamma k + N \\mu_{H}^{2} + {\\left(I_{M} a b_{2} k + N \\gamma\\right)} \\mu_{H}}, R_{H} = \\frac{I_{M} N a b_{2} \\gamma k}{I_{M} a b_{2} \\gamma k + N \\mu_{H}^{2} + {\\left(I_{M} a b_{2} k + N \\gamma\\right)} \\mu_{H}}\\right]\\right]</script></html>"
      ],
      "text/latex": [
       "\\begin{math}\n",
       "\\newcommand{\\Bold}[1]{\\mathbf{#1}}\\left[\\left[S_{H} = \\frac{N^{2} \\mu_{H}}{I_{M} a b_{2} k + N \\mu_{H}}, I_{H} = \\frac{I_{M} N a b_{2} k \\mu_{H}}{I_{M} a b_{2} \\gamma k + N \\mu_{H}^{2} + {\\left(I_{M} a b_{2} k + N \\gamma\\right)} \\mu_{H}}, R_{H} = \\frac{I_{M} N a b_{2} \\gamma k}{I_{M} a b_{2} \\gamma k + N \\mu_{H}^{2} + {\\left(I_{M} a b_{2} k + N \\gamma\\right)} \\mu_{H}}\\right]\\right]\n",
       "\\end{math}"
      ],
      "text/plain": [
       "[[S_H == N^2*mu_H/(I_M*a*b2*k + N*mu_H), I_H == I_M*N*a*b2*k*mu_H/(I_M*a*b2*gamma*k + N*mu_H^2 + (I_M*a*b2*k + N*gamma)*mu_H), R_H == I_M*N*a*b2*gamma*k/(I_M*a*b2*gamma*k + N*mu_H^2 + (I_M*a*b2*k + N*gamma)*mu_H)]]"
      ]
     },
     "execution_count": 5,
     "metadata": {},
     "output_type": "execute_result"
    }
   ],
   "source": [
    "solve([dShdt, dIhdt, dRhdt],[S_H, I_H, R_H])"
   ]
  },
  {
   "cell_type": "markdown",
   "metadata": {},
   "source": [
    "#### Calculando a Jacobiana do SIR"
   ]
  },
  {
   "cell_type": "code",
   "execution_count": 6,
   "metadata": {},
   "outputs": [
    {
     "data": {
      "text/html": [
       "<html><script type=\"math/tex; mode=display\">\\newcommand{\\Bold}[1]{\\mathbf{#1}}\\left(\\begin{array}{rrr}\n",
       "-\\frac{I_{M} a b_{2} k}{N} - \\mu_{H} & 0 & 0 \\\\\n",
       "\\frac{I_{M} a b_{2} k}{N} & -\\gamma - \\mu_{H} & 0 \\\\\n",
       "0 & \\gamma & -\\mu_{H}\n",
       "\\end{array}\\right)</script></html>"
      ],
      "text/latex": [
       "\\begin{math}\n",
       "\\newcommand{\\Bold}[1]{\\mathbf{#1}}\\left(\\begin{array}{rrr}\n",
       "-\\frac{I_{M} a b_{2} k}{N} - \\mu_{H} & 0 & 0 \\\\\n",
       "\\frac{I_{M} a b_{2} k}{N} & -\\gamma - \\mu_{H} & 0 \\\\\n",
       "0 & \\gamma & -\\mu_{H}\n",
       "\\end{array}\\right)\n",
       "\\end{math}"
      ],
      "text/plain": [
       "[-I_M*a*b2*k/N - mu_H                    0                    0]\n",
       "[        I_M*a*b2*k/N        -gamma - mu_H                    0]\n",
       "[                   0                gamma                -mu_H]"
      ]
     },
     "execution_count": 6,
     "metadata": {},
     "output_type": "execute_result"
    }
   ],
   "source": [
    "jack_sir=jacobian([dShdt, dIhdt, dRhdt],[S_H, I_H, R_H])\n",
    "jack_sir"
   ]
  },
  {
   "cell_type": "code",
   "execution_count": 7,
   "metadata": {},
   "outputs": [
    {
     "data": {
      "text/html": [
       "<html><script type=\"math/tex; mode=display\">\\newcommand{\\Bold}[1]{\\mathbf{#1}}x^{3} + \\left(\\frac{I_{M} a b_{2} k}{N} + \\gamma + 3 \\, \\mu_{H}\\right) x^{2} + \\left(\\frac{I_{M} a b_{2} \\gamma k}{N} + \\frac{2 \\, I_{M} a b_{2} k \\mu_{H}}{N} + 2 \\, \\gamma \\mu_{H} + 3 \\, \\mu_{H}^{2}\\right) x + \\frac{I_{M} a b_{2} \\gamma k \\mu_{H}}{N} + \\frac{I_{M} a b_{2} k \\mu_{H}^{2}}{N} + \\gamma \\mu_{H}^{2} + \\mu_{H}^{3}</script></html>"
      ],
      "text/latex": [
       "\\begin{math}\n",
       "\\newcommand{\\Bold}[1]{\\mathbf{#1}}x^{3} + \\left(\\frac{I_{M} a b_{2} k}{N} + \\gamma + 3 \\, \\mu_{H}\\right) x^{2} + \\left(\\frac{I_{M} a b_{2} \\gamma k}{N} + \\frac{2 \\, I_{M} a b_{2} k \\mu_{H}}{N} + 2 \\, \\gamma \\mu_{H} + 3 \\, \\mu_{H}^{2}\\right) x + \\frac{I_{M} a b_{2} \\gamma k \\mu_{H}}{N} + \\frac{I_{M} a b_{2} k \\mu_{H}^{2}}{N} + \\gamma \\mu_{H}^{2} + \\mu_{H}^{3}\n",
       "\\end{math}"
      ],
      "text/plain": [
       "x^3 + (I_M*a*b2*k/N + gamma + 3*mu_H)*x^2 + (I_M*a*b2*gamma*k/N + 2*I_M*a*b2*k*mu_H/N + 2*gamma*mu_H + 3*mu_H^2)*x + I_M*a*b2*gamma*k*mu_H/N + I_M*a*b2*k*mu_H^2/N + gamma*mu_H^2 + mu_H^3"
      ]
     },
     "execution_count": 7,
     "metadata": {},
     "output_type": "execute_result"
    }
   ],
   "source": [
    "cp_sir = jack_sir.characteristic_polynomial()\n",
    "cp_sir"
   ]
  },
  {
   "cell_type": "code",
   "execution_count": 8,
   "metadata": {},
   "outputs": [
    {
     "data": {
      "text/html": [
       "<html><script type=\"math/tex; mode=display\">\\newcommand{\\Bold}[1]{\\mathbf{#1}}\\left[-\\frac{I_{M} a b_{2} k + N \\mu_{H}}{N}, -\\gamma - \\mu_{H}, -\\mu_{H}\\right]</script></html>"
      ],
      "text/latex": [
       "\\begin{math}\n",
       "\\newcommand{\\Bold}[1]{\\mathbf{#1}}\\left[-\\frac{I_{M} a b_{2} k + N \\mu_{H}}{N}, -\\gamma - \\mu_{H}, -\\mu_{H}\\right]\n",
       "\\end{math}"
      ],
      "text/plain": [
       "[-(I_M*a*b2*k + N*mu_H)/N, -gamma - mu_H, -mu_H]"
      ]
     },
     "execution_count": 8,
     "metadata": {},
     "output_type": "execute_result"
    }
   ],
   "source": [
    "jack_sir.eigenvalues()"
   ]
  },
  {
   "cell_type": "markdown",
   "metadata": {},
   "source": [
    "### Analisando o SEI:"
   ]
  },
  {
   "cell_type": "code",
   "execution_count": 9,
   "metadata": {},
   "outputs": [
    {
     "data": {
      "text/html": [
       "<html><script type=\"math/tex; mode=display\">\\newcommand{\\Bold}[1]{\\mathbf{#1}}\\left(S_{M}, E_{M}, I_{M}, b, a, b_{1}, k, I_{H}, N, \\mu, b_{3}, l\\right)</script></html>"
      ],
      "text/latex": [
       "\\begin{math}\n",
       "\\newcommand{\\Bold}[1]{\\mathbf{#1}}\\left(S_{M}, E_{M}, I_{M}, b, a, b_{1}, k, I_{H}, N, \\mu, b_{3}, l\\right)\n",
       "\\end{math}"
      ],
      "text/plain": [
       "(S_M, E_M, I_M, b, a, b1, k, I_H, N, mu, b3, l)"
      ]
     },
     "execution_count": 9,
     "metadata": {},
     "output_type": "execute_result"
    }
   ],
   "source": [
    "var('S_M E_M I_M b a b1 k I_H N mu b3 l')"
   ]
  },
  {
   "cell_type": "code",
   "execution_count": 10,
   "metadata": {},
   "outputs": [],
   "source": [
    "dSmdt = b - a * k * b1 * (I_H / N) * S_M - mu * S_M\n",
    "dEmdt = a * k * b1 * (I_H / N) * S_M - mu * E_M - b3 * E_M - l * E_M\n",
    "dImdt = b3 * E_M - mu * I_M"
   ]
  },
  {
   "cell_type": "markdown",
   "metadata": {},
   "source": [
    "#### Calculando o equilíbrio do SEI"
   ]
  },
  {
   "cell_type": "code",
   "execution_count": 11,
   "metadata": {},
   "outputs": [
    {
     "data": {
      "text/html": [
       "<html><script type=\"math/tex; mode=display\">\\newcommand{\\Bold}[1]{\\mathbf{#1}}\\left[\\left[S_{M} = \\frac{N b}{I_{H} a b_{1} k + N \\mu}, E_{M} = \\frac{I_{H} a b b_{1} k}{I_{H} a b_{1} {\\left(b_{3} + l\\right)} k + N \\mu^{2} + {\\left(I_{H} a b_{1} k + N {\\left(b_{3} + l\\right)}\\right)} \\mu}, I_{M} = \\frac{I_{H} a b b_{1} b_{3} k}{I_{H} a b_{1} {\\left(b_{3} + l\\right)} k \\mu + N \\mu^{3} + {\\left(I_{H} a b_{1} k + N {\\left(b_{3} + l\\right)}\\right)} \\mu^{2}}\\right]\\right]</script></html>"
      ],
      "text/latex": [
       "\\begin{math}\n",
       "\\newcommand{\\Bold}[1]{\\mathbf{#1}}\\left[\\left[S_{M} = \\frac{N b}{I_{H} a b_{1} k + N \\mu}, E_{M} = \\frac{I_{H} a b b_{1} k}{I_{H} a b_{1} {\\left(b_{3} + l\\right)} k + N \\mu^{2} + {\\left(I_{H} a b_{1} k + N {\\left(b_{3} + l\\right)}\\right)} \\mu}, I_{M} = \\frac{I_{H} a b b_{1} b_{3} k}{I_{H} a b_{1} {\\left(b_{3} + l\\right)} k \\mu + N \\mu^{3} + {\\left(I_{H} a b_{1} k + N {\\left(b_{3} + l\\right)}\\right)} \\mu^{2}}\\right]\\right]\n",
       "\\end{math}"
      ],
      "text/plain": [
       "[[S_M == N*b/(I_H*a*b1*k + N*mu), E_M == I_H*a*b*b1*k/(I_H*a*b1*(b3 + l)*k + N*mu^2 + (I_H*a*b1*k + N*(b3 + l))*mu), I_M == I_H*a*b*b1*b3*k/(I_H*a*b1*(b3 + l)*k*mu + N*mu^3 + (I_H*a*b1*k + N*(b3 + l))*mu^2)]]"
      ]
     },
     "execution_count": 11,
     "metadata": {},
     "output_type": "execute_result"
    }
   ],
   "source": [
    "solve([dSmdt, dEmdt, dImdt],[S_M, E_M, I_M])"
   ]
  },
  {
   "cell_type": "markdown",
   "metadata": {},
   "source": [
    "#### Calculando a Jacobiana do SEI"
   ]
  },
  {
   "cell_type": "code",
   "execution_count": 12,
   "metadata": {},
   "outputs": [
    {
     "data": {
      "text/html": [
       "<html><script type=\"math/tex; mode=display\">\\newcommand{\\Bold}[1]{\\mathbf{#1}}\\left(\\begin{array}{rrr}\n",
       "-\\frac{I_{H} a b_{1} k}{N} - \\mu & 0 & 0 \\\\\n",
       "\\frac{I_{H} a b_{1} k}{N} & -b_{3} - l - \\mu & 0 \\\\\n",
       "0 & b_{3} & -\\mu\n",
       "\\end{array}\\right)</script></html>"
      ],
      "text/latex": [
       "\\begin{math}\n",
       "\\newcommand{\\Bold}[1]{\\mathbf{#1}}\\left(\\begin{array}{rrr}\n",
       "-\\frac{I_{H} a b_{1} k}{N} - \\mu & 0 & 0 \\\\\n",
       "\\frac{I_{H} a b_{1} k}{N} & -b_{3} - l - \\mu & 0 \\\\\n",
       "0 & b_{3} & -\\mu\n",
       "\\end{array}\\right)\n",
       "\\end{math}"
      ],
      "text/plain": [
       "[-I_H*a*b1*k/N - mu                  0                  0]\n",
       "[      I_H*a*b1*k/N       -b3 - l - mu                  0]\n",
       "[                 0                 b3                -mu]"
      ]
     },
     "execution_count": 12,
     "metadata": {},
     "output_type": "execute_result"
    }
   ],
   "source": [
    "jack_sei=jacobian([dSmdt,dEmdt,dImdt],[S_M,E_M,I_M])\n",
    "jack_sei"
   ]
  },
  {
   "cell_type": "code",
   "execution_count": 13,
   "metadata": {},
   "outputs": [
    {
     "data": {
      "text/html": [
       "<html><script type=\"math/tex; mode=display\">\\newcommand{\\Bold}[1]{\\mathbf{#1}}x^{3} + \\left(\\frac{I_{H} a b_{1} k}{N} + b_{3} + l + 3 \\, \\mu\\right) x^{2} + \\left(\\frac{I_{H} a b_{1} b_{3} k}{N} + \\frac{I_{H} a b_{1} k l}{N} + \\frac{2 \\, I_{H} a b_{1} k \\mu}{N} + 2 \\, b_{3} \\mu + 2 \\, l \\mu + 3 \\, \\mu^{2}\\right) x + \\frac{I_{H} a b_{1} b_{3} k \\mu}{N} + \\frac{I_{H} a b_{1} k l \\mu}{N} + \\frac{I_{H} a b_{1} k \\mu^{2}}{N} + b_{3} \\mu^{2} + l \\mu^{2} + \\mu^{3}</script></html>"
      ],
      "text/latex": [
       "\\begin{math}\n",
       "\\newcommand{\\Bold}[1]{\\mathbf{#1}}x^{3} + \\left(\\frac{I_{H} a b_{1} k}{N} + b_{3} + l + 3 \\, \\mu\\right) x^{2} + \\left(\\frac{I_{H} a b_{1} b_{3} k}{N} + \\frac{I_{H} a b_{1} k l}{N} + \\frac{2 \\, I_{H} a b_{1} k \\mu}{N} + 2 \\, b_{3} \\mu + 2 \\, l \\mu + 3 \\, \\mu^{2}\\right) x + \\frac{I_{H} a b_{1} b_{3} k \\mu}{N} + \\frac{I_{H} a b_{1} k l \\mu}{N} + \\frac{I_{H} a b_{1} k \\mu^{2}}{N} + b_{3} \\mu^{2} + l \\mu^{2} + \\mu^{3}\n",
       "\\end{math}"
      ],
      "text/plain": [
       "x^3 + (I_H*a*b1*k/N + b3 + l + 3*mu)*x^2 + (I_H*a*b1*b3*k/N + I_H*a*b1*k*l/N + 2*I_H*a*b1*k*mu/N + 2*b3*mu + 2*l*mu + 3*mu^2)*x + I_H*a*b1*b3*k*mu/N + I_H*a*b1*k*l*mu/N + I_H*a*b1*k*mu^2/N + b3*mu^2 + l*mu^2 + mu^3"
      ]
     },
     "execution_count": 13,
     "metadata": {},
     "output_type": "execute_result"
    }
   ],
   "source": [
    "cp_sei = jack_sei.characteristic_polynomial()\n",
    "cp_sei"
   ]
  },
  {
   "cell_type": "code",
   "execution_count": 14,
   "metadata": {},
   "outputs": [
    {
     "data": {
      "text/html": [
       "<html><script type=\"math/tex; mode=display\">\\newcommand{\\Bold}[1]{\\mathbf{#1}}\\left[-\\frac{I_{H} a b_{1} k + N \\mu}{N}, -b_{3} - l - \\mu, -\\mu\\right]</script></html>"
      ],
      "text/latex": [
       "\\begin{math}\n",
       "\\newcommand{\\Bold}[1]{\\mathbf{#1}}\\left[-\\frac{I_{H} a b_{1} k + N \\mu}{N}, -b_{3} - l - \\mu, -\\mu\\right]\n",
       "\\end{math}"
      ],
      "text/plain": [
       "[-(I_H*a*b1*k + N*mu)/N, -b3 - l - mu, -mu]"
      ]
     },
     "execution_count": 14,
     "metadata": {},
     "output_type": "execute_result"
    }
   ],
   "source": [
    "jack_sei.eigenvalues()"
   ]
  },
  {
   "cell_type": "markdown",
   "metadata": {},
   "source": [
    "### Analisando o SIR/SEI:"
   ]
  },
  {
   "cell_type": "code",
   "execution_count": 15,
   "metadata": {},
   "outputs": [
    {
     "data": {
      "text/html": [
       "<html><script type=\"math/tex; mode=display\">\\newcommand{\\Bold}[1]{\\mathbf{#1}}\\left(S_{H}, I_{H}, R_{H}, S_{M}, E_{M}, I_{M}, b, a, b_{1}, b_{2}, k, \\gamma, N, \\mu, b_{3}, l, \\mu_{H}\\right)</script></html>"
      ],
      "text/latex": [
       "\\begin{math}\n",
       "\\newcommand{\\Bold}[1]{\\mathbf{#1}}\\left(S_{H}, I_{H}, R_{H}, S_{M}, E_{M}, I_{M}, b, a, b_{1}, b_{2}, k, \\gamma, N, \\mu, b_{3}, l, \\mu_{H}\\right)\n",
       "\\end{math}"
      ],
      "text/plain": [
       "(S_H, I_H, R_H, S_M, E_M, I_M, b, a, b1, b2, k, gamma, N, mu, b3, l, mu_H)"
      ]
     },
     "execution_count": 15,
     "metadata": {},
     "output_type": "execute_result"
    }
   ],
   "source": [
    "var('S_H I_H R_H S_M E_M I_M b a b1 b2 k gamma N mu b3 l mu_H')"
   ]
  },
  {
   "cell_type": "code",
   "execution_count": 16,
   "metadata": {},
   "outputs": [],
   "source": [
    "dShdt = mu_H * N -a * k * b2 * (I_M / N) * S_H - mu_H * S_H\n",
    "dIhdt = a * k * b2 * (I_M / N) * S_H - gamma * I_H - mu_H * I_H\n",
    "dRhdt = gamma * I_H - mu_H * R_H\n",
    "dSmdt = b - a * k * b1 * (I_H / N) * S_M - mu * S_M\n",
    "dEmdt = a * k * b1 * (I_H / N) * S_M - mu * E_M - b3 * E_M - l * E_M\n",
    "dImdt = b3 * E_M - mu * I_M"
   ]
  },
  {
   "cell_type": "markdown",
   "metadata": {},
   "source": [
    "#### Calculando o equilíbrio do SIR/SEI"
   ]
  },
  {
   "cell_type": "code",
   "execution_count": 17,
   "metadata": {},
   "outputs": [
    {
     "data": {
      "text/html": [
       "<html><script type=\"math/tex; mode=display\">\\newcommand{\\Bold}[1]{\\mathbf{#1}}\\left[\\left[S_{H} = N, I_{H} = 0, R_{H} = 0, S_{M} = \\frac{b}{\\mu}, E_{M} = 0, I_{M} = 0\\right], \\left[S_{H} = \\frac{N^{2} \\gamma \\mu^{3} + {\\left(N^{2} b_{3} \\gamma + N^{2} \\gamma l\\right)} \\mu^{2} + {\\left(N^{2} \\mu^{3} + {\\left(N^{2} a b_{1} k + N^{2} b_{3} + N^{2} l\\right)} \\mu^{2} + {\\left(N^{2} a b_{1} b_{3} k + N^{2} a b_{1} k l\\right)} \\mu\\right)} \\mu_{H}}{a^{2} b b_{1} b_{2} b_{3} k^{2} + {\\left(N a b_{1} k \\mu^{2} + {\\left(N a b_{1} b_{3} k + N a b_{1} k l\\right)} \\mu\\right)} \\mu_{H}}, I_{H} = -\\frac{{\\left(N^{2} \\mu^{3} + {\\left(N^{2} b_{3} + N^{2} l\\right)} \\mu^{2}\\right)} \\mu_{H}^{2} - {\\left(N a^{2} b b_{1} b_{2} b_{3} k^{2} - N^{2} \\gamma \\mu^{3} - {\\left(N^{2} b_{3} \\gamma + N^{2} \\gamma l\\right)} \\mu^{2}\\right)} \\mu_{H}}{a^{2} b b_{1} b_{2} b_{3} \\gamma k^{2} + {\\left(N a b_{1} k \\mu^{2} + {\\left(N a b_{1} b_{3} k + N a b_{1} k l\\right)} \\mu\\right)} \\mu_{H}^{2} + {\\left(a^{2} b b_{1} b_{2} b_{3} k^{2} + N a b_{1} \\gamma k \\mu^{2} + {\\left(N a b_{1} b_{3} \\gamma k + N a b_{1} \\gamma k l\\right)} \\mu\\right)} \\mu_{H}}, R_{H} = \\frac{N a^{2} b b_{1} b_{2} b_{3} \\gamma k^{2} - N^{2} \\gamma^{2} \\mu^{3} - {\\left(N^{2} b_{3} \\gamma^{2} + N^{2} \\gamma^{2} l\\right)} \\mu^{2} - {\\left(N^{2} \\gamma \\mu^{3} + {\\left(N^{2} b_{3} \\gamma + N^{2} \\gamma l\\right)} \\mu^{2}\\right)} \\mu_{H}}{a^{2} b b_{1} b_{2} b_{3} \\gamma k^{2} + {\\left(N a b_{1} k \\mu^{2} + {\\left(N a b_{1} b_{3} k + N a b_{1} k l\\right)} \\mu\\right)} \\mu_{H}^{2} + {\\left(a^{2} b b_{1} b_{2} b_{3} k^{2} + N a b_{1} \\gamma k \\mu^{2} + {\\left(N a b_{1} b_{3} \\gamma k + N a b_{1} \\gamma k l\\right)} \\mu\\right)} \\mu_{H}}, S_{M} = \\frac{a b b_{2} b_{3} \\gamma k + {\\left(N \\mu^{2} + {\\left(N b_{3} + N l\\right)} \\mu\\right)} \\mu_{H}^{2} + {\\left(a b b_{2} b_{3} k + N \\gamma \\mu^{2} + {\\left(N b_{3} \\gamma + N \\gamma l\\right)} \\mu\\right)} \\mu_{H}}{a b_{2} b_{3} \\gamma k \\mu + {\\left(a^{2} b_{1} b_{2} b_{3} k^{2} + a b_{2} b_{3} k \\mu\\right)} \\mu_{H}}, E_{M} = -\\frac{{\\left(N \\mu^{3} + {\\left(N b_{3} + N l\\right)} \\mu^{2}\\right)} \\mu_{H}^{2} - {\\left(a^{2} b b_{1} b_{2} b_{3} k^{2} - N \\gamma \\mu^{3} - {\\left(N b_{3} \\gamma + N \\gamma l\\right)} \\mu^{2}\\right)} \\mu_{H}}{a b_{2} b_{3} \\gamma k \\mu^{2} + {\\left(a b_{2} b_{3}^{2} \\gamma k + a b_{2} b_{3} \\gamma k l\\right)} \\mu + {\\left(a^{2} b_{1} b_{2} b_{3}^{2} k^{2} + a^{2} b_{1} b_{2} b_{3} k^{2} l + a b_{2} b_{3} k \\mu^{2} + {\\left(a^{2} b_{1} b_{2} b_{3} k^{2} + a b_{2} b_{3}^{2} k + a b_{2} b_{3} k l\\right)} \\mu\\right)} \\mu_{H}}, I_{M} = -\\frac{{\\left(N \\mu^{3} + {\\left(N b_{3} + N l\\right)} \\mu^{2}\\right)} \\mu_{H}^{2} - {\\left(a^{2} b b_{1} b_{2} b_{3} k^{2} - N \\gamma \\mu^{3} - {\\left(N b_{3} \\gamma + N \\gamma l\\right)} \\mu^{2}\\right)} \\mu_{H}}{a b_{2} \\gamma k \\mu^{3} + {\\left(a b_{2} b_{3} \\gamma k + a b_{2} \\gamma k l\\right)} \\mu^{2} + {\\left(a b_{2} k \\mu^{3} + {\\left(a^{2} b_{1} b_{2} k^{2} + a b_{2} b_{3} k + a b_{2} k l\\right)} \\mu^{2} + {\\left(a^{2} b_{1} b_{2} b_{3} k^{2} + a^{2} b_{1} b_{2} k^{2} l\\right)} \\mu\\right)} \\mu_{H}}\\right]\\right]</script></html>"
      ],
      "text/latex": [
       "\\begin{math}\n",
       "\\newcommand{\\Bold}[1]{\\mathbf{#1}}\\left[\\left[S_{H} = N, I_{H} = 0, R_{H} = 0, S_{M} = \\frac{b}{\\mu}, E_{M} = 0, I_{M} = 0\\right], \\left[S_{H} = \\frac{N^{2} \\gamma \\mu^{3} + {\\left(N^{2} b_{3} \\gamma + N^{2} \\gamma l\\right)} \\mu^{2} + {\\left(N^{2} \\mu^{3} + {\\left(N^{2} a b_{1} k + N^{2} b_{3} + N^{2} l\\right)} \\mu^{2} + {\\left(N^{2} a b_{1} b_{3} k + N^{2} a b_{1} k l\\right)} \\mu\\right)} \\mu_{H}}{a^{2} b b_{1} b_{2} b_{3} k^{2} + {\\left(N a b_{1} k \\mu^{2} + {\\left(N a b_{1} b_{3} k + N a b_{1} k l\\right)} \\mu\\right)} \\mu_{H}}, I_{H} = -\\frac{{\\left(N^{2} \\mu^{3} + {\\left(N^{2} b_{3} + N^{2} l\\right)} \\mu^{2}\\right)} \\mu_{H}^{2} - {\\left(N a^{2} b b_{1} b_{2} b_{3} k^{2} - N^{2} \\gamma \\mu^{3} - {\\left(N^{2} b_{3} \\gamma + N^{2} \\gamma l\\right)} \\mu^{2}\\right)} \\mu_{H}}{a^{2} b b_{1} b_{2} b_{3} \\gamma k^{2} + {\\left(N a b_{1} k \\mu^{2} + {\\left(N a b_{1} b_{3} k + N a b_{1} k l\\right)} \\mu\\right)} \\mu_{H}^{2} + {\\left(a^{2} b b_{1} b_{2} b_{3} k^{2} + N a b_{1} \\gamma k \\mu^{2} + {\\left(N a b_{1} b_{3} \\gamma k + N a b_{1} \\gamma k l\\right)} \\mu\\right)} \\mu_{H}}, R_{H} = \\frac{N a^{2} b b_{1} b_{2} b_{3} \\gamma k^{2} - N^{2} \\gamma^{2} \\mu^{3} - {\\left(N^{2} b_{3} \\gamma^{2} + N^{2} \\gamma^{2} l\\right)} \\mu^{2} - {\\left(N^{2} \\gamma \\mu^{3} + {\\left(N^{2} b_{3} \\gamma + N^{2} \\gamma l\\right)} \\mu^{2}\\right)} \\mu_{H}}{a^{2} b b_{1} b_{2} b_{3} \\gamma k^{2} + {\\left(N a b_{1} k \\mu^{2} + {\\left(N a b_{1} b_{3} k + N a b_{1} k l\\right)} \\mu\\right)} \\mu_{H}^{2} + {\\left(a^{2} b b_{1} b_{2} b_{3} k^{2} + N a b_{1} \\gamma k \\mu^{2} + {\\left(N a b_{1} b_{3} \\gamma k + N a b_{1} \\gamma k l\\right)} \\mu\\right)} \\mu_{H}}, S_{M} = \\frac{a b b_{2} b_{3} \\gamma k + {\\left(N \\mu^{2} + {\\left(N b_{3} + N l\\right)} \\mu\\right)} \\mu_{H}^{2} + {\\left(a b b_{2} b_{3} k + N \\gamma \\mu^{2} + {\\left(N b_{3} \\gamma + N \\gamma l\\right)} \\mu\\right)} \\mu_{H}}{a b_{2} b_{3} \\gamma k \\mu + {\\left(a^{2} b_{1} b_{2} b_{3} k^{2} + a b_{2} b_{3} k \\mu\\right)} \\mu_{H}}, E_{M} = -\\frac{{\\left(N \\mu^{3} + {\\left(N b_{3} + N l\\right)} \\mu^{2}\\right)} \\mu_{H}^{2} - {\\left(a^{2} b b_{1} b_{2} b_{3} k^{2} - N \\gamma \\mu^{3} - {\\left(N b_{3} \\gamma + N \\gamma l\\right)} \\mu^{2}\\right)} \\mu_{H}}{a b_{2} b_{3} \\gamma k \\mu^{2} + {\\left(a b_{2} b_{3}^{2} \\gamma k + a b_{2} b_{3} \\gamma k l\\right)} \\mu + {\\left(a^{2} b_{1} b_{2} b_{3}^{2} k^{2} + a^{2} b_{1} b_{2} b_{3} k^{2} l + a b_{2} b_{3} k \\mu^{2} + {\\left(a^{2} b_{1} b_{2} b_{3} k^{2} + a b_{2} b_{3}^{2} k + a b_{2} b_{3} k l\\right)} \\mu\\right)} \\mu_{H}}, I_{M} = -\\frac{{\\left(N \\mu^{3} + {\\left(N b_{3} + N l\\right)} \\mu^{2}\\right)} \\mu_{H}^{2} - {\\left(a^{2} b b_{1} b_{2} b_{3} k^{2} - N \\gamma \\mu^{3} - {\\left(N b_{3} \\gamma + N \\gamma l\\right)} \\mu^{2}\\right)} \\mu_{H}}{a b_{2} \\gamma k \\mu^{3} + {\\left(a b_{2} b_{3} \\gamma k + a b_{2} \\gamma k l\\right)} \\mu^{2} + {\\left(a b_{2} k \\mu^{3} + {\\left(a^{2} b_{1} b_{2} k^{2} + a b_{2} b_{3} k + a b_{2} k l\\right)} \\mu^{2} + {\\left(a^{2} b_{1} b_{2} b_{3} k^{2} + a^{2} b_{1} b_{2} k^{2} l\\right)} \\mu\\right)} \\mu_{H}}\\right]\\right]\n",
       "\\end{math}"
      ],
      "text/plain": [
       "[[S_H == N, I_H == 0, R_H == 0, S_M == b/mu, E_M == 0, I_M == 0], [S_H == (N^2*gamma*mu^3 + (N^2*b3*gamma + N^2*gamma*l)*mu^2 + (N^2*mu^3 + (N^2*a*b1*k + N^2*b3 + N^2*l)*mu^2 + (N^2*a*b1*b3*k + N^2*a*b1*k*l)*mu)*mu_H)/(a^2*b*b1*b2*b3*k^2 + (N*a*b1*k*mu^2 + (N*a*b1*b3*k + N*a*b1*k*l)*mu)*mu_H), I_H == -((N^2*mu^3 + (N^2*b3 + N^2*l)*mu^2)*mu_H^2 - (N*a^2*b*b1*b2*b3*k^2 - N^2*gamma*mu^3 - (N^2*b3*gamma + N^2*gamma*l)*mu^2)*mu_H)/(a^2*b*b1*b2*b3*gamma*k^2 + (N*a*b1*k*mu^2 + (N*a*b1*b3*k + N*a*b1*k*l)*mu)*mu_H^2 + (a^2*b*b1*b2*b3*k^2 + N*a*b1*gamma*k*mu^2 + (N*a*b1*b3*gamma*k + N*a*b1*gamma*k*l)*mu)*mu_H), R_H == (N*a^2*b*b1*b2*b3*gamma*k^2 - N^2*gamma^2*mu^3 - (N^2*b3*gamma^2 + N^2*gamma^2*l)*mu^2 - (N^2*gamma*mu^3 + (N^2*b3*gamma + N^2*gamma*l)*mu^2)*mu_H)/(a^2*b*b1*b2*b3*gamma*k^2 + (N*a*b1*k*mu^2 + (N*a*b1*b3*k + N*a*b1*k*l)*mu)*mu_H^2 + (a^2*b*b1*b2*b3*k^2 + N*a*b1*gamma*k*mu^2 + (N*a*b1*b3*gamma*k + N*a*b1*gamma*k*l)*mu)*mu_H), S_M == (a*b*b2*b3*gamma*k + (N*mu^2 + (N*b3 + N*l)*mu)*mu_H^2 + (a*b*b2*b3*k + N*gamma*mu^2 + (N*b3*gamma + N*gamma*l)*mu)*mu_H)/(a*b2*b3*gamma*k*mu + (a^2*b1*b2*b3*k^2 + a*b2*b3*k*mu)*mu_H), E_M == -((N*mu^3 + (N*b3 + N*l)*mu^2)*mu_H^2 - (a^2*b*b1*b2*b3*k^2 - N*gamma*mu^3 - (N*b3*gamma + N*gamma*l)*mu^2)*mu_H)/(a*b2*b3*gamma*k*mu^2 + (a*b2*b3^2*gamma*k + a*b2*b3*gamma*k*l)*mu + (a^2*b1*b2*b3^2*k^2 + a^2*b1*b2*b3*k^2*l + a*b2*b3*k*mu^2 + (a^2*b1*b2*b3*k^2 + a*b2*b3^2*k + a*b2*b3*k*l)*mu)*mu_H), I_M == -((N*mu^3 + (N*b3 + N*l)*mu^2)*mu_H^2 - (a^2*b*b1*b2*b3*k^2 - N*gamma*mu^3 - (N*b3*gamma + N*gamma*l)*mu^2)*mu_H)/(a*b2*gamma*k*mu^3 + (a*b2*b3*gamma*k + a*b2*gamma*k*l)*mu^2 + (a*b2*k*mu^3 + (a^2*b1*b2*k^2 + a*b2*b3*k + a*b2*k*l)*mu^2 + (a^2*b1*b2*b3*k^2 + a^2*b1*b2*k^2*l)*mu)*mu_H)]]"
      ]
     },
     "execution_count": 17,
     "metadata": {},
     "output_type": "execute_result"
    }
   ],
   "source": [
    "solve([dShdt, dIhdt, dRhdt, dSmdt, dEmdt, dImdt],[S_H, I_H, R_H, S_M, E_M, I_M])"
   ]
  },
  {
   "cell_type": "markdown",
   "metadata": {},
   "source": [
    "#### Calculando a Jacobiana do SIR/SEI"
   ]
  },
  {
   "cell_type": "code",
   "execution_count": 18,
   "metadata": {},
   "outputs": [
    {
     "data": {
      "text/html": [
       "<html><script type=\"math/tex; mode=display\">\\newcommand{\\Bold}[1]{\\mathbf{#1}}\\left(\\begin{array}{rrrrrr}\n",
       "-\\frac{I_{M} a b_{2} k}{N} - \\mu_{H} & 0 & 0 & 0 & 0 & -\\frac{S_{H} a b_{2} k}{N} \\\\\n",
       "\\frac{I_{M} a b_{2} k}{N} & -\\gamma - \\mu_{H} & 0 & 0 & 0 & \\frac{S_{H} a b_{2} k}{N} \\\\\n",
       "0 & \\gamma & -\\mu_{H} & 0 & 0 & 0 \\\\\n",
       "0 & -\\frac{S_{M} a b_{1} k}{N} & 0 & -\\frac{I_{H} a b_{1} k}{N} - \\mu & 0 & 0 \\\\\n",
       "0 & \\frac{S_{M} a b_{1} k}{N} & 0 & \\frac{I_{H} a b_{1} k}{N} & -b_{3} - l - \\mu & 0 \\\\\n",
       "0 & 0 & 0 & 0 & b_{3} & -\\mu\n",
       "\\end{array}\\right)</script></html>"
      ],
      "text/latex": [
       "\\begin{math}\n",
       "\\newcommand{\\Bold}[1]{\\mathbf{#1}}\\left(\\begin{array}{rrrrrr}\n",
       "-\\frac{I_{M} a b_{2} k}{N} - \\mu_{H} & 0 & 0 & 0 & 0 & -\\frac{S_{H} a b_{2} k}{N} \\\\\n",
       "\\frac{I_{M} a b_{2} k}{N} & -\\gamma - \\mu_{H} & 0 & 0 & 0 & \\frac{S_{H} a b_{2} k}{N} \\\\\n",
       "0 & \\gamma & -\\mu_{H} & 0 & 0 & 0 \\\\\n",
       "0 & -\\frac{S_{M} a b_{1} k}{N} & 0 & -\\frac{I_{H} a b_{1} k}{N} - \\mu & 0 & 0 \\\\\n",
       "0 & \\frac{S_{M} a b_{1} k}{N} & 0 & \\frac{I_{H} a b_{1} k}{N} & -b_{3} - l - \\mu & 0 \\\\\n",
       "0 & 0 & 0 & 0 & b_{3} & -\\mu\n",
       "\\end{array}\\right)\n",
       "\\end{math}"
      ],
      "text/plain": [
       "[-I_M*a*b2*k/N - mu_H                    0                    0                    0                    0        -S_H*a*b2*k/N]\n",
       "[        I_M*a*b2*k/N        -gamma - mu_H                    0                    0                    0         S_H*a*b2*k/N]\n",
       "[                   0                gamma                -mu_H                    0                    0                    0]\n",
       "[                   0        -S_M*a*b1*k/N                    0   -I_H*a*b1*k/N - mu                    0                    0]\n",
       "[                   0         S_M*a*b1*k/N                    0         I_H*a*b1*k/N         -b3 - l - mu                    0]\n",
       "[                   0                    0                    0                    0                   b3                  -mu]"
      ]
     },
     "execution_count": 18,
     "metadata": {},
     "output_type": "execute_result"
    }
   ],
   "source": [
    "jack=jacobian([dShdt,dIhdt, dRhdt, dSmdt,dEmdt,dImdt],[S_H, I_H, R_H, S_M, E_M, I_M])\n",
    "jack"
   ]
  },
  {
   "cell_type": "code",
   "execution_count": 19,
   "metadata": {},
   "outputs": [
    {
     "data": {
      "text/html": [
       "<html><script type=\"math/tex; mode=display\">\\newcommand{\\Bold}[1]{\\mathbf{#1}}x^{6} + \\left(\\frac{I_{H} a b_{1} k}{N} + \\frac{I_{M} a b_{2} k}{N} + b_{3} + \\gamma + l + 3 \\, \\mu + 3 \\, \\mu_{H}\\right) x^{5} + \\left(\\frac{I_{H} I_{M} a^{2} b_{1} b_{2} k^{2}}{N^{2}} + \\frac{I_{H} a b_{1} b_{3} k}{N} + \\frac{I_{M} a b_{2} b_{3} k}{N} + \\frac{I_{H} a b_{1} \\gamma k}{N} + \\frac{I_{M} a b_{2} \\gamma k}{N} + \\frac{I_{H} a b_{1} k l}{N} + \\frac{I_{M} a b_{2} k l}{N} + \\frac{2 \\, I_{H} a b_{1} k \\mu}{N} + \\frac{3 \\, I_{M} a b_{2} k \\mu}{N} + \\frac{3 \\, I_{H} a b_{1} k \\mu_{H}}{N} + \\frac{2 \\, I_{M} a b_{2} k \\mu_{H}}{N} + b_{3} \\gamma + \\gamma l + 2 \\, b_{3} \\mu + 3 \\, \\gamma \\mu + 2 \\, l \\mu + 3 \\, \\mu^{2} + 3 \\, b_{3} \\mu_{H} + 2 \\, \\gamma \\mu_{H} + 3 \\, l \\mu_{H} + 9 \\, \\mu \\mu_{H} + 3 \\, \\mu_{H}^{2}\\right) x^{4} + \\left(\\frac{I_{H} I_{M} a^{2} b_{1} b_{2} b_{3} k^{2}}{N^{2}} - \\frac{S_{H} S_{M} a^{2} b_{1} b_{2} b_{3} k^{2}}{N^{2}} + \\frac{I_{H} I_{M} a^{2} b_{1} b_{2} \\gamma k^{2}}{N^{2}} + \\frac{I_{H} I_{M} a^{2} b_{1} b_{2} k^{2} l}{N^{2}} + \\frac{2 \\, I_{H} I_{M} a^{2} b_{1} b_{2} k^{2} \\mu}{N^{2}} + \\frac{2 \\, I_{H} I_{M} a^{2} b_{1} b_{2} k^{2} \\mu_{H}}{N^{2}} + \\frac{I_{H} a b_{1} b_{3} \\gamma k}{N} + \\frac{I_{M} a b_{2} b_{3} \\gamma k}{N} + \\frac{I_{H} a b_{1} \\gamma k l}{N} + \\frac{I_{M} a b_{2} \\gamma k l}{N} + \\frac{I_{H} a b_{1} b_{3} k \\mu}{N} + \\frac{2 \\, I_{M} a b_{2} b_{3} k \\mu}{N} + \\frac{2 \\, I_{H} a b_{1} \\gamma k \\mu}{N} + \\frac{3 \\, I_{M} a b_{2} \\gamma k \\mu}{N} + \\frac{I_{H} a b_{1} k l \\mu}{N} + \\frac{2 \\, I_{M} a b_{2} k l \\mu}{N} + \\frac{I_{H} a b_{1} k \\mu^{2}}{N} + \\frac{3 \\, I_{M} a b_{2} k \\mu^{2}}{N} + \\frac{3 \\, I_{H} a b_{1} b_{3} k \\mu_{H}}{N} + \\frac{2 \\, I_{M} a b_{2} b_{3} k \\mu_{H}}{N} + \\frac{2 \\, I_{H} a b_{1} \\gamma k \\mu_{H}}{N} + \\frac{I_{M} a b_{2} \\gamma k \\mu_{H}}{N} + \\frac{3 \\, I_{H} a b_{1} k l \\mu_{H}}{N} + \\frac{2 \\, I_{M} a b_{2} k l \\mu_{H}}{N} + \\frac{6 \\, I_{H} a b_{1} k \\mu \\mu_{H}}{N} + \\frac{6 \\, I_{M} a b_{2} k \\mu \\mu_{H}}{N} + \\frac{3 \\, I_{H} a b_{1} k \\mu_{H}^{2}}{N} + \\frac{I_{M} a b_{2} k \\mu_{H}^{2}}{N} + 2 \\, b_{3} \\gamma \\mu + 2 \\, \\gamma l \\mu + b_{3} \\mu^{2} + 3 \\, \\gamma \\mu^{2} + l \\mu^{2} + \\mu^{3} + 2 \\, b_{3} \\gamma \\mu_{H} + 2 \\, \\gamma l \\mu_{H} + 6 \\, b_{3} \\mu \\mu_{H} + 6 \\, \\gamma \\mu \\mu_{H} + 6 \\, l \\mu \\mu_{H} + 9 \\, \\mu^{2} \\mu_{H} + 3 \\, b_{3} \\mu_{H}^{2} + \\gamma \\mu_{H}^{2} + 3 \\, l \\mu_{H}^{2} + 9 \\, \\mu \\mu_{H}^{2} + \\mu_{H}^{3}\\right) x^{3} + \\left(\\frac{I_{H} I_{M} a^{2} b_{1} b_{2} b_{3} \\gamma k^{2}}{N^{2}} + \\frac{I_{H} I_{M} a^{2} b_{1} b_{2} \\gamma k^{2} l}{N^{2}} + \\frac{I_{H} I_{M} a^{2} b_{1} b_{2} b_{3} k^{2} \\mu}{N^{2}} - \\frac{S_{H} S_{M} a^{2} b_{1} b_{2} b_{3} k^{2} \\mu}{N^{2}} + \\frac{2 \\, I_{H} I_{M} a^{2} b_{1} b_{2} \\gamma k^{2} \\mu}{N^{2}} + \\frac{I_{H} I_{M} a^{2} b_{1} b_{2} k^{2} l \\mu}{N^{2}} + \\frac{I_{H} I_{M} a^{2} b_{1} b_{2} k^{2} \\mu^{2}}{N^{2}} + \\frac{2 \\, I_{H} I_{M} a^{2} b_{1} b_{2} b_{3} k^{2} \\mu_{H}}{N^{2}} - \\frac{2 \\, S_{H} S_{M} a^{2} b_{1} b_{2} b_{3} k^{2} \\mu_{H}}{N^{2}} + \\frac{I_{H} I_{M} a^{2} b_{1} b_{2} \\gamma k^{2} \\mu_{H}}{N^{2}} + \\frac{2 \\, I_{H} I_{M} a^{2} b_{1} b_{2} k^{2} l \\mu_{H}}{N^{2}} + \\frac{4 \\, I_{H} I_{M} a^{2} b_{1} b_{2} k^{2} \\mu \\mu_{H}}{N^{2}} + \\frac{I_{H} I_{M} a^{2} b_{1} b_{2} k^{2} \\mu_{H}^{2}}{N^{2}} + \\frac{I_{H} a b_{1} b_{3} \\gamma k \\mu}{N} + \\frac{2 \\, I_{M} a b_{2} b_{3} \\gamma k \\mu}{N} + \\frac{I_{H} a b_{1} \\gamma k l \\mu}{N} + \\frac{2 \\, I_{M} a b_{2} \\gamma k l \\mu}{N} + \\frac{I_{M} a b_{2} b_{3} k \\mu^{2}}{N} + \\frac{I_{H} a b_{1} \\gamma k \\mu^{2}}{N} + \\frac{3 \\, I_{M} a b_{2} \\gamma k \\mu^{2}}{N} + \\frac{I_{M} a b_{2} k l \\mu^{2}}{N} + \\frac{I_{M} a b_{2} k \\mu^{3}}{N} + \\frac{2 \\, I_{H} a b_{1} b_{3} \\gamma k \\mu_{H}}{N} + \\frac{I_{M} a b_{2} b_{3} \\gamma k \\mu_{H}}{N} + \\frac{2 \\, I_{H} a b_{1} \\gamma k l \\mu_{H}}{N} + \\frac{I_{M} a b_{2} \\gamma k l \\mu_{H}}{N} + \\frac{3 \\, I_{H} a b_{1} b_{3} k \\mu \\mu_{H}}{N} + \\frac{4 \\, I_{M} a b_{2} b_{3} k \\mu \\mu_{H}}{N} + \\frac{4 \\, I_{H} a b_{1} \\gamma k \\mu \\mu_{H}}{N} + \\frac{3 \\, I_{M} a b_{2} \\gamma k \\mu \\mu_{H}}{N} + \\frac{3 \\, I_{H} a b_{1} k l \\mu \\mu_{H}}{N} + \\frac{4 \\, I_{M} a b_{2} k l \\mu \\mu_{H}}{N} + \\frac{3 \\, I_{H} a b_{1} k \\mu^{2} \\mu_{H}}{N} + \\frac{6 \\, I_{M} a b_{2} k \\mu^{2} \\mu_{H}}{N} + \\frac{3 \\, I_{H} a b_{1} b_{3} k \\mu_{H}^{2}}{N} + \\frac{I_{M} a b_{2} b_{3} k \\mu_{H}^{2}}{N} + \\frac{I_{H} a b_{1} \\gamma k \\mu_{H}^{2}}{N} + \\frac{3 \\, I_{H} a b_{1} k l \\mu_{H}^{2}}{N} + \\frac{I_{M} a b_{2} k l \\mu_{H}^{2}}{N} + \\frac{6 \\, I_{H} a b_{1} k \\mu \\mu_{H}^{2}}{N} + \\frac{3 \\, I_{M} a b_{2} k \\mu \\mu_{H}^{2}}{N} + \\frac{I_{H} a b_{1} k \\mu_{H}^{3}}{N} + b_{3} \\gamma \\mu^{2} + \\gamma l \\mu^{2} + \\gamma \\mu^{3} + 4 \\, b_{3} \\gamma \\mu \\mu_{H} + 4 \\, \\gamma l \\mu \\mu_{H} + 3 \\, b_{3} \\mu^{2} \\mu_{H} + 6 \\, \\gamma \\mu^{2} \\mu_{H} + 3 \\, l \\mu^{2} \\mu_{H} + 3 \\, \\mu^{3} \\mu_{H} + b_{3} \\gamma \\mu_{H}^{2} + \\gamma l \\mu_{H}^{2} + 6 \\, b_{3} \\mu \\mu_{H}^{2} + 3 \\, \\gamma \\mu \\mu_{H}^{2} + 6 \\, l \\mu \\mu_{H}^{2} + 9 \\, \\mu^{2} \\mu_{H}^{2} + b_{3} \\mu_{H}^{3} + l \\mu_{H}^{3} + 3 \\, \\mu \\mu_{H}^{3}\\right) x^{2} + \\left(\\frac{I_{H} I_{M} a^{2} b_{1} b_{2} b_{3} \\gamma k^{2} \\mu}{N^{2}} + \\frac{I_{H} I_{M} a^{2} b_{1} b_{2} \\gamma k^{2} l \\mu}{N^{2}} + \\frac{I_{H} I_{M} a^{2} b_{1} b_{2} \\gamma k^{2} \\mu^{2}}{N^{2}} + \\frac{I_{H} I_{M} a^{2} b_{1} b_{2} b_{3} \\gamma k^{2} \\mu_{H}}{N^{2}} + \\frac{I_{H} I_{M} a^{2} b_{1} b_{2} \\gamma k^{2} l \\mu_{H}}{N^{2}} + \\frac{2 \\, I_{H} I_{M} a^{2} b_{1} b_{2} b_{3} k^{2} \\mu \\mu_{H}}{N^{2}} - \\frac{2 \\, S_{H} S_{M} a^{2} b_{1} b_{2} b_{3} k^{2} \\mu \\mu_{H}}{N^{2}} + \\frac{2 \\, I_{H} I_{M} a^{2} b_{1} b_{2} \\gamma k^{2} \\mu \\mu_{H}}{N^{2}} + \\frac{2 \\, I_{H} I_{M} a^{2} b_{1} b_{2} k^{2} l \\mu \\mu_{H}}{N^{2}} + \\frac{2 \\, I_{H} I_{M} a^{2} b_{1} b_{2} k^{2} \\mu^{2} \\mu_{H}}{N^{2}} + \\frac{I_{H} I_{M} a^{2} b_{1} b_{2} b_{3} k^{2} \\mu_{H}^{2}}{N^{2}} - \\frac{S_{H} S_{M} a^{2} b_{1} b_{2} b_{3} k^{2} \\mu_{H}^{2}}{N^{2}} + \\frac{I_{H} I_{M} a^{2} b_{1} b_{2} k^{2} l \\mu_{H}^{2}}{N^{2}} + \\frac{2 \\, I_{H} I_{M} a^{2} b_{1} b_{2} k^{2} \\mu \\mu_{H}^{2}}{N^{2}} + \\frac{I_{M} a b_{2} b_{3} \\gamma k \\mu^{2}}{N} + \\frac{I_{M} a b_{2} \\gamma k l \\mu^{2}}{N} + \\frac{I_{M} a b_{2} \\gamma k \\mu^{3}}{N} + \\frac{2 \\, I_{H} a b_{1} b_{3} \\gamma k \\mu \\mu_{H}}{N} + \\frac{2 \\, I_{M} a b_{2} b_{3} \\gamma k \\mu \\mu_{H}}{N} + \\frac{2 \\, I_{H} a b_{1} \\gamma k l \\mu \\mu_{H}}{N} + \\frac{2 \\, I_{M} a b_{2} \\gamma k l \\mu \\mu_{H}}{N} + \\frac{2 \\, I_{M} a b_{2} b_{3} k \\mu^{2} \\mu_{H}}{N} + \\frac{2 \\, I_{H} a b_{1} \\gamma k \\mu^{2} \\mu_{H}}{N} + \\frac{3 \\, I_{M} a b_{2} \\gamma k \\mu^{2} \\mu_{H}}{N} + \\frac{2 \\, I_{M} a b_{2} k l \\mu^{2} \\mu_{H}}{N} + \\frac{2 \\, I_{M} a b_{2} k \\mu^{3} \\mu_{H}}{N} + \\frac{I_{H} a b_{1} b_{3} \\gamma k \\mu_{H}^{2}}{N} + \\frac{I_{H} a b_{1} \\gamma k l \\mu_{H}^{2}}{N} + \\frac{3 \\, I_{H} a b_{1} b_{3} k \\mu \\mu_{H}^{2}}{N} + \\frac{2 \\, I_{M} a b_{2} b_{3} k \\mu \\mu_{H}^{2}}{N} + \\frac{2 \\, I_{H} a b_{1} \\gamma k \\mu \\mu_{H}^{2}}{N} + \\frac{3 \\, I_{H} a b_{1} k l \\mu \\mu_{H}^{2}}{N} + \\frac{2 \\, I_{M} a b_{2} k l \\mu \\mu_{H}^{2}}{N} + \\frac{3 \\, I_{H} a b_{1} k \\mu^{2} \\mu_{H}^{2}}{N} + \\frac{3 \\, I_{M} a b_{2} k \\mu^{2} \\mu_{H}^{2}}{N} + \\frac{I_{H} a b_{1} b_{3} k \\mu_{H}^{3}}{N} + \\frac{I_{H} a b_{1} k l \\mu_{H}^{3}}{N} + \\frac{2 \\, I_{H} a b_{1} k \\mu \\mu_{H}^{3}}{N} + 2 \\, b_{3} \\gamma \\mu^{2} \\mu_{H} + 2 \\, \\gamma l \\mu^{2} \\mu_{H} + 2 \\, \\gamma \\mu^{3} \\mu_{H} + 2 \\, b_{3} \\gamma \\mu \\mu_{H}^{2} + 2 \\, \\gamma l \\mu \\mu_{H}^{2} + 3 \\, b_{3} \\mu^{2} \\mu_{H}^{2} + 3 \\, \\gamma \\mu^{2} \\mu_{H}^{2} + 3 \\, l \\mu^{2} \\mu_{H}^{2} + 3 \\, \\mu^{3} \\mu_{H}^{2} + 2 \\, b_{3} \\mu \\mu_{H}^{3} + 2 \\, l \\mu \\mu_{H}^{3} + 3 \\, \\mu^{2} \\mu_{H}^{3}\\right) x + \\frac{I_{H} I_{M} a^{2} b_{1} b_{2} b_{3} \\gamma k^{2} \\mu \\mu_{H}}{N^{2}} + \\frac{I_{H} I_{M} a^{2} b_{1} b_{2} \\gamma k^{2} l \\mu \\mu_{H}}{N^{2}} + \\frac{I_{H} I_{M} a^{2} b_{1} b_{2} \\gamma k^{2} \\mu^{2} \\mu_{H}}{N^{2}} + \\frac{I_{H} I_{M} a^{2} b_{1} b_{2} b_{3} k^{2} \\mu \\mu_{H}^{2}}{N^{2}} - \\frac{S_{H} S_{M} a^{2} b_{1} b_{2} b_{3} k^{2} \\mu \\mu_{H}^{2}}{N^{2}} + \\frac{I_{H} I_{M} a^{2} b_{1} b_{2} k^{2} l \\mu \\mu_{H}^{2}}{N^{2}} + \\frac{I_{H} I_{M} a^{2} b_{1} b_{2} k^{2} \\mu^{2} \\mu_{H}^{2}}{N^{2}} + \\frac{I_{M} a b_{2} b_{3} \\gamma k \\mu^{2} \\mu_{H}}{N} + \\frac{I_{M} a b_{2} \\gamma k l \\mu^{2} \\mu_{H}}{N} + \\frac{I_{M} a b_{2} \\gamma k \\mu^{3} \\mu_{H}}{N} + \\frac{I_{H} a b_{1} b_{3} \\gamma k \\mu \\mu_{H}^{2}}{N} + \\frac{I_{H} a b_{1} \\gamma k l \\mu \\mu_{H}^{2}}{N} + \\frac{I_{M} a b_{2} b_{3} k \\mu^{2} \\mu_{H}^{2}}{N} + \\frac{I_{H} a b_{1} \\gamma k \\mu^{2} \\mu_{H}^{2}}{N} + \\frac{I_{M} a b_{2} k l \\mu^{2} \\mu_{H}^{2}}{N} + \\frac{I_{M} a b_{2} k \\mu^{3} \\mu_{H}^{2}}{N} + \\frac{I_{H} a b_{1} b_{3} k \\mu \\mu_{H}^{3}}{N} + \\frac{I_{H} a b_{1} k l \\mu \\mu_{H}^{3}}{N} + \\frac{I_{H} a b_{1} k \\mu^{2} \\mu_{H}^{3}}{N} + b_{3} \\gamma \\mu^{2} \\mu_{H}^{2} + \\gamma l \\mu^{2} \\mu_{H}^{2} + \\gamma \\mu^{3} \\mu_{H}^{2} + b_{3} \\mu^{2} \\mu_{H}^{3} + l \\mu^{2} \\mu_{H}^{3} + \\mu^{3} \\mu_{H}^{3}</script></html>"
      ],
      "text/latex": [
       "\\begin{math}\n",
       "\\newcommand{\\Bold}[1]{\\mathbf{#1}}x^{6} + \\left(\\frac{I_{H} a b_{1} k}{N} + \\frac{I_{M} a b_{2} k}{N} + b_{3} + \\gamma + l + 3 \\, \\mu + 3 \\, \\mu_{H}\\right) x^{5} + \\left(\\frac{I_{H} I_{M} a^{2} b_{1} b_{2} k^{2}}{N^{2}} + \\frac{I_{H} a b_{1} b_{3} k}{N} + \\frac{I_{M} a b_{2} b_{3} k}{N} + \\frac{I_{H} a b_{1} \\gamma k}{N} + \\frac{I_{M} a b_{2} \\gamma k}{N} + \\frac{I_{H} a b_{1} k l}{N} + \\frac{I_{M} a b_{2} k l}{N} + \\frac{2 \\, I_{H} a b_{1} k \\mu}{N} + \\frac{3 \\, I_{M} a b_{2} k \\mu}{N} + \\frac{3 \\, I_{H} a b_{1} k \\mu_{H}}{N} + \\frac{2 \\, I_{M} a b_{2} k \\mu_{H}}{N} + b_{3} \\gamma + \\gamma l + 2 \\, b_{3} \\mu + 3 \\, \\gamma \\mu + 2 \\, l \\mu + 3 \\, \\mu^{2} + 3 \\, b_{3} \\mu_{H} + 2 \\, \\gamma \\mu_{H} + 3 \\, l \\mu_{H} + 9 \\, \\mu \\mu_{H} + 3 \\, \\mu_{H}^{2}\\right) x^{4} + \\left(\\frac{I_{H} I_{M} a^{2} b_{1} b_{2} b_{3} k^{2}}{N^{2}} - \\frac{S_{H} S_{M} a^{2} b_{1} b_{2} b_{3} k^{2}}{N^{2}} + \\frac{I_{H} I_{M} a^{2} b_{1} b_{2} \\gamma k^{2}}{N^{2}} + \\frac{I_{H} I_{M} a^{2} b_{1} b_{2} k^{2} l}{N^{2}} + \\frac{2 \\, I_{H} I_{M} a^{2} b_{1} b_{2} k^{2} \\mu}{N^{2}} + \\frac{2 \\, I_{H} I_{M} a^{2} b_{1} b_{2} k^{2} \\mu_{H}}{N^{2}} + \\frac{I_{H} a b_{1} b_{3} \\gamma k}{N} + \\frac{I_{M} a b_{2} b_{3} \\gamma k}{N} + \\frac{I_{H} a b_{1} \\gamma k l}{N} + \\frac{I_{M} a b_{2} \\gamma k l}{N} + \\frac{I_{H} a b_{1} b_{3} k \\mu}{N} + \\frac{2 \\, I_{M} a b_{2} b_{3} k \\mu}{N} + \\frac{2 \\, I_{H} a b_{1} \\gamma k \\mu}{N} + \\frac{3 \\, I_{M} a b_{2} \\gamma k \\mu}{N} + \\frac{I_{H} a b_{1} k l \\mu}{N} + \\frac{2 \\, I_{M} a b_{2} k l \\mu}{N} + \\frac{I_{H} a b_{1} k \\mu^{2}}{N} + \\frac{3 \\, I_{M} a b_{2} k \\mu^{2}}{N} + \\frac{3 \\, I_{H} a b_{1} b_{3} k \\mu_{H}}{N} + \\frac{2 \\, I_{M} a b_{2} b_{3} k \\mu_{H}}{N} + \\frac{2 \\, I_{H} a b_{1} \\gamma k \\mu_{H}}{N} + \\frac{I_{M} a b_{2} \\gamma k \\mu_{H}}{N} + \\frac{3 \\, I_{H} a b_{1} k l \\mu_{H}}{N} + \\frac{2 \\, I_{M} a b_{2} k l \\mu_{H}}{N} + \\frac{6 \\, I_{H} a b_{1} k \\mu \\mu_{H}}{N} + \\frac{6 \\, I_{M} a b_{2} k \\mu \\mu_{H}}{N} + \\frac{3 \\, I_{H} a b_{1} k \\mu_{H}^{2}}{N} + \\frac{I_{M} a b_{2} k \\mu_{H}^{2}}{N} + 2 \\, b_{3} \\gamma \\mu + 2 \\, \\gamma l \\mu + b_{3} \\mu^{2} + 3 \\, \\gamma \\mu^{2} + l \\mu^{2} + \\mu^{3} + 2 \\, b_{3} \\gamma \\mu_{H} + 2 \\, \\gamma l \\mu_{H} + 6 \\, b_{3} \\mu \\mu_{H} + 6 \\, \\gamma \\mu \\mu_{H} + 6 \\, l \\mu \\mu_{H} + 9 \\, \\mu^{2} \\mu_{H} + 3 \\, b_{3} \\mu_{H}^{2} + \\gamma \\mu_{H}^{2} + 3 \\, l \\mu_{H}^{2} + 9 \\, \\mu \\mu_{H}^{2} + \\mu_{H}^{3}\\right) x^{3} + \\left(\\frac{I_{H} I_{M} a^{2} b_{1} b_{2} b_{3} \\gamma k^{2}}{N^{2}} + \\frac{I_{H} I_{M} a^{2} b_{1} b_{2} \\gamma k^{2} l}{N^{2}} + \\frac{I_{H} I_{M} a^{2} b_{1} b_{2} b_{3} k^{2} \\mu}{N^{2}} - \\frac{S_{H} S_{M} a^{2} b_{1} b_{2} b_{3} k^{2} \\mu}{N^{2}} + \\frac{2 \\, I_{H} I_{M} a^{2} b_{1} b_{2} \\gamma k^{2} \\mu}{N^{2}} + \\frac{I_{H} I_{M} a^{2} b_{1} b_{2} k^{2} l \\mu}{N^{2}} + \\frac{I_{H} I_{M} a^{2} b_{1} b_{2} k^{2} \\mu^{2}}{N^{2}} + \\frac{2 \\, I_{H} I_{M} a^{2} b_{1} b_{2} b_{3} k^{2} \\mu_{H}}{N^{2}} - \\frac{2 \\, S_{H} S_{M} a^{2} b_{1} b_{2} b_{3} k^{2} \\mu_{H}}{N^{2}} + \\frac{I_{H} I_{M} a^{2} b_{1} b_{2} \\gamma k^{2} \\mu_{H}}{N^{2}} + \\frac{2 \\, I_{H} I_{M} a^{2} b_{1} b_{2} k^{2} l \\mu_{H}}{N^{2}} + \\frac{4 \\, I_{H} I_{M} a^{2} b_{1} b_{2} k^{2} \\mu \\mu_{H}}{N^{2}} + \\frac{I_{H} I_{M} a^{2} b_{1} b_{2} k^{2} \\mu_{H}^{2}}{N^{2}} + \\frac{I_{H} a b_{1} b_{3} \\gamma k \\mu}{N} + \\frac{2 \\, I_{M} a b_{2} b_{3} \\gamma k \\mu}{N} + \\frac{I_{H} a b_{1} \\gamma k l \\mu}{N} + \\frac{2 \\, I_{M} a b_{2} \\gamma k l \\mu}{N} + \\frac{I_{M} a b_{2} b_{3} k \\mu^{2}}{N} + \\frac{I_{H} a b_{1} \\gamma k \\mu^{2}}{N} + \\frac{3 \\, I_{M} a b_{2} \\gamma k \\mu^{2}}{N} + \\frac{I_{M} a b_{2} k l \\mu^{2}}{N} + \\frac{I_{M} a b_{2} k \\mu^{3}}{N} + \\frac{2 \\, I_{H} a b_{1} b_{3} \\gamma k \\mu_{H}}{N} + \\frac{I_{M} a b_{2} b_{3} \\gamma k \\mu_{H}}{N} + \\frac{2 \\, I_{H} a b_{1} \\gamma k l \\mu_{H}}{N} + \\frac{I_{M} a b_{2} \\gamma k l \\mu_{H}}{N} + \\frac{3 \\, I_{H} a b_{1} b_{3} k \\mu \\mu_{H}}{N} + \\frac{4 \\, I_{M} a b_{2} b_{3} k \\mu \\mu_{H}}{N} + \\frac{4 \\, I_{H} a b_{1} \\gamma k \\mu \\mu_{H}}{N} + \\frac{3 \\, I_{M} a b_{2} \\gamma k \\mu \\mu_{H}}{N} + \\frac{3 \\, I_{H} a b_{1} k l \\mu \\mu_{H}}{N} + \\frac{4 \\, I_{M} a b_{2} k l \\mu \\mu_{H}}{N} + \\frac{3 \\, I_{H} a b_{1} k \\mu^{2} \\mu_{H}}{N} + \\frac{6 \\, I_{M} a b_{2} k \\mu^{2} \\mu_{H}}{N} + \\frac{3 \\, I_{H} a b_{1} b_{3} k \\mu_{H}^{2}}{N} + \\frac{I_{M} a b_{2} b_{3} k \\mu_{H}^{2}}{N} + \\frac{I_{H} a b_{1} \\gamma k \\mu_{H}^{2}}{N} + \\frac{3 \\, I_{H} a b_{1} k l \\mu_{H}^{2}}{N} + \\frac{I_{M} a b_{2} k l \\mu_{H}^{2}}{N} + \\frac{6 \\, I_{H} a b_{1} k \\mu \\mu_{H}^{2}}{N} + \\frac{3 \\, I_{M} a b_{2} k \\mu \\mu_{H}^{2}}{N} + \\frac{I_{H} a b_{1} k \\mu_{H}^{3}}{N} + b_{3} \\gamma \\mu^{2} + \\gamma l \\mu^{2} + \\gamma \\mu^{3} + 4 \\, b_{3} \\gamma \\mu \\mu_{H} + 4 \\, \\gamma l \\mu \\mu_{H} + 3 \\, b_{3} \\mu^{2} \\mu_{H} + 6 \\, \\gamma \\mu^{2} \\mu_{H} + 3 \\, l \\mu^{2} \\mu_{H} + 3 \\, \\mu^{3} \\mu_{H} + b_{3} \\gamma \\mu_{H}^{2} + \\gamma l \\mu_{H}^{2} + 6 \\, b_{3} \\mu \\mu_{H}^{2} + 3 \\, \\gamma \\mu \\mu_{H}^{2} + 6 \\, l \\mu \\mu_{H}^{2} + 9 \\, \\mu^{2} \\mu_{H}^{2} + b_{3} \\mu_{H}^{3} + l \\mu_{H}^{3} + 3 \\, \\mu \\mu_{H}^{3}\\right) x^{2} + \\left(\\frac{I_{H} I_{M} a^{2} b_{1} b_{2} b_{3} \\gamma k^{2} \\mu}{N^{2}} + \\frac{I_{H} I_{M} a^{2} b_{1} b_{2} \\gamma k^{2} l \\mu}{N^{2}} + \\frac{I_{H} I_{M} a^{2} b_{1} b_{2} \\gamma k^{2} \\mu^{2}}{N^{2}} + \\frac{I_{H} I_{M} a^{2} b_{1} b_{2} b_{3} \\gamma k^{2} \\mu_{H}}{N^{2}} + \\frac{I_{H} I_{M} a^{2} b_{1} b_{2} \\gamma k^{2} l \\mu_{H}}{N^{2}} + \\frac{2 \\, I_{H} I_{M} a^{2} b_{1} b_{2} b_{3} k^{2} \\mu \\mu_{H}}{N^{2}} - \\frac{2 \\, S_{H} S_{M} a^{2} b_{1} b_{2} b_{3} k^{2} \\mu \\mu_{H}}{N^{2}} + \\frac{2 \\, I_{H} I_{M} a^{2} b_{1} b_{2} \\gamma k^{2} \\mu \\mu_{H}}{N^{2}} + \\frac{2 \\, I_{H} I_{M} a^{2} b_{1} b_{2} k^{2} l \\mu \\mu_{H}}{N^{2}} + \\frac{2 \\, I_{H} I_{M} a^{2} b_{1} b_{2} k^{2} \\mu^{2} \\mu_{H}}{N^{2}} + \\frac{I_{H} I_{M} a^{2} b_{1} b_{2} b_{3} k^{2} \\mu_{H}^{2}}{N^{2}} - \\frac{S_{H} S_{M} a^{2} b_{1} b_{2} b_{3} k^{2} \\mu_{H}^{2}}{N^{2}} + \\frac{I_{H} I_{M} a^{2} b_{1} b_{2} k^{2} l \\mu_{H}^{2}}{N^{2}} + \\frac{2 \\, I_{H} I_{M} a^{2} b_{1} b_{2} k^{2} \\mu \\mu_{H}^{2}}{N^{2}} + \\frac{I_{M} a b_{2} b_{3} \\gamma k \\mu^{2}}{N} + \\frac{I_{M} a b_{2} \\gamma k l \\mu^{2}}{N} + \\frac{I_{M} a b_{2} \\gamma k \\mu^{3}}{N} + \\frac{2 \\, I_{H} a b_{1} b_{3} \\gamma k \\mu \\mu_{H}}{N} + \\frac{2 \\, I_{M} a b_{2} b_{3} \\gamma k \\mu \\mu_{H}}{N} + \\frac{2 \\, I_{H} a b_{1} \\gamma k l \\mu \\mu_{H}}{N} + \\frac{2 \\, I_{M} a b_{2} \\gamma k l \\mu \\mu_{H}}{N} + \\frac{2 \\, I_{M} a b_{2} b_{3} k \\mu^{2} \\mu_{H}}{N} + \\frac{2 \\, I_{H} a b_{1} \\gamma k \\mu^{2} \\mu_{H}}{N} + \\frac{3 \\, I_{M} a b_{2} \\gamma k \\mu^{2} \\mu_{H}}{N} + \\frac{2 \\, I_{M} a b_{2} k l \\mu^{2} \\mu_{H}}{N} + \\frac{2 \\, I_{M} a b_{2} k \\mu^{3} \\mu_{H}}{N} + \\frac{I_{H} a b_{1} b_{3} \\gamma k \\mu_{H}^{2}}{N} + \\frac{I_{H} a b_{1} \\gamma k l \\mu_{H}^{2}}{N} + \\frac{3 \\, I_{H} a b_{1} b_{3} k \\mu \\mu_{H}^{2}}{N} + \\frac{2 \\, I_{M} a b_{2} b_{3} k \\mu \\mu_{H}^{2}}{N} + \\frac{2 \\, I_{H} a b_{1} \\gamma k \\mu \\mu_{H}^{2}}{N} + \\frac{3 \\, I_{H} a b_{1} k l \\mu \\mu_{H}^{2}}{N} + \\frac{2 \\, I_{M} a b_{2} k l \\mu \\mu_{H}^{2}}{N} + \\frac{3 \\, I_{H} a b_{1} k \\mu^{2} \\mu_{H}^{2}}{N} + \\frac{3 \\, I_{M} a b_{2} k \\mu^{2} \\mu_{H}^{2}}{N} + \\frac{I_{H} a b_{1} b_{3} k \\mu_{H}^{3}}{N} + \\frac{I_{H} a b_{1} k l \\mu_{H}^{3}}{N} + \\frac{2 \\, I_{H} a b_{1} k \\mu \\mu_{H}^{3}}{N} + 2 \\, b_{3} \\gamma \\mu^{2} \\mu_{H} + 2 \\, \\gamma l \\mu^{2} \\mu_{H} + 2 \\, \\gamma \\mu^{3} \\mu_{H} + 2 \\, b_{3} \\gamma \\mu \\mu_{H}^{2} + 2 \\, \\gamma l \\mu \\mu_{H}^{2} + 3 \\, b_{3} \\mu^{2} \\mu_{H}^{2} + 3 \\, \\gamma \\mu^{2} \\mu_{H}^{2} + 3 \\, l \\mu^{2} \\mu_{H}^{2} + 3 \\, \\mu^{3} \\mu_{H}^{2} + 2 \\, b_{3} \\mu \\mu_{H}^{3} + 2 \\, l \\mu \\mu_{H}^{3} + 3 \\, \\mu^{2} \\mu_{H}^{3}\\right) x + \\frac{I_{H} I_{M} a^{2} b_{1} b_{2} b_{3} \\gamma k^{2} \\mu \\mu_{H}}{N^{2}} + \\frac{I_{H} I_{M} a^{2} b_{1} b_{2} \\gamma k^{2} l \\mu \\mu_{H}}{N^{2}} + \\frac{I_{H} I_{M} a^{2} b_{1} b_{2} \\gamma k^{2} \\mu^{2} \\mu_{H}}{N^{2}} + \\frac{I_{H} I_{M} a^{2} b_{1} b_{2} b_{3} k^{2} \\mu \\mu_{H}^{2}}{N^{2}} - \\frac{S_{H} S_{M} a^{2} b_{1} b_{2} b_{3} k^{2} \\mu \\mu_{H}^{2}}{N^{2}} + \\frac{I_{H} I_{M} a^{2} b_{1} b_{2} k^{2} l \\mu \\mu_{H}^{2}}{N^{2}} + \\frac{I_{H} I_{M} a^{2} b_{1} b_{2} k^{2} \\mu^{2} \\mu_{H}^{2}}{N^{2}} + \\frac{I_{M} a b_{2} b_{3} \\gamma k \\mu^{2} \\mu_{H}}{N} + \\frac{I_{M} a b_{2} \\gamma k l \\mu^{2} \\mu_{H}}{N} + \\frac{I_{M} a b_{2} \\gamma k \\mu^{3} \\mu_{H}}{N} + \\frac{I_{H} a b_{1} b_{3} \\gamma k \\mu \\mu_{H}^{2}}{N} + \\frac{I_{H} a b_{1} \\gamma k l \\mu \\mu_{H}^{2}}{N} + \\frac{I_{M} a b_{2} b_{3} k \\mu^{2} \\mu_{H}^{2}}{N} + \\frac{I_{H} a b_{1} \\gamma k \\mu^{2} \\mu_{H}^{2}}{N} + \\frac{I_{M} a b_{2} k l \\mu^{2} \\mu_{H}^{2}}{N} + \\frac{I_{M} a b_{2} k \\mu^{3} \\mu_{H}^{2}}{N} + \\frac{I_{H} a b_{1} b_{3} k \\mu \\mu_{H}^{3}}{N} + \\frac{I_{H} a b_{1} k l \\mu \\mu_{H}^{3}}{N} + \\frac{I_{H} a b_{1} k \\mu^{2} \\mu_{H}^{3}}{N} + b_{3} \\gamma \\mu^{2} \\mu_{H}^{2} + \\gamma l \\mu^{2} \\mu_{H}^{2} + \\gamma \\mu^{3} \\mu_{H}^{2} + b_{3} \\mu^{2} \\mu_{H}^{3} + l \\mu^{2} \\mu_{H}^{3} + \\mu^{3} \\mu_{H}^{3}\n",
       "\\end{math}"
      ],
      "text/plain": [
       "x^6 + (I_H*a*b1*k/N + I_M*a*b2*k/N + b3 + gamma + l + 3*mu + 3*mu_H)*x^5 + (I_H*I_M*a^2*b1*b2*k^2/N^2 + I_H*a*b1*b3*k/N + I_M*a*b2*b3*k/N + I_H*a*b1*gamma*k/N + I_M*a*b2*gamma*k/N + I_H*a*b1*k*l/N + I_M*a*b2*k*l/N + 2*I_H*a*b1*k*mu/N + 3*I_M*a*b2*k*mu/N + 3*I_H*a*b1*k*mu_H/N + 2*I_M*a*b2*k*mu_H/N + b3*gamma + gamma*l + 2*b3*mu + 3*gamma*mu + 2*l*mu + 3*mu^2 + 3*b3*mu_H + 2*gamma*mu_H + 3*l*mu_H + 9*mu*mu_H + 3*mu_H^2)*x^4 + (I_H*I_M*a^2*b1*b2*b3*k^2/N^2 - S_H*S_M*a^2*b1*b2*b3*k^2/N^2 + I_H*I_M*a^2*b1*b2*gamma*k^2/N^2 + I_H*I_M*a^2*b1*b2*k^2*l/N^2 + 2*I_H*I_M*a^2*b1*b2*k^2*mu/N^2 + 2*I_H*I_M*a^2*b1*b2*k^2*mu_H/N^2 + I_H*a*b1*b3*gamma*k/N + I_M*a*b2*b3*gamma*k/N + I_H*a*b1*gamma*k*l/N + I_M*a*b2*gamma*k*l/N + I_H*a*b1*b3*k*mu/N + 2*I_M*a*b2*b3*k*mu/N + 2*I_H*a*b1*gamma*k*mu/N + 3*I_M*a*b2*gamma*k*mu/N + I_H*a*b1*k*l*mu/N + 2*I_M*a*b2*k*l*mu/N + I_H*a*b1*k*mu^2/N + 3*I_M*a*b2*k*mu^2/N + 3*I_H*a*b1*b3*k*mu_H/N + 2*I_M*a*b2*b3*k*mu_H/N + 2*I_H*a*b1*gamma*k*mu_H/N + I_M*a*b2*gamma*k*mu_H/N + 3*I_H*a*b1*k*l*mu_H/N + 2*I_M*a*b2*k*l*mu_H/N + 6*I_H*a*b1*k*mu*mu_H/N + 6*I_M*a*b2*k*mu*mu_H/N + 3*I_H*a*b1*k*mu_H^2/N + I_M*a*b2*k*mu_H^2/N + 2*b3*gamma*mu + 2*gamma*l*mu + b3*mu^2 + 3*gamma*mu^2 + l*mu^2 + mu^3 + 2*b3*gamma*mu_H + 2*gamma*l*mu_H + 6*b3*mu*mu_H + 6*gamma*mu*mu_H + 6*l*mu*mu_H + 9*mu^2*mu_H + 3*b3*mu_H^2 + gamma*mu_H^2 + 3*l*mu_H^2 + 9*mu*mu_H^2 + mu_H^3)*x^3 + (I_H*I_M*a^2*b1*b2*b3*gamma*k^2/N^2 + I_H*I_M*a^2*b1*b2*gamma*k^2*l/N^2 + I_H*I_M*a^2*b1*b2*b3*k^2*mu/N^2 - S_H*S_M*a^2*b1*b2*b3*k^2*mu/N^2 + 2*I_H*I_M*a^2*b1*b2*gamma*k^2*mu/N^2 + I_H*I_M*a^2*b1*b2*k^2*l*mu/N^2 + I_H*I_M*a^2*b1*b2*k^2*mu^2/N^2 + 2*I_H*I_M*a^2*b1*b2*b3*k^2*mu_H/N^2 - 2*S_H*S_M*a^2*b1*b2*b3*k^2*mu_H/N^2 + I_H*I_M*a^2*b1*b2*gamma*k^2*mu_H/N^2 + 2*I_H*I_M*a^2*b1*b2*k^2*l*mu_H/N^2 + 4*I_H*I_M*a^2*b1*b2*k^2*mu*mu_H/N^2 + I_H*I_M*a^2*b1*b2*k^2*mu_H^2/N^2 + I_H*a*b1*b3*gamma*k*mu/N + 2*I_M*a*b2*b3*gamma*k*mu/N + I_H*a*b1*gamma*k*l*mu/N + 2*I_M*a*b2*gamma*k*l*mu/N + I_M*a*b2*b3*k*mu^2/N + I_H*a*b1*gamma*k*mu^2/N + 3*I_M*a*b2*gamma*k*mu^2/N + I_M*a*b2*k*l*mu^2/N + I_M*a*b2*k*mu^3/N + 2*I_H*a*b1*b3*gamma*k*mu_H/N + I_M*a*b2*b3*gamma*k*mu_H/N + 2*I_H*a*b1*gamma*k*l*mu_H/N + I_M*a*b2*gamma*k*l*mu_H/N + 3*I_H*a*b1*b3*k*mu*mu_H/N + 4*I_M*a*b2*b3*k*mu*mu_H/N + 4*I_H*a*b1*gamma*k*mu*mu_H/N + 3*I_M*a*b2*gamma*k*mu*mu_H/N + 3*I_H*a*b1*k*l*mu*mu_H/N + 4*I_M*a*b2*k*l*mu*mu_H/N + 3*I_H*a*b1*k*mu^2*mu_H/N + 6*I_M*a*b2*k*mu^2*mu_H/N + 3*I_H*a*b1*b3*k*mu_H^2/N + I_M*a*b2*b3*k*mu_H^2/N + I_H*a*b1*gamma*k*mu_H^2/N + 3*I_H*a*b1*k*l*mu_H^2/N + I_M*a*b2*k*l*mu_H^2/N + 6*I_H*a*b1*k*mu*mu_H^2/N + 3*I_M*a*b2*k*mu*mu_H^2/N + I_H*a*b1*k*mu_H^3/N + b3*gamma*mu^2 + gamma*l*mu^2 + gamma*mu^3 + 4*b3*gamma*mu*mu_H + 4*gamma*l*mu*mu_H + 3*b3*mu^2*mu_H + 6*gamma*mu^2*mu_H + 3*l*mu^2*mu_H + 3*mu^3*mu_H + b3*gamma*mu_H^2 + gamma*l*mu_H^2 + 6*b3*mu*mu_H^2 + 3*gamma*mu*mu_H^2 + 6*l*mu*mu_H^2 + 9*mu^2*mu_H^2 + b3*mu_H^3 + l*mu_H^3 + 3*mu*mu_H^3)*x^2 + (I_H*I_M*a^2*b1*b2*b3*gamma*k^2*mu/N^2 + I_H*I_M*a^2*b1*b2*gamma*k^2*l*mu/N^2 + I_H*I_M*a^2*b1*b2*gamma*k^2*mu^2/N^2 + I_H*I_M*a^2*b1*b2*b3*gamma*k^2*mu_H/N^2 + I_H*I_M*a^2*b1*b2*gamma*k^2*l*mu_H/N^2 + 2*I_H*I_M*a^2*b1*b2*b3*k^2*mu*mu_H/N^2 - 2*S_H*S_M*a^2*b1*b2*b3*k^2*mu*mu_H/N^2 + 2*I_H*I_M*a^2*b1*b2*gamma*k^2*mu*mu_H/N^2 + 2*I_H*I_M*a^2*b1*b2*k^2*l*mu*mu_H/N^2 + 2*I_H*I_M*a^2*b1*b2*k^2*mu^2*mu_H/N^2 + I_H*I_M*a^2*b1*b2*b3*k^2*mu_H^2/N^2 - S_H*S_M*a^2*b1*b2*b3*k^2*mu_H^2/N^2 + I_H*I_M*a^2*b1*b2*k^2*l*mu_H^2/N^2 + 2*I_H*I_M*a^2*b1*b2*k^2*mu*mu_H^2/N^2 + I_M*a*b2*b3*gamma*k*mu^2/N + I_M*a*b2*gamma*k*l*mu^2/N + I_M*a*b2*gamma*k*mu^3/N + 2*I_H*a*b1*b3*gamma*k*mu*mu_H/N + 2*I_M*a*b2*b3*gamma*k*mu*mu_H/N + 2*I_H*a*b1*gamma*k*l*mu*mu_H/N + 2*I_M*a*b2*gamma*k*l*mu*mu_H/N + 2*I_M*a*b2*b3*k*mu^2*mu_H/N + 2*I_H*a*b1*gamma*k*mu^2*mu_H/N + 3*I_M*a*b2*gamma*k*mu^2*mu_H/N + 2*I_M*a*b2*k*l*mu^2*mu_H/N + 2*I_M*a*b2*k*mu^3*mu_H/N + I_H*a*b1*b3*gamma*k*mu_H^2/N + I_H*a*b1*gamma*k*l*mu_H^2/N + 3*I_H*a*b1*b3*k*mu*mu_H^2/N + 2*I_M*a*b2*b3*k*mu*mu_H^2/N + 2*I_H*a*b1*gamma*k*mu*mu_H^2/N + 3*I_H*a*b1*k*l*mu*mu_H^2/N + 2*I_M*a*b2*k*l*mu*mu_H^2/N + 3*I_H*a*b1*k*mu^2*mu_H^2/N + 3*I_M*a*b2*k*mu^2*mu_H^2/N + I_H*a*b1*b3*k*mu_H^3/N + I_H*a*b1*k*l*mu_H^3/N + 2*I_H*a*b1*k*mu*mu_H^3/N + 2*b3*gamma*mu^2*mu_H + 2*gamma*l*mu^2*mu_H + 2*gamma*mu^3*mu_H + 2*b3*gamma*mu*mu_H^2 + 2*gamma*l*mu*mu_H^2 + 3*b3*mu^2*mu_H^2 + 3*gamma*mu^2*mu_H^2 + 3*l*mu^2*mu_H^2 + 3*mu^3*mu_H^2 + 2*b3*mu*mu_H^3 + 2*l*mu*mu_H^3 + 3*mu^2*mu_H^3)*x + I_H*I_M*a^2*b1*b2*b3*gamma*k^2*mu*mu_H/N^2 + I_H*I_M*a^2*b1*b2*gamma*k^2*l*mu*mu_H/N^2 + I_H*I_M*a^2*b1*b2*gamma*k^2*mu^2*mu_H/N^2 + I_H*I_M*a^2*b1*b2*b3*k^2*mu*mu_H^2/N^2 - S_H*S_M*a^2*b1*b2*b3*k^2*mu*mu_H^2/N^2 + I_H*I_M*a^2*b1*b2*k^2*l*mu*mu_H^2/N^2 + I_H*I_M*a^2*b1*b2*k^2*mu^2*mu_H^2/N^2 + I_M*a*b2*b3*gamma*k*mu^2*mu_H/N + I_M*a*b2*gamma*k*l*mu^2*mu_H/N + I_M*a*b2*gamma*k*mu^3*mu_H/N + I_H*a*b1*b3*gamma*k*mu*mu_H^2/N + I_H*a*b1*gamma*k*l*mu*mu_H^2/N + I_M*a*b2*b3*k*mu^2*mu_H^2/N + I_H*a*b1*gamma*k*mu^2*mu_H^2/N + I_M*a*b2*k*l*mu^2*mu_H^2/N + I_M*a*b2*k*mu^3*mu_H^2/N + I_H*a*b1*b3*k*mu*mu_H^3/N + I_H*a*b1*k*l*mu*mu_H^3/N + I_H*a*b1*k*mu^2*mu_H^3/N + b3*gamma*mu^2*mu_H^2 + gamma*l*mu^2*mu_H^2 + gamma*mu^3*mu_H^2 + b3*mu^2*mu_H^3 + l*mu^2*mu_H^3 + mu^3*mu_H^3"
      ]
     },
     "execution_count": 19,
     "metadata": {},
     "output_type": "execute_result"
    }
   ],
   "source": [
    "cp = jack.characteristic_polynomial()\n",
    "cp"
   ]
  },
  {
   "cell_type": "code",
   "execution_count": 20,
   "metadata": {},
   "outputs": [],
   "source": [
    "# Código está abortando\n",
    "#jack.eigenvalues()\n",
    "\n",
    "# Internal Python error in the inspect module."
   ]
  },
  {
   "cell_type": "markdown",
   "metadata": {},
   "source": [
    "$[-\\dfrac{I_M a b_2 k}{N} -\\mu_H, -\\gamma -\\mu_H, -\\mu_H, -\\dfrac{I_H a b_1 k + N\\mu}{N}, -b_3-l-\\mu, -\\mu]$"
   ]
  },
  {
   "cell_type": "markdown",
   "metadata": {},
   "source": [
    "### Calculando $\\mathcal{R}_0$:"
   ]
  },
  {
   "cell_type": "markdown",
   "metadata": {},
   "source": [
    "Usando o método proposto por P. van den Driessche no seguinte artigo, e indicado pelo professor Flavio na aula 9 de Modelagem de Fenômenos Biológicos: \n",
    "\n",
    "[Reproduction numbers and sub-threshold endemic equilibria for compartmental models of disease transmission](https://pdfs.semanticscholar.org/3cf7/1968a86800215b4e129ec3eda67520832cf0.pdf)\n",
    "\n",
    "[Aula 9](https://github.com/fccoelho/Modelagem-Matematica-IV/blob/master/Planilhas%20Sage/Aula%209%20-%20Calculo%20do%20R0.ipynb)\n",
    "\n",
    "\n",
    "Seja $X=(x_1,\\ldots, x_n)^T$, tal que $x_i\\geq 0$ seja o número de indivíduos em cada compartimento.\n",
    "\n",
    "Definindo $X_s$ como o conjunto de todos os estados livres de doença.\n",
    "\n",
    "$$X_s=\\{x \\geq 0|x_i=0, i=1,\\ldots,m\\}$$\n",
    "\n",
    "Supõe-se que cada função é continuamente diferenciável pelo menos duas vezes ($C^2$) em cada variável. As equações são reordenadas para que as $m$ primeiras equações sejam as que contém infectados. Seja ${\\cal F}_i(x)$ a taxa de aparecimento de novas infecções no compartimento $i$, ${\\cal V}_i^+(x)$ a taxa de entrada de indivíduos no compartimento $i$ por outros meios e ${\\cal V}_i^-(x)$ a taxa de saída de indivíduos do compartimento $i$. O modelo de transmissão da doença consiste em condições iniciais não negativas juntamente com o seguinte sistema de equações:\n",
    "\n",
    "$\\dot{x}=f_i(x)={\\cal F}_i(x)-{\\cal V}_i(x), i=1,\\ldots, n$\n",
    "\n",
    "Onde ${\\cal V}_i (x) = {\\cal V}_i^{-}(x) - {\\cal V}_i^+(x)$ e as funções satisfazem os pressupostos  (A1) - (A5) descritos abaixo. Desde que cada função representa uma transferência dirigida de indivíduos, todos elas são não-negativas.\n",
    "\n",
    "(A1) Se $x \\geq 0 $, então ${\\cal F}_i, {\\cal V}_i^+, {\\cal V}_i ^- \\geq 0$ para $i=1, \\ldots, n$,\n",
    "\n",
    "ou seja, se um compartimento estiver vazio, não pode haver saída de indivíduos deste, por morte, infecção ou qualquer outro meio.\n",
    "\n",
    "(A2) Se $x_i=0$ então ${\\cal V}_i^-(x)=0$. Em particular, se $x \\in X_s$, então ${\\cal V}_i^-(x)=0$ para $i=1,\\ldots, m$\n",
    "\n",
    "(A3) ${\\cal F}_i=0$ se $i>m$\n",
    "\n",
    "(A4) Se $x \\in X_S$, então ${\\cal F}_i(x) = 0$ e ${\\cal V}_i^+(x)=0$ para $i=1,\\ldots, m$\n",
    "\n",
    "(A5) Se ${\\cal F}(x)$ é um vetor nulo, então todos os autovalores de $Df(x_0)$ tem parte real negativa.\n",
    "\n",
    "### ----------------------------------------\n",
    "\n",
    "Para calcular o $R_0$ é importante distinguir as novas infecções de todas as outras mudanças na população. Nos modelos propostos, os compartimentos que correspondem aos indivíduos infectados são $I$, no caso do SIR, e $E$ e $I$ no caso do SEI. Vamos analisá-los separadamente: "
   ]
  },
  {
   "cell_type": "markdown",
   "metadata": {},
   "source": [
    "#### SIR"
   ]
  },
  {
   "cell_type": "markdown",
   "metadata": {},
   "source": [
    "${\\bf m=1}$. A fim de clareza, vamos ordenar os $n=3$ compartimentos da seguinte forma: $[I, S, R]$, separando os $m$ primeiros compartimentos do restante. Podemos também normalizar, de forma a tirar o denominador $N$.\n",
    "\n",
    "$$ {\\cal F}_i(x): \\text{ taxa de surgimento de novos infectados no compartimento } i $$\n",
    "\n",
    "\n",
    "$$ {\\cal F} =\\begin{bmatrix}\n",
    "a  k b_2  I_M  S_H \\\\\n",
    "\\end{bmatrix} $$"
   ]
  },
  {
   "cell_type": "code",
   "execution_count": 21,
   "metadata": {},
   "outputs": [
    {
     "data": {
      "text/html": [
       "<html><script type=\"math/tex; mode=display\">\\newcommand{\\Bold}[1]{\\mathbf{#1}}\\left(\\begin{array}{r}\n",
       "I_{M} S_{H} a b_{2} k\n",
       "\\end{array}\\right)</script></html>"
      ],
      "text/latex": [
       "\\begin{math}\n",
       "\\newcommand{\\Bold}[1]{\\mathbf{#1}}\\left(\\begin{array}{r}\n",
       "I_{M} S_{H} a b_{2} k\n",
       "\\end{array}\\right)\n",
       "\\end{math}"
      ],
      "text/plain": [
       "[I_M*S_H*a*b2*k]"
      ]
     },
     "execution_count": 21,
     "metadata": {},
     "output_type": "execute_result"
    }
   ],
   "source": [
    "F_cal_sir = matrix([[a*k*b2*I_M*S_H]])\n",
    "F_cal_sir"
   ]
  },
  {
   "cell_type": "markdown",
   "metadata": {},
   "source": [
    "Além disso, temos\n",
    "\n",
    "$$ {\\cal V}_i(x)^-: \\text{ taxa de saída do compartimento } i $$\n",
    "\n",
    "$$ {\\cal V}_i(x)^+: \\text{ taxa de entrada do compartimento } i $$\n",
    "\n",
    "Logo:"
   ]
  },
  {
   "cell_type": "markdown",
   "metadata": {},
   "source": [
    "$$\n",
    "\\begin{equation}\n",
    "{\\cal V^-} = \\begin{bmatrix}\n",
    "I_H(\\gamma + \\mu_H)\\\\\n",
    "\\end{bmatrix}\n",
    "\\end{equation}\n",
    "$$"
   ]
  },
  {
   "cell_type": "markdown",
   "metadata": {},
   "source": [
    "$$\n",
    "\\begin{equation}\n",
    "{\\cal V^+} = \\begin{bmatrix}\n",
    "0\\\\\n",
    "\\end{bmatrix}\n",
    "\\end{equation}\n",
    "$$"
   ]
  },
  {
   "cell_type": "code",
   "execution_count": 22,
   "metadata": {},
   "outputs": [
    {
     "data": {
      "text/html": [
       "<html><script type=\"math/tex; mode=display\">\\newcommand{\\Bold}[1]{\\mathbf{#1}}\\left(\\begin{array}{r}\n",
       "I_{H} \\gamma + I_{H} \\mu_{H}\n",
       "\\end{array}\\right)</script></html>"
      ],
      "text/latex": [
       "\\begin{math}\n",
       "\\newcommand{\\Bold}[1]{\\mathbf{#1}}\\left(\\begin{array}{r}\n",
       "I_{H} \\gamma + I_{H} \\mu_{H}\n",
       "\\end{array}\\right)\n",
       "\\end{math}"
      ],
      "text/plain": [
       "[I_H*gamma + I_H*mu_H]"
      ]
     },
     "execution_count": 22,
     "metadata": {},
     "output_type": "execute_result"
    }
   ],
   "source": [
    "V_cal_neg_sir = matrix([[gamma*I_H + mu_H*I_H]])\n",
    "V_cal_neg_sir"
   ]
  },
  {
   "cell_type": "code",
   "execution_count": 23,
   "metadata": {},
   "outputs": [
    {
     "data": {
      "text/html": [
       "<html><script type=\"math/tex; mode=display\">\\newcommand{\\Bold}[1]{\\mathbf{#1}}\\left(\\begin{array}{r}\n",
       "0\n",
       "\\end{array}\\right)</script></html>"
      ],
      "text/latex": [
       "\\begin{math}\n",
       "\\newcommand{\\Bold}[1]{\\mathbf{#1}}\\left(\\begin{array}{r}\n",
       "0\n",
       "\\end{array}\\right)\n",
       "\\end{math}"
      ],
      "text/plain": [
       "[0]"
      ]
     },
     "execution_count": 23,
     "metadata": {},
     "output_type": "execute_result"
    }
   ],
   "source": [
    "V_cal_pos_sir = matrix([[0]])\n",
    "V_cal_pos_sir"
   ]
  },
  {
   "cell_type": "markdown",
   "metadata": {},
   "source": [
    "$${\\cal V}_i (x) = {\\cal V}_i(x)^{-} - {\\cal V}_i(x)^+$$\n",
    "\n",
    "Então,\n",
    "\\begin{equation}\n",
    "{\\cal V} =\n",
    "\\begin{bmatrix}\n",
    "I_H(\\gamma + \\mu_H)\\\\\n",
    "\\end{bmatrix}\n",
    "\\end{equation}"
   ]
  },
  {
   "cell_type": "code",
   "execution_count": 24,
   "metadata": {},
   "outputs": [
    {
     "data": {
      "text/html": [
       "<html><script type=\"math/tex; mode=display\">\\newcommand{\\Bold}[1]{\\mathbf{#1}}\\left(\\begin{array}{r}\n",
       "I_{H} \\gamma + I_{H} \\mu_{H}\n",
       "\\end{array}\\right)</script></html>"
      ],
      "text/latex": [
       "\\begin{math}\n",
       "\\newcommand{\\Bold}[1]{\\mathbf{#1}}\\left(\\begin{array}{r}\n",
       "I_{H} \\gamma + I_{H} \\mu_{H}\n",
       "\\end{array}\\right)\n",
       "\\end{math}"
      ],
      "text/plain": [
       "[I_H*gamma + I_H*mu_H]"
      ]
     },
     "execution_count": 24,
     "metadata": {},
     "output_type": "execute_result"
    }
   ],
   "source": [
    "V_cal_sir = V_cal_neg_sir-V_cal_pos_sir\n",
    "V_cal_sir"
   ]
  },
  {
   "cell_type": "markdown",
   "metadata": {},
   "source": [
    "$$ F = \\dfrac{\\partial{\\cal F}}{\\partial I_M} =\\begin{bmatrix}\n",
    "a  k b_2  S_H \\\\\n",
    "\\end{bmatrix} $$"
   ]
  },
  {
   "cell_type": "code",
   "execution_count": 25,
   "metadata": {},
   "outputs": [
    {
     "data": {
      "text/html": [
       "<html><script type=\"math/tex; mode=display\">\\newcommand{\\Bold}[1]{\\mathbf{#1}}\\left(\\begin{array}{r}\n",
       "a b_{2} k\n",
       "\\end{array}\\right)</script></html>"
      ],
      "text/latex": [
       "\\begin{math}\n",
       "\\newcommand{\\Bold}[1]{\\mathbf{#1}}\\left(\\begin{array}{r}\n",
       "a b_{2} k\n",
       "\\end{array}\\right)\n",
       "\\end{math}"
      ],
      "text/plain": [
       "[a*b2*k]"
      ]
     },
     "execution_count": 25,
     "metadata": {},
     "output_type": "execute_result"
    }
   ],
   "source": [
    "F_sir = jacobian(F_cal_sir(S_H=1),[I_M])\n",
    "F_sir"
   ]
  },
  {
   "cell_type": "markdown",
   "metadata": {},
   "source": [
    "$$ V = \\dfrac{\\partial{\\cal V}}{\\partial I_H} =\\begin{bmatrix}\n",
    "\\gamma + \\mu_H\\\\\n",
    "\\end{bmatrix} $$"
   ]
  },
  {
   "cell_type": "code",
   "execution_count": 26,
   "metadata": {},
   "outputs": [
    {
     "data": {
      "text/html": [
       "<html><script type=\"math/tex; mode=display\">\\newcommand{\\Bold}[1]{\\mathbf{#1}}\\left(\\begin{array}{r}\n",
       "\\gamma + \\mu_{H}\n",
       "\\end{array}\\right)</script></html>"
      ],
      "text/latex": [
       "\\begin{math}\n",
       "\\newcommand{\\Bold}[1]{\\mathbf{#1}}\\left(\\begin{array}{r}\n",
       "\\gamma + \\mu_{H}\n",
       "\\end{array}\\right)\n",
       "\\end{math}"
      ],
      "text/plain": [
       "[gamma + mu_H]"
      ]
     },
     "execution_count": 26,
     "metadata": {},
     "output_type": "execute_result"
    }
   ],
   "source": [
    "V_sir = jacobian(V_cal_sir(S_H=1),[I_H])\n",
    "V_sir"
   ]
  },
  {
   "cell_type": "markdown",
   "metadata": {},
   "source": [
    "${\\cal R}_0 = \\rho (FV^{-1})$"
   ]
  },
  {
   "cell_type": "code",
   "execution_count": 27,
   "metadata": {},
   "outputs": [
    {
     "data": {
      "text/html": [
       "<html><script type=\"math/tex; mode=display\">\\newcommand{\\Bold}[1]{\\mathbf{#1}}\\left(\\begin{array}{r}\n",
       "\\frac{a b_{2} k}{\\gamma + \\mu_{H}}\n",
       "\\end{array}\\right)</script></html>"
      ],
      "text/latex": [
       "\\begin{math}\n",
       "\\newcommand{\\Bold}[1]{\\mathbf{#1}}\\left(\\begin{array}{r}\n",
       "\\frac{a b_{2} k}{\\gamma + \\mu_{H}}\n",
       "\\end{array}\\right)\n",
       "\\end{math}"
      ],
      "text/plain": [
       "[a*b2*k/(gamma + mu_H)]"
      ]
     },
     "execution_count": 27,
     "metadata": {},
     "output_type": "execute_result"
    }
   ],
   "source": [
    "M_sir = F_sir*V_sir.inverse()\n",
    "M_sir "
   ]
  },
  {
   "cell_type": "code",
   "execution_count": 28,
   "metadata": {},
   "outputs": [
    {
     "data": {
      "text/html": [
       "<html><script type=\"math/tex; mode=display\">\\newcommand{\\Bold}[1]{\\mathbf{#1}}\\left[\\frac{a b_{2} k}{\\gamma + \\mu_{H}}\\right]</script></html>"
      ],
      "text/latex": [
       "\\begin{math}\n",
       "\\newcommand{\\Bold}[1]{\\mathbf{#1}}\\left[\\frac{a b_{2} k}{\\gamma + \\mu_{H}}\\right]\n",
       "\\end{math}"
      ],
      "text/plain": [
       "[a*b2*k/(gamma + mu_H)]"
      ]
     },
     "execution_count": 28,
     "metadata": {},
     "output_type": "execute_result"
    }
   ],
   "source": [
    "M_sir.eigenvalues()"
   ]
  },
  {
   "cell_type": "code",
   "execution_count": 29,
   "metadata": {},
   "outputs": [],
   "source": [
    "eigenvalues_sir_list = M_sir.eigenvalues()\n",
    "eigenvalues_sir_list.sort()"
   ]
  },
  {
   "cell_type": "code",
   "execution_count": 30,
   "metadata": {},
   "outputs": [
    {
     "data": {
      "text/html": [
       "<html><script type=\"math/tex; mode=display\">\\newcommand{\\Bold}[1]{\\mathbf{#1}}{\\left| \\frac{a b_{2} k}{\\gamma + \\mu_{H}} \\right|}</script></html>"
      ],
      "text/latex": [
       "\\begin{math}\n",
       "\\newcommand{\\Bold}[1]{\\mathbf{#1}}{\\left| \\frac{a b_{2} k}{\\gamma + \\mu_{H}} \\right|}\n",
       "\\end{math}"
      ],
      "text/plain": [
       "abs(a*b2*k/(gamma + mu_H))"
      ]
     },
     "execution_count": 30,
     "metadata": {},
     "output_type": "execute_result"
    }
   ],
   "source": [
    "absolute_eigenvalues_sir = np.abs(eigenvalues_sir_list)\n",
    "\n",
    "# Calcula o maior autovalor, que será o raio espectral\n",
    "R0_sir = np.max(absolute_eigenvalues_sir)\n",
    "R0_sir"
   ]
  },
  {
   "cell_type": "markdown",
   "metadata": {},
   "source": [
    "#### SEI"
   ]
  },
  {
   "cell_type": "markdown",
   "metadata": {},
   "source": [
    "${\\bf m=2}$. A fim de clareza, vamos ordenar os $n=3$ compartimentos da seguinte forma: $[E, I, S]$, separando os $m$ primeiros compartimentos do restante. Vale ressaltar que as transferências dos compartimentos expostos para os infectados não são consideradas novas infecções, mas sim a progressão de um indivíduo infectado através dos vários compartimentos. Novamente removendo $N$, portanto,\n",
    "\n",
    "$$ {\\cal F}_i(x): \\text{ taxa de surgimento de novos infectados no compartimento } i $$\n",
    "\n",
    "\n",
    "$$ {\\cal F} =\\begin{bmatrix}\n",
    "a k b_1 I_H S_M\\\\\n",
    "0\\\\\n",
    "\\end{bmatrix} $$"
   ]
  },
  {
   "cell_type": "code",
   "execution_count": 31,
   "metadata": {},
   "outputs": [
    {
     "data": {
      "text/html": [
       "<html><script type=\"math/tex; mode=display\">\\newcommand{\\Bold}[1]{\\mathbf{#1}}\\left(\\begin{array}{r}\n",
       "I_{H} S_{M} a b_{1} k \\\\\n",
       "0\n",
       "\\end{array}\\right)</script></html>"
      ],
      "text/latex": [
       "\\begin{math}\n",
       "\\newcommand{\\Bold}[1]{\\mathbf{#1}}\\left(\\begin{array}{r}\n",
       "I_{H} S_{M} a b_{1} k \\\\\n",
       "0\n",
       "\\end{array}\\right)\n",
       "\\end{math}"
      ],
      "text/plain": [
       "[I_H*S_M*a*b1*k]\n",
       "[             0]"
      ]
     },
     "execution_count": 31,
     "metadata": {},
     "output_type": "execute_result"
    }
   ],
   "source": [
    "F_cal_sei = matrix([[a*k*b1*I_H*S_M],[0]])\n",
    "F_cal_sei"
   ]
  },
  {
   "cell_type": "markdown",
   "metadata": {},
   "source": [
    "Além disso, temos\n",
    "\n",
    "$$ {\\cal V}_i(x)^-: \\text{ taxa de saída do compartimento } i $$\n",
    "\n",
    "$$ {\\cal V}_i(x)^+: \\text{ taxa de entrada do compartimento } i $$\n",
    "\n",
    "Logo:"
   ]
  },
  {
   "cell_type": "markdown",
   "metadata": {},
   "source": [
    "$$\n",
    "\\begin{equation}\n",
    "{\\cal V^-} = \\begin{bmatrix}\n",
    "E_M (\\mu + b_3 + l)\\\\\n",
    "\\mu I_M\n",
    "\\end{bmatrix}\n",
    "\\end{equation}\n",
    "$$"
   ]
  },
  {
   "cell_type": "markdown",
   "metadata": {},
   "source": [
    "$$\n",
    "\\begin{equation}\n",
    "{\\cal V^+} = \\begin{bmatrix}\n",
    "0\\\\\n",
    "b_3 E_M\\\\\n",
    "\\end{bmatrix}\n",
    "\\end{equation}\n",
    "$$"
   ]
  },
  {
   "cell_type": "code",
   "execution_count": 32,
   "metadata": {},
   "outputs": [
    {
     "data": {
      "text/html": [
       "<html><script type=\"math/tex; mode=display\">\\newcommand{\\Bold}[1]{\\mathbf{#1}}\\left(\\begin{array}{r}\n",
       "E_{M} b_{3} + E_{M} l + E_{M} \\mu \\\\\n",
       "I_{M} \\mu\n",
       "\\end{array}\\right)</script></html>"
      ],
      "text/latex": [
       "\\begin{math}\n",
       "\\newcommand{\\Bold}[1]{\\mathbf{#1}}\\left(\\begin{array}{r}\n",
       "E_{M} b_{3} + E_{M} l + E_{M} \\mu \\\\\n",
       "I_{M} \\mu\n",
       "\\end{array}\\right)\n",
       "\\end{math}"
      ],
      "text/plain": [
       "[E_M*b3 + E_M*l + E_M*mu]\n",
       "[                 I_M*mu]"
      ]
     },
     "execution_count": 32,
     "metadata": {},
     "output_type": "execute_result"
    }
   ],
   "source": [
    "V_cal_neg_sei = matrix([[mu * E_M + b3 * E_M + l * E_M], [mu * I_M]])\n",
    "V_cal_neg_sei"
   ]
  },
  {
   "cell_type": "code",
   "execution_count": 33,
   "metadata": {},
   "outputs": [
    {
     "data": {
      "text/html": [
       "<html><script type=\"math/tex; mode=display\">\\newcommand{\\Bold}[1]{\\mathbf{#1}}\\left(\\begin{array}{r}\n",
       "0 \\\\\n",
       "E_{M} b_{3}\n",
       "\\end{array}\\right)</script></html>"
      ],
      "text/latex": [
       "\\begin{math}\n",
       "\\newcommand{\\Bold}[1]{\\mathbf{#1}}\\left(\\begin{array}{r}\n",
       "0 \\\\\n",
       "E_{M} b_{3}\n",
       "\\end{array}\\right)\n",
       "\\end{math}"
      ],
      "text/plain": [
       "[     0]\n",
       "[E_M*b3]"
      ]
     },
     "execution_count": 33,
     "metadata": {},
     "output_type": "execute_result"
    }
   ],
   "source": [
    "V_cal_pos_sei = matrix([[0],[b3 * E_M]])\n",
    "V_cal_pos_sei"
   ]
  },
  {
   "cell_type": "markdown",
   "metadata": {},
   "source": [
    "$${\\cal V}_i (x) = {\\cal V}_i(x)^{-} - {\\cal V}_i(x)^+$$\n",
    "\n",
    "Então,\n",
    "\\begin{equation}\n",
    "{\\cal V} =\n",
    "\\begin{bmatrix}\n",
    "E_M (\\mu + b_3 + l)\\\\\n",
    "\\mu I_M - b_3 E_M \\\\\n",
    "\\end{bmatrix}\n",
    "\\end{equation}"
   ]
  },
  {
   "cell_type": "code",
   "execution_count": 34,
   "metadata": {},
   "outputs": [
    {
     "data": {
      "text/html": [
       "<html><script type=\"math/tex; mode=display\">\\newcommand{\\Bold}[1]{\\mathbf{#1}}\\left(\\begin{array}{r}\n",
       "E_{M} b_{3} + E_{M} l + E_{M} \\mu \\\\\n",
       "-E_{M} b_{3} + I_{M} \\mu\n",
       "\\end{array}\\right)</script></html>"
      ],
      "text/latex": [
       "\\begin{math}\n",
       "\\newcommand{\\Bold}[1]{\\mathbf{#1}}\\left(\\begin{array}{r}\n",
       "E_{M} b_{3} + E_{M} l + E_{M} \\mu \\\\\n",
       "-E_{M} b_{3} + I_{M} \\mu\n",
       "\\end{array}\\right)\n",
       "\\end{math}"
      ],
      "text/plain": [
       "[E_M*b3 + E_M*l + E_M*mu]\n",
       "[       -E_M*b3 + I_M*mu]"
      ]
     },
     "execution_count": 34,
     "metadata": {},
     "output_type": "execute_result"
    }
   ],
   "source": [
    "V_cal_sei = V_cal_neg_sei-V_cal_pos_sei\n",
    "V_cal_sei"
   ]
  },
  {
   "cell_type": "markdown",
   "metadata": {},
   "source": [
    "Definimos também $F=\\left[\\frac{\\partial {\\cal F}_i (x_0)}{\\partial x_j}\\right]$ e $V=\\left[\\frac{\\partial {\\cal V}_i (x_0) }{\\partial x_j}\\right]$, onde $x_0$ é um DFE (Equilíbrio livre de doença) e $1\\leq i,j \\leq m$. \n",
    "\n",
    "Isto equivale à jacobiana  destas duas matrizes, após substituir $x_0$ ou seja, $S=1$."
   ]
  },
  {
   "cell_type": "markdown",
   "metadata": {},
   "source": [
    "$$ F = \\dfrac{\\partial{\\cal F}}{\\partial E_M, I_H} =\\begin{bmatrix}\n",
    "\\dfrac{\\partial akb_1 I_H S_M}{\\partial E_M} & \\dfrac{\\partial akb_1 I_H S_M}{\\partial I_H}\\\\\n",
    "\\dfrac{\\partial 0}{\\partial E_M} & \\dfrac{\\partial 0}{\\partial I_H}\\\\\n",
    "\\end{bmatrix} = \n",
    "\\begin{bmatrix}\n",
    "0 & akb_1 S_M\\\\\n",
    "0 & 0\\\\\n",
    "\\end{bmatrix}$$"
   ]
  },
  {
   "cell_type": "code",
   "execution_count": 35,
   "metadata": {},
   "outputs": [
    {
     "data": {
      "text/html": [
       "<html><script type=\"math/tex; mode=display\">\\newcommand{\\Bold}[1]{\\mathbf{#1}}\\left(\\begin{array}{rr}\n",
       "0 & a b_{1} k \\\\\n",
       "0 & 0\n",
       "\\end{array}\\right)</script></html>"
      ],
      "text/latex": [
       "\\begin{math}\n",
       "\\newcommand{\\Bold}[1]{\\mathbf{#1}}\\left(\\begin{array}{rr}\n",
       "0 & a b_{1} k \\\\\n",
       "0 & 0\n",
       "\\end{array}\\right)\n",
       "\\end{math}"
      ],
      "text/plain": [
       "[     0 a*b1*k]\n",
       "[     0      0]"
      ]
     },
     "execution_count": 35,
     "metadata": {},
     "output_type": "execute_result"
    }
   ],
   "source": [
    "F_sei = jacobian(F_cal_sei(S_M=1),[E_M, I_H])\n",
    "F_sei"
   ]
  },
  {
   "cell_type": "markdown",
   "metadata": {},
   "source": [
    "$$ V = \\dfrac{\\partial{\\cal V}}{\\partial E_M, I_M} =\\begin{bmatrix}\n",
    "\\dfrac{\\partial E_M (\\mu + b_3 + l)}{\\partial E_M} & \\dfrac{\\partial E_M (\\mu + b_3 + l)}{\\partial I_M}\\\\\n",
    "\\dfrac{\\partial \\mu I_M - b_3 E_M}{\\partial E_M} & \\dfrac{\\partial \\mu I_M - b_3 E_M}{\\partial I_M}\\\\\n",
    "\\end{bmatrix} = \n",
    "\\begin{bmatrix}\n",
    "\\mu+b_3 +l & 0\\\\\n",
    "- b_3 & \\mu\\\\\n",
    "\\end{bmatrix}$$"
   ]
  },
  {
   "cell_type": "code",
   "execution_count": 36,
   "metadata": {},
   "outputs": [
    {
     "data": {
      "text/html": [
       "<html><script type=\"math/tex; mode=display\">\\newcommand{\\Bold}[1]{\\mathbf{#1}}\\left(\\begin{array}{rr}\n",
       "b_{3} + l + \\mu & 0 \\\\\n",
       "-b_{3} & \\mu\n",
       "\\end{array}\\right)</script></html>"
      ],
      "text/latex": [
       "\\begin{math}\n",
       "\\newcommand{\\Bold}[1]{\\mathbf{#1}}\\left(\\begin{array}{rr}\n",
       "b_{3} + l + \\mu & 0 \\\\\n",
       "-b_{3} & \\mu\n",
       "\\end{array}\\right)\n",
       "\\end{math}"
      ],
      "text/plain": [
       "[b3 + l + mu           0]\n",
       "[        -b3          mu]"
      ]
     },
     "execution_count": 36,
     "metadata": {},
     "output_type": "execute_result"
    }
   ],
   "source": [
    "V_sei = jacobian(V_cal_sei(S_M=1),[E_M, I_M])\n",
    "V_sei"
   ]
  },
  {
   "cell_type": "markdown",
   "metadata": {},
   "source": [
    "${\\cal R}_0 = \\rho (FV^{-1})$"
   ]
  },
  {
   "cell_type": "code",
   "execution_count": 37,
   "metadata": {},
   "outputs": [
    {
     "data": {
      "text/html": [
       "<html><script type=\"math/tex; mode=display\">\\newcommand{\\Bold}[1]{\\mathbf{#1}}\\left(\\begin{array}{rr}\n",
       "\\frac{a b_{1} b_{3} k}{{\\left(b_{3} + l + \\mu\\right)} \\mu} & \\frac{a b_{1} k}{\\mu} \\\\\n",
       "0 & 0\n",
       "\\end{array}\\right)</script></html>"
      ],
      "text/latex": [
       "\\begin{math}\n",
       "\\newcommand{\\Bold}[1]{\\mathbf{#1}}\\left(\\begin{array}{rr}\n",
       "\\frac{a b_{1} b_{3} k}{{\\left(b_{3} + l + \\mu\\right)} \\mu} & \\frac{a b_{1} k}{\\mu} \\\\\n",
       "0 & 0\n",
       "\\end{array}\\right)\n",
       "\\end{math}"
      ],
      "text/plain": [
       "[a*b1*b3*k/((b3 + l + mu)*mu)                    a*b1*k/mu]\n",
       "[                           0                            0]"
      ]
     },
     "execution_count": 37,
     "metadata": {},
     "output_type": "execute_result"
    }
   ],
   "source": [
    "M_sei = F_sei*V_sei.inverse()\n",
    "M_sei "
   ]
  },
  {
   "cell_type": "code",
   "execution_count": 38,
   "metadata": {},
   "outputs": [
    {
     "data": {
      "text/html": [
       "<html><script type=\"math/tex; mode=display\">\\newcommand{\\Bold}[1]{\\mathbf{#1}}\\left[\\frac{a b_{1} b_{3} k}{{\\left(b_{3} + l\\right)} \\mu + \\mu^{2}}, 0\\right]</script></html>"
      ],
      "text/latex": [
       "\\begin{math}\n",
       "\\newcommand{\\Bold}[1]{\\mathbf{#1}}\\left[\\frac{a b_{1} b_{3} k}{{\\left(b_{3} + l\\right)} \\mu + \\mu^{2}}, 0\\right]\n",
       "\\end{math}"
      ],
      "text/plain": [
       "[a*b1*b3*k/((b3 + l)*mu + mu^2), 0]"
      ]
     },
     "execution_count": 38,
     "metadata": {},
     "output_type": "execute_result"
    }
   ],
   "source": [
    "M_sei.eigenvalues()"
   ]
  },
  {
   "cell_type": "code",
   "execution_count": 39,
   "metadata": {},
   "outputs": [],
   "source": [
    "eigenvalues_sei_list = M_sei.eigenvalues()\n",
    "eigenvalues_sei_list.sort()"
   ]
  },
  {
   "cell_type": "code",
   "execution_count": 40,
   "metadata": {},
   "outputs": [
    {
     "data": {
      "text/html": [
       "<html><script type=\"math/tex; mode=display\">\\newcommand{\\Bold}[1]{\\mathbf{#1}}{\\left| \\frac{a b_{1} b_{3} k}{{\\left(b_{3} + l\\right)} \\mu + \\mu^{2}} \\right|}</script></html>"
      ],
      "text/latex": [
       "\\begin{math}\n",
       "\\newcommand{\\Bold}[1]{\\mathbf{#1}}{\\left| \\frac{a b_{1} b_{3} k}{{\\left(b_{3} + l\\right)} \\mu + \\mu^{2}} \\right|}\n",
       "\\end{math}"
      ],
      "text/plain": [
       "abs(a*b1*b3*k/((b3 + l)*mu + mu^2))"
      ]
     },
     "execution_count": 40,
     "metadata": {},
     "output_type": "execute_result"
    }
   ],
   "source": [
    "absolute_eigenvalues_sei = np.abs(eigenvalues_sei_list)\n",
    "\n",
    "# Calcula o maior autovalor, que será o raio espectral\n",
    "R0_sei = np.max(absolute_eigenvalues_sei)\n",
    "R0_sei"
   ]
  },
  {
   "cell_type": "markdown",
   "metadata": {},
   "source": [
    "### Modelo acoplado:"
   ]
  },
  {
   "cell_type": "markdown",
   "metadata": {},
   "source": [
    "${\\bf m=3}$. A fim de clareza, vamos ordenar os $n=6$ compartimentos da seguinte forma: $[I_H, E_M, I_M, S_H, S_M, R_H]$, separando os $m$ primeiros compartimentos do restante. Vale ressaltar que as transferências dos compartimentos expostos para os infectados não são consideradas novas infecções, mas sim a progressão de um indivíduo infectado através dos vários compartimentos. Novamente removendo $N$, portanto,\n",
    "\n",
    "$$ {\\cal F}_i(x): \\text{ taxa de surgimento de novos infectados no compartimento } i $$\n",
    "\n",
    "\n",
    "$$ {\\cal F} =\\begin{bmatrix}\n",
    "a k b_2  I_M  S_H \\\\\n",
    "a k b_1 I_H S_M\\\\\n",
    "0\\\\\n",
    "\\end{bmatrix} $$"
   ]
  },
  {
   "cell_type": "code",
   "execution_count": 41,
   "metadata": {},
   "outputs": [
    {
     "data": {
      "text/html": [
       "<html><script type=\"math/tex; mode=display\">\\newcommand{\\Bold}[1]{\\mathbf{#1}}\\left(\\begin{array}{r}\n",
       "I_{M} S_{H} a b_{2} k \\\\\n",
       "I_{H} S_{M} a b_{1} k \\\\\n",
       "0\n",
       "\\end{array}\\right)</script></html>"
      ],
      "text/latex": [
       "\\begin{math}\n",
       "\\newcommand{\\Bold}[1]{\\mathbf{#1}}\\left(\\begin{array}{r}\n",
       "I_{M} S_{H} a b_{2} k \\\\\n",
       "I_{H} S_{M} a b_{1} k \\\\\n",
       "0\n",
       "\\end{array}\\right)\n",
       "\\end{math}"
      ],
      "text/plain": [
       "[I_M*S_H*a*b2*k]\n",
       "[I_H*S_M*a*b1*k]\n",
       "[             0]"
      ]
     },
     "execution_count": 41,
     "metadata": {},
     "output_type": "execute_result"
    }
   ],
   "source": [
    "F_cal = matrix([[a*k*b2*I_M*S_H],[a*k*b1*I_H*S_M],[0]])\n",
    "F_cal"
   ]
  },
  {
   "cell_type": "markdown",
   "metadata": {},
   "source": [
    "Além disso, temos\n",
    "\n",
    "$$ {\\cal V}_i(x)^-: \\text{ taxa de saída do compartimento } i $$\n",
    "\n",
    "$$ {\\cal V}_i(x)^+: \\text{ taxa de entrada do compartimento } i $$\n",
    "\n",
    "Logo:"
   ]
  },
  {
   "cell_type": "markdown",
   "metadata": {},
   "source": [
    "$$\n",
    "\\begin{equation}\n",
    "{\\cal V^-} = \\begin{bmatrix}\n",
    "I_H(\\gamma + \\mu_H)\\\\\n",
    "E_M (\\mu + b_3 + l)\\\\\n",
    "\\mu I_M\n",
    "\\end{bmatrix}\n",
    "\\end{equation}\n",
    "$$"
   ]
  },
  {
   "cell_type": "markdown",
   "metadata": {},
   "source": [
    "$$\n",
    "\\begin{equation}\n",
    "{\\cal V^+} = \\begin{bmatrix}\n",
    "0\\\\\n",
    "0\\\\\n",
    "b_3 E_M\\\\\n",
    "\\end{bmatrix}\n",
    "\\end{equation}\n",
    "$$"
   ]
  },
  {
   "cell_type": "code",
   "execution_count": 42,
   "metadata": {},
   "outputs": [
    {
     "data": {
      "text/html": [
       "<html><script type=\"math/tex; mode=display\">\\newcommand{\\Bold}[1]{\\mathbf{#1}}\\left(\\begin{array}{r}\n",
       "I_{H} \\gamma + I_{H} \\mu_{H} \\\\\n",
       "E_{M} b_{3} + E_{M} l + E_{M} \\mu \\\\\n",
       "I_{M} \\mu\n",
       "\\end{array}\\right)</script></html>"
      ],
      "text/latex": [
       "\\begin{math}\n",
       "\\newcommand{\\Bold}[1]{\\mathbf{#1}}\\left(\\begin{array}{r}\n",
       "I_{H} \\gamma + I_{H} \\mu_{H} \\\\\n",
       "E_{M} b_{3} + E_{M} l + E_{M} \\mu \\\\\n",
       "I_{M} \\mu\n",
       "\\end{array}\\right)\n",
       "\\end{math}"
      ],
      "text/plain": [
       "[   I_H*gamma + I_H*mu_H]\n",
       "[E_M*b3 + E_M*l + E_M*mu]\n",
       "[                 I_M*mu]"
      ]
     },
     "execution_count": 42,
     "metadata": {},
     "output_type": "execute_result"
    }
   ],
   "source": [
    "V_cal_neg = matrix([[gamma*I_H +mu_H*I_H],[mu * E_M + b3 * E_M + l * E_M], [mu * I_M]])\n",
    "V_cal_neg"
   ]
  },
  {
   "cell_type": "code",
   "execution_count": 43,
   "metadata": {},
   "outputs": [
    {
     "data": {
      "text/html": [
       "<html><script type=\"math/tex; mode=display\">\\newcommand{\\Bold}[1]{\\mathbf{#1}}\\left(\\begin{array}{r}\n",
       "0 \\\\\n",
       "0 \\\\\n",
       "E_{M} b_{3}\n",
       "\\end{array}\\right)</script></html>"
      ],
      "text/latex": [
       "\\begin{math}\n",
       "\\newcommand{\\Bold}[1]{\\mathbf{#1}}\\left(\\begin{array}{r}\n",
       "0 \\\\\n",
       "0 \\\\\n",
       "E_{M} b_{3}\n",
       "\\end{array}\\right)\n",
       "\\end{math}"
      ],
      "text/plain": [
       "[     0]\n",
       "[     0]\n",
       "[E_M*b3]"
      ]
     },
     "execution_count": 43,
     "metadata": {},
     "output_type": "execute_result"
    }
   ],
   "source": [
    "V_cal_pos = matrix([[0],[0],[b3 * E_M]])\n",
    "V_cal_pos"
   ]
  },
  {
   "cell_type": "markdown",
   "metadata": {},
   "source": [
    "$${\\cal V}_i (x) = {\\cal V}_i(x)^{-} - {\\cal V}_i(x)^+$$\n",
    "\n",
    "Então,\n",
    "\\begin{equation}\n",
    "{\\cal V} =\n",
    "\\begin{bmatrix}\n",
    "I_H(\\gamma + \\mu_H) \\\\\n",
    "E_M (\\mu + b_3 + l)\\\\\n",
    "\\mu I_M - b_3 E_M \\\\\n",
    "\\end{bmatrix}\n",
    "\\end{equation}"
   ]
  },
  {
   "cell_type": "code",
   "execution_count": 44,
   "metadata": {},
   "outputs": [
    {
     "data": {
      "text/html": [
       "<html><script type=\"math/tex; mode=display\">\\newcommand{\\Bold}[1]{\\mathbf{#1}}\\left(\\begin{array}{r}\n",
       "I_{H} \\gamma + I_{H} \\mu_{H} \\\\\n",
       "E_{M} b_{3} + E_{M} l + E_{M} \\mu \\\\\n",
       "-E_{M} b_{3} + I_{M} \\mu\n",
       "\\end{array}\\right)</script></html>"
      ],
      "text/latex": [
       "\\begin{math}\n",
       "\\newcommand{\\Bold}[1]{\\mathbf{#1}}\\left(\\begin{array}{r}\n",
       "I_{H} \\gamma + I_{H} \\mu_{H} \\\\\n",
       "E_{M} b_{3} + E_{M} l + E_{M} \\mu \\\\\n",
       "-E_{M} b_{3} + I_{M} \\mu\n",
       "\\end{array}\\right)\n",
       "\\end{math}"
      ],
      "text/plain": [
       "[   I_H*gamma + I_H*mu_H]\n",
       "[E_M*b3 + E_M*l + E_M*mu]\n",
       "[       -E_M*b3 + I_M*mu]"
      ]
     },
     "execution_count": 44,
     "metadata": {},
     "output_type": "execute_result"
    }
   ],
   "source": [
    "V_cal = V_cal_neg-V_cal_pos\n",
    "V_cal"
   ]
  },
  {
   "cell_type": "markdown",
   "metadata": {},
   "source": [
    "Definimos também $F=\\left[\\frac{\\partial {\\cal F}_i (x_0)}{\\partial x_j}\\right]$ e $V=\\left[\\frac{\\partial {\\cal V}_i (x_0) }{\\partial x_j}\\right]$, onde $x_0$ é um DFE (Equilíbrio livre de doença) e $1\\leq i,j \\leq m$. \n",
    "\n",
    "Isto equivale à jacobiana  destas duas matrizes, após substituir $x_0$ ou seja, $S=1$."
   ]
  },
  {
   "cell_type": "markdown",
   "metadata": {},
   "source": [
    "$$ F = \\dfrac{\\partial{\\cal F}}{\\partial I_H, E_M, I_M} =\\begin{bmatrix}\n",
    "\\dfrac{\\partial akb_2 I_M S_H}{\\partial I_H} & \\dfrac{\\partial akb_2 I_M S_H}{\\partial E_M} & \\dfrac{\\partial akb_2 I_M S_H}{\\partial I_M}\\\\\n",
    "\\dfrac{\\partial akb_1 I_H S_M}{\\partial I_H} & \\dfrac{\\partial akb_1 I_H S_M}{\\partial E_M} & \\dfrac{\\partial akb_1 I_H S_M}{\\partial I_M}\\\\\n",
    "\\dfrac{\\partial 0}{\\partial I_H} & \\dfrac{\\partial 0}{\\partial E_M} & \\dfrac{\\partial 0}{\\partial I_M}\\\\\n",
    "\\end{bmatrix} = \n",
    "\\begin{bmatrix}\n",
    "0 & 0 & ab_2 S_H\\\\\n",
    "ab_1 S_M & 0 & 0\\\\\n",
    "0 & 0 & 0\n",
    "\\end{bmatrix}$$"
   ]
  },
  {
   "cell_type": "code",
   "execution_count": 45,
   "metadata": {},
   "outputs": [
    {
     "data": {
      "text/html": [
       "<html><script type=\"math/tex; mode=display\">\\newcommand{\\Bold}[1]{\\mathbf{#1}}\\left(\\begin{array}{rrr}\n",
       "0 & 0 & a b_{2} k \\\\\n",
       "a b_{1} k & 0 & 0 \\\\\n",
       "0 & 0 & 0\n",
       "\\end{array}\\right)</script></html>"
      ],
      "text/latex": [
       "\\begin{math}\n",
       "\\newcommand{\\Bold}[1]{\\mathbf{#1}}\\left(\\begin{array}{rrr}\n",
       "0 & 0 & a b_{2} k \\\\\n",
       "a b_{1} k & 0 & 0 \\\\\n",
       "0 & 0 & 0\n",
       "\\end{array}\\right)\n",
       "\\end{math}"
      ],
      "text/plain": [
       "[     0      0 a*b2*k]\n",
       "[a*b1*k      0      0]\n",
       "[     0      0      0]"
      ]
     },
     "execution_count": 45,
     "metadata": {},
     "output_type": "execute_result"
    }
   ],
   "source": [
    "F = jacobian(F_cal(S_H=1, S_M=1),[I_H, E_M, I_M])\n",
    "F"
   ]
  },
  {
   "cell_type": "markdown",
   "metadata": {},
   "source": [
    "$$ V = \\dfrac{\\partial{\\cal V}}{\\partial I_H, E_M, I_M} =\\begin{bmatrix}\n",
    "\\dfrac{\\partial I_H(\\gamma + \\mu_H)}{\\partial I_H} & \\dfrac{\\partial I_H(\\gamma + \\mu_H)}{\\partial E_M} & \\dfrac{\\partial I_H(\\gamma + \\mu_H)}{\\partial I_M}\\\\\n",
    "\\dfrac{\\partial E_M (\\mu + b_3 + l)}{\\partial I_H} & \\dfrac{\\partial E_M (\\mu + b_3 + l)}{\\partial E_M} & \\dfrac{\\partial E_M (\\mu + b_3 + l)}{\\partial I_M}\\\\\n",
    "\\dfrac{\\partial \\mu I_M - b_3 E_M }{\\partial I_H} & \\dfrac{\\partial \\mu I_M - b_3 E_M }{\\partial E_M} & \\dfrac{\\partial \\mu I_M - b_3 E_M }{\\partial I_M}\\\\\n",
    "\\end{bmatrix} = \n",
    "\\begin{bmatrix}\n",
    "\\gamma + \\mu_H & 0 & 0\\\\\n",
    "0 & b_3 + l+\\mu & 0\\\\\n",
    "0 & -b_3 & \\mu\n",
    "\\end{bmatrix}$$"
   ]
  },
  {
   "cell_type": "code",
   "execution_count": 46,
   "metadata": {},
   "outputs": [
    {
     "data": {
      "text/html": [
       "<html><script type=\"math/tex; mode=display\">\\newcommand{\\Bold}[1]{\\mathbf{#1}}\\left(\\begin{array}{rrr}\n",
       "\\gamma + \\mu_{H} & 0 & 0 \\\\\n",
       "0 & b_{3} + l + \\mu & 0 \\\\\n",
       "0 & -b_{3} & \\mu\n",
       "\\end{array}\\right)</script></html>"
      ],
      "text/latex": [
       "\\begin{math}\n",
       "\\newcommand{\\Bold}[1]{\\mathbf{#1}}\\left(\\begin{array}{rrr}\n",
       "\\gamma + \\mu_{H} & 0 & 0 \\\\\n",
       "0 & b_{3} + l + \\mu & 0 \\\\\n",
       "0 & -b_{3} & \\mu\n",
       "\\end{array}\\right)\n",
       "\\end{math}"
      ],
      "text/plain": [
       "[gamma + mu_H            0            0]\n",
       "[           0  b3 + l + mu            0]\n",
       "[           0          -b3           mu]"
      ]
     },
     "execution_count": 46,
     "metadata": {},
     "output_type": "execute_result"
    }
   ],
   "source": [
    "V = jacobian(V_cal(S_H=1, S_M=1),[I_H, E_M, I_M])\n",
    "V"
   ]
  },
  {
   "cell_type": "code",
   "execution_count": 47,
   "metadata": {},
   "outputs": [
    {
     "data": {
      "text/html": [
       "<html><script type=\"math/tex; mode=display\">\\newcommand{\\Bold}[1]{\\mathbf{#1}}\\left(\\begin{array}{rrr}\n",
       "0 & \\frac{a b_{2} b_{3} k}{{\\left(b_{3} + l + \\mu\\right)} \\mu} & \\frac{a b_{2} k}{\\mu} \\\\\n",
       "\\frac{a b_{1} k}{\\gamma + \\mu_{H}} & 0 & 0 \\\\\n",
       "0 & 0 & 0\n",
       "\\end{array}\\right)</script></html>"
      ],
      "text/latex": [
       "\\begin{math}\n",
       "\\newcommand{\\Bold}[1]{\\mathbf{#1}}\\left(\\begin{array}{rrr}\n",
       "0 & \\frac{a b_{2} b_{3} k}{{\\left(b_{3} + l + \\mu\\right)} \\mu} & \\frac{a b_{2} k}{\\mu} \\\\\n",
       "\\frac{a b_{1} k}{\\gamma + \\mu_{H}} & 0 & 0 \\\\\n",
       "0 & 0 & 0\n",
       "\\end{array}\\right)\n",
       "\\end{math}"
      ],
      "text/plain": [
       "[                           0 a*b2*b3*k/((b3 + l + mu)*mu)                    a*b2*k/mu]\n",
       "[       a*b1*k/(gamma + mu_H)                            0                            0]\n",
       "[                           0                            0                            0]"
      ]
     },
     "execution_count": 47,
     "metadata": {},
     "output_type": "execute_result"
    }
   ],
   "source": [
    "M = F*V.inverse()\n",
    "M"
   ]
  },
  {
   "cell_type": "code",
   "execution_count": 48,
   "metadata": {},
   "outputs": [
    {
     "data": {
      "text/html": [
       "<html><script type=\"math/tex; mode=display\">\\newcommand{\\Bold}[1]{\\mathbf{#1}}\\left[-\\sqrt{\\frac{b_{1} b_{2} b_{3}}{b_{3} \\gamma \\mu + \\gamma l \\mu + \\gamma \\mu^{2} + b_{3} \\mu \\mu_{H} + l \\mu \\mu_{H} + \\mu^{2} \\mu_{H}}} a k, \\sqrt{\\frac{b_{1} b_{2} b_{3}}{b_{3} \\gamma \\mu + \\gamma l \\mu + \\gamma \\mu^{2} + b_{3} \\mu \\mu_{H} + l \\mu \\mu_{H} + \\mu^{2} \\mu_{H}}} a k, 0\\right]</script></html>"
      ],
      "text/latex": [
       "\\begin{math}\n",
       "\\newcommand{\\Bold}[1]{\\mathbf{#1}}\\left[-\\sqrt{\\frac{b_{1} b_{2} b_{3}}{b_{3} \\gamma \\mu + \\gamma l \\mu + \\gamma \\mu^{2} + b_{3} \\mu \\mu_{H} + l \\mu \\mu_{H} + \\mu^{2} \\mu_{H}}} a k, \\sqrt{\\frac{b_{1} b_{2} b_{3}}{b_{3} \\gamma \\mu + \\gamma l \\mu + \\gamma \\mu^{2} + b_{3} \\mu \\mu_{H} + l \\mu \\mu_{H} + \\mu^{2} \\mu_{H}}} a k, 0\\right]\n",
       "\\end{math}"
      ],
      "text/plain": [
       "[-sqrt(b1*b2*b3/(b3*gamma*mu + gamma*l*mu + gamma*mu^2 + b3*mu*mu_H + l*mu*mu_H + mu^2*mu_H))*a*k,\n",
       " sqrt(b1*b2*b3/(b3*gamma*mu + gamma*l*mu + gamma*mu^2 + b3*mu*mu_H + l*mu*mu_H + mu^2*mu_H))*a*k,\n",
       " 0]"
      ]
     },
     "execution_count": 48,
     "metadata": {},
     "output_type": "execute_result"
    }
   ],
   "source": [
    "M.eigenvalues()"
   ]
  },
  {
   "cell_type": "code",
   "execution_count": 49,
   "metadata": {},
   "outputs": [],
   "source": [
    "eigenvalues_list = M.eigenvalues()\n",
    "eigenvalues_list.sort()"
   ]
  },
  {
   "cell_type": "code",
   "execution_count": 50,
   "metadata": {},
   "outputs": [
    {
     "data": {
      "text/html": [
       "<html><script type=\"math/tex; mode=display\">\\newcommand{\\Bold}[1]{\\mathbf{#1}}{\\left| \\sqrt{\\frac{b_{1} b_{2} b_{3}}{b_{3} \\gamma \\mu + \\gamma l \\mu + \\gamma \\mu^{2} + b_{3} \\mu \\mu_{H} + l \\mu \\mu_{H} + \\mu^{2} \\mu_{H}}} a k \\right|}</script></html>"
      ],
      "text/latex": [
       "\\begin{math}\n",
       "\\newcommand{\\Bold}[1]{\\mathbf{#1}}{\\left| \\sqrt{\\frac{b_{1} b_{2} b_{3}}{b_{3} \\gamma \\mu + \\gamma l \\mu + \\gamma \\mu^{2} + b_{3} \\mu \\mu_{H} + l \\mu \\mu_{H} + \\mu^{2} \\mu_{H}}} a k \\right|}\n",
       "\\end{math}"
      ],
      "text/plain": [
       "abs(sqrt(b1*b2*b3/(b3*gamma*mu + gamma*l*mu + gamma*mu^2 + b3*mu*mu_H + l*mu*mu_H + mu^2*mu_H))*a*k)"
      ]
     },
     "execution_count": 50,
     "metadata": {},
     "output_type": "execute_result"
    }
   ],
   "source": [
    "absolute_eigenvalues = np.abs(eigenvalues_list)\n",
    "\n",
    "# Calcula o maior autovalor, que será o raio espectral\n",
    "R0 = np.max(absolute_eigenvalues)\n",
    "R0"
   ]
  },
  {
   "cell_type": "markdown",
   "metadata": {},
   "source": [
    "$\\mathcal{R}_0$ do SIR:\n",
    "\n",
    "$$\\Big | \\dfrac{ab_2k}{\\gamma + \\mu_H}\\Big |$$"
   ]
  },
  {
   "cell_type": "markdown",
   "metadata": {},
   "source": [
    "$\\mathcal{R}_0$ do SEI:\n",
    "\n",
    "$$\\Big | \\dfrac{ab_1b_3k}{(b_3+l+ \\mu)\\mu}\\Big |$$"
   ]
  },
  {
   "cell_type": "markdown",
   "metadata": {},
   "source": [
    "$\\mathcal{R}_0$ acoplado: \n",
    "\n",
    "$$\\Big |\\sqrt{\\dfrac{a^2b_1b_2b_3k^2}{\\mu(\\gamma+\\mu_H)(b_3+l+\\mu))}} \\Big| $$"
   ]
  },
  {
   "cell_type": "code",
   "execution_count": null,
   "metadata": {},
   "outputs": [],
   "source": []
  }
 ],
 "metadata": {
  "kernelspec": {
   "display_name": "SageMath 9.2",
   "language": "sage",
   "name": "sagemath"
  },
  "language_info": {
   "codemirror_mode": {
    "name": "ipython",
    "version": 3
   },
   "file_extension": ".py",
   "mimetype": "text/x-python",
   "name": "python",
   "nbconvert_exporter": "python",
   "pygments_lexer": "ipython3",
   "version": "3.7.7"
  }
 },
 "nbformat": 4,
 "nbformat_minor": 4
}
