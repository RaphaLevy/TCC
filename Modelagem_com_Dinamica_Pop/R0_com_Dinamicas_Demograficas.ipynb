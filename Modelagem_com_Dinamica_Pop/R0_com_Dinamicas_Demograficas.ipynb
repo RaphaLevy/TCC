{
 "cells": [
  {
   "cell_type": "code",
   "execution_count": 1,
   "metadata": {},
   "outputs": [],
   "source": [
    "import numpy as np\n",
    "from scipy.integrate import solve_ivp\n",
    "import matplotlib.pyplot as plt\n",
    "from numpy import cos\n",
    "from math import log\n",
    "from scipy.interpolate import interp1d\n",
    "from ipywidgets import interact, interactive, fixed, interact_manual\n",
    "import ipywidgets as widgets\n",
    "from mpl_toolkits.mplot3d import Axes3D\n",
    "from scipy.optimize import minimize_scalar\n",
    "from scipy.optimize import minimize"
   ]
  },
  {
   "cell_type": "markdown",
   "metadata": {},
   "source": [
    "#### As equações do modelo:"
   ]
  },
  {
   "cell_type": "markdown",
   "metadata": {},
   "source": [
    "$dShdt = \\mu_H N -a  b_2  (I_M / N)  S_H - \\mu_H S_H\\\\\n",
    "dIhdt = a  b_2  (I_M / N)  S_H - \\gamma  I_H - \\mu_H I_H\\\\\n",
    "dRhdt = \\gamma  I_H - \\mu_H R_H$"
   ]
  },
  {
   "cell_type": "markdown",
   "metadata": {},
   "source": [
    "$dSmdt = b - a  b_1  (I_H / N)  S_M - \\mu S_M \\\\\n",
    "dEmdt = a b_1  (I_H / N)  S_M - \\mu E_M - b_3 E_M - l E_M\\\\\n",
    "dImdt = b_3  E_M  - \\mu I_M$"
   ]
  },
  {
   "cell_type": "code",
   "execution_count": 2,
   "metadata": {},
   "outputs": [],
   "source": [
    "%display typeset"
   ]
  },
  {
   "cell_type": "markdown",
   "metadata": {},
   "source": [
    "### Analisando o SIR:"
   ]
  },
  {
   "cell_type": "code",
   "execution_count": 3,
   "metadata": {},
   "outputs": [
    {
     "data": {
      "text/html": [
       "<html><script type=\"math/tex; mode=display\">\\newcommand{\\Bold}[1]{\\mathbf{#1}}\\left(S_{H}, I_{H}, R_{H}, a, b_{2}, I_{M}, N, \\gamma, \\mu_{H}\\right)</script></html>"
      ],
      "text/latex": [
       "\\begin{math}\n",
       "\\newcommand{\\Bold}[1]{\\mathbf{#1}}\\left(S_{H}, I_{H}, R_{H}, a, b_{2}, I_{M}, N, \\gamma, \\mu_{H}\\right)\n",
       "\\end{math}"
      ],
      "text/plain": [
       "(S_H, I_H, R_H, a, b2, I_M, N, gamma, mu_H)"
      ]
     },
     "execution_count": 3,
     "metadata": {},
     "output_type": "execute_result"
    }
   ],
   "source": [
    "var('S_H I_H R_H a b2 I_M N gamma mu_H')"
   ]
  },
  {
   "cell_type": "code",
   "execution_count": 4,
   "metadata": {},
   "outputs": [],
   "source": [
    "dShdt = mu_H * N -a * b2 * (I_M / N) * S_H - mu_H * S_H\n",
    "dIhdt = a * b2 * (I_M / N) * S_H - gamma * I_H - mu_H * I_H\n",
    "dRhdt = gamma * I_H - mu_H * R_H"
   ]
  },
  {
   "cell_type": "markdown",
   "metadata": {},
   "source": [
    "#### Calculando o equilíbrio do SIR"
   ]
  },
  {
   "cell_type": "code",
   "execution_count": 5,
   "metadata": {},
   "outputs": [
    {
     "data": {
      "text/html": [
       "<html><script type=\"math/tex; mode=display\">\\newcommand{\\Bold}[1]{\\mathbf{#1}}\\left[\\left[S_{H} = \\frac{N^{2} \\mu_{H}}{I_{M} a b_{2} + N \\mu_{H}}, I_{H} = \\frac{I_{M} N a b_{2} \\mu_{H}}{I_{M} a b_{2} \\gamma + N \\mu_{H}^{2} + {\\left(I_{M} a b_{2} + N \\gamma\\right)} \\mu_{H}}, R_{H} = \\frac{I_{M} N a b_{2} \\gamma}{I_{M} a b_{2} \\gamma + N \\mu_{H}^{2} + {\\left(I_{M} a b_{2} + N \\gamma\\right)} \\mu_{H}}\\right]\\right]</script></html>"
      ],
      "text/latex": [
       "\\begin{math}\n",
       "\\newcommand{\\Bold}[1]{\\mathbf{#1}}\\left[\\left[S_{H} = \\frac{N^{2} \\mu_{H}}{I_{M} a b_{2} + N \\mu_{H}}, I_{H} = \\frac{I_{M} N a b_{2} \\mu_{H}}{I_{M} a b_{2} \\gamma + N \\mu_{H}^{2} + {\\left(I_{M} a b_{2} + N \\gamma\\right)} \\mu_{H}}, R_{H} = \\frac{I_{M} N a b_{2} \\gamma}{I_{M} a b_{2} \\gamma + N \\mu_{H}^{2} + {\\left(I_{M} a b_{2} + N \\gamma\\right)} \\mu_{H}}\\right]\\right]\n",
       "\\end{math}"
      ],
      "text/plain": [
       "[[S_H == N^2*mu_H/(I_M*a*b2 + N*mu_H), I_H == I_M*N*a*b2*mu_H/(I_M*a*b2*gamma + N*mu_H^2 + (I_M*a*b2 + N*gamma)*mu_H), R_H == I_M*N*a*b2*gamma/(I_M*a*b2*gamma + N*mu_H^2 + (I_M*a*b2 + N*gamma)*mu_H)]]"
      ]
     },
     "execution_count": 5,
     "metadata": {},
     "output_type": "execute_result"
    }
   ],
   "source": [
    "solve([dShdt, dIhdt, dRhdt],[S_H, I_H, R_H])"
   ]
  },
  {
   "cell_type": "markdown",
   "metadata": {},
   "source": [
    "#### Calculando a Jacobiana do SIR"
   ]
  },
  {
   "cell_type": "code",
   "execution_count": 6,
   "metadata": {},
   "outputs": [
    {
     "data": {
      "text/html": [
       "<html><script type=\"math/tex; mode=display\">\\newcommand{\\Bold}[1]{\\mathbf{#1}}\\left(\\begin{array}{rrr}\n",
       "-\\frac{I_{M} a b_{2}}{N} - \\mu_{H} & 0 & 0 \\\\\n",
       "\\frac{I_{M} a b_{2}}{N} & -\\gamma - \\mu_{H} & 0 \\\\\n",
       "0 & \\gamma & -\\mu_{H}\n",
       "\\end{array}\\right)</script></html>"
      ],
      "text/latex": [
       "\\begin{math}\n",
       "\\newcommand{\\Bold}[1]{\\mathbf{#1}}\\left(\\begin{array}{rrr}\n",
       "-\\frac{I_{M} a b_{2}}{N} - \\mu_{H} & 0 & 0 \\\\\n",
       "\\frac{I_{M} a b_{2}}{N} & -\\gamma - \\mu_{H} & 0 \\\\\n",
       "0 & \\gamma & -\\mu_{H}\n",
       "\\end{array}\\right)\n",
       "\\end{math}"
      ],
      "text/plain": [
       "[-I_M*a*b2/N - mu_H                  0                  0]\n",
       "[        I_M*a*b2/N      -gamma - mu_H                  0]\n",
       "[                 0              gamma              -mu_H]"
      ]
     },
     "execution_count": 6,
     "metadata": {},
     "output_type": "execute_result"
    }
   ],
   "source": [
    "jack_sir=jacobian([dShdt, dIhdt, dRhdt],[S_H, I_H, R_H])\n",
    "jack_sir"
   ]
  },
  {
   "cell_type": "code",
   "execution_count": 7,
   "metadata": {},
   "outputs": [
    {
     "data": {
      "text/html": [
       "<html><script type=\"math/tex; mode=display\">\\newcommand{\\Bold}[1]{\\mathbf{#1}}x^{3} + \\left(\\frac{I_{M} a b_{2}}{N} + \\gamma + 3 \\, \\mu_{H}\\right) x^{2} + \\left(\\frac{I_{M} a b_{2} \\gamma}{N} + \\frac{2 \\, I_{M} a b_{2} \\mu_{H}}{N} + 2 \\, \\gamma \\mu_{H} + 3 \\, \\mu_{H}^{2}\\right) x + \\frac{I_{M} a b_{2} \\gamma \\mu_{H}}{N} + \\frac{I_{M} a b_{2} \\mu_{H}^{2}}{N} + \\gamma \\mu_{H}^{2} + \\mu_{H}^{3}</script></html>"
      ],
      "text/latex": [
       "\\begin{math}\n",
       "\\newcommand{\\Bold}[1]{\\mathbf{#1}}x^{3} + \\left(\\frac{I_{M} a b_{2}}{N} + \\gamma + 3 \\, \\mu_{H}\\right) x^{2} + \\left(\\frac{I_{M} a b_{2} \\gamma}{N} + \\frac{2 \\, I_{M} a b_{2} \\mu_{H}}{N} + 2 \\, \\gamma \\mu_{H} + 3 \\, \\mu_{H}^{2}\\right) x + \\frac{I_{M} a b_{2} \\gamma \\mu_{H}}{N} + \\frac{I_{M} a b_{2} \\mu_{H}^{2}}{N} + \\gamma \\mu_{H}^{2} + \\mu_{H}^{3}\n",
       "\\end{math}"
      ],
      "text/plain": [
       "x^3 + (I_M*a*b2/N + gamma + 3*mu_H)*x^2 + (I_M*a*b2*gamma/N + 2*I_M*a*b2*mu_H/N + 2*gamma*mu_H + 3*mu_H^2)*x + I_M*a*b2*gamma*mu_H/N + I_M*a*b2*mu_H^2/N + gamma*mu_H^2 + mu_H^3"
      ]
     },
     "execution_count": 7,
     "metadata": {},
     "output_type": "execute_result"
    }
   ],
   "source": [
    "cp_sir = jack_sir.characteristic_polynomial()\n",
    "cp_sir"
   ]
  },
  {
   "cell_type": "code",
   "execution_count": 8,
   "metadata": {},
   "outputs": [
    {
     "data": {
      "text/html": [
       "<html><script type=\"math/tex; mode=display\">\\newcommand{\\Bold}[1]{\\mathbf{#1}}\\left[-\\frac{I_{M} a b_{2} + N \\mu_{H}}{N}, -\\gamma - \\mu_{H}, -\\mu_{H}\\right]</script></html>"
      ],
      "text/latex": [
       "\\begin{math}\n",
       "\\newcommand{\\Bold}[1]{\\mathbf{#1}}\\left[-\\frac{I_{M} a b_{2} + N \\mu_{H}}{N}, -\\gamma - \\mu_{H}, -\\mu_{H}\\right]\n",
       "\\end{math}"
      ],
      "text/plain": [
       "[-(I_M*a*b2 + N*mu_H)/N, -gamma - mu_H, -mu_H]"
      ]
     },
     "execution_count": 8,
     "metadata": {},
     "output_type": "execute_result"
    }
   ],
   "source": [
    "jack_sir.eigenvalues()"
   ]
  },
  {
   "cell_type": "markdown",
   "metadata": {},
   "source": [
    "### Analisando o SEI:"
   ]
  },
  {
   "cell_type": "code",
   "execution_count": 9,
   "metadata": {},
   "outputs": [
    {
     "data": {
      "text/html": [
       "<html><script type=\"math/tex; mode=display\">\\newcommand{\\Bold}[1]{\\mathbf{#1}}\\left(S_{M}, E_{M}, I_{M}, b, a, b_{1}, I_{H}, N, \\mu, b_{3}, l\\right)</script></html>"
      ],
      "text/latex": [
       "\\begin{math}\n",
       "\\newcommand{\\Bold}[1]{\\mathbf{#1}}\\left(S_{M}, E_{M}, I_{M}, b, a, b_{1}, I_{H}, N, \\mu, b_{3}, l\\right)\n",
       "\\end{math}"
      ],
      "text/plain": [
       "(S_M, E_M, I_M, b, a, b1, I_H, N, mu, b3, l)"
      ]
     },
     "execution_count": 9,
     "metadata": {},
     "output_type": "execute_result"
    }
   ],
   "source": [
    "var('S_M E_M I_M b a b1 I_H N mu b3 l')"
   ]
  },
  {
   "cell_type": "code",
   "execution_count": 10,
   "metadata": {},
   "outputs": [],
   "source": [
    "dSmdt = b - a * b1 * (I_H / N) * S_M - mu * S_M\n",
    "dEmdt = a * b1 * (I_H / N) * S_M - mu * E_M - b3 * E_M - l * E_M\n",
    "dImdt = b3 * E_M - mu * I_M"
   ]
  },
  {
   "cell_type": "markdown",
   "metadata": {},
   "source": [
    "#### Calculando o equilíbrio do SEI"
   ]
  },
  {
   "cell_type": "code",
   "execution_count": 11,
   "metadata": {},
   "outputs": [
    {
     "data": {
      "text/html": [
       "<html><script type=\"math/tex; mode=display\">\\newcommand{\\Bold}[1]{\\mathbf{#1}}\\left[\\left[S_{M} = \\frac{N b}{I_{H} a b_{1} + N \\mu}, E_{M} = \\frac{I_{H} a b b_{1}}{I_{H} a b_{1} {\\left(b_{3} + l\\right)} + N \\mu^{2} + {\\left(I_{H} a b_{1} + N {\\left(b_{3} + l\\right)}\\right)} \\mu}, I_{M} = \\frac{I_{H} a b b_{1} b_{3}}{I_{H} a b_{1} {\\left(b_{3} + l\\right)} \\mu + N \\mu^{3} + {\\left(I_{H} a b_{1} + N {\\left(b_{3} + l\\right)}\\right)} \\mu^{2}}\\right]\\right]</script></html>"
      ],
      "text/latex": [
       "\\begin{math}\n",
       "\\newcommand{\\Bold}[1]{\\mathbf{#1}}\\left[\\left[S_{M} = \\frac{N b}{I_{H} a b_{1} + N \\mu}, E_{M} = \\frac{I_{H} a b b_{1}}{I_{H} a b_{1} {\\left(b_{3} + l\\right)} + N \\mu^{2} + {\\left(I_{H} a b_{1} + N {\\left(b_{3} + l\\right)}\\right)} \\mu}, I_{M} = \\frac{I_{H} a b b_{1} b_{3}}{I_{H} a b_{1} {\\left(b_{3} + l\\right)} \\mu + N \\mu^{3} + {\\left(I_{H} a b_{1} + N {\\left(b_{3} + l\\right)}\\right)} \\mu^{2}}\\right]\\right]\n",
       "\\end{math}"
      ],
      "text/plain": [
       "[[S_M == N*b/(I_H*a*b1 + N*mu), E_M == I_H*a*b*b1/(I_H*a*b1*(b3 + l) + N*mu^2 + (I_H*a*b1 + N*(b3 + l))*mu), I_M == I_H*a*b*b1*b3/(I_H*a*b1*(b3 + l)*mu + N*mu^3 + (I_H*a*b1 + N*(b3 + l))*mu^2)]]"
      ]
     },
     "execution_count": 11,
     "metadata": {},
     "output_type": "execute_result"
    }
   ],
   "source": [
    "solve([dSmdt, dEmdt, dImdt],[S_M, E_M, I_M])"
   ]
  },
  {
   "cell_type": "markdown",
   "metadata": {},
   "source": [
    "#### Calculando a Jacobiana do SEI"
   ]
  },
  {
   "cell_type": "code",
   "execution_count": 12,
   "metadata": {},
   "outputs": [
    {
     "data": {
      "text/html": [
       "<html><script type=\"math/tex; mode=display\">\\newcommand{\\Bold}[1]{\\mathbf{#1}}\\left(\\begin{array}{rrr}\n",
       "-\\frac{I_{H} a b_{1}}{N} - \\mu & 0 & 0 \\\\\n",
       "\\frac{I_{H} a b_{1}}{N} & -b_{3} - l - \\mu & 0 \\\\\n",
       "0 & b_{3} & -\\mu\n",
       "\\end{array}\\right)</script></html>"
      ],
      "text/latex": [
       "\\begin{math}\n",
       "\\newcommand{\\Bold}[1]{\\mathbf{#1}}\\left(\\begin{array}{rrr}\n",
       "-\\frac{I_{H} a b_{1}}{N} - \\mu & 0 & 0 \\\\\n",
       "\\frac{I_{H} a b_{1}}{N} & -b_{3} - l - \\mu & 0 \\\\\n",
       "0 & b_{3} & -\\mu\n",
       "\\end{array}\\right)\n",
       "\\end{math}"
      ],
      "text/plain": [
       "[-I_H*a*b1/N - mu                0                0]\n",
       "[      I_H*a*b1/N     -b3 - l - mu                0]\n",
       "[               0               b3              -mu]"
      ]
     },
     "execution_count": 12,
     "metadata": {},
     "output_type": "execute_result"
    }
   ],
   "source": [
    "jack_sei=jacobian([dSmdt,dEmdt,dImdt],[S_M,E_M,I_M])\n",
    "jack_sei"
   ]
  },
  {
   "cell_type": "code",
   "execution_count": 13,
   "metadata": {},
   "outputs": [
    {
     "data": {
      "text/html": [
       "<html><script type=\"math/tex; mode=display\">\\newcommand{\\Bold}[1]{\\mathbf{#1}}x^{3} + \\left(\\frac{I_{H} a b_{1}}{N} + b_{3} + l + 3 \\, \\mu\\right) x^{2} + \\left(\\frac{I_{H} a b_{1} b_{3}}{N} + \\frac{I_{H} a b_{1} l}{N} + \\frac{2 \\, I_{H} a b_{1} \\mu}{N} + 2 \\, b_{3} \\mu + 2 \\, l \\mu + 3 \\, \\mu^{2}\\right) x + \\frac{I_{H} a b_{1} b_{3} \\mu}{N} + \\frac{I_{H} a b_{1} l \\mu}{N} + \\frac{I_{H} a b_{1} \\mu^{2}}{N} + b_{3} \\mu^{2} + l \\mu^{2} + \\mu^{3}</script></html>"
      ],
      "text/latex": [
       "\\begin{math}\n",
       "\\newcommand{\\Bold}[1]{\\mathbf{#1}}x^{3} + \\left(\\frac{I_{H} a b_{1}}{N} + b_{3} + l + 3 \\, \\mu\\right) x^{2} + \\left(\\frac{I_{H} a b_{1} b_{3}}{N} + \\frac{I_{H} a b_{1} l}{N} + \\frac{2 \\, I_{H} a b_{1} \\mu}{N} + 2 \\, b_{3} \\mu + 2 \\, l \\mu + 3 \\, \\mu^{2}\\right) x + \\frac{I_{H} a b_{1} b_{3} \\mu}{N} + \\frac{I_{H} a b_{1} l \\mu}{N} + \\frac{I_{H} a b_{1} \\mu^{2}}{N} + b_{3} \\mu^{2} + l \\mu^{2} + \\mu^{3}\n",
       "\\end{math}"
      ],
      "text/plain": [
       "x^3 + (I_H*a*b1/N + b3 + l + 3*mu)*x^2 + (I_H*a*b1*b3/N + I_H*a*b1*l/N + 2*I_H*a*b1*mu/N + 2*b3*mu + 2*l*mu + 3*mu^2)*x + I_H*a*b1*b3*mu/N + I_H*a*b1*l*mu/N + I_H*a*b1*mu^2/N + b3*mu^2 + l*mu^2 + mu^3"
      ]
     },
     "execution_count": 13,
     "metadata": {},
     "output_type": "execute_result"
    }
   ],
   "source": [
    "cp_sei = jack_sei.characteristic_polynomial()\n",
    "cp_sei"
   ]
  },
  {
   "cell_type": "code",
   "execution_count": 14,
   "metadata": {},
   "outputs": [
    {
     "data": {
      "text/html": [
       "<html><script type=\"math/tex; mode=display\">\\newcommand{\\Bold}[1]{\\mathbf{#1}}\\left[-\\frac{I_{H} a b_{1} + N \\mu}{N}, -b_{3} - l - \\mu, -\\mu\\right]</script></html>"
      ],
      "text/latex": [
       "\\begin{math}\n",
       "\\newcommand{\\Bold}[1]{\\mathbf{#1}}\\left[-\\frac{I_{H} a b_{1} + N \\mu}{N}, -b_{3} - l - \\mu, -\\mu\\right]\n",
       "\\end{math}"
      ],
      "text/plain": [
       "[-(I_H*a*b1 + N*mu)/N, -b3 - l - mu, -mu]"
      ]
     },
     "execution_count": 14,
     "metadata": {},
     "output_type": "execute_result"
    }
   ],
   "source": [
    "jack_sei.eigenvalues()"
   ]
  },
  {
   "cell_type": "code",
   "execution_count": null,
   "metadata": {},
   "outputs": [],
   "source": []
  }
 ],
 "metadata": {
  "kernelspec": {
   "display_name": "SageMath 9.2",
   "language": "sage",
   "name": "sagemath"
  },
  "language_info": {
   "codemirror_mode": {
    "name": "ipython",
    "version": 3
   },
   "file_extension": ".py",
   "mimetype": "text/x-python",
   "name": "python",
   "nbconvert_exporter": "python",
   "pygments_lexer": "ipython3",
   "version": "3.7.7"
  }
 },
 "nbformat": 4,
 "nbformat_minor": 4
}
