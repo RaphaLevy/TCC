{
 "cells": [
  {
   "cell_type": "code",
   "execution_count": 1,
   "metadata": {},
   "outputs": [],
   "source": [
    "import numpy as np\n",
    "from scipy.integrate import solve_ivp\n",
    "import matplotlib.pyplot as plt\n",
    "from numpy import cos\n",
    "from math import log\n",
    "from scipy.interpolate import interp1d\n",
    "from ipywidgets import interact, interactive, fixed, interact_manual\n",
    "import ipywidgets as widgets\n",
    "from mpl_toolkits.mplot3d import Axes3D\n",
    "from scipy.optimize import minimize_scalar\n",
    "from scipy.optimize import minimize"
   ]
  },
  {
   "cell_type": "markdown",
   "metadata": {},
   "source": [
    "#### As equações do modelo:"
   ]
  },
  {
   "cell_type": "markdown",
   "metadata": {},
   "source": [
    "$dShdt = -a_{curr} . b2 . (I_M / N) . S_H \\\\\n",
    "dIhdt = a_{curr} . b2 . (I_M / N) . S_H - \\gamma . I_H \\\\\n",
    "dRhdt = \\gamma . I_H$"
   ]
  },
  {
   "cell_type": "markdown",
   "metadata": {},
   "source": [
    "$dSmdt = b_{curr} - a_{curr} . b1 . (I_H / N) . S_M - \\mu_{curr} . S_M \\\\\n",
    "dEmdt = a_{curr} . b1 . (I_H / N) . S_M - \\mu_{curr} . E_M - b3_{curr} . E_M . l_{curr} \\\\\n",
    "dImdt = b3_{curr} . E_M . l_{curr} - \\mu_{curr} . I_M$"
   ]
  },
  {
   "cell_type": "code",
   "execution_count": 2,
   "metadata": {},
   "outputs": [],
   "source": [
    "%display typeset"
   ]
  },
  {
   "cell_type": "markdown",
   "metadata": {},
   "source": [
    "### Analisando o SIR:"
   ]
  },
  {
   "cell_type": "code",
   "execution_count": 3,
   "metadata": {},
   "outputs": [
    {
     "data": {
      "text/html": [
       "<html><script type=\"math/tex; mode=display\">\\newcommand{\\Bold}[1]{\\mathbf{#1}}\\left(S_{H}, I_{H}, a, b_{2}, I_{M}, N, \\gamma\\right)</script></html>"
      ],
      "text/latex": [
       "\\begin{math}\n",
       "\\newcommand{\\Bold}[1]{\\mathbf{#1}}\\left(S_{H}, I_{H}, a, b_{2}, I_{M}, N, \\gamma\\right)\n",
       "\\end{math}"
      ],
      "text/plain": [
       "(S_H, I_H, a, b2, I_M, N, gamma)"
      ]
     },
     "execution_count": 3,
     "metadata": {},
     "output_type": "execute_result"
    }
   ],
   "source": [
    "var('S_H I_H a b2 I_M N gamma')"
   ]
  },
  {
   "cell_type": "code",
   "execution_count": 4,
   "metadata": {},
   "outputs": [],
   "source": [
    "dShdt = -a * b2 * (I_M / N) * S_H\n",
    "dIhdt = a * b2 * (I_M / N) * S_H - gamma * I_H\n",
    "dRhdt = gamma * I_H"
   ]
  },
  {
   "cell_type": "markdown",
   "metadata": {},
   "source": [
    "Dado que o compartimento dos Recuperados é desacoplado da dinâmica, podemos ignorá-lo na análise."
   ]
  },
  {
   "cell_type": "markdown",
   "metadata": {},
   "source": [
    "#### Calculando o equilíbrio do SIR"
   ]
  },
  {
   "cell_type": "code",
   "execution_count": 5,
   "metadata": {},
   "outputs": [
    {
     "data": {
      "text/html": [
       "<html><script type=\"math/tex; mode=display\">\\newcommand{\\Bold}[1]{\\mathbf{#1}}\\left[\\left[S_{H} = 0, I_{H} = 0\\right]\\right]</script></html>"
      ],
      "text/latex": [
       "\\begin{math}\n",
       "\\newcommand{\\Bold}[1]{\\mathbf{#1}}\\left[\\left[S_{H} = 0, I_{H} = 0\\right]\\right]\n",
       "\\end{math}"
      ],
      "text/plain": [
       "[[S_H == 0, I_H == 0]]"
      ]
     },
     "execution_count": 5,
     "metadata": {},
     "output_type": "execute_result"
    }
   ],
   "source": [
    "solve([dShdt,dIhdt],[S_H,I_H])"
   ]
  },
  {
   "cell_type": "markdown",
   "metadata": {},
   "source": [
    "#### Calculando a Jacobiana do SIR"
   ]
  },
  {
   "cell_type": "code",
   "execution_count": 6,
   "metadata": {},
   "outputs": [
    {
     "data": {
      "text/html": [
       "<html><script type=\"math/tex; mode=display\">\\newcommand{\\Bold}[1]{\\mathbf{#1}}\\left(\\begin{array}{rr}\n",
       "-\\frac{I_{M} a b_{2}}{N} & 0 \\\\\n",
       "\\frac{I_{M} a b_{2}}{N} & -\\gamma\n",
       "\\end{array}\\right)</script></html>"
      ],
      "text/latex": [
       "\\begin{math}\n",
       "\\newcommand{\\Bold}[1]{\\mathbf{#1}}\\left(\\begin{array}{rr}\n",
       "-\\frac{I_{M} a b_{2}}{N} & 0 \\\\\n",
       "\\frac{I_{M} a b_{2}}{N} & -\\gamma\n",
       "\\end{array}\\right)\n",
       "\\end{math}"
      ],
      "text/plain": [
       "[-I_M*a*b2/N           0]\n",
       "[ I_M*a*b2/N      -gamma]"
      ]
     },
     "execution_count": 6,
     "metadata": {},
     "output_type": "execute_result"
    }
   ],
   "source": [
    "jack_sir=jacobian([dShdt,dIhdt],[S_H,I_H])\n",
    "jack_sir"
   ]
  },
  {
   "cell_type": "code",
   "execution_count": 7,
   "metadata": {},
   "outputs": [
    {
     "data": {
      "text/html": [
       "<html><script type=\"math/tex; mode=display\">\\newcommand{\\Bold}[1]{\\mathbf{#1}}x^{2} + \\left(\\frac{I_{M} a b_{2}}{N} + \\gamma\\right) x + \\frac{I_{M} a b_{2} \\gamma}{N}</script></html>"
      ],
      "text/latex": [
       "\\begin{math}\n",
       "\\newcommand{\\Bold}[1]{\\mathbf{#1}}x^{2} + \\left(\\frac{I_{M} a b_{2}}{N} + \\gamma\\right) x + \\frac{I_{M} a b_{2} \\gamma}{N}\n",
       "\\end{math}"
      ],
      "text/plain": [
       "x^2 + (I_M*a*b2/N + gamma)*x + I_M*a*b2*gamma/N"
      ]
     },
     "execution_count": 7,
     "metadata": {},
     "output_type": "execute_result"
    }
   ],
   "source": [
    "cp_sir = jack_sir.characteristic_polynomial()\n",
    "cp_sir"
   ]
  },
  {
   "cell_type": "code",
   "execution_count": 8,
   "metadata": {},
   "outputs": [
    {
     "data": {
      "text/html": [
       "<html><script type=\"math/tex; mode=display\">\\newcommand{\\Bold}[1]{\\mathbf{#1}}\\left[-\\frac{I_{M} a b_{2}}{N}, -\\gamma\\right]</script></html>"
      ],
      "text/latex": [
       "\\begin{math}\n",
       "\\newcommand{\\Bold}[1]{\\mathbf{#1}}\\left[-\\frac{I_{M} a b_{2}}{N}, -\\gamma\\right]\n",
       "\\end{math}"
      ],
      "text/plain": [
       "[-I_M*a*b2/N, -gamma]"
      ]
     },
     "execution_count": 8,
     "metadata": {},
     "output_type": "execute_result"
    }
   ],
   "source": [
    "jack_sir.eigenvalues()"
   ]
  },
  {
   "cell_type": "markdown",
   "metadata": {},
   "source": [
    "### Analisando o SEI:"
   ]
  },
  {
   "cell_type": "code",
   "execution_count": 9,
   "metadata": {},
   "outputs": [
    {
     "data": {
      "text/html": [
       "<html><script type=\"math/tex; mode=display\">\\newcommand{\\Bold}[1]{\\mathbf{#1}}\\left(S_{M}, E_{M}, I_{M}, b, a, b_{1}, I_{H}, N, \\mu, b_{3}, l\\right)</script></html>"
      ],
      "text/latex": [
       "\\begin{math}\n",
       "\\newcommand{\\Bold}[1]{\\mathbf{#1}}\\left(S_{M}, E_{M}, I_{M}, b, a, b_{1}, I_{H}, N, \\mu, b_{3}, l\\right)\n",
       "\\end{math}"
      ],
      "text/plain": [
       "(S_M, E_M, I_M, b, a, b1, I_H, N, mu, b3, l)"
      ]
     },
     "execution_count": 9,
     "metadata": {},
     "output_type": "execute_result"
    }
   ],
   "source": [
    "var('S_M E_M I_M b a b1 I_H N mu b3 l')"
   ]
  },
  {
   "cell_type": "code",
   "execution_count": 10,
   "metadata": {},
   "outputs": [],
   "source": [
    "dSmdt = b - a * b1 * (I_H / N) * S_M - mu * S_M\n",
    "dEmdt = a * b1 * (I_H / N) * S_M - mu * E_M - b3 * E_M * l\n",
    "dImdt = b3 * E_M * l - mu * I_M"
   ]
  },
  {
   "cell_type": "markdown",
   "metadata": {},
   "source": [
    "#### Calculando o equilíbrio do SEI"
   ]
  },
  {
   "cell_type": "code",
   "execution_count": 11,
   "metadata": {},
   "outputs": [
    {
     "data": {
      "text/html": [
       "<html><script type=\"math/tex; mode=display\">\\newcommand{\\Bold}[1]{\\mathbf{#1}}\\left[\\left[S_{M} = \\frac{N b}{I_{H} a b_{1} + N \\mu}, E_{M} = \\frac{I_{H} a b b_{1}}{I_{H} a b_{1} b_{3} l + N \\mu^{2} + {\\left(I_{H} a b_{1} + N b_{3} l\\right)} \\mu}, I_{M} = \\frac{I_{H} N \\gamma}{S_{H} a b_{2}}\\right]\\right]</script></html>"
      ],
      "text/latex": [
       "\\begin{math}\n",
       "\\newcommand{\\Bold}[1]{\\mathbf{#1}}\\left[\\left[S_{M} = \\frac{N b}{I_{H} a b_{1} + N \\mu}, E_{M} = \\frac{I_{H} a b b_{1}}{I_{H} a b_{1} b_{3} l + N \\mu^{2} + {\\left(I_{H} a b_{1} + N b_{3} l\\right)} \\mu}, I_{M} = \\frac{I_{H} N \\gamma}{S_{H} a b_{2}}\\right]\\right]\n",
       "\\end{math}"
      ],
      "text/plain": [
       "[[S_M == N*b/(I_H*a*b1 + N*mu), E_M == I_H*a*b*b1/(I_H*a*b1*b3*l + N*mu^2 + (I_H*a*b1 + N*b3*l)*mu), I_M == I_H*N*gamma/(S_H*a*b2)]]"
      ]
     },
     "execution_count": 11,
     "metadata": {},
     "output_type": "execute_result"
    }
   ],
   "source": [
    "solve([dSmdt,dEmdt,dIhdt],[S_M,E_M,I_M])"
   ]
  },
  {
   "cell_type": "markdown",
   "metadata": {},
   "source": [
    "#### Calculando a Jacobiana do SEI"
   ]
  },
  {
   "cell_type": "code",
   "execution_count": 12,
   "metadata": {},
   "outputs": [
    {
     "data": {
      "text/html": [
       "<html><script type=\"math/tex; mode=display\">\\newcommand{\\Bold}[1]{\\mathbf{#1}}\\left(\\begin{array}{rrr}\n",
       "-\\frac{I_{H} a b_{1}}{N} - \\mu & 0 & 0 \\\\\n",
       "\\frac{I_{H} a b_{1}}{N} & -b_{3} l - \\mu & 0 \\\\\n",
       "0 & 0 & \\frac{S_{H} a b_{2}}{N}\n",
       "\\end{array}\\right)</script></html>"
      ],
      "text/latex": [
       "\\begin{math}\n",
       "\\newcommand{\\Bold}[1]{\\mathbf{#1}}\\left(\\begin{array}{rrr}\n",
       "-\\frac{I_{H} a b_{1}}{N} - \\mu & 0 & 0 \\\\\n",
       "\\frac{I_{H} a b_{1}}{N} & -b_{3} l - \\mu & 0 \\\\\n",
       "0 & 0 & \\frac{S_{H} a b_{2}}{N}\n",
       "\\end{array}\\right)\n",
       "\\end{math}"
      ],
      "text/plain": [
       "[-I_H*a*b1/N - mu                0                0]\n",
       "[      I_H*a*b1/N       -b3*l - mu                0]\n",
       "[               0                0       S_H*a*b2/N]"
      ]
     },
     "execution_count": 12,
     "metadata": {},
     "output_type": "execute_result"
    }
   ],
   "source": [
    "jack_sei=jacobian([dSmdt,dEmdt,dIhdt],[S_M,E_M,I_M])\n",
    "jack_sei"
   ]
  },
  {
   "cell_type": "code",
   "execution_count": 13,
   "metadata": {},
   "outputs": [
    {
     "data": {
      "text/html": [
       "<html><script type=\"math/tex; mode=display\">\\newcommand{\\Bold}[1]{\\mathbf{#1}}x^{3} + \\left(\\frac{I_{H} a b_{1}}{N} - \\frac{S_{H} a b_{2}}{N} + b_{3} l + 2 \\, \\mu\\right) x^{2} + \\left(-\\frac{I_{H} S_{H} a^{2} b_{1} b_{2}}{N^{2}} + \\frac{I_{H} a b_{1} b_{3} l}{N} - \\frac{S_{H} a b_{2} b_{3} l}{N} + \\frac{I_{H} a b_{1} \\mu}{N} - \\frac{2 \\, S_{H} a b_{2} \\mu}{N} + b_{3} l \\mu + \\mu^{2}\\right) x - \\frac{I_{H} S_{H} a^{2} b_{1} b_{2} b_{3} l}{N^{2}} - \\frac{I_{H} S_{H} a^{2} b_{1} b_{2} \\mu}{N^{2}} - \\frac{S_{H} a b_{2} b_{3} l \\mu}{N} - \\frac{S_{H} a b_{2} \\mu^{2}}{N}</script></html>"
      ],
      "text/latex": [
       "\\begin{math}\n",
       "\\newcommand{\\Bold}[1]{\\mathbf{#1}}x^{3} + \\left(\\frac{I_{H} a b_{1}}{N} - \\frac{S_{H} a b_{2}}{N} + b_{3} l + 2 \\, \\mu\\right) x^{2} + \\left(-\\frac{I_{H} S_{H} a^{2} b_{1} b_{2}}{N^{2}} + \\frac{I_{H} a b_{1} b_{3} l}{N} - \\frac{S_{H} a b_{2} b_{3} l}{N} + \\frac{I_{H} a b_{1} \\mu}{N} - \\frac{2 \\, S_{H} a b_{2} \\mu}{N} + b_{3} l \\mu + \\mu^{2}\\right) x - \\frac{I_{H} S_{H} a^{2} b_{1} b_{2} b_{3} l}{N^{2}} - \\frac{I_{H} S_{H} a^{2} b_{1} b_{2} \\mu}{N^{2}} - \\frac{S_{H} a b_{2} b_{3} l \\mu}{N} - \\frac{S_{H} a b_{2} \\mu^{2}}{N}\n",
       "\\end{math}"
      ],
      "text/plain": [
       "x^3 + (I_H*a*b1/N - S_H*a*b2/N + b3*l + 2*mu)*x^2 + (-I_H*S_H*a^2*b1*b2/N^2 + I_H*a*b1*b3*l/N - S_H*a*b2*b3*l/N + I_H*a*b1*mu/N - 2*S_H*a*b2*mu/N + b3*l*mu + mu^2)*x - I_H*S_H*a^2*b1*b2*b3*l/N^2 - I_H*S_H*a^2*b1*b2*mu/N^2 - S_H*a*b2*b3*l*mu/N - S_H*a*b2*mu^2/N"
      ]
     },
     "execution_count": 13,
     "metadata": {},
     "output_type": "execute_result"
    }
   ],
   "source": [
    "cp_sei = jack_sei.characteristic_polynomial()\n",
    "cp_sei"
   ]
  },
  {
   "cell_type": "code",
   "execution_count": 14,
   "metadata": {},
   "outputs": [
    {
     "data": {
      "text/html": [
       "<html><script type=\"math/tex; mode=display\">\\newcommand{\\Bold}[1]{\\mathbf{#1}}\\left[-\\frac{I_{H} a b_{1} + N \\mu}{N}, \\frac{S_{H} a b_{2}}{N}, -b_{3} l - \\mu\\right]</script></html>"
      ],
      "text/latex": [
       "\\begin{math}\n",
       "\\newcommand{\\Bold}[1]{\\mathbf{#1}}\\left[-\\frac{I_{H} a b_{1} + N \\mu}{N}, \\frac{S_{H} a b_{2}}{N}, -b_{3} l - \\mu\\right]\n",
       "\\end{math}"
      ],
      "text/plain": [
       "[-(I_H*a*b1 + N*mu)/N, S_H*a*b2/N, -b3*l - mu]"
      ]
     },
     "execution_count": 14,
     "metadata": {},
     "output_type": "execute_result"
    }
   ],
   "source": [
    "jack_sei.eigenvalues()"
   ]
  }
 ],
 "metadata": {
  "kernelspec": {
   "display_name": "SageMath 9.2",
   "language": "sage",
   "name": "sagemath"
  },
  "language_info": {
   "codemirror_mode": {
    "name": "ipython",
    "version": 3
   },
   "file_extension": ".py",
   "mimetype": "text/x-python",
   "name": "python",
   "nbconvert_exporter": "python",
   "pygments_lexer": "ipython3",
   "version": "3.7.7"
  }
 },
 "nbformat": 4,
 "nbformat_minor": 4
}
