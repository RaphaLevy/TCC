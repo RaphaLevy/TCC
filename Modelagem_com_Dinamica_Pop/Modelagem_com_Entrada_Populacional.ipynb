{
 "cells": [
  {
   "cell_type": "markdown",
   "metadata": {},
   "source": [
    "Nessa versão do modelo, serão adicionadas taxas de natalidade e mortalidade de humanos, para representar a entrada de novos indivíduos em $S$ ao longo dos anos. "
   ]
  },
  {
   "cell_type": "code",
   "execution_count": 1,
   "metadata": {},
   "outputs": [],
   "source": [
    "import numpy as np\n",
    "from scipy.integrate import solve_ivp\n",
    "import matplotlib.pyplot as plt\n",
    "from numpy import cos\n",
    "from math import log\n",
    "from scipy.interpolate import interp1d\n",
    "from ipywidgets import interact, interactive, fixed, interact_manual\n",
    "import ipywidgets as widgets\n",
    "from mpl_toolkits.mplot3d import Axes3D\n",
    "from scipy.optimize import minimize_scalar\n",
    "from scipy.optimize import minimize\n",
    "from mpl_toolkits.mplot3d.art3d import Poly3DCollection\n",
    "from sage.plot.plot3d.parametric_surface import ParametricSurface\n",
    "import plotly.graph_objects as go\n",
    "import plotly.express as px"
   ]
  },
  {
   "cell_type": "code",
   "execution_count": 2,
   "metadata": {},
   "outputs": [],
   "source": [
    "anos = [1970, 1980, 1996, 2000, 2007, 2010] \n",
    "pop = [311622, 633383, 1154330, 1405835, 1646602, 1802014] "
   ]
  },
  {
   "cell_type": "code",
   "execution_count": 3,
   "metadata": {},
   "outputs": [
    {
     "name": "stdout",
     "output_type": "stream",
     "text": [
      "A população no ano 2004 foi estimada (2000-2007) como 1543416.0\n",
      "A população rural no ano 2004 foi estimada (2000-2007) como 7717.0\n"
     ]
    }
   ],
   "source": [
    "interpolate_2004 = 2004\n",
    "  \n",
    "y_interp = interp1d(anos, pop)\n",
    "print(\"A população no ano {} foi estimada (2000-2007) como\".format(interpolate_2004),\n",
    "      (y_interp(interpolate_2004)).round())\n",
    "\n",
    "print(\"A população rural no ano {} foi estimada (2000-2007) como\".format(interpolate_2004),\n",
    "      ((y_interp(interpolate_2004))*(0.005)).round())"
   ]
  },
  {
   "cell_type": "code",
   "execution_count": 4,
   "metadata": {},
   "outputs": [
    {
     "name": "stdout",
     "output_type": "stream",
     "text": [
      "A população no ano 2005 foi estimada (2000-2007) como 1577811.0\n",
      "A população rural no ano 2005 foi estimada (2000-2007) como 7889.0\n"
     ]
    }
   ],
   "source": [
    "interpolate_2005 = 2005\n",
    "  \n",
    "y_interp = interp1d(anos, pop)\n",
    "print(\"A população no ano {} foi estimada (2000-2007) como\".format(interpolate_2005),\n",
    "      (y_interp(interpolate_2005)).round())\n",
    "\n",
    "print(\"A população rural no ano {} foi estimada (2000-2007) como\".format(interpolate_2005),\n",
    "      ((y_interp(interpolate_2005))*(0.005)).round())"
   ]
  },
  {
   "cell_type": "code",
   "execution_count": 5,
   "metadata": {},
   "outputs": [
    {
     "name": "stdout",
     "output_type": "stream",
     "text": [
      "A população no ano 2006 foi estimada (2000-2007) como 1612207.0\n",
      "A população rural no ano 2006 foi estimada (2000-2007) como 8061.0\n"
     ]
    }
   ],
   "source": [
    "interpolate_2006 = 2006\n",
    "  \n",
    "y_interp = interp1d(anos, pop)\n",
    "print(\"A população no ano {} foi estimada (2000-2007) como\".format(interpolate_2006),\n",
    "      (y_interp(interpolate_2006)).round())\n",
    "\n",
    "print(\"A população rural no ano {} foi estimada (2000-2007) como\".format(interpolate_2006),\n",
    "      ((y_interp(interpolate_2006))*(0.005)).round())"
   ]
  },
  {
   "cell_type": "code",
   "execution_count": 6,
   "metadata": {},
   "outputs": [
    {
     "name": "stdout",
     "output_type": "stream",
     "text": [
      "A população no ano 2007 foi estimada (2000-2007) como 1646602.0\n",
      "A população rural no ano 2007 foi estimada (2000-2007) como 8233.0\n"
     ]
    }
   ],
   "source": [
    "interpolate_2007 = 2007\n",
    "  \n",
    "y_interp = interp1d(anos, pop)\n",
    "print(\"A população no ano {} foi estimada (2000-2007) como\".format(interpolate_2007),\n",
    "      (y_interp(interpolate_2007)).round())\n",
    "\n",
    "print(\"A população rural no ano {} foi estimada (2000-2007) como\".format(interpolate_2007),\n",
    "      ((y_interp(interpolate_2007))*(0.005)).round())"
   ]
  },
  {
   "cell_type": "code",
   "execution_count": 7,
   "metadata": {},
   "outputs": [
    {
     "name": "stdout",
     "output_type": "stream",
     "text": [
      "A população no ano 2008 foi estimada (2007-2010) como 1698406.0\n",
      "A população rural no ano 2008 foi estimada (2007-2010) como 8492.0\n"
     ]
    }
   ],
   "source": [
    "interpolate_2008 = 2008\n",
    "  \n",
    "y_interp = interp1d(anos, pop)\n",
    "print(\"A população no ano {} foi estimada (2007-2010) como\".format(interpolate_2008),\n",
    "      (y_interp(interpolate_2008)).round())\n",
    "\n",
    "print(\"A população rural no ano {} foi estimada (2007-2010) como\".format(interpolate_2008),\n",
    "      ((y_interp(interpolate_2008))*(0.005)).round())"
   ]
  },
  {
   "cell_type": "code",
   "execution_count": 8,
   "metadata": {},
   "outputs": [
    {
     "name": "stdout",
     "output_type": "stream",
     "text": [
      "A população no ano 2009 foi estimada (2007-2010) como 1750210.0\n",
      "A população rural no ano 2009 foi estimada (2007-2010) como 8751.0\n"
     ]
    }
   ],
   "source": [
    "interpolate_2009 = 2009\n",
    "  \n",
    "y_interp = interp1d(anos, pop)\n",
    "print(\"A população no ano {} foi estimada (2007-2010) como\".format(interpolate_2009),\n",
    "      (y_interp(interpolate_2009)).round())\n",
    "\n",
    "print(\"A população rural no ano {} foi estimada (2007-2010) como\".format(interpolate_2009),\n",
    "      ((y_interp(interpolate_2009))*(0.005)).round())"
   ]
  },
  {
   "cell_type": "code",
   "execution_count": 9,
   "metadata": {},
   "outputs": [
    {
     "name": "stdout",
     "output_type": "stream",
     "text": [
      "A população no ano 2010 foi estimada (2007-2010) como 1802014.0\n",
      "A população rural no ano 2010 foi estimada (2007-2010) como 9010.0\n"
     ]
    }
   ],
   "source": [
    "interpolate_2010 = 2010\n",
    "  \n",
    "y_interp = interp1d(anos, pop)\n",
    "print(\"A população no ano {} foi estimada (2007-2010) como\".format(interpolate_2010),\n",
    "      (y_interp(interpolate_2010)).round())\n",
    "\n",
    "print(\"A população rural no ano {} foi estimada (2007-2010) como\".format(interpolate_2010),\n",
    "      ((y_interp(interpolate_2010))*(0.005)).round())"
   ]
  },
  {
   "cell_type": "code",
   "execution_count": 10,
   "metadata": {},
   "outputs": [
    {
     "name": "stdout",
     "output_type": "stream",
     "text": [
      "Diferença da população entre 2004 e 2005:\n",
      "172.0\n",
      " \n",
      "Diferença da população entre 2008 e 2007:\n",
      "259.0\n",
      " \n",
      "Diferença da população entre 2009 e 2010:\n",
      "259.0\n"
     ]
    }
   ],
   "source": [
    "print('Diferença da população entre 2004 e 2005:')\n",
    "print(((y_interp(interpolate_2005))*(0.005)).round() - ((y_interp(interpolate_2004))*(0.005)).round())\n",
    "print(' ')\n",
    "print('Diferença da população entre 2008 e 2007:')\n",
    "print(((y_interp(interpolate_2008))*(0.005)).round() - ((y_interp(interpolate_2007))*(0.005)).round())\n",
    "print(' ')\n",
    "print('Diferença da população entre 2009 e 2010:')\n",
    "print(((y_interp(interpolate_2010))*(0.005)).round() - ((y_interp(interpolate_2009))*(0.005)).round())"
   ]
  },
  {
   "cell_type": "code",
   "execution_count": 11,
   "metadata": {},
   "outputs": [
    {
     "data": {
      "text/plain": [
       "206.800000000000"
      ]
     },
     "execution_count": 11,
     "metadata": {},
     "output_type": "execute_result"
    }
   ],
   "source": [
    "n(((172*3)+(259*2))/5)"
   ]
  },
  {
   "cell_type": "markdown",
   "metadata": {},
   "source": [
    "Aumento populacional anual médio de 206.8 "
   ]
  },
  {
   "cell_type": "markdown",
   "metadata": {},
   "source": [
    "Dessa maneira, a interpolação é feita utilizando pontos iniciais e finais diferentes para 2008 e 2009 em comparação com os demais, visto que, como temos dados para 2007, a interpolação é feita com esse valor para pontos até esse ano, e a partir dele usa 2010 como ponto final da interpolação. Abaixo será usado 2010 como ponto final da interpolação em todos os casos."
   ]
  },
  {
   "cell_type": "code",
   "execution_count": 12,
   "metadata": {},
   "outputs": [],
   "source": [
    "def interpolation(d, x):\n",
    "    output = d[0][1] + (x - d[0][0]) * ((d[1][1] - d[0][1])/(d[1][0] - d[0][0]))\n",
    "    return output\n",
    "  \n",
    "\n",
    "data_0_7=[[2000, 1405835],[2007, 1646602]]   # [[ano x, pop x],[ano y, pop y]]\n",
    "data_0_10=[[2000, 1405835],[2010, 1802014]]  \n",
    "data_7_10=[[2007, 1646602],[2010, 1802014]]     "
   ]
  },
  {
   "cell_type": "code",
   "execution_count": 13,
   "metadata": {},
   "outputs": [
    {
     "name": "stdout",
     "output_type": "stream",
     "text": [
      "A população no ano 2004 foi estimada (2000-2010) como 1564307\n",
      "A população rural de Manaus no ano 2004 foi estimada (2000-2010) como 7822\n"
     ]
    }
   ],
   "source": [
    "ano_2004 = 2004\n",
    "  \n",
    "print(\"A população no ano {} foi estimada (2000-2010) como\".format(ano_2004),\n",
    "             interpolation(data_0_10, ano_2004).round())\n",
    "\n",
    "print(\"A população rural de Manaus no ano {} foi estimada (2000-2010) como\".format(ano_2004),\n",
    "             (interpolation(data_0_10, ano_2004)*(0.005)).round())"
   ]
  },
  {
   "cell_type": "code",
   "execution_count": 14,
   "metadata": {},
   "outputs": [
    {
     "name": "stdout",
     "output_type": "stream",
     "text": [
      "A população no ano 2005 foi estimada (2000-2010) como 1603925\n",
      "A população rural de Manaus no ano 2005 foi estimada (2000-2010) como 8020\n"
     ]
    }
   ],
   "source": [
    "ano_2005 = 2005\n",
    "  \n",
    "print(\"A população no ano {} foi estimada (2000-2010) como\".format(ano_2005),\n",
    "             interpolation(data_0_10, ano_2005).round())\n",
    "\n",
    "print(\"A população rural de Manaus no ano {} foi estimada (2000-2010) como\".format(ano_2005),\n",
    "             (interpolation(data_0_10, ano_2005)*(0.005)).round())"
   ]
  },
  {
   "cell_type": "code",
   "execution_count": 15,
   "metadata": {},
   "outputs": [
    {
     "name": "stdout",
     "output_type": "stream",
     "text": [
      "A população no ano 2006 foi estimada (2000-2010) como 1643542\n",
      "A população rural de Manaus no ano 2006 foi estimada (2000-2010) como 8218\n"
     ]
    }
   ],
   "source": [
    "ano_2006 = 2006\n",
    "  \n",
    "print(\"A população no ano {} foi estimada (2000-2010) como\".format(ano_2006),\n",
    "             interpolation(data_0_10, ano_2006).round())\n",
    "\n",
    "print(\"A população rural de Manaus no ano {} foi estimada (2000-2010) como\".format(ano_2006),\n",
    "             (interpolation(data_0_10, ano_2006)*(0.005)).round())"
   ]
  },
  {
   "cell_type": "code",
   "execution_count": 16,
   "metadata": {},
   "outputs": [
    {
     "name": "stdout",
     "output_type": "stream",
     "text": [
      "A população no ano 2007 foi estimada (2000-2010) como 1683160\n",
      "A população rural de Manaus no ano 2007 foi estimada (2000-2010) como 8416\n"
     ]
    }
   ],
   "source": [
    "ano_2007 = 2007\n",
    "  \n",
    "print(\"A população no ano {} foi estimada (2000-2010) como\".format(ano_2007),\n",
    "             interpolation(data_0_10, ano_2007).round())\n",
    "\n",
    "print(\"A população rural de Manaus no ano {} foi estimada (2000-2010) como\".format(ano_2007),\n",
    "             (interpolation(data_0_10, ano_2007)*(0.005)).round())"
   ]
  },
  {
   "cell_type": "code",
   "execution_count": 17,
   "metadata": {},
   "outputs": [
    {
     "name": "stdout",
     "output_type": "stream",
     "text": [
      "A população no ano 2008 foi estimada (2000-2010) como 1722778\n",
      "A população rural de Manaus no ano 2008 foi estimada (2000-2010) como 8614\n"
     ]
    }
   ],
   "source": [
    "ano_2008 = 2008\n",
    "  \n",
    "print(\"A população no ano {} foi estimada (2000-2010) como\".format(ano_2008),\n",
    "             interpolation(data_0_10, ano_2008).round())\n",
    "\n",
    "print(\"A população rural de Manaus no ano {} foi estimada (2000-2010) como\".format(ano_2008),\n",
    "             (interpolation(data_0_10, ano_2008)*(0.005)).round())"
   ]
  },
  {
   "cell_type": "code",
   "execution_count": 18,
   "metadata": {},
   "outputs": [
    {
     "name": "stdout",
     "output_type": "stream",
     "text": [
      "A população no ano 2009 foi estimada (2000-2010) como 1762396\n",
      "A população rural de Manaus no ano 2009 foi estimada (2000-2010) como 8812\n"
     ]
    }
   ],
   "source": [
    "ano_2009 = 2009\n",
    "  \n",
    "print(\"A população no ano {} foi estimada (2000-2010) como\".format(ano_2009),\n",
    "             interpolation(data_0_10, ano_2009).round())\n",
    "\n",
    "print(\"A população rural de Manaus no ano {} foi estimada (2000-2010) como\".format(ano_2009),\n",
    "             (interpolation(data_0_10, ano_2009)*(0.005)).round())"
   ]
  },
  {
   "cell_type": "code",
   "execution_count": 19,
   "metadata": {},
   "outputs": [
    {
     "name": "stdout",
     "output_type": "stream",
     "text": [
      "A população no ano 2010 foi estimada (2000-2010) como 1802014\n",
      "A população rural de Manaus no ano 2010 foi estimada (2000-2010) como 9010\n"
     ]
    }
   ],
   "source": [
    "ano_2010 = 2010\n",
    "  \n",
    "print(\"A população no ano {} foi estimada (2000-2010) como\".format(ano_2010),\n",
    "             interpolation(data_0_10, ano_2010).round())\n",
    "\n",
    "print(\"A população rural de Manaus no ano {} foi estimada (2000-2010) como\".format(ano_2010),\n",
    "             (interpolation(data_0_10, ano_2010)*(0.005)).round())"
   ]
  },
  {
   "cell_type": "code",
   "execution_count": 20,
   "metadata": {},
   "outputs": [
    {
     "name": "stdout",
     "output_type": "stream",
     "text": [
      "Diferença da população entre 2004 e 2005:\n",
      "198\n",
      " \n",
      "Diferença da população entre 2009 e 2010:\n",
      "198\n"
     ]
    }
   ],
   "source": [
    "print('Diferença da população entre 2004 e 2005:')\n",
    "print(((interpolation(data_0_10, ano_2005)*(0.005)).round()-(interpolation(data_0_10, ano_2004)*(0.005)).round()))\n",
    "print(' ')\n",
    "print('Diferença da população entre 2009 e 2010:')\n",
    "print(((interpolation(data_0_10, ano_2010)*(0.005)).round()-(interpolation(data_0_10, ano_2009)*(0.005)).round()))"
   ]
  },
  {
   "cell_type": "markdown",
   "metadata": {},
   "source": [
    "Como o valor da população em 2007 é fixo, foi decidido utilizar a primeira interpolação para a modelagem. Sendo assim, $N_0=7717$ e a taxa de natalidade considerada será de 206.8"
   ]
  },
  {
   "cell_type": "markdown",
   "metadata": {},
   "source": [
    "#### Modelando:"
   ]
  },
  {
   "cell_type": "code",
   "execution_count": 21,
   "metadata": {},
   "outputs": [],
   "source": [
    "T_linha = 25.6\n",
    "T1= 26.4 \n",
    "T2= 0.025\n",
    "omega1= 0.017\n",
    "phi1= -1.45\n",
    "\n",
    "R1= 250.083 \n",
    "R2= 0.565\n",
    "omega2= 0.02\n",
    "phi2=1.6\n",
    "\n",
    "B_E=200\n",
    "p_ME=0.9\n",
    "p_ML=0.75\n",
    "p_MP=0.85\n",
    "tau_E=1\n",
    "tau_P=1\n",
    "c1=0.019\n",
    "c2=-0.021\n",
    "\n",
    "D1=36.5\n",
    "b1=0.04\n",
    "\n",
    "A=12.5\n",
    "B=15\n",
    "C=-48.78\n",
    "\n",
    "b2=0.09\n",
    "tau_H=10\n",
    "DD=105\n",
    "Tmin=14.5\n",
    "gamma= 1/365 \n",
    "R_L = 450\n",
    "N = 7717 #População estimada para 2004\n",
    "M = 300000 \n",
    "E_M0 = 1 #Analisando a infecção iniciando com apenas um mosquito exposto e um humano infectado\n",
    "I_H0 = 1\n",
    "I_M0 = 0\n",
    "R_H0 = 0\n",
    "if E_M0 is None:\n",
    "        E_M0 = M / 100\n",
    "\n",
    "S_H0 = N - I_H0 - R_H0\n",
    "S_M0 = M - E_M0 - I_M0"
   ]
  },
  {
   "cell_type": "code",
   "execution_count": 22,
   "metadata": {},
   "outputs": [],
   "source": [
    "def R0_sir(a, b2, gamma):\n",
    "    return abs((a * b2) / gamma)\n",
    "    \n",
    "#R0_sir_curr = R0_sir(a_curr, b2, gamma)\n",
    "    \n",
    "def R0_sei(a, b1, b3, l, mu):\n",
    "    return abs((a * b1 * b3) / ((b3 + l) * mu + mu** 2))\n",
    "    \n",
    "#R0_sei_curr = R0_sei(a_curr, b1, b3_curr, l_curr, mu_curr)\n",
    "    \n",
    "def R0_full(a, b1, b2, b3, gamma, l, mu):\n",
    "    return abs(((a** 2 * b1 * b2 * b3) / (b3 * gamma * mu + gamma * l * mu + gamma * mu** 2))**(1/2))\n",
    "    \n",
    "#R0_curr = R0(a_curr, b1, b2, b3_curr, gamma, l_curr, mu_curr)"
   ]
  },
  {
   "cell_type": "code",
   "execution_count": 23,
   "metadata": {},
   "outputs": [],
   "source": [
    "def calculate_initial_values(R_L, T_linha, Tmin, DD, D1, T1, T2, omega1, phi1, R1, R2, omega2, phi2,\n",
    "                            p_ML, p_ME, p_MP, c1, c2, A, B, C, b1, b2, gamma):\n",
    "    \n",
    "    T0 = T1 * (1 + T2 * cos(omega1 * 0 - phi1))\n",
    "    R0 = R1 * (1 + R2 * cos(omega2 * 0 - phi2))\n",
    "\n",
    "    tau_L0 = 1 / (c1 * T0 + c2)\n",
    "\n",
    "    p_LT0 = np.exp(-(c1 * T0 + c2))\n",
    "    \n",
    "    p_LR0 = (4 * p_ML / R_L**2) * R0 * (max(1e-5, R_L - R0))\n",
    "    \n",
    "    p_LRT0 = p_LR0 * p_LT0\n",
    "    \n",
    "    p_ER0 = (4 * p_ME / R_L**2) * R0 * (max(1e-5, R_L - R0))\n",
    "    \n",
    "    p_PR0 = (4 * p_MP / R_L**2) * R0 * (max(1e-5, R_L - R0))\n",
    "\n",
    "    a0 = (max(1e-5, T0 - T_linha)) / D1\n",
    "    b0 = B_E * p_ER0 * p_LRT0 * p_PR0 / (tau_E + tau_L0 + tau_P)\n",
    "\n",
    "    tau_M0 = DD / (max(1e-5, T0 - Tmin))\n",
    "    \n",
    "    b30 =  1 / tau_M0\n",
    "    \n",
    "    p0 = np.exp(-1 / (A * T0**2 + B * T0 + C))\n",
    "    l0 = p0 ** tau_M0\n",
    "\n",
    "    mu0 = -log(p0)\n",
    "\n",
    "    initial_R0_sir = R0_sir(a0, b2, gamma)\n",
    "    initial_R0_sei = R0_sei(a0, b1, b30, l0, mu0)\n",
    "    initial_R0_full = R0_full(a0, b1, b2, b30, gamma, l0, mu0)\n",
    "    \n",
    "    return initial_R0_sir, initial_R0_sei, initial_R0_full, a0"
   ]
  },
  {
   "cell_type": "code",
   "execution_count": 24,
   "metadata": {},
   "outputs": [],
   "source": [
    "initial_R0_sir, initial_R0_sei, initial_R0_full, a0 = calculate_initial_values(R_L, T_linha, Tmin, DD, D1, \n",
    "                                                                           T1, T2, omega1, phi1, R1, R2, omega2, phi2,\n",
    "                                                                           p_ML, p_ME, p_MP, c1, c2, A, B, C, b1, b2, gamma)"
   ]
  },
  {
   "cell_type": "code",
   "execution_count": 25,
   "metadata": {},
   "outputs": [
    {
     "name": "stdout",
     "output_type": "stream",
     "text": [
      "R0_sir = 0.7915786450042152 \n",
      "R0_sei = 0.9002047882569278\n",
      "R0_acoplado = 0.8441462471128599\n",
      "Taxa de picadas = 0.02409676240499894\n"
     ]
    }
   ],
   "source": [
    "print(f'R0_sir = {initial_R0_sir} \\nR0_sei = {initial_R0_sei}\\nR0_acoplado = {initial_R0_full}\\nTaxa de picadas = {a0}')"
   ]
  },
  {
   "cell_type": "markdown",
   "metadata": {},
   "source": [
    "Com esses parâmetros, a doença não deveria se estabelecer, dado que $\\mathcal{R}_0$ está menor que 1, tanto para o SIR quanto o SEI quanto o acoplado. Posteriormente será incluindo um parâmetro multiplicativo $K$ multiplicando as proporções $b_1$ e $b_2$, representando o maior contato entre humanos e mosqutos no caso de queimadas. Assim, incluindo um parâmetro $\\mu_H$, assumindo que a taxa de natalidade e mortalidade de humanos é a mesma ($\\mu_H = 206.8/365$ é a nossa taxa diária de nascimentos e mortes), o modelo fica como a seguir:"
   ]
  },
  {
   "cell_type": "code",
   "execution_count": 26,
   "metadata": {},
   "outputs": [],
   "source": [
    "def model(t, z, T_linha, T1, T2, omega1, phi1, R1, R2, omega2, phi2,\n",
    "                   B_E, p_ME, p_ML, p_MP, tau_E, tau_P, c1, c2,\n",
    "                   D1, b1, A, B, C, b2, tau_H, DD, Tmin, gamma, R_L,\n",
    "                   N, M, E_M0, I_H0, I_M0, mu_H):\n",
    "    \n",
    "    S_H, I_H, R_H, S_M, E_M, I_M = z\n",
    "    \n",
    "    # Funções de temperatura e chuva\n",
    "    def Temp(t):\n",
    "        return T1 * (1 + T2 * cos(omega1 * t - phi1))\n",
    "\n",
    "    def Rain(t):\n",
    "        return R1 * (1 + R2 * cos(omega2 * t - phi2))\n",
    "\n",
    "    R_curr = Rain(t)\n",
    "    T_curr = Temp(t)\n",
    "    \n",
    "    # Duração da fase de desenvolvimento das larvas\n",
    "    def tau_L(Temp):\n",
    "        return 1 / (c1 * Temp + c2)\n",
    "    \n",
    "    # Taxa diária de sobrevivência dos mosquitos\n",
    "    def p(Temp):\n",
    "        return np.exp(-1 / (A*Temp**2 + B*Temp + C))\n",
    "    \n",
    "    # Probabilidade de sobrevivência das larvas dependente de temperatura e chuva\n",
    "    def p_LT(Temp):\n",
    "        return np.exp(-(c1 * Temp + c2))\n",
    "    \n",
    "    def p_LR(Rain):\n",
    "        return (4*p_ML/R_L**2) * Rain * (max(10^-5,R_L - Rain))\n",
    "    \n",
    "    def p_LRT(Rain,Temp):\n",
    "        return p_LR(Rain)*p_LT(Temp)\n",
    "    \n",
    "    # Probabilidade de sobrevivência dos ovos e pupas dependente de chuva (Não definido previamente)\n",
    "    def p_ER(Rain):\n",
    "        return (4*p_ME/R_L**2) * Rain * (max(10^-5,R_L - Rain))\n",
    "    \n",
    "    # Probabilidade de sobrevivência dos ovos e pupas dependente de chuva (Não definido previamente)\n",
    "    def p_PR(Rain):\n",
    "        return (4*p_MP/R_L**2) * Rain * (max(10^-5,R_L - Rain))\n",
    "\n",
    "    # Duração do ciclo esporogônico\n",
    "    def tau_M(Temp):\n",
    "        return DD / (max(10^-5,Temp - Tmin))\n",
    "    \n",
    "    tau_M_curr = tau_M(T_curr)\n",
    "\n",
    "    # Taxa de infecção de expostos (1/Duração do ciclo esporogônico)\n",
    "    def b3(tau_M, Temp):\n",
    "        return 1/tau_M\n",
    "    \n",
    "    b3_curr = b3(tau_M_curr, T_curr)\n",
    "    \n",
    "    # Definindo a função de sobrevivência do mosquito\n",
    "    def l_tau_M(tau_M, Temp):  \n",
    "        p_T = p(Temp)\n",
    "        return p_T**tau_M\n",
    "    \n",
    "    l_curr = l_tau_M(tau_M_curr, T_curr)\n",
    "\n",
    "    # Definindo a taxa de mortalidade do mosquito\n",
    "    def mu(Temp):\n",
    "        return -log(p(Temp))\n",
    "    \n",
    "    mu_curr = mu(T_curr)\n",
    "    \n",
    "    # Calcula a taxa de picada e probabilidade de transmissão\n",
    "    def a(Temp):\n",
    "        return (max(10^-5, Temp - T_linha)) / D1\n",
    "    \n",
    "    a_curr = a(T_curr)\n",
    "    \n",
    "    def b(Rain,Temp):\n",
    "        return B_E * p_ER(Rain) * p_LRT(Rain,Temp) * p_PR(Rain) / (tau_E + tau_L(Temp) + tau_P)\n",
    "    \n",
    "    b_curr = b(R_curr, T_curr)\n",
    "    \n",
    "    dShdt = mu_H * N -a_curr * b2 * (I_M / N) * S_H - mu_H * S_H\n",
    "    dIhdt = a_curr * b2 * (I_M / N) * S_H - gamma * I_H - mu_H * I_H\n",
    "    dRhdt = gamma * I_H - mu_H * R_H\n",
    "    \n",
    "    dSmdt = b_curr - a_curr * b1 * (I_H / N) * S_M - mu_curr * S_M\n",
    "    dEmdt = a_curr * b1 * (I_H / N) * S_M - mu_curr * E_M - b3_curr * E_M - l_curr * E_M\n",
    "    dImdt = b3_curr * E_M - mu_curr * I_M\n",
    "    \n",
    "    return [dShdt, dIhdt, dRhdt, dSmdt, dEmdt, dImdt] "
   ]
  },
  {
   "cell_type": "code",
   "execution_count": 27,
   "metadata": {},
   "outputs": [
    {
     "data": {
      "text/plain": [
       "0.566575342465753"
      ]
     },
     "execution_count": 27,
     "metadata": {},
     "output_type": "execute_result"
    }
   ],
   "source": [
    "n(206.8/365)"
   ]
  },
  {
   "cell_type": "code",
   "execution_count": 28,
   "metadata": {},
   "outputs": [
    {
     "data": {
      "image/png": "[encoded data removed]",
      "text/plain": [
       "<Figure size 720x432 with 1 Axes>"
      ]
     },
     "metadata": {
      "needs_background": "light"
     },
     "output_type": "display_data"
    }
   ],
   "source": [
    "mu_H = 0.566575342465753\n",
    "\n",
    "args = (T_linha, T1, T2, omega1, phi1, R1, R2, omega2, phi2,\n",
    "                   B_E, p_ME, p_ML, p_MP, tau_E, tau_P, c1, c2,\n",
    "                   D1, b1, A, B, C, b2, tau_H, DD, Tmin, gamma, R_L,\n",
    "                   N, M, E_M0, I_H0, I_M0, mu_H)\n",
    "\n",
    "t_eval = np.linspace(0, 10825, 1000)  # Avalia a solução em 1000 pontos entre 0 e 10825\n",
    "sol = solve_ivp(model, [0, 10825], [S_H0, I_H0, R_H0, S_M0, E_M0, I_M0], args=args, dense_output=True, t_eval=t_eval, method=\"DOP853\")\n",
    "#sol\n",
    "\n",
    "times = sol.t\n",
    "S_H, I_H, R_H, S_M, E_M, I_M = sol.y\n",
    "\n",
    "plt.figure(figsize=(10, 6))\n",
    "plt.plot(times, S_H, label='Suscetíveis')\n",
    "plt.plot(times, I_H, label='Infectados')\n",
    "plt.plot(times, R_H, label='Recuperados')\n",
    "\n",
    "plt.xlabel('Tempo (dias)')\n",
    "plt.ylabel('População')\n",
    "plt.title('Modelo SIR de Malária')\n",
    "\n",
    "plt.legend()\n",
    "\n",
    "plt.show()"
   ]
  },
  {
   "cell_type": "code",
   "execution_count": 29,
   "metadata": {},
   "outputs": [
    {
     "data": {
      "image/png": "[encoded data removed]",
      "text/plain": [
       "<Figure size 720x432 with 1 Axes>"
      ]
     },
     "metadata": {
      "needs_background": "light"
     },
     "output_type": "display_data"
    }
   ],
   "source": [
    "t_eval = np.linspace(0, 10825, 1000)  # Avalia a solução em 1000 pontos entre 0 e 10825\n",
    "sol = solve_ivp(model, [0, 10825], [S_H0, I_H0, R_H0, S_M0, E_M0, I_M0], args=args, dense_output=True, t_eval=t_eval, method=\"DOP853\")\n",
    "#sol\n",
    "\n",
    "times = sol.t\n",
    "S_H, I_H, R_H, S_M, E_M, I_M = sol.y\n",
    "\n",
    "plt.figure(figsize=(10, 6))\n",
    "plt.plot(times, S_M, label='Suscetíveis')\n",
    "plt.plot(times, E_M, label='Expostos')\n",
    "plt.plot(times, I_M, label='Infectados')\n",
    "\n",
    "plt.xlabel('Tempo (dias)')\n",
    "plt.ylabel('População')\n",
    "plt.title('Modelo SEI de Malária')\n",
    "\n",
    "plt.legend()\n",
    "\n",
    "plt.show()"
   ]
  },
  {
   "cell_type": "markdown",
   "metadata": {},
   "source": [
    "Como esperado, com $\\mathcal{R}_0$ menor que 1, e apenas 1 mosquito exposto e 1 humano infectado, a doença não consegue se estabelecer. Contudo, com a modificação das equações do SIR, será necessário modificar as equações do $\\mathcal{R}_0$."
   ]
  },
  {
   "cell_type": "code",
   "execution_count": null,
   "metadata": {},
   "outputs": [],
   "source": []
  }
 ],
 "metadata": {
  "kernelspec": {
   "display_name": "SageMath 9.2",
   "language": "sage",
   "name": "sagemath"
  },
  "language_info": {
   "codemirror_mode": {
    "name": "ipython",
    "version": 3
   },
   "file_extension": ".py",
   "mimetype": "text/x-python",
   "name": "python",
   "nbconvert_exporter": "python",
   "pygments_lexer": "ipython3",
   "version": "3.7.7"
  }
 },
 "nbformat": 4,
 "nbformat_minor": 4
}
